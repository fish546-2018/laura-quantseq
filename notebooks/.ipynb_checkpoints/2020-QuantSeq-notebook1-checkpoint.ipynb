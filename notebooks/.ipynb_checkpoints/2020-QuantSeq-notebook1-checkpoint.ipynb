{
 "cells": [
  {
   "cell_type": "markdown",
   "metadata": {},
   "source": [
    "### Receiving data, initial processing"
   ]
  },
  {
   "cell_type": "markdown",
   "metadata": {},
   "source": [
    "Data was downloaded from Globus (globus.org) onto Ostrich.  It was sent in two zipped files, one from each lane, containing separate files for each sample (demultiplexed). \n",
    "\n",
    "I then checked that the md5 values were the same using `md5 [filename].tar.gz >> [filename].md5` (this appened the new value in the .md5 file, so I could compare). \n",
    "\n",
    "I then extracted the files by navigating to the directory that contained the zipped files via the terminal, then used `gunzip -c [filename].tar.gz | tar xopf -` "
   ]
  },
  {
   "cell_type": "markdown",
   "metadata": {},
   "source": [
    "### Install tag-seq scripts, create {tagseq} variable"
   ]
  },
  {
   "cell_type": "code",
   "execution_count": 1,
   "metadata": {},
   "outputs": [
    {
     "name": "stdout",
     "output_type": "stream",
     "text": [
      "Cloning into '/Users/lhs3/Documents/bioinf/tag-based_RNAseq'...\n",
      "remote: Enumerating objects: 33, done.\u001b[K\n",
      "remote: Counting objects: 100% (33/33), done.\u001b[K\n",
      "remote: Compressing objects: 100% (28/28), done.\u001b[K\n",
      "remote: Total 196 (delta 15), reused 18 (delta 5), pack-reused 163\u001b[K\n",
      "Receiving objects: 100% (196/196), 4.33 MiB | 0 bytes/s, done.\n",
      "Resolving deltas: 100% (103/103), done.\n",
      "Checking connectivity... done.\n"
     ]
    }
   ],
   "source": [
    "! git clone https://github.com/z0on/tag-based_RNAseq.git /Users/lhs3/Documents/bioinf/tag-based_RNAseq/"
   ]
  },
  {
   "cell_type": "code",
   "execution_count": 2,
   "metadata": {},
   "outputs": [],
   "source": [
    "# create path variable to tagseq directory \n",
    "tagseq = \"/Users/lhs3/Documents/bioinf/tag-based_RNAseq/\""
   ]
  },
  {
   "cell_type": "code",
   "execution_count": 8,
   "metadata": {},
   "outputs": [],
   "source": [
    "# create path variable to fastx_toolkit\n",
    "fastx = \"/Users/lhs3/Documents/bioinf/fastx_toolkit/\""
   ]
  },
  {
   "cell_type": "markdown",
   "metadata": {},
   "source": [
    "#### Work with the larval data first \n",
    "Larval libraries were all ran on the same lane, lane/batch2 "
   ]
  },
  {
   "cell_type": "code",
   "execution_count": 3,
   "metadata": {},
   "outputs": [
    {
     "name": "stdout",
     "output_type": "stream",
     "text": [
      "34_S68_L002_R1_001.fastq.gz          482_S25_L002_R1_001.fastq.gz\r\n",
      "35_S72_L002_R1_001.fastq.gz          483_S7_L002_R1_001.fastq.gz\r\n",
      "37_S70_L002_R1_001.fastq.gz          484_S43_L002_R1_001.fastq.gz\r\n",
      "39_S52_L002_R1_001.fastq.gz          485_S21_L002_R1_001.fastq.gz\r\n",
      "401_S10_L002_R1_001.fastq.gz         487_S6_L002_R1_001.fastq.gz\r\n",
      "402_S5_L002_R1_001.fastq.gz          488_S26_L002_R1_001.fastq.gz\r\n",
      "403_S30_L002_R1_001.fastq.gz         489_S35_L002_R1_001.fastq.gz\r\n",
      "404_S42_L002_R1_001.fastq.gz         490_S19_L002_R1_001.fastq.gz\r\n",
      "411_S9_L002_R1_001.fastq.gz          491_S50_L002_R1_001.fastq.gz\r\n",
      "412_S74_L002_R1_001.fastq.gz         492_S40_L002_R1_001.fastq.gz\r\n",
      "413_S38_L002_R1_001.fastq.gz         506_S47_L002_R1_001.fastq.gz\r\n",
      "414_S49_L002_R1_001.fastq.gz         513_S56_L002_R1_001.fastq.gz\r\n",
      "41_S62_L002_R1_001.fastq.gz          521_S65_L002_R1_001.fastq.gz\r\n",
      "421_S22_L002_R1_001.fastq.gz         522_S1_L002_R1_001.fastq.gz\r\n",
      "431b_S8_L002_R1_001.fastq.gz         523_S4_L002_R1_001.fastq.gz\r\n",
      "432_S75_L002_R1_001.fastq.gz         524_S11_L002_R1_001.fastq.gz\r\n",
      "434_S55_L002_R1_001.fastq.gz         525_S18_L002_R1_001.fastq.gz\r\n",
      "43_S46_L002_R1_001.fastq.gz          526_S15_L002_R1_001.fastq.gz\r\n",
      "441_S73_L002_R1_001.fastq.gz         527_S39_L002_R1_001.fastq.gz\r\n",
      "442b_S60_L002_R1_001.fastq.gz        528_S27_L002_R1_001.fastq.gz\r\n",
      "443_S36_L002_R1_001.fastq.gz         529_S53_L002_R1_001.fastq.gz\r\n",
      "444_S34_L002_R1_001.fastq.gz         531_S44_L002_R1_001.fastq.gz\r\n",
      "445_S45_L002_R1_001.fastq.gz         532_S33_L002_R1_001.fastq.gz\r\n",
      "44_S71_L002_R1_001.fastq.gz          533_S61_L002_R1_001.fastq.gz\r\n",
      "451_S28_L002_R1_001.fastq.gz         541_S41_L002_R1_001.fastq.gz\r\n",
      "452b_S2_L002_R1_001.fastq.gz         542_S3_L002_R1_001.fastq.gz\r\n",
      "453_S12_L002_R1_001.fastq.gz         543_S29_L002_R1_001.fastq.gz\r\n",
      "45_S63_L002_R1_001.fastq.gz          551_S24_L002_R1_001.fastq.gz\r\n",
      "461b_S31_L002_R1_001.fastq.gz        552b_S54_L002_R1_001.fastq.gz\r\n",
      "462b_S64_L002_R1_001.fastq.gz        553_S23_L002_R1_001.fastq.gz\r\n",
      "46_S66_L002_R1_001.fastq.gz          554_S13_L002_R1_001.fastq.gz\r\n",
      "471b_S51_L002_R1_001.fastq.gz        561_S69_L002_R1_001.fastq.gz\r\n",
      "472b_S48_L002_R1_001.fastq.gz        562_S77_L002_R1_001.fastq.gz\r\n",
      "473_S20_L002_R1_001.fastq.gz         563_S59_L002_R1_001.fastq.gz\r\n",
      "474_S14_L002_R1_001.fastq.gz         564_S32_L002_R1_001.fastq.gz\r\n",
      "475_S16_L002_R1_001.fastq.gz         565_S67_L002_R1_001.fastq.gz\r\n",
      "476_S17_L002_R1_001.fastq.gz         571_S76_L002_R1_001.fastq.gz\r\n",
      "477_S37_L002_R1_001.fastq.gz         \u001b[34mReports\u001b[m\u001b[m\r\n",
      "47_S58_L002_R1_001.fastq.gz          \u001b[34mStats\u001b[m\u001b[m\r\n",
      "481_S57_L002_R1_001.fastq.gz         Undetermined_S0_L002_R1_001.fastq.gz\r\n"
     ]
    }
   ],
   "source": [
    "! ls ../data/2020-QuantSeq/Batch2_77plex_lane2_done/"
   ]
  },
  {
   "cell_type": "markdown",
   "metadata": {},
   "source": [
    "#### Move to the directory containing larval files, and gunzip all fastq files in this folder"
   ]
  },
  {
   "cell_type": "code",
   "execution_count": 4,
   "metadata": {},
   "outputs": [
    {
     "name": "stdout",
     "output_type": "stream",
     "text": [
      "/Users/lhs3/Documents/laura-quantseq/data/2020-QuantSeq/Batch2_77plex_lane2_done\n"
     ]
    }
   ],
   "source": [
    "cd ../data/2020-QuantSeq/Batch2_77plex_lane2_done/"
   ]
  },
  {
   "cell_type": "code",
   "execution_count": 5,
   "metadata": {},
   "outputs": [],
   "source": [
    "! gunzip *.fastq.gz"
   ]
  },
  {
   "cell_type": "markdown",
   "metadata": {},
   "source": [
    "### Adaptor trimming, deduplicating, and quality filtering:\n",
    "Creating and launching the cleaning process for all files in the same time:"
   ]
  },
  {
   "cell_type": "code",
   "execution_count": 6,
   "metadata": {},
   "outputs": [
    {
     "name": "stdout",
     "output_type": "stream",
     "text": [
      "\u001b[31m2bRAD_bowtie2_launch.pl\u001b[m\u001b[m            picogreen.csv\r\n",
      "README.md                          \u001b[31mrnaseq_clipper0.pl\u001b[m\u001b[m\r\n",
      "TagSeq_GSAF_Price.xlsx             \u001b[31mrnaseq_clipper_fasta.pl\u001b[m\u001b[m\r\n",
      "TagSeq_sample_prep_june2019.docx   \u001b[31mrnaseq_clipper_old.pl\u001b[m\u001b[m\r\n",
      "\u001b[31mcountreads.pl\u001b[m\u001b[m                      \u001b[31msamcount.pl\u001b[m\u001b[m\r\n",
      "dna.mixing.R                       \u001b[31msamcount_launch.pl\u001b[m\u001b[m\r\n",
      "dupCount.R                         \u001b[31msamcount_launch_bt2.pl\u001b[m\u001b[m\r\n",
      "\u001b[31mexpression_compiler.pl\u001b[m\u001b[m             \u001b[31msamcount_v.0.1.pl\u001b[m\u001b[m\r\n",
      "\u001b[31miRNAseq_shrimpmap_SAM.pl\u001b[m\u001b[m           \u001b[31mselectFastaByHeader.pl\u001b[m\u001b[m\r\n",
      "\u001b[31miRNAseq_trim_launch0.pl\u001b[m\u001b[m            \u001b[31msplitFastaByHeader.pl\u001b[m\u001b[m\r\n",
      "illumina_mix_data.csv              tag-seq_scripts_manual.pdf\r\n",
      "\u001b[31misogroup_namer.pl\u001b[m\u001b[m                  tagSeq_processing_README.txt\r\n",
      "\u001b[31mlauncher_creator.py\u001b[m\u001b[m                \u001b[31mtagseq_bowtie2map.pl\u001b[m\u001b[m\r\n",
      "\u001b[31mls5_launcher_creator.py\u001b[m\u001b[m            \u001b[31mtagseq_clipper.pl\u001b[m\u001b[m\r\n",
      "mix_illumina_qpcr.R                tagseq_oligos_order_192samples.xls\r\n",
      "\u001b[31mngs_concat.pl\u001b[m\u001b[m                      \u001b[31mtagseq_trim_launch.pl\u001b[m\u001b[m\r\n",
      "p5barcodes_order.xlsx              \u001b[31mtagseq_trim_launch_bgi.pl\u001b[m\u001b[m\r\n",
      "picogreen.R                        thetaByContig.py\r\n"
     ]
    }
   ],
   "source": [
    "! ls {tagseq}"
   ]
  },
  {
   "cell_type": "code",
   "execution_count": 9,
   "metadata": {},
   "outputs": [
    {
     "name": "stdout",
     "output_type": "stream",
     "text": [
      "AUTHORS                 THANKS                  \u001b[34mgalaxy\u001b[m\u001b[m\r\n",
      "COPYING                 \u001b[34mbuild_scripts\u001b[m\u001b[m           \u001b[31minstall_galaxy_files.sh\u001b[m\u001b[m\r\n",
      "ChangeLog               \u001b[34mconfig\u001b[m\u001b[m                  \u001b[34mlibdivsufsort\u001b[m\u001b[m\r\n",
      "GALAXY-LICENSE.txt      config.log              \u001b[34mm4\u001b[m\u001b[m\r\n",
      "LICENSE                 \u001b[31mconfig.status\u001b[m\u001b[m           \u001b[34mprofmark\u001b[m\u001b[m\r\n",
      "Makefile                configure.ac            \u001b[31mreconf\u001b[m\u001b[m\r\n",
      "Makefile.am             \u001b[34mdoc\u001b[m\u001b[m                     \u001b[34mscripts\u001b[m\u001b[m\r\n",
      "NEWS                    \u001b[34mdocumentation\u001b[m\u001b[m           \u001b[34msrc\u001b[m\u001b[m\r\n",
      "README                  \u001b[34measel\u001b[m\u001b[m                   \u001b[34mtestsuite\u001b[m\u001b[m\r\n"
     ]
    }
   ],
   "source": [
    "! ls {fastx}"
   ]
  },
  {
   "cell_type": "code",
   "execution_count": 11,
   "metadata": {},
   "outputs": [
    {
     "name": "stdout",
     "output_type": "stream",
     "text": [
      "/bin/sh: fastq_quality_filter: command not found\r\n"
     ]
    }
   ],
   "source": [
    "# test fastq_quality_filter\n",
    "! {fastx}fastq_quality_filter -h"
   ]
  },
  {
   "cell_type": "code",
   "execution_count": 3,
   "metadata": {},
   "outputs": [
    {
     "name": "stdout",
     "output_type": "stream",
     "text": [
      "/Users/laura/Documents/roberts-lab/laura-quantseq/data/illumina-raw\n"
     ]
    }
   ],
   "source": [
    "cd ../data/illumina-raw/"
   ]
  },
  {
   "cell_type": "code",
   "execution_count": 78,
   "metadata": {},
   "outputs": [],
   "source": [
    "# run perl script that creates list of executables for each fastq file \n",
    "! {tagseq}tagseq_trim_launch.pl '\\.fastq$' > clean"
   ]
  },
  {
   "cell_type": "code",
   "execution_count": 4,
   "metadata": {},
   "outputs": [
    {
     "name": "stdout",
     "output_type": "stream",
     "text": [
      "tagseq_clipper.pl CP-KS-LibL-L21-G_S58_L006_R1_001.fastq | fastx_clipper -a AAAAAAAA -l 20 -Q33 | fastx_clipper -a AGATCGGAAG -l 20 -Q33 | fastq_quality_filter -Q33 -q 20 -p 90 >CP-KS-LibL-L21-G_S58_L006_R1_001.fastq.trim\r\n",
      "tagseq_clipper.pl CP-KS-LibL-L23-G_S61_L006_R1_001.fastq | fastx_clipper -a AAAAAAAA -l 20 -Q33 | fastx_clipper -a AGATCGGAAG -l 20 -Q33 | fastq_quality_filter -Q33 -q 20 -p 90 >CP-KS-LibL-L23-G_S61_L006_R1_001.fastq.trim\r\n"
     ]
    }
   ],
   "source": [
    "! head -2 clean"
   ]
  },
  {
   "cell_type": "markdown",
   "metadata": {},
   "source": [
    "### Based on repeated functions in the clean file, I wrote a script to loop through the files and execute all commands "
   ]
  },
  {
   "cell_type": "code",
   "execution_count": 129,
   "metadata": {
    "scrolled": true
   },
   "outputs": [
    {
     "name": "stderr",
     "output_type": "stream",
     "text": [
      "CP-KS-LibL-L10-G_S59_L006_R1_001.fastq\ttotal:6452865\tgoods:27350\tdups:135439\tnoheader:6290063\tN.in.header:13\n",
      "CP-KS-LibL-L11-G_S65_L006_R1_001.fastq\ttotal:5761774\tgoods:27135\tdups:112294\tnoheader:5622331\tN.in.header:14\n",
      "CP-KS-LibL-L13-G_S60_L006_R1_001.fastq\ttotal:4723646\tgoods:3787\tdups:63418\tnoheader:4656437\tN.in.header:4\n",
      "CP-KS-LibL-L14-G_S63_L006_R1_001.fastq\ttotal:5906432\tgoods:26663\tdups:105949\tnoheader:5773809\tN.in.header:11\n",
      "CP-KS-LibL-L15-G_S68_L006_R1_001.fastq\ttotal:9442881\tgoods:30660\tdups:90323\tnoheader:9321885\tN.in.header:13\n",
      "CP-KS-LibL-L19-G_S67_L006_R1_001.fastq\ttotal:6377544\tgoods:28528\tdups:88628\tnoheader:6260379\tN.in.header:9\n",
      "CP-KS-LibL-L2-G_S34_L006_R1_001.fastq\ttotal:5636566\tgoods:20425\tdups:96398\tnoheader:5519737\tN.in.header:6\n",
      "CP-KS-LibL-L21-G_S58_L006_R1_001.fastq\ttotal:4073358\tgoods:18890\tdups:66504\tnoheader:3987951\tN.in.header:13\n",
      "CP-KS-LibL-L23-G_S61_L006_R1_001.fastq\ttotal:6291394\tgoods:24916\tdups:107619\tnoheader:6158846\tN.in.header:13\n",
      "CP-KS-LibL-L24-G_S62_L006_R1_001.fastq\ttotal:3752347\tgoods:16446\tdups:80388\tnoheader:3655502\tN.in.header:11\n",
      "CP-KS-LibL-L29-G_S36_L006_R1_001.fastq\ttotal:7407113\tgoods:27357\tdups:101833\tnoheader:7277911\tN.in.header:12\n",
      "CP-KS-LibL-L3-G_S64_L006_R1_001.fastq\ttotal:8124259\tgoods:6829\tdups:96494\tnoheader:8020926\tN.in.header:10\n",
      "CP-KS-LibL-L32-G_S35_L006_R1_001.fastq\ttotal:8197017\tgoods:29379\tdups:131573\tnoheader:8036055\tN.in.header:10\n",
      "CP-KS-LibL-L33-G_S66_L006_R1_001.fastq\ttotal:6784166\tgoods:29691\tdups:129932\tnoheader:6624531\tN.in.header:12\n",
      "CP-KS-LibL-L34-L_S25_L006_R1_001.fastq\ttotal:1238699\tgoods:4147\tdups:9025\tnoheader:1225527\tN.in.header:\n",
      "CP-KS-LibL-L35-L_S31_L006_R1_001.fastq\ttotal:4931591\tgoods:16332\tdups:56205\tnoheader:4859049\tN.in.header:5\n",
      "CP-KS-LibL-L37-L_S32_L006_R1_001.fastq\ttotal:4500646\tgoods:6897\tdups:23611\tnoheader:4470137\tN.in.header:1\n",
      "CP-KS-LibL-L39-L_S29_L006_R1_001.fastq\ttotal:2463803\tgoods:10809\tdups:27527\tnoheader:2425459\tN.in.header:8\n",
      "CP-KS-LibL-L41-L_S27_L006_R1_001.fastq\ttotal:1978563\tgoods:8621\tdups:25063\tnoheader:1944873\tN.in.header:6\n",
      "CP-KS-LibL-L44-L_S30_L006_R1_001.fastq\ttotal:1891280\tgoods:10963\tdups:24143\tnoheader:1856170\tN.in.header:4\n",
      "CP-KS-LibL-L45-L_S28_L006_R1_001.fastq\ttotal:5364976\tgoods:13668\tdups:48080\tnoheader:5303222\tN.in.header:6\n",
      "CP-KS-LibL-L47-L_S33_L006_R1_001.fastq\ttotal:1607448\tgoods:7156\tdups:14762\tnoheader:1585528\tN.in.header:2\n",
      "CP-KS-LibL-L7-G_S57_L006_R1_001.fastq\ttotal:6593166\tgoods:30203\tdups:91735\tnoheader:6471216\tN.in.header:13\n",
      "CP-KS-LibL-SN1016-G_S26_L006_R1_001.fastq\ttotal:2635120\tgoods:13464\tdups:36306\tnoheader:2585346\tN.in.header:4\n"
     ]
    }
   ],
   "source": [
    "%%bash \n",
    "\n",
    "for file in *.fastq\n",
    "do\n",
    "#strip .fastq and directorys tructure from each file, then\n",
    "# add suffice .fastq.trim to create output name for each file\n",
    "results_file=\"$(basename -a $file).trim\"\n",
    "\n",
    "# run tagseq scripts on each file\n",
    "/Applications/bioinformatics/tag-based_RNAseq/tagseq_clipper.pl $file | \\\n",
    "fastx_clipper -a AAAAAAAA -l 20 -Q33 | \\\n",
    "fastx_clipper -a AGATCGGAAG -l 20 -Q33 | \\\n",
    "fastq_quality_filter -Q33 -q 20 -p 90 >\\\n",
    "../tagseq_trim/$results_file \n",
    "done"
   ]
  },
  {
   "cell_type": "markdown",
   "metadata": {},
   "source": [
    "### Download O. lurida genome"
   ]
  },
  {
   "cell_type": "code",
   "execution_count": 88,
   "metadata": {},
   "outputs": [
    {
     "name": "stdout",
     "output_type": "stream",
     "text": [
      "  % Total    % Received % Xferd  Average Speed   Time    Time     Time  Current\n",
      "                                 Dload  Upload   Total   Spent    Left  Speed\n",
      "100 1090M  100 1090M    0     0  1960k      0  0:09:29  0:09:29 --:--:-- 2198k21k      0  0:08:46  0:00:17  0:08:29 2021k 0     0  2183k      0  0:08:31  0:01:11  0:07:20 2193k    0  2183k      0  0:08:31  0:01:14  0:07:17 2202k9  0:07:11 2212k1939k      0  0:09:35  0:01:45  0:07:50 1024k    0  1765k      0  0:10:32  0:02:00  0:08:32  497k   0     0  1752k      0  0:10:36  0:03:40  0:06:56 2190k    0  1748k      0  0:10:38  0:03:50  0:06:48 1105k  1855k      0  0:10:01  0:05:01  0:05:00 2215k  0     0  1861k      0  0:09:59  0:05:07  0:04:52 2191k   0  1881k      0  0:09:53  0:05:25  0:04:28 2222k931k      0  0:09:38  0:07:31  0:02:07 2169k  1929k      0  0:09:38  0:08:03  0:01:35 2179k 0  1933k      0  0:09:37  0:08:11  0:01:26 2200k  0  0:09:35  0:08:42  0:00:53 2212k\n"
     ]
    }
   ],
   "source": [
    "! curl http://owl.fish.washington.edu/halfshell/genomic-databank/Olurida_v081.fa > ../references/Olurida_v081.fa"
   ]
  },
  {
   "cell_type": "code",
   "execution_count": 89,
   "metadata": {},
   "outputs": [
    {
     "name": "stdout",
     "output_type": "stream",
     "text": [
      "MD5 (../references/Olurida_v081.fa) = 3ac56372bd62038f264d27eef0883bd3\r\n"
     ]
    }
   ],
   "source": [
    "# MD5 should = 3ac56372bd62038f264d27eef0883bd3\n",
    "! md5 ../references/Olurida_v081.fa"
   ]
  },
  {
   "cell_type": "code",
   "execution_count": 30,
   "metadata": {},
   "outputs": [],
   "source": [
    "! mkdir bowtie/"
   ]
  },
  {
   "cell_type": "code",
   "execution_count": 34,
   "metadata": {},
   "outputs": [
    {
     "name": "stdout",
     "output_type": "stream",
     "text": [
      "/Users/laura/Documents/roberts-lab/laura-quantseq/results/bowtie\n"
     ]
    }
   ],
   "source": [
    "cd bowtie/"
   ]
  },
  {
   "cell_type": "code",
   "execution_count": 37,
   "metadata": {},
   "outputs": [
    {
     "name": "stdout",
     "output_type": "stream",
     "text": [
      "Settings:\n",
      "  Output files: \"Olurida_v081.fa.*.bt2\"\n",
      "  Line rate: 6 (line is 64 bytes)\n",
      "  Lines per side: 1 (side is 64 bytes)\n",
      "  Offset rate: 4 (one in 16)\n",
      "  FTable chars: 10\n",
      "  Strings: unpacked\n",
      "  Max bucket size: default\n",
      "  Max bucket size, sqrt multiplier: default\n",
      "  Max bucket size, len divisor: 4\n",
      "  Difference-cover sample period: 1024\n",
      "  Endianness: little\n",
      "  Actual local endianness: little\n",
      "  Sanity checking: disabled\n",
      "  Assertions: disabled\n",
      "  Random seed: 0\n",
      "  Sizeofs: void*:8, int:4, long:8, size_t:8\n",
      "Input files DNA, FASTA:\n",
      "  ../../references/Olurida_v081.fa\n",
      "Reading reference sizes\n",
      "  Time reading reference sizes: 00:00:12\n",
      "Calculating joined length\n",
      "Writing header\n",
      "Reserving space for joined string\n",
      "Joining reference sequences\n",
      "  Time to join reference sequences: 00:00:07\n",
      "bmax according to bmaxDivN setting: 269313774\n",
      "Using parameters --bmax 201985331 --dcv 1024\n",
      "  Doing ahead-of-time memory usage test\n",
      "  Passed!  Constructing with these parameters: --bmax 201985331 --dcv 1024\n",
      "Constructing suffix-array element generator\n",
      "Building DifferenceCoverSample\n",
      "  Building sPrime\n",
      "  Building sPrimeOrder\n",
      "  V-Sorting samples\n",
      "  V-Sorting samples time: 00:00:21\n",
      "  Allocating rank array\n",
      "  Ranking v-sort output\n",
      "  Ranking v-sort output time: 00:00:06\n",
      "  Invoking Larsson-Sadakane on ranks\n",
      "  Invoking Larsson-Sadakane on ranks time: 00:00:11\n",
      "  Sanity-checking and returning\n",
      "Building samples\n",
      "Reserving space for 12 sample suffixes\n",
      "Generating random suffixes\n",
      "QSorting 12 sample offsets, eliminating duplicates\n",
      "QSorting sample offsets, eliminating duplicates time: 00:00:00\n",
      "Multikey QSorting 12 samples\n",
      "  (Using difference cover)\n",
      "  Multikey QSorting samples time: 00:00:00\n",
      "Calculating bucket sizes\n",
      "Splitting and merging\n",
      "  Splitting and merging time: 00:00:00\n",
      "Avg bucket size: 1.07726e+09 (target: 201985330)\n",
      "Converting suffix-array elements to index image\n",
      "Allocating ftab, absorbFtab\n",
      "Entering Ebwt loop\n",
      "Getting block 1 of 1\n",
      "  No samples; assembling all-inclusive block\n",
      "  Sorting block of length 1077255099 for bucket 1\n",
      "  (Using difference cover)\n",
      "  Sorting block time: 00:12:34\n",
      "Returning block of 1077255100 for bucket 1\n",
      "Exited Ebwt loop\n",
      "fchr[A]: 0\n",
      "fchr[C]: 341519526\n",
      "fchr[G]: 538577822\n",
      "fchr[T]: 735626959\n",
      "fchr[$]: 1077255099\n",
      "Exiting Ebwt::buildToDisk()\n",
      "Returning from initFromVector\n",
      "Wrote 371984998 bytes to primary EBWT file: Olurida_v081.fa.1.bt2\n",
      "Wrote 269313780 bytes to secondary EBWT file: Olurida_v081.fa.2.bt2\n",
      "Re-opening _in1 and _in2 as input streams\n",
      "Returning from Ebwt constructor\n",
      "Headers:\n",
      "    len: 1077255099\n",
      "    bwtLen: 1077255100\n",
      "    sz: 269313775\n",
      "    bwtSz: 269313775\n",
      "    lineRate: 6\n",
      "    offRate: 4\n",
      "    offMask: 0xfffffff0\n",
      "    ftabChars: 10\n",
      "    eftabLen: 20\n",
      "    eftabSz: 80\n",
      "    ftabLen: 1048577\n",
      "    ftabSz: 4194308\n",
      "    offsLen: 67328444\n",
      "    offsSz: 269313776\n",
      "    lineSz: 64\n",
      "    sideSz: 64\n",
      "    sideBwtSz: 48\n",
      "    sideBwtLen: 192\n",
      "    numSides: 5610704\n",
      "    numLines: 5610704\n",
      "    ebwtTotLen: 359085056\n",
      "    ebwtTotSz: 359085056\n",
      "    color: 0\n",
      "    reverse: 0\n",
      "Total time for call to driver() for forward index: 00:16:52\n",
      "Reading reference sizes\n",
      "  Time reading reference sizes: 00:00:11\n",
      "Calculating joined length\n",
      "Writing header\n",
      "Reserving space for joined string\n",
      "Joining reference sequences\n",
      "  Time to join reference sequences: 00:00:07\n",
      "  Time to reverse reference sequence: 00:00:00\n",
      "bmax according to bmaxDivN setting: 269313774\n",
      "Using parameters --bmax 201985331 --dcv 1024\n",
      "  Doing ahead-of-time memory usage test\n",
      "  Passed!  Constructing with these parameters: --bmax 201985331 --dcv 1024\n",
      "Constructing suffix-array element generator\n",
      "Building DifferenceCoverSample\n",
      "  Building sPrime\n",
      "  Building sPrimeOrder\n",
      "  V-Sorting samples\n",
      "  V-Sorting samples time: 00:00:20\n",
      "  Allocating rank array\n",
      "  Ranking v-sort output\n",
      "  Ranking v-sort output time: 00:00:06\n",
      "  Invoking Larsson-Sadakane on ranks\n",
      "  Invoking Larsson-Sadakane on ranks time: 00:00:10\n",
      "  Sanity-checking and returning\n",
      "Building samples\n",
      "Reserving space for 12 sample suffixes\n",
      "Generating random suffixes\n",
      "QSorting 12 sample offsets, eliminating duplicates\n",
      "QSorting sample offsets, eliminating duplicates time: 00:00:00\n",
      "Multikey QSorting 12 samples\n",
      "  (Using difference cover)\n",
      "  Multikey QSorting samples time: 00:00:00\n",
      "Calculating bucket sizes\n",
      "Splitting and merging\n",
      "  Splitting and merging time: 00:00:00\n",
      "Avg bucket size: 1.07726e+09 (target: 201985330)\n",
      "Converting suffix-array elements to index image\n",
      "Allocating ftab, absorbFtab\n",
      "Entering Ebwt loop\n",
      "Getting block 1 of 1\n",
      "  No samples; assembling all-inclusive block\n",
      "  Sorting block of length 1077255099 for bucket 1\n",
      "  (Using difference cover)\n",
      "  Sorting block time: 00:12:28\n",
      "Returning block of 1077255100 for bucket 1\n",
      "Exited Ebwt loop\n",
      "fchr[A]: 0\n",
      "fchr[C]: 341519526\n",
      "fchr[G]: 538577822\n",
      "fchr[T]: 735626959\n",
      "fchr[$]: 1077255099\n",
      "Exiting Ebwt::buildToDisk()\n",
      "Returning from initFromVector\n",
      "Wrote 371984998 bytes to primary EBWT file: Olurida_v081.fa.rev.1.bt2\n",
      "Wrote 269313780 bytes to secondary EBWT file: Olurida_v081.fa.rev.2.bt2\n",
      "Re-opening _in1 and _in2 as input streams\n",
      "Returning from Ebwt constructor\n",
      "Headers:\n",
      "    len: 1077255099\n",
      "    bwtLen: 1077255100\n",
      "    sz: 269313775\n",
      "    bwtSz: 269313775\n",
      "    lineRate: 6\n",
      "    offRate: 4\n",
      "    offMask: 0xfffffff0\n",
      "    ftabChars: 10\n",
      "    eftabLen: 20\n",
      "    eftabSz: 80\n",
      "    ftabLen: 1048577\n",
      "    ftabSz: 4194308\n",
      "    offsLen: 67328444\n",
      "    offsSz: 269313776\n",
      "    lineSz: 64\n",
      "    sideSz: 64\n",
      "    sideBwtSz: 48\n",
      "    sideBwtLen: 192\n",
      "    numSides: 5610704\n",
      "    numLines: 5610704\n",
      "    ebwtTotLen: 359085056\n",
      "    ebwtTotSz: 359085056\n",
      "    color: 0\n",
      "    reverse: 1\n",
      "Total time for backward call to driver() for mirror index: 00:16:32\n"
     ]
    },
    {
     "name": "stderr",
     "output_type": "stream",
     "text": [
      "Building a SMALL index\n"
     ]
    }
   ],
   "source": [
    "%%bash\n",
    "### creating bowtie2 index for Oly genome v081:\n",
    "\n",
    "bowtie2-build \\\n",
    "../../references/Olurida_v081.fa \\\n",
    "Olurida_v081.fa"
   ]
  },
  {
   "cell_type": "code",
   "execution_count": 39,
   "metadata": {},
   "outputs": [
    {
     "name": "stdout",
     "output_type": "stream",
     "text": [
      "Olurida_v081.fa.1.bt2     Olurida_v081.fa.3.bt2     Olurida_v081.fa.rev.1.bt2\r\n",
      "Olurida_v081.fa.2.bt2     Olurida_v081.fa.4.bt2     Olurida_v081.fa.rev.2.bt2\r\n"
     ]
    }
   ],
   "source": [
    "! ls"
   ]
  },
  {
   "cell_type": "code",
   "execution_count": 41,
   "metadata": {},
   "outputs": [
    {
     "name": "stdout",
     "output_type": "stream",
     "text": [
      "/Users/laura/Documents/roberts-lab/laura-quantseq/data/tagseq_trim\n"
     ]
    }
   ],
   "source": [
    "cd ../../data/tagseq_trim/"
   ]
  },
  {
   "cell_type": "code",
   "execution_count": 104,
   "metadata": {},
   "outputs": [],
   "source": [
    "! {tagseq}tagseq_bowtie2map.pl \"trim$\" ../../results/bowtie/Olurida_v081.fa > maps"
   ]
  },
  {
   "cell_type": "code",
   "execution_count": 105,
   "metadata": {},
   "outputs": [
    {
     "name": "stdout",
     "output_type": "stream",
     "text": [
      "bowtie2 --local -x ../../results/bowtie/Olurida_v081.fa -U CP-KS-LibL-L37-L_S32_L006_R1_001.fastq.trim -S CP-KS-LibL-L37-L_S32_L006_R1_001.fastq.trim.sam --no-hd --no-sq --no-unal -k 5\r\n",
      "bowtie2 --local -x ../../results/bowtie/Olurida_v081.fa -U CP-KS-LibL-L3-G_S64_L006_R1_001.fastq.trim -S CP-KS-LibL-L3-G_S64_L006_R1_001.fastq.trim.sam --no-hd --no-sq --no-unal -k 5\r\n"
     ]
    }
   ],
   "source": [
    "! head -2 maps"
   ]
  },
  {
   "cell_type": "markdown",
   "metadata": {},
   "source": [
    "###  Use a loop to execute the commands written in 'maps'; redirect screen output/error in bowtieout.txt"
   ]
  },
  {
   "cell_type": "code",
   "execution_count": 106,
   "metadata": {},
   "outputs": [
    {
     "name": "stdout",
     "output_type": "stream",
     "text": [
      "/Users/laura/Documents/roberts-lab/laura-quantseq/data/tagseq_trim\n"
     ]
    }
   ],
   "source": [
    "cd ../../data/tagseq_trim/"
   ]
  },
  {
   "cell_type": "markdown",
   "metadata": {},
   "source": [
    "--no-unal  = suppress SAM records for unaligned reads  \n",
    "--no-sq    = suppress @SQ header lines  \n",
    "--no-hd    = suppress SAM header lines (starting with @)  \n",
    "-k 5       = report up to <5> aligns per read  "
   ]
  },
  {
   "cell_type": "code",
   "execution_count": 110,
   "metadata": {},
   "outputs": [],
   "source": [
    "%%bash \n",
    "\n",
    "for file in *.trim\n",
    "do\n",
    "#strip .fastq and directorys tructure from each file, then\n",
    "# add suffice .fastq.trim to create output name for each file\n",
    "results_file=\"$(basename -a $file).sam\"\n",
    "\n",
    "# run tagseq scripts on each file\n",
    "bowtie2 --local -x \\\n",
    "../../results/bowtie/Olurida_v081.fa \\\n",
    "-U $file \\\n",
    "-S $results_file \\ -k 5; \\\n",
    "done >> ../../results/bowtie/bowtieout.txt 2>&1"
   ]
  },
  {
   "cell_type": "code",
   "execution_count": 111,
   "metadata": {},
   "outputs": [
    {
     "name": "stdout",
     "output_type": "stream",
     "text": [
      "21874 reads; of these:\r\n",
      "  21874 (100.00%) were unpaired; of these:\r\n",
      "    6373 (29.14%) aligned 0 times\r\n",
      "    11759 (53.76%) aligned exactly 1 time\r\n",
      "    3742 (17.11%) aligned >1 times\r\n",
      "70.86% overall alignment rate\r\n",
      "21768 reads; of these:\r\n",
      "  21768 (100.00%) were unpaired; of these:\r\n",
      "    6229 (28.62%) aligned 0 times\r\n",
      "    11759 (54.02%) aligned exactly 1 time\r\n",
      "    3780 (17.36%) aligned >1 times\r\n",
      "71.38% overall alignment rate\r\n",
      "2649 reads; of these:\r\n",
      "  2649 (100.00%) were unpaired; of these:\r\n",
      "    2067 (78.03%) aligned 0 times\r\n",
      "    352 (13.29%) aligned exactly 1 time\r\n",
      "    230 (8.68%) aligned >1 times\r\n",
      "21.97% overall alignment rate\r\n",
      "21489 reads; of these:\r\n",
      "  21489 (100.00%) were unpaired; of these:\r\n",
      "    6142 (28.58%) aligned 0 times\r\n",
      "    11731 (54.59%) aligned exactly 1 time\r\n",
      "    3616 (16.83%) aligned >1 times\r\n",
      "71.42% overall alignment rate\r\n",
      "23903 reads; of these:\r\n",
      "  23903 (100.00%) were unpaired; of these:\r\n",
      "    6156 (25.75%) aligned 0 times\r\n",
      "    13075 (54.70%) aligned exactly 1 time\r\n",
      "    4672 (19.55%) aligned >1 times\r\n",
      "74.25% overall alignment rate\r\n",
      "22552 reads; of these:\r\n",
      "  22552 (100.00%) were unpaired; of these:\r\n",
      "    5852 (25.95%) aligned 0 times\r\n",
      "    12886 (57.14%) aligned exactly 1 time\r\n",
      "    3814 (16.91%) aligned >1 times\r\n",
      "74.05% overall alignment rate\r\n",
      "16370 reads; of these:\r\n",
      "  16370 (100.00%) were unpaired; of these:\r\n",
      "    4938 (30.16%) aligned 0 times\r\n",
      "    8461 (51.69%) aligned exactly 1 time\r\n",
      "    2971 (18.15%) aligned >1 times\r\n",
      "69.84% overall alignment rate\r\n",
      "15257 reads; of these:\r\n",
      "  15257 (100.00%) were unpaired; of these:\r\n",
      "    4417 (28.95%) aligned 0 times\r\n",
      "    8374 (54.89%) aligned exactly 1 time\r\n",
      "    2466 (16.16%) aligned >1 times\r\n",
      "71.05% overall alignment rate\r\n",
      "19906 reads; of these:\r\n",
      "  19906 (100.00%) were unpaired; of these:\r\n",
      "    6014 (30.21%) aligned 0 times\r\n",
      "    10555 (53.02%) aligned exactly 1 time\r\n",
      "    3337 (16.76%) aligned >1 times\r\n",
      "69.79% overall alignment rate\r\n",
      "13103 reads; of these:\r\n",
      "  13103 (100.00%) were unpaired; of these:\r\n",
      "    4528 (34.56%) aligned 0 times\r\n",
      "    6800 (51.90%) aligned exactly 1 time\r\n",
      "    1775 (13.55%) aligned >1 times\r\n",
      "65.44% overall alignment rate\r\n",
      "21913 reads; of these:\r\n",
      "  21913 (100.00%) were unpaired; of these:\r\n",
      "    5842 (26.66%) aligned 0 times\r\n",
      "    11671 (53.26%) aligned exactly 1 time\r\n",
      "    4400 (20.08%) aligned >1 times\r\n",
      "73.34% overall alignment rate\r\n",
      "3923 reads; of these:\r\n",
      "  3923 (100.00%) were unpaired; of these:\r\n",
      "    2285 (58.25%) aligned 0 times\r\n",
      "    848 (21.62%) aligned exactly 1 time\r\n",
      "    790 (20.14%) aligned >1 times\r\n",
      "41.75% overall alignment rate\r\n",
      "23289 reads; of these:\r\n",
      "  23289 (100.00%) were unpaired; of these:\r\n",
      "    6206 (26.65%) aligned 0 times\r\n",
      "    13095 (56.23%) aligned exactly 1 time\r\n",
      "    3988 (17.12%) aligned >1 times\r\n",
      "73.35% overall alignment rate\r\n",
      "23769 reads; of these:\r\n",
      "  23769 (100.00%) were unpaired; of these:\r\n",
      "    6313 (26.56%) aligned 0 times\r\n",
      "    13367 (56.24%) aligned exactly 1 time\r\n",
      "    4089 (17.20%) aligned >1 times\r\n",
      "73.44% overall alignment rate\r\n",
      "3290 reads; of these:\r\n",
      "  3290 (100.00%) were unpaired; of these:\r\n",
      "    1191 (36.20%) aligned 0 times\r\n",
      "    1621 (49.27%) aligned exactly 1 time\r\n",
      "    478 (14.53%) aligned >1 times\r\n",
      "63.80% overall alignment rate\r\n",
      "13007 reads; of these:\r\n",
      "  13007 (100.00%) were unpaired; of these:\r\n",
      "    3435 (26.41%) aligned 0 times\r\n",
      "    7754 (59.61%) aligned exactly 1 time\r\n",
      "    1818 (13.98%) aligned >1 times\r\n",
      "73.59% overall alignment rate\r\n",
      "5448 reads; of these:\r\n",
      "  5448 (100.00%) were unpaired; of these:\r\n",
      "    2324 (42.66%) aligned 0 times\r\n",
      "    2420 (44.42%) aligned exactly 1 time\r\n",
      "    704 (12.92%) aligned >1 times\r\n",
      "57.34% overall alignment rate\r\n",
      "8559 reads; of these:\r\n",
      "  8559 (100.00%) were unpaired; of these:\r\n",
      "    2416 (28.23%) aligned 0 times\r\n",
      "    4934 (57.65%) aligned exactly 1 time\r\n",
      "    1209 (14.13%) aligned >1 times\r\n",
      "71.77% overall alignment rate\r\n",
      "6827 reads; of these:\r\n",
      "  6827 (100.00%) were unpaired; of these:\r\n",
      "    1749 (25.62%) aligned 0 times\r\n",
      "    4104 (60.11%) aligned exactly 1 time\r\n",
      "    974 (14.27%) aligned >1 times\r\n",
      "74.38% overall alignment rate\r\n",
      "8856 reads; of these:\r\n",
      "  8856 (100.00%) were unpaired; of these:\r\n",
      "    2227 (25.15%) aligned 0 times\r\n",
      "    5302 (59.87%) aligned exactly 1 time\r\n",
      "    1327 (14.98%) aligned >1 times\r\n",
      "74.85% overall alignment rate\r\n",
      "10630 reads; of these:\r\n",
      "  10630 (100.00%) were unpaired; of these:\r\n",
      "    3954 (37.20%) aligned 0 times\r\n",
      "    5134 (48.30%) aligned exactly 1 time\r\n",
      "    1542 (14.51%) aligned >1 times\r\n",
      "62.80% overall alignment rate\r\n",
      "5586 reads; of these:\r\n",
      "  5586 (100.00%) were unpaired; of these:\r\n",
      "    1760 (31.51%) aligned 0 times\r\n",
      "    3070 (54.96%) aligned exactly 1 time\r\n",
      "    756 (13.53%) aligned >1 times\r\n",
      "68.49% overall alignment rate\r\n",
      "23593 reads; of these:\r\n",
      "  23593 (100.00%) were unpaired; of these:\r\n",
      "    6239 (26.44%) aligned 0 times\r\n",
      "    13069 (55.39%) aligned exactly 1 time\r\n",
      "    4285 (18.16%) aligned >1 times\r\n",
      "73.56% overall alignment rate\r\n",
      "10786 reads; of these:\r\n",
      "  10786 (100.00%) were unpaired; of these:\r\n",
      "    3071 (28.47%) aligned 0 times\r\n",
      "    5580 (51.73%) aligned exactly 1 time\r\n",
      "    2135 (19.79%) aligned >1 times\r\n",
      "71.53% overall alignment rate\r\n"
     ]
    }
   ],
   "source": [
    "! cat ../../results/bowtie/bowtieout.txt"
   ]
  },
  {
   "cell_type": "code",
   "execution_count": 112,
   "metadata": {},
   "outputs": [
    {
     "name": "stdout",
     "output_type": "stream",
     "text": [
      "70.86% overall alignment rate\r\n",
      "71.38% overall alignment rate\r\n",
      "21.97% overall alignment rate\r\n",
      "71.42% overall alignment rate\r\n",
      "74.25% overall alignment rate\r\n",
      "74.05% overall alignment rate\r\n",
      "69.84% overall alignment rate\r\n",
      "71.05% overall alignment rate\r\n",
      "69.79% overall alignment rate\r\n",
      "65.44% overall alignment rate\r\n",
      "73.34% overall alignment rate\r\n",
      "41.75% overall alignment rate\r\n",
      "73.35% overall alignment rate\r\n",
      "73.44% overall alignment rate\r\n",
      "63.80% overall alignment rate\r\n",
      "73.59% overall alignment rate\r\n",
      "57.34% overall alignment rate\r\n",
      "71.77% overall alignment rate\r\n",
      "74.38% overall alignment rate\r\n",
      "74.85% overall alignment rate\r\n",
      "62.80% overall alignment rate\r\n",
      "68.49% overall alignment rate\r\n",
      "73.56% overall alignment rate\r\n",
      "71.53% overall alignment rate\r\n"
     ]
    }
   ],
   "source": [
    "# alignment rates:\n",
    "! grep \"overall alignment rate\"  ../../results/bowtie/bowtieout.txt"
   ]
  },
  {
   "cell_type": "markdown",
   "metadata": {},
   "source": [
    "## Generating read-counts-per gene "
   ]
  },
  {
   "cell_type": "code",
   "execution_count": 113,
   "metadata": {},
   "outputs": [
    {
     "name": "stdout",
     "output_type": "stream",
     "text": [
      "CP-KS-LibL-L10-G_S59_L006_R1_001.fastq.trim\r\n",
      "CP-KS-LibL-L10-G_S59_L006_R1_001.fastq.trim.sam\r\n",
      "CP-KS-LibL-L11-G_S65_L006_R1_001.fastq.trim\r\n",
      "CP-KS-LibL-L11-G_S65_L006_R1_001.fastq.trim.sam\r\n",
      "CP-KS-LibL-L13-G_S60_L006_R1_001.fastq.trim\r\n",
      "CP-KS-LibL-L13-G_S60_L006_R1_001.fastq.trim.sam\r\n",
      "CP-KS-LibL-L14-G_S63_L006_R1_001.fastq.trim\r\n",
      "CP-KS-LibL-L14-G_S63_L006_R1_001.fastq.trim.sam\r\n",
      "CP-KS-LibL-L15-G_S68_L006_R1_001.fastq.trim\r\n",
      "CP-KS-LibL-L15-G_S68_L006_R1_001.fastq.trim.sam\r\n",
      "CP-KS-LibL-L19-G_S67_L006_R1_001.fastq.trim\r\n",
      "CP-KS-LibL-L19-G_S67_L006_R1_001.fastq.trim.sam\r\n",
      "CP-KS-LibL-L2-G_S34_L006_R1_001.fastq.trim\r\n",
      "CP-KS-LibL-L2-G_S34_L006_R1_001.fastq.trim.sam\r\n",
      "CP-KS-LibL-L21-G_S58_L006_R1_001.fastq.trim\r\n",
      "CP-KS-LibL-L21-G_S58_L006_R1_001.fastq.trim.sam\r\n",
      "CP-KS-LibL-L23-G_S61_L006_R1_001.fastq.trim\r\n",
      "CP-KS-LibL-L23-G_S61_L006_R1_001.fastq.trim.sam\r\n",
      "CP-KS-LibL-L24-G_S62_L006_R1_001.fastq.trim\r\n",
      "CP-KS-LibL-L24-G_S62_L006_R1_001.fastq.trim.sam\r\n",
      "CP-KS-LibL-L29-G_S36_L006_R1_001.fastq.trim\r\n",
      "CP-KS-LibL-L29-G_S36_L006_R1_001.fastq.trim.sam\r\n",
      "CP-KS-LibL-L3-G_S64_L006_R1_001.fastq.trim\r\n",
      "CP-KS-LibL-L3-G_S64_L006_R1_001.fastq.trim.sam\r\n",
      "CP-KS-LibL-L32-G_S35_L006_R1_001.fastq.trim\r\n",
      "CP-KS-LibL-L32-G_S35_L006_R1_001.fastq.trim.sam\r\n",
      "CP-KS-LibL-L33-G_S66_L006_R1_001.fastq.trim\r\n",
      "CP-KS-LibL-L33-G_S66_L006_R1_001.fastq.trim.sam\r\n",
      "CP-KS-LibL-L34-L_S25_L006_R1_001.fastq.trim\r\n",
      "CP-KS-LibL-L34-L_S25_L006_R1_001.fastq.trim.sam\r\n",
      "CP-KS-LibL-L35-L_S31_L006_R1_001.fastq.trim\r\n",
      "CP-KS-LibL-L35-L_S31_L006_R1_001.fastq.trim.sam\r\n",
      "CP-KS-LibL-L37-L_S32_L006_R1_001.fastq.trim\r\n",
      "CP-KS-LibL-L37-L_S32_L006_R1_001.fastq.trim.sam\r\n",
      "CP-KS-LibL-L39-L_S29_L006_R1_001.fastq.trim\r\n",
      "CP-KS-LibL-L39-L_S29_L006_R1_001.fastq.trim.sam\r\n",
      "CP-KS-LibL-L41-L_S27_L006_R1_001.fastq.trim\r\n",
      "CP-KS-LibL-L41-L_S27_L006_R1_001.fastq.trim.sam\r\n",
      "CP-KS-LibL-L44-L_S30_L006_R1_001.fastq.trim\r\n",
      "CP-KS-LibL-L44-L_S30_L006_R1_001.fastq.trim.sam\r\n",
      "CP-KS-LibL-L45-L_S28_L006_R1_001.fastq.trim\r\n",
      "CP-KS-LibL-L45-L_S28_L006_R1_001.fastq.trim.sam\r\n",
      "CP-KS-LibL-L47-L_S33_L006_R1_001.fastq.trim\r\n",
      "CP-KS-LibL-L47-L_S33_L006_R1_001.fastq.trim.sam\r\n",
      "CP-KS-LibL-L7-G_S57_L006_R1_001.fastq.trim\r\n",
      "CP-KS-LibL-L7-G_S57_L006_R1_001.fastq.trim.sam\r\n",
      "CP-KS-LibL-SN1016-G_S26_L006_R1_001.fastq.trim\r\n",
      "CP-KS-LibL-SN1016-G_S26_L006_R1_001.fastq.trim.sam\r\n",
      "maps\r\n"
     ]
    }
   ],
   "source": [
    "ls"
   ]
  },
  {
   "cell_type": "code",
   "execution_count": 82,
   "metadata": {},
   "outputs": [
    {
     "name": "stdout",
     "output_type": "stream",
     "text": [
      ">Contig0\r\n",
      ">Contig1\r\n",
      ">Contig2\r\n",
      ">Contig3\r\n",
      ">Contig4\r\n",
      ">Contig5\r\n",
      ">Contig6\r\n",
      ">Contig7\r\n",
      ">Contig8\r\n",
      ">Contig9\r\n"
     ]
    }
   ],
   "source": [
    "! grep \">\" ../../references/Olurida_v081.fa | head"
   ]
  },
  {
   "cell_type": "code",
   "execution_count": 63,
   "metadata": {},
   "outputs": [
    {
     "name": "stdout",
     "output_type": "stream",
     "text": [
      "samtools view: unrecognised option '--help'\r\n",
      "\r\n",
      "Usage: samtools view [options] <in.bam>|<in.sam>|<in.cram> [region ...]\r\n",
      "\r\n",
      "Options:\r\n",
      "  -b       output BAM\r\n",
      "  -C       output CRAM (requires -T)\r\n",
      "  -1       use fast BAM compression (implies -b)\r\n",
      "  -u       uncompressed BAM output (implies -b)\r\n",
      "  -h       include header in SAM output\r\n",
      "  -H       print SAM header only (no alignments)\r\n",
      "  -c       print only the count of matching records\r\n",
      "  -o FILE  output file name [stdout]\r\n",
      "  -U FILE  output reads not selected by filters to FILE [null]\r\n",
      "  -t FILE  FILE listing reference names and lengths (see long help) [null]\r\n",
      "  -L FILE  only include reads overlapping this BED FILE [null]\r\n",
      "  -r STR   only include reads in read group STR [null]\r\n",
      "  -R FILE  only include reads with read group listed in FILE [null]\r\n",
      "  -q INT   only include reads with mapping quality >= INT [0]\r\n",
      "  -l STR   only include reads in library STR [null]\r\n",
      "  -m INT   only include reads with number of CIGAR operations consuming\r\n",
      "           query sequence >= INT [0]\r\n",
      "  -f INT   only include reads with all  of the FLAGs in INT present [0]\r\n",
      "  -F INT   only include reads with none of the FLAGS in INT present [0]\r\n",
      "  -G INT   only EXCLUDE reads with all  of the FLAGs in INT present [0]\r\n",
      "  -s FLOAT subsample reads (given INT.FRAC option value, 0.FRAC is the\r\n",
      "           fraction of templates/read pairs to keep; INT part sets seed)\r\n",
      "  -M       use the multi-region iterator (increases the speed, removes\r\n",
      "           duplicates and outputs the reads as they are ordered in the file)\r\n",
      "  -x STR   read tag to strip (repeatable) [null]\r\n",
      "  -B       collapse the backward CIGAR operation\r\n",
      "  -?       print long help, including note about region specification\r\n",
      "  -S       ignored (input format is auto-detected)\r\n",
      "      --input-fmt-option OPT[=VAL]\r\n",
      "               Specify a single input file format option in the form\r\n",
      "               of OPTION or OPTION=VALUE\r\n",
      "  -O, --output-fmt FORMAT[,OPT[=VAL]]...\r\n",
      "               Specify output format (SAM, BAM, CRAM)\r\n",
      "      --output-fmt-option OPT[=VAL]\r\n",
      "               Specify a single output file format option in the form\r\n",
      "               of OPTION or OPTION=VALUE\r\n",
      "  -T, --reference FILE\r\n",
      "               Reference sequence FASTA FILE [null]\r\n",
      "  -@, --threads INT\r\n",
      "               Number of additional threads to use [0]\r\n",
      "\r\n"
     ]
    }
   ],
   "source": [
    "! samtools view --help"
   ]
  },
  {
   "cell_type": "code",
   "execution_count": 114,
   "metadata": {},
   "outputs": [],
   "source": [
    "%%bash\n",
    "#convert sam to bam\n",
    "\n",
    "for file in *.sam\n",
    "do\n",
    "results_file=\"$(basename -a $file)_sorted.bam\"\n",
    "samtools view -b $file | samtools sort -o $results_file\n",
    "done"
   ]
  },
  {
   "cell_type": "code",
   "execution_count": 115,
   "metadata": {},
   "outputs": [],
   "source": [
    "%%bash\n",
    "# create .bam indexes\n",
    "for file in *.bam\n",
    "do\n",
    "samtools index $file\n",
    "done"
   ]
  },
  {
   "cell_type": "code",
   "execution_count": 118,
   "metadata": {},
   "outputs": [
    {
     "name": "stdout",
     "output_type": "stream",
     "text": [
      "CP-KS-LibL-L10-G_S59_L006_R1_001.fastq.trim.sam_sorted.bam\r\n",
      "CP-KS-LibL-L11-G_S65_L006_R1_001.fastq.trim.sam_sorted.bam\r\n",
      "CP-KS-LibL-L13-G_S60_L006_R1_001.fastq.trim.sam_sorted.bam\r\n",
      "CP-KS-LibL-L14-G_S63_L006_R1_001.fastq.trim.sam_sorted.bam\r\n",
      "CP-KS-LibL-L15-G_S68_L006_R1_001.fastq.trim.sam_sorted.bam\r\n",
      "CP-KS-LibL-L19-G_S67_L006_R1_001.fastq.trim.sam_sorted.bam\r\n",
      "CP-KS-LibL-L2-G_S34_L006_R1_001.fastq.trim.sam_sorted.bam\r\n",
      "CP-KS-LibL-L21-G_S58_L006_R1_001.fastq.trim.sam_sorted.bam\r\n",
      "CP-KS-LibL-L23-G_S61_L006_R1_001.fastq.trim.sam_sorted.bam\r\n",
      "CP-KS-LibL-L24-G_S62_L006_R1_001.fastq.trim.sam_sorted.bam\r\n",
      "CP-KS-LibL-L29-G_S36_L006_R1_001.fastq.trim.sam_sorted.bam\r\n",
      "CP-KS-LibL-L3-G_S64_L006_R1_001.fastq.trim.sam_sorted.bam\r\n",
      "CP-KS-LibL-L32-G_S35_L006_R1_001.fastq.trim.sam_sorted.bam\r\n",
      "CP-KS-LibL-L33-G_S66_L006_R1_001.fastq.trim.sam_sorted.bam\r\n",
      "CP-KS-LibL-L34-L_S25_L006_R1_001.fastq.trim.sam_sorted.bam\r\n",
      "CP-KS-LibL-L35-L_S31_L006_R1_001.fastq.trim.sam_sorted.bam\r\n",
      "CP-KS-LibL-L37-L_S32_L006_R1_001.fastq.trim.sam_sorted.bam\r\n",
      "CP-KS-LibL-L39-L_S29_L006_R1_001.fastq.trim.sam_sorted.bam\r\n",
      "CP-KS-LibL-L41-L_S27_L006_R1_001.fastq.trim.sam_sorted.bam\r\n",
      "CP-KS-LibL-L44-L_S30_L006_R1_001.fastq.trim.sam_sorted.bam\r\n",
      "CP-KS-LibL-L45-L_S28_L006_R1_001.fastq.trim.sam_sorted.bam\r\n",
      "CP-KS-LibL-L47-L_S33_L006_R1_001.fastq.trim.sam_sorted.bam\r\n",
      "CP-KS-LibL-L7-G_S57_L006_R1_001.fastq.trim.sam_sorted.bam\r\n",
      "CP-KS-LibL-SN1016-G_S26_L006_R1_001.fastq.trim.sam_sorted.bam\r\n"
     ]
    }
   ],
   "source": [
    "ls *.bam"
   ]
  },
  {
   "cell_type": "code",
   "execution_count": 121,
   "metadata": {},
   "outputs": [
    {
     "name": "stdout",
     "output_type": "stream",
     "text": [
      "   27324\r\n"
     ]
    }
   ],
   "source": [
    "# total mapped and paired reads \n",
    "! samtools view -F 6 \\\n",
    "CP-KS-LibL-L7-G_S57_L006_R1_001.fastq.trim.sam_sorted.bam | \\\n",
    "wc -l"
   ]
  },
  {
   "cell_type": "code",
   "execution_count": 122,
   "metadata": {},
   "outputs": [
    {
     "name": "stdout",
     "output_type": "stream",
     "text": [
      "   27324\r\n"
     ]
    }
   ],
   "source": [
    "# weird, this is supposed to be the unmapped read count .. same as above\n",
    "! samtools view -F 4 \\\n",
    "CP-KS-LibL-L7-G_S57_L006_R1_001.fastq.trim.sam_sorted.bam | \\\n",
    "wc -l"
   ]
  }
 ],
 "metadata": {
  "kernelspec": {
   "display_name": "Python 3",
   "language": "python",
   "name": "python3"
  },
  "language_info": {
   "codemirror_mode": {
    "name": "ipython",
    "version": 3
   },
   "file_extension": ".py",
   "mimetype": "text/x-python",
   "name": "python",
   "nbconvert_exporter": "python",
   "pygments_lexer": "ipython3",
   "version": "3.7.0"
  }
 },
 "nbformat": 4,
 "nbformat_minor": 2
}
