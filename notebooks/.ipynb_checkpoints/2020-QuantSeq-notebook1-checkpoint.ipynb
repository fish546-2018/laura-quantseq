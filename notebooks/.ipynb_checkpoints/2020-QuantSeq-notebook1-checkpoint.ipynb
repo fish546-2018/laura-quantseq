{
 "cells": [
  {
   "cell_type": "markdown",
   "metadata": {},
   "source": [
    "### Receiving data, initial processing"
   ]
  },
  {
   "cell_type": "markdown",
   "metadata": {},
   "source": [
    "Data was downloaded from Globus (globus.org).  It was sent in two zipped files, one from each lane, containing separate files for each sample (demultiplexed). \n",
    "\n",
    "I then checked that the md5 values were the same using `md5 [filename].tar.gz >> [filename].md5` (this appened the new value in the .md5 file, so I could compare). \n",
    "\n",
    "### A note on working environment & data accessibility\n",
    "\n",
    "I originally downloaded data to Ostrich, thinking that I could work on that computer remotely using Remote Desktop and Jupyter Notebook. However, my internet connection is too slow to work productively that way. I therefore also downloaded the data to my external hard drive, and worked locally. This also allows me to use all the packages that I had installed on my personal computer in 2018 (which is helpful). \n",
    "\n",
    "Canonical versions of the data is saved to Owl/Nightengales in the zipped format here: [nightingales/O_lurida/2020-04-21_QuantSeq-data/](http://owl.fish.washington.edu/nightingales/O_lurida/2020-04-21_QuantSeq-data/) and as individual fastq/sample here [nightingales/O_lurida/](http://owl.fish.washington.edu/nightingales/O_lurida/), and to Gannet as individual fastq/sample here [Atumefaciens/20200426_olur_fastqc_quantseq/](https://gannet.fish.washington.edu/Atumefaciens/20200426_olur_fastqc_quantseq/). \n",
    "\n",
    "Sam also ran MultiQC on my samples; check out his [notebook entry](https://robertslab.github.io/sams-notebook/2020/04/26/FastQC-MultiQC-Laura-Spencer's-QuantSeq-Data.html), and the [MultiQC report](https://gannet.fish.washington.edu/Atumefaciens/20200426_olur_fastqc_quantseq/multiqc_report.html)."
   ]
  },
  {
   "cell_type": "markdown",
   "metadata": {},
   "source": [
    "### Install tag-seq scripts, create {tagseq} variable\n",
    "\n",
    "I had cloned the tag-based_RNAseq.git repo back in 2018 using the following: \n",
    "`git clone https://github.com/z0on/tag-based_RNAseq.git /Users/lhs3/Documents/bioinf/tag-based_RNAseq/`. \n",
    "\n",
    "To update the package, I navigated to the directory locally, then did `git pull` and it updated the files. "
   ]
  },
  {
   "cell_type": "code",
   "execution_count": 3,
   "metadata": {},
   "outputs": [
    {
     "data": {
      "text/plain": [
       "'/Users/laura/Documents/roberts-lab/laura-quantseq/notebooks'"
      ]
     },
     "execution_count": 3,
     "metadata": {},
     "output_type": "execute_result"
    }
   ],
   "source": [
    "# check working directory \n",
    "pwd"
   ]
  },
  {
   "cell_type": "code",
   "execution_count": 42,
   "metadata": {},
   "outputs": [],
   "source": [
    "# create path variable to github repo \n",
    "repo = \"Users/laura/Documents/roberts-lab/laura-quantseq/\""
   ]
  },
  {
   "cell_type": "code",
   "execution_count": 4,
   "metadata": {},
   "outputs": [],
   "source": [
    "# create path variable to raw data, saved on my external hard drive \n",
    "rawdata = \"/Volumes/Peach\\ Backup/QuantSeq-04-21-2020\""
   ]
  },
  {
   "cell_type": "code",
   "execution_count": 28,
   "metadata": {},
   "outputs": [],
   "source": [
    "# create path variable to tagseq directory \n",
    "tagseq = \"/Applications/bioinformatics/tag-based_RNAseq/\""
   ]
  },
  {
   "cell_type": "code",
   "execution_count": 2,
   "metadata": {},
   "outputs": [
    {
     "name": "stdout",
     "output_type": "stream",
     "text": [
      "usage: fastq_quality_filter [-h] [-v] [-q N] [-p N] [-z] [-i INFILE] [-o OUTFILE]\r\n",
      "Part of FASTX Toolkit 0.0.14 by A. Gordon (assafgordon@gmail.com)\r\n",
      "\r\n",
      "   [-h]         = This helpful help screen.\r\n",
      "   [-q N]       = Minimum quality score to keep.\r\n",
      "   [-p N]       = Minimum percent of bases that must have [-q] quality.\r\n",
      "   [-z]         = Compress output with GZIP.\r\n",
      "   [-i INFILE]  = FASTA/Q input file. default is STDIN.\r\n",
      "   [-o OUTFILE] = FASTA/Q output file. default is STDOUT.\r\n",
      "   [-v]         = Verbose - report number of sequences.\r\n",
      "                  If [-o] is specified,  report will be printed to STDOUT.\r\n",
      "                  If [-o] is not specified (and output goes to STDOUT),\r\n",
      "                  report will be printed to STDERR.\r\n",
      "\r\n"
     ]
    }
   ],
   "source": [
    "# test fastq_quality_filter (see if it's correctly added to my PATH)\n",
    "! fastq_quality_filter -h"
   ]
  },
  {
   "cell_type": "code",
   "execution_count": 9,
   "metadata": {},
   "outputs": [
    {
     "name": "stdout",
     "output_type": "stream",
     "text": [
      "/Volumes/Peach Backup/QuantSeq-04-21-2020\n"
     ]
    }
   ],
   "source": [
    "cd {rawdata}"
   ]
  },
  {
   "cell_type": "code",
   "execution_count": 10,
   "metadata": {},
   "outputs": [
    {
     "data": {
      "text/plain": [
       "'/Volumes/Peach Backup/QuantSeq-04-21-2020'"
      ]
     },
     "execution_count": 10,
     "metadata": {},
     "output_type": "execute_result"
    }
   ],
   "source": [
    "pwd"
   ]
  },
  {
   "cell_type": "code",
   "execution_count": 11,
   "metadata": {},
   "outputs": [
    {
     "name": "stdout",
     "output_type": "stream",
     "text": [
      "Batch1_69plex_lane1.md5     Batch2_77plex_lane2_md5\r\n",
      "Batch1_69plex_lane1.tar.gz  Batch2_77plex_lane2_tar.gz\r\n"
     ]
    }
   ],
   "source": [
    "ls"
   ]
  },
  {
   "cell_type": "markdown",
   "metadata": {},
   "source": [
    "Currently, the data is still zipped (that's how it arrived via Globus). I need to thus tar/gunzip the lane files, before I can gunzip the individual library files.  "
   ]
  },
  {
   "cell_type": "code",
   "execution_count": 12,
   "metadata": {},
   "outputs": [],
   "source": [
    "# extract batch/lane 1 data \n",
    "! gunzip -c Batch1_69plex_lane1.tar.gz | tar xopf -"
   ]
  },
  {
   "cell_type": "code",
   "execution_count": 13,
   "metadata": {},
   "outputs": [],
   "source": [
    "# extract batch/lane 2 data \n",
    "! gunzip -c Batch2_77plex_lane2_tar.gz | tar xopf -"
   ]
  },
  {
   "cell_type": "code",
   "execution_count": 14,
   "metadata": {},
   "outputs": [
    {
     "name": "stdout",
     "output_type": "stream",
     "text": [
      "Batch1_69plex_lane1.md5    \u001b[34mBatch2_77plex_lane2_done\u001b[m\u001b[m\r\n",
      "Batch1_69plex_lane1.tar.gz Batch2_77plex_lane2_md5\r\n",
      "\u001b[34mBatch1_69plex_lane1_done\u001b[m\u001b[m   Batch2_77plex_lane2_tar.gz\r\n"
     ]
    }
   ],
   "source": [
    "# check out resulting file structure \n",
    "! ls"
   ]
  },
  {
   "cell_type": "code",
   "execution_count": 15,
   "metadata": {},
   "outputs": [
    {
     "name": "stdout",
     "output_type": "stream",
     "text": [
      "137_S63_L001_R1_001.fastq.gz         314_S49_L001_R1_001.fastq.gz\r\n",
      "139_S54_L001_R1_001.fastq.gz         315_S26_L001_R1_001.fastq.gz\r\n",
      "140_S64_L001_R1_001.fastq.gz         316_S9_L001_R1_001.fastq.gz\r\n",
      "141_S61_L001_R1_001.fastq.gz         317_S33_L001_R1_001.fastq.gz\r\n",
      "156_S66_L001_R1_001.fastq.gz         318_S6_L001_R1_001.fastq.gz\r\n",
      "159_S68_L001_R1_001.fastq.gz         319_S52_L001_R1_001.fastq.gz\r\n",
      "161_S57_L001_R1_001.fastq.gz         321_S29_L001_R1_001.fastq.gz\r\n",
      "162_S62_L001_R1_001.fastq.gz         322_S8_L001_R1_001.fastq.gz\r\n",
      "168_S67_L001_R1_001.fastq.gz         323_S39_L001_R1_001.fastq.gz\r\n",
      "169_S65_L001_R1_001.fastq.gz         324_S47_L001_R1_001.fastq.gz\r\n",
      "171_S58_L001_R1_001.fastq.gz         325_S13_L001_R1_001.fastq.gz\r\n",
      "172_S59_L001_R1_001.fastq.gz         326_S38_L001_R1_001.fastq.gz\r\n",
      "181_S69_L001_R1_001.fastq.gz         327_S37_L001_R1_001.fastq.gz\r\n",
      "183_S56_L001_R1_001.fastq.gz         328_S12_L001_R1_001.fastq.gz\r\n",
      "184_S55_L001_R1_001.fastq.gz         329_S46_L001_R1_001.fastq.gz\r\n",
      "185_S60_L001_R1_001.fastq.gz         331_S53_L001_R1_001.fastq.gz\r\n",
      "291_S42_L001_R1_001.fastq.gz         332_S48_L001_R1_001.fastq.gz\r\n",
      "292_S32_L001_R1_001.fastq.gz         333_S30_L001_R1_001.fastq.gz\r\n",
      "293_S11_L001_R1_001.fastq.gz         334_S50_L001_R1_001.fastq.gz\r\n",
      "294_S7_L001_R1_001.fastq.gz          335_S31_L001_R1_001.fastq.gz\r\n",
      "295_S41_L001_R1_001.fastq.gz         336_S51_L001_R1_001.fastq.gz\r\n",
      "296_S40_L001_R1_001.fastq.gz         337_S35_L001_R1_001.fastq.gz\r\n",
      "298_S25_L001_R1_001.fastq.gz         338_S4_L001_R1_001.fastq.gz\r\n",
      "299_S21_L001_R1_001.fastq.gz         339_S10_L001_R1_001.fastq.gz\r\n",
      "301_S22_L001_R1_001.fastq.gz         341_S19_L001_R1_001.fastq.gz\r\n",
      "302_S15_L001_R1_001.fastq.gz         342_S23_L001_R1_001.fastq.gz\r\n",
      "303_S17_L001_R1_001.fastq.gz         343_S14_L001_R1_001.fastq.gz\r\n",
      "304_S24_L001_R1_001.fastq.gz         344_S27_L001_R1_001.fastq.gz\r\n",
      "305_S1_L001_R1_001.fastq.gz          345_S16_L001_R1_001.fastq.gz\r\n",
      "306_S44_L001_R1_001.fastq.gz         346_S18_L001_R1_001.fastq.gz\r\n",
      "307_S45_L001_R1_001.fastq.gz         347_S43_L001_R1_001.fastq.gz\r\n",
      "308_S5_L001_R1_001.fastq.gz          348_S3_L001_R1_001.fastq.gz\r\n",
      "309_S20_L001_R1_001.fastq.gz         349_S34_L001_R1_001.fastq.gz\r\n",
      "311_S2_L001_R1_001.fastq.gz          \u001b[34mReports\u001b[m\u001b[m\r\n",
      "312_S28_L001_R1_001.fastq.gz         \u001b[34mStats\u001b[m\u001b[m\r\n",
      "313_S36_L001_R1_001.fastq.gz         Undetermined_S0_L001_R1_001.fastq.gz\r\n"
     ]
    }
   ],
   "source": [
    "! ls Batch1_69plex_lane1_done/"
   ]
  },
  {
   "cell_type": "markdown",
   "metadata": {},
   "source": [
    "### Move to each batch's directory containing demultiplexed library files, and gunzip all fastq files in that folder"
   ]
  },
  {
   "cell_type": "code",
   "execution_count": 18,
   "metadata": {},
   "outputs": [
    {
     "name": "stdout",
     "output_type": "stream",
     "text": [
      "/Volumes/Peach Backup/QuantSeq-04-21-2020/Batch1_69plex_lane1_done\n"
     ]
    }
   ],
   "source": [
    "cd Batch1_69plex_lane1_done/"
   ]
  },
  {
   "cell_type": "code",
   "execution_count": 19,
   "metadata": {},
   "outputs": [],
   "source": [
    "! gunzip *.fastq.gz"
   ]
  },
  {
   "cell_type": "code",
   "execution_count": 21,
   "metadata": {},
   "outputs": [
    {
     "name": "stdout",
     "output_type": "stream",
     "text": [
      "/Volumes/Peach Backup/QuantSeq-04-21-2020/Batch2_77plex_lane2_done\n"
     ]
    }
   ],
   "source": [
    "cd ../Batch2_77plex_lane2_done/"
   ]
  },
  {
   "cell_type": "code",
   "execution_count": 22,
   "metadata": {},
   "outputs": [],
   "source": [
    "! gunzip *.fastq.gz "
   ]
  },
  {
   "cell_type": "code",
   "execution_count": 23,
   "metadata": {},
   "outputs": [
    {
     "name": "stdout",
     "output_type": "stream",
     "text": [
      "34_S68_L002_R1_001.fastq          482_S25_L002_R1_001.fastq\r\n",
      "35_S72_L002_R1_001.fastq          483_S7_L002_R1_001.fastq\r\n",
      "37_S70_L002_R1_001.fastq          484_S43_L002_R1_001.fastq\r\n",
      "39_S52_L002_R1_001.fastq          485_S21_L002_R1_001.fastq\r\n",
      "401_S10_L002_R1_001.fastq         487_S6_L002_R1_001.fastq\r\n",
      "402_S5_L002_R1_001.fastq          488_S26_L002_R1_001.fastq\r\n",
      "403_S30_L002_R1_001.fastq         489_S35_L002_R1_001.fastq\r\n",
      "404_S42_L002_R1_001.fastq         490_S19_L002_R1_001.fastq\r\n",
      "411_S9_L002_R1_001.fastq          491_S50_L002_R1_001.fastq\r\n",
      "412_S74_L002_R1_001.fastq         492_S40_L002_R1_001.fastq\r\n",
      "413_S38_L002_R1_001.fastq         506_S47_L002_R1_001.fastq\r\n",
      "414_S49_L002_R1_001.fastq         513_S56_L002_R1_001.fastq\r\n",
      "41_S62_L002_R1_001.fastq          521_S65_L002_R1_001.fastq\r\n",
      "421_S22_L002_R1_001.fastq         522_S1_L002_R1_001.fastq\r\n",
      "431b_S8_L002_R1_001.fastq         523_S4_L002_R1_001.fastq\r\n",
      "432_S75_L002_R1_001.fastq         524_S11_L002_R1_001.fastq\r\n",
      "434_S55_L002_R1_001.fastq         525_S18_L002_R1_001.fastq\r\n",
      "43_S46_L002_R1_001.fastq          526_S15_L002_R1_001.fastq\r\n",
      "441_S73_L002_R1_001.fastq         527_S39_L002_R1_001.fastq\r\n",
      "442b_S60_L002_R1_001.fastq        528_S27_L002_R1_001.fastq\r\n",
      "443_S36_L002_R1_001.fastq         529_S53_L002_R1_001.fastq\r\n",
      "444_S34_L002_R1_001.fastq         531_S44_L002_R1_001.fastq\r\n",
      "445_S45_L002_R1_001.fastq         532_S33_L002_R1_001.fastq\r\n",
      "44_S71_L002_R1_001.fastq          533_S61_L002_R1_001.fastq\r\n",
      "451_S28_L002_R1_001.fastq         541_S41_L002_R1_001.fastq\r\n",
      "452b_S2_L002_R1_001.fastq         542_S3_L002_R1_001.fastq\r\n",
      "453_S12_L002_R1_001.fastq         543_S29_L002_R1_001.fastq\r\n",
      "45_S63_L002_R1_001.fastq          551_S24_L002_R1_001.fastq\r\n",
      "461b_S31_L002_R1_001.fastq        552b_S54_L002_R1_001.fastq\r\n",
      "462b_S64_L002_R1_001.fastq        553_S23_L002_R1_001.fastq\r\n",
      "46_S66_L002_R1_001.fastq          554_S13_L002_R1_001.fastq\r\n",
      "471b_S51_L002_R1_001.fastq        561_S69_L002_R1_001.fastq\r\n",
      "472b_S48_L002_R1_001.fastq        562_S77_L002_R1_001.fastq\r\n",
      "473_S20_L002_R1_001.fastq         563_S59_L002_R1_001.fastq\r\n",
      "474_S14_L002_R1_001.fastq         564_S32_L002_R1_001.fastq\r\n",
      "475_S16_L002_R1_001.fastq         565_S67_L002_R1_001.fastq\r\n",
      "476_S17_L002_R1_001.fastq         571_S76_L002_R1_001.fastq\r\n",
      "477_S37_L002_R1_001.fastq         \u001b[34mReports\u001b[m\u001b[m\r\n",
      "47_S58_L002_R1_001.fastq          \u001b[34mStats\u001b[m\u001b[m\r\n",
      "481_S57_L002_R1_001.fastq         Undetermined_S0_L002_R1_001.fastq\r\n"
     ]
    }
   ],
   "source": [
    "# Check out contents after gunzip \n",
    "! ls "
   ]
  },
  {
   "cell_type": "markdown",
   "metadata": {},
   "source": [
    "## 1. Larval Data Processing \n",
    "\n",
    "- Larval libraries were all ran on the same lane, lane/batch2. There are 77 libraries. \n",
    "- Steps to processes data include:\n",
    "- "
   ]
  },
  {
   "cell_type": "code",
   "execution_count": 45,
   "metadata": {},
   "outputs": [],
   "source": [
    "! mkdir ../fastqc/"
   ]
  },
  {
   "cell_type": "code",
   "execution_count": 46,
   "metadata": {},
   "outputs": [],
   "source": [
    "! mkdir ../fastqc/untrimmed/"
   ]
  },
  {
   "cell_type": "code",
   "execution_count": 47,
   "metadata": {},
   "outputs": [],
   "source": [
    "fastqc = \"/Applications/bioinformatics/FastQC/\""
   ]
  },
  {
   "cell_type": "code",
   "execution_count": 48,
   "metadata": {},
   "outputs": [
    {
     "name": "stdout",
     "output_type": "stream",
     "text": [
      "\r\n",
      "            FastQC - A high throughput sequence QC analysis tool\r\n",
      "\r\n",
      "SYNOPSIS\r\n",
      "\r\n",
      "\tfastqc seqfile1 seqfile2 .. seqfileN\r\n",
      "\r\n",
      "    fastqc [-o output dir] [--(no)extract] [-f fastq|bam|sam] \r\n",
      "           [-c contaminant file] seqfile1 .. seqfileN\r\n",
      "\r\n",
      "DESCRIPTION\r\n",
      "\r\n",
      "    FastQC reads a set of sequence files and produces from each one a quality\r\n",
      "    control report consisting of a number of different modules, each one of \r\n",
      "    which will help to identify a different potential type of problem in your\r\n",
      "    data.\r\n",
      "    \r\n",
      "    If no files to process are specified on the command line then the program\r\n",
      "    will start as an interactive graphical application.  If files are provided\r\n",
      "    on the command line then the program will run with no user interaction\r\n",
      "    required.  In this mode it is suitable for inclusion into a standardised\r\n",
      "    analysis pipeline.\r\n",
      "    \r\n",
      "    The options for the program as as follows:\r\n",
      "    \r\n",
      "    -h --help       Print this help file and exit\r\n",
      "    \r\n",
      "    -v --version    Print the version of the program and exit\r\n",
      "    \r\n",
      "    -o --outdir     Create all output files in the specified output directory.\r\n",
      "                    Please note that this directory must exist as the program\r\n",
      "                    will not create it.  If this option is not set then the \r\n",
      "                    output file for each sequence file is created in the same\r\n",
      "                    directory as the sequence file which was processed.\r\n",
      "                    \r\n",
      "    --casava        Files come from raw casava output. Files in the same sample\r\n",
      "                    group (differing only by the group number) will be analysed\r\n",
      "                    as a set rather than individually. Sequences with the filter\r\n",
      "                    flag set in the header will be excluded from the analysis.\r\n",
      "                    Files must have the same names given to them by casava\r\n",
      "                    (including being gzipped and ending with .gz) otherwise they\r\n",
      "                    won't be grouped together correctly.\r\n",
      "                    \r\n",
      "    --nano          Files come from nanopore sequences and are in fast5 format. In\r\n",
      "                    this mode you can pass in directories to process and the program\r\n",
      "                    will take in all fast5 files within those directories and produce\r\n",
      "                    a single output file from the sequences found in all files.                    \r\n",
      "                    \r\n",
      "    --nofilter      If running with --casava then don't remove read flagged by\r\n",
      "                    casava as poor quality when performing the QC analysis.\r\n",
      "                   \r\n",
      "    --extract       If set then the zipped output file will be uncompressed in\r\n",
      "                    the same directory after it has been created.  By default\r\n",
      "                    this option will be set if fastqc is run in non-interactive\r\n",
      "                    mode.\r\n",
      "                    \r\n",
      "    -j --java       Provides the full path to the java binary you want to use to\r\n",
      "                    launch fastqc. If not supplied then java is assumed to be in\r\n",
      "                    your path.\r\n",
      "                   \r\n",
      "    --noextract     Do not uncompress the output file after creating it.  You\r\n",
      "                    should set this option if you do not wish to uncompress\r\n",
      "                    the output when running in non-interactive mode.\r\n",
      "                    \r\n",
      "    --nogroup       Disable grouping of bases for reads >50bp. All reports will\r\n",
      "                    show data for every base in the read.  WARNING: Using this\r\n",
      "                    option will cause fastqc to crash and burn if you use it on\r\n",
      "                    really long reads, and your plots may end up a ridiculous size.\r\n",
      "                    You have been warned!\r\n",
      "                    \r\n",
      "    --min_length    Sets an artificial lower limit on the length of the sequence\r\n",
      "                    to be shown in the report.  As long as you set this to a value\r\n",
      "                    greater or equal to your longest read length then this will be\r\n",
      "                    the sequence length used to create your read groups.  This can\r\n",
      "                    be useful for making directly comaparable statistics from \r\n",
      "                    datasets with somewhat variable read lengths.\r\n",
      "                    \r\n",
      "    -f --format     Bypasses the normal sequence file format detection and\r\n",
      "                    forces the program to use the specified format.  Valid\r\n",
      "                    formats are bam,sam,bam_mapped,sam_mapped and fastq\r\n",
      "                    \r\n",
      "    -t --threads    Specifies the number of files which can be processed\r\n",
      "                    simultaneously.  Each thread will be allocated 250MB of\r\n",
      "                    memory so you shouldn't run more threads than your\r\n",
      "                    available memory will cope with, and not more than\r\n",
      "                    6 threads on a 32 bit machine\r\n",
      "                  \r\n",
      "    -c              Specifies a non-default file which contains the list of\r\n",
      "    --contaminants  contaminants to screen overrepresented sequences against.\r\n",
      "                    The file must contain sets of named contaminants in the\r\n",
      "                    form name[tab]sequence.  Lines prefixed with a hash will\r\n",
      "                    be ignored.\r\n",
      "\r\n",
      "    -a              Specifies a non-default file which contains the list of\r\n",
      "    --adapters      adapter sequences which will be explicity searched against\r\n",
      "                    the library. The file must contain sets of named adapters\r\n",
      "                    in the form name[tab]sequence.  Lines prefixed with a hash\r\n",
      "                    will be ignored.\r\n",
      "                    \r\n",
      "    -l              Specifies a non-default file which contains a set of criteria\r\n",
      "    --limits        which will be used to determine the warn/error limits for the\r\n",
      "                    various modules.  This file can also be used to selectively \r\n",
      "                    remove some modules from the output all together.  The format\r\n",
      "                    needs to mirror the default limits.txt file found in the\r\n",
      "                    Configuration folder.\r\n",
      "                    \r\n",
      "   -k --kmers       Specifies the length of Kmer to look for in the Kmer content\r\n",
      "                    module. Specified Kmer length must be between 2 and 10. Default\r\n",
      "                    length is 7 if not specified.\r\n",
      "                    \r\n",
      "   -q --quiet       Supress all progress messages on stdout and only report errors.\r\n",
      "   \r\n",
      "   -d --dir         Selects a directory to be used for temporary files written when\r\n",
      "                    generating report images. Defaults to system temp directory if\r\n",
      "                    not specified.\r\n",
      "                    \r\n",
      "BUGS\r\n",
      "\r\n",
      "    Any bugs in fastqc should be reported either to simon.andrews@babraham.ac.uk\r\n",
      "    or in www.bioinformatics.babraham.ac.uk/bugzilla/\r\n",
      "                   \r\n",
      "    \r\n"
     ]
    }
   ],
   "source": [
    "! {fastqc}fastqc --help"
   ]
  },
  {
   "cell_type": "code",
   "execution_count": 49,
   "metadata": {},
   "outputs": [
    {
     "name": "stdout",
     "output_type": "stream",
     "text": [
      "Started analysis of 506_S47_L002_R1_001.fastq\n",
      "Approx 5% complete for 506_S47_L002_R1_001.fastq\n",
      "Approx 10% complete for 506_S47_L002_R1_001.fastq\n",
      "Approx 15% complete for 506_S47_L002_R1_001.fastq\n",
      "Approx 20% complete for 506_S47_L002_R1_001.fastq\n",
      "Approx 25% complete for 506_S47_L002_R1_001.fastq\n",
      "Approx 30% complete for 506_S47_L002_R1_001.fastq\n",
      "Approx 35% complete for 506_S47_L002_R1_001.fastq\n",
      "Approx 40% complete for 506_S47_L002_R1_001.fastq\n",
      "Approx 45% complete for 506_S47_L002_R1_001.fastq\n",
      "Approx 50% complete for 506_S47_L002_R1_001.fastq\n",
      "Approx 55% complete for 506_S47_L002_R1_001.fastq\n",
      "Approx 60% complete for 506_S47_L002_R1_001.fastq\n",
      "Approx 65% complete for 506_S47_L002_R1_001.fastq\n",
      "Approx 70% complete for 506_S47_L002_R1_001.fastq\n",
      "Approx 75% complete for 506_S47_L002_R1_001.fastq\n",
      "Approx 80% complete for 506_S47_L002_R1_001.fastq\n",
      "Approx 85% complete for 506_S47_L002_R1_001.fastq\n",
      "Approx 90% complete for 506_S47_L002_R1_001.fastq\n",
      "Approx 95% complete for 506_S47_L002_R1_001.fastq\n",
      "Analysis complete for 506_S47_L002_R1_001.fastq\n"
     ]
    }
   ],
   "source": [
    "# test fastqc on one sample file \n",
    "! {fastqc}fastqc \\\n",
    "506_S47_L002_R1_001.fastq \\\n",
    "--outdir ../fastqc/untrimmed/"
   ]
  },
  {
   "cell_type": "code",
   "execution_count": 50,
   "metadata": {},
   "outputs": [],
   "source": [
    "! {fastqc}fastqc \\\n",
    "*.fastq \\\n",
    "--outdir ../fastqc/untrimmed/ \\\n",
    "--quiet"
   ]
  },
  {
   "cell_type": "code",
   "execution_count": 52,
   "metadata": {},
   "outputs": [
    {
     "name": "stdout",
     "output_type": "stream",
     "text": [
      "34_S68_L002_R1_001_fastqc.html          481_S57_L002_R1_001_fastqc.html\r\n",
      "34_S68_L002_R1_001_fastqc.zip           481_S57_L002_R1_001_fastqc.zip\r\n",
      "35_S72_L002_R1_001_fastqc.html          482_S25_L002_R1_001_fastqc.html\r\n",
      "35_S72_L002_R1_001_fastqc.zip           482_S25_L002_R1_001_fastqc.zip\r\n",
      "37_S70_L002_R1_001_fastqc.html          483_S7_L002_R1_001_fastqc.html\r\n",
      "37_S70_L002_R1_001_fastqc.zip           483_S7_L002_R1_001_fastqc.zip\r\n",
      "39_S52_L002_R1_001_fastqc.html          484_S43_L002_R1_001_fastqc.html\r\n",
      "39_S52_L002_R1_001_fastqc.zip           484_S43_L002_R1_001_fastqc.zip\r\n",
      "401_S10_L002_R1_001_fastqc.html         485_S21_L002_R1_001_fastqc.html\r\n",
      "401_S10_L002_R1_001_fastqc.zip          485_S21_L002_R1_001_fastqc.zip\r\n",
      "402_S5_L002_R1_001_fastqc.html          487_S6_L002_R1_001_fastqc.html\r\n",
      "402_S5_L002_R1_001_fastqc.zip           487_S6_L002_R1_001_fastqc.zip\r\n",
      "403_S30_L002_R1_001_fastqc.html         488_S26_L002_R1_001_fastqc.html\r\n",
      "403_S30_L002_R1_001_fastqc.zip          488_S26_L002_R1_001_fastqc.zip\r\n",
      "404_S42_L002_R1_001_fastqc.html         489_S35_L002_R1_001_fastqc.html\r\n",
      "404_S42_L002_R1_001_fastqc.zip          489_S35_L002_R1_001_fastqc.zip\r\n",
      "411_S9_L002_R1_001_fastqc.html          490_S19_L002_R1_001_fastqc.html\r\n",
      "411_S9_L002_R1_001_fastqc.zip           490_S19_L002_R1_001_fastqc.zip\r\n",
      "412_S74_L002_R1_001_fastqc.html         491_S50_L002_R1_001_fastqc.html\r\n",
      "412_S74_L002_R1_001_fastqc.zip          491_S50_L002_R1_001_fastqc.zip\r\n",
      "413_S38_L002_R1_001_fastqc.html         492_S40_L002_R1_001_fastqc.html\r\n",
      "413_S38_L002_R1_001_fastqc.zip          492_S40_L002_R1_001_fastqc.zip\r\n",
      "414_S49_L002_R1_001_fastqc.html         506_S47_L002_R1_001_fastqc.html\r\n",
      "414_S49_L002_R1_001_fastqc.zip          506_S47_L002_R1_001_fastqc.zip\r\n",
      "41_S62_L002_R1_001_fastqc.html          513_S56_L002_R1_001_fastqc.html\r\n",
      "41_S62_L002_R1_001_fastqc.zip           513_S56_L002_R1_001_fastqc.zip\r\n",
      "421_S22_L002_R1_001_fastqc.html         521_S65_L002_R1_001_fastqc.html\r\n",
      "421_S22_L002_R1_001_fastqc.zip          521_S65_L002_R1_001_fastqc.zip\r\n",
      "431b_S8_L002_R1_001_fastqc.html         522_S1_L002_R1_001_fastqc.html\r\n",
      "431b_S8_L002_R1_001_fastqc.zip          522_S1_L002_R1_001_fastqc.zip\r\n",
      "432_S75_L002_R1_001_fastqc.html         523_S4_L002_R1_001_fastqc.html\r\n",
      "432_S75_L002_R1_001_fastqc.zip          523_S4_L002_R1_001_fastqc.zip\r\n",
      "434_S55_L002_R1_001_fastqc.html         524_S11_L002_R1_001_fastqc.html\r\n",
      "434_S55_L002_R1_001_fastqc.zip          524_S11_L002_R1_001_fastqc.zip\r\n",
      "43_S46_L002_R1_001_fastqc.html          525_S18_L002_R1_001_fastqc.html\r\n",
      "43_S46_L002_R1_001_fastqc.zip           525_S18_L002_R1_001_fastqc.zip\r\n",
      "441_S73_L002_R1_001_fastqc.html         526_S15_L002_R1_001_fastqc.html\r\n",
      "441_S73_L002_R1_001_fastqc.zip          526_S15_L002_R1_001_fastqc.zip\r\n",
      "442b_S60_L002_R1_001_fastqc.html        527_S39_L002_R1_001_fastqc.html\r\n",
      "442b_S60_L002_R1_001_fastqc.zip         527_S39_L002_R1_001_fastqc.zip\r\n",
      "443_S36_L002_R1_001_fastqc.html         528_S27_L002_R1_001_fastqc.html\r\n",
      "443_S36_L002_R1_001_fastqc.zip          528_S27_L002_R1_001_fastqc.zip\r\n",
      "444_S34_L002_R1_001_fastqc.html         529_S53_L002_R1_001_fastqc.html\r\n",
      "444_S34_L002_R1_001_fastqc.zip          529_S53_L002_R1_001_fastqc.zip\r\n",
      "445_S45_L002_R1_001_fastqc.html         531_S44_L002_R1_001_fastqc.html\r\n",
      "445_S45_L002_R1_001_fastqc.zip          531_S44_L002_R1_001_fastqc.zip\r\n",
      "44_S71_L002_R1_001_fastqc.html          532_S33_L002_R1_001_fastqc.html\r\n",
      "44_S71_L002_R1_001_fastqc.zip           532_S33_L002_R1_001_fastqc.zip\r\n",
      "451_S28_L002_R1_001_fastqc.html         533_S61_L002_R1_001_fastqc.html\r\n",
      "451_S28_L002_R1_001_fastqc.zip          533_S61_L002_R1_001_fastqc.zip\r\n",
      "452b_S2_L002_R1_001_fastqc.html         541_S41_L002_R1_001_fastqc.html\r\n",
      "452b_S2_L002_R1_001_fastqc.zip          541_S41_L002_R1_001_fastqc.zip\r\n",
      "453_S12_L002_R1_001_fastqc.html         542_S3_L002_R1_001_fastqc.html\r\n",
      "453_S12_L002_R1_001_fastqc.zip          542_S3_L002_R1_001_fastqc.zip\r\n",
      "45_S63_L002_R1_001_fastqc.html          543_S29_L002_R1_001_fastqc.html\r\n",
      "45_S63_L002_R1_001_fastqc.zip           543_S29_L002_R1_001_fastqc.zip\r\n",
      "461b_S31_L002_R1_001_fastqc.html        551_S24_L002_R1_001_fastqc.html\r\n",
      "461b_S31_L002_R1_001_fastqc.zip         551_S24_L002_R1_001_fastqc.zip\r\n",
      "462b_S64_L002_R1_001_fastqc.html        552b_S54_L002_R1_001_fastqc.html\r\n",
      "462b_S64_L002_R1_001_fastqc.zip         552b_S54_L002_R1_001_fastqc.zip\r\n",
      "46_S66_L002_R1_001_fastqc.html          553_S23_L002_R1_001_fastqc.html\r\n",
      "46_S66_L002_R1_001_fastqc.zip           553_S23_L002_R1_001_fastqc.zip\r\n",
      "471b_S51_L002_R1_001_fastqc.html        554_S13_L002_R1_001_fastqc.html\r\n",
      "471b_S51_L002_R1_001_fastqc.zip         554_S13_L002_R1_001_fastqc.zip\r\n",
      "472b_S48_L002_R1_001_fastqc.html        561_S69_L002_R1_001_fastqc.html\r\n",
      "472b_S48_L002_R1_001_fastqc.zip         561_S69_L002_R1_001_fastqc.zip\r\n",
      "473_S20_L002_R1_001_fastqc.html         562_S77_L002_R1_001_fastqc.html\r\n",
      "473_S20_L002_R1_001_fastqc.zip          562_S77_L002_R1_001_fastqc.zip\r\n",
      "474_S14_L002_R1_001_fastqc.html         563_S59_L002_R1_001_fastqc.html\r\n",
      "474_S14_L002_R1_001_fastqc.zip          563_S59_L002_R1_001_fastqc.zip\r\n",
      "475_S16_L002_R1_001_fastqc.html         564_S32_L002_R1_001_fastqc.html\r\n",
      "475_S16_L002_R1_001_fastqc.zip          564_S32_L002_R1_001_fastqc.zip\r\n",
      "476_S17_L002_R1_001_fastqc.html         565_S67_L002_R1_001_fastqc.html\r\n",
      "476_S17_L002_R1_001_fastqc.zip          565_S67_L002_R1_001_fastqc.zip\r\n",
      "477_S37_L002_R1_001_fastqc.html         571_S76_L002_R1_001_fastqc.html\r\n",
      "477_S37_L002_R1_001_fastqc.zip          571_S76_L002_R1_001_fastqc.zip\r\n",
      "47_S58_L002_R1_001_fastqc.html          Undetermined_S0_L002_R1_001_fastqc.html\r\n",
      "47_S58_L002_R1_001_fastqc.zip           Undetermined_S0_L002_R1_001_fastqc.zip\r\n"
     ]
    }
   ],
   "source": [
    "# check out resulting fastqc files. \n",
    "! ls ../fastqc/untrimmed/"
   ]
  },
  {
   "cell_type": "markdown",
   "metadata": {},
   "source": [
    "###  What adapters do I need to trim off? Do I need to remove indices? \n",
    "\n",
    "Each entry in a FASTQ file consists of four lines:\n",
    " 1. Sequence identifier  \n",
    " 2. Sequence  \n",
    " 3. Quality score identifier line (consisting only of a +)  \n",
    " 4. Quality score  \n",
    " \n",
    "First, I will check out a few fastq files - do reads all have the index number included in the sequence, or have those been omitted? "
   ]
  },
  {
   "cell_type": "code",
   "execution_count": 53,
   "metadata": {},
   "outputs": [
    {
     "name": "stdout",
     "output_type": "stream",
     "text": [
      "@A01125:63:HLYCLDRXX:2:2101:5231:1031 1:N:0:CACTAA\r\n",
      "CTTTAATACCCTACGTGATTTGAGTTCAGACCGGCGCAAGCCAGGTCGGTTTCTATCTTCTTTTATAATATTCTTTTGTCATGTACGAAAGGACCGTTAA\r\n",
      "+\r\n",
      "FFFFFFFFFFF,F,,:FFF,F:FFF:FF,FFF:FFFFFFF,F:FFFF:F:F:FFFF,F,FF,FFFFFFFFFFF,FFF:,FFFFFFFFFFFF:FF:FFFFF\r\n",
      "@A01125:63:HLYCLDRXX:2:2101:11035:1031 1:N:0:CACTAA\r\n",
      "GTGATTCTGGGTTTAACTATAGCAACATTTTTATTAATTTCAATACTGTGGGCATGGGGGGTATATAAAGACCCTTCTAACATTATGTCTGATATTGAAT\r\n",
      "+\r\n",
      "FFFFFFFFFFFFFFFFFFFFFFFFFFFFFFFFFFFFFFFFFFFFFFFFFFFFF:FFFFFFFF:F:FFFFFFFFFFFFFFFFFFFFFFFFFF:FFFFFF:F\r\n",
      "@A01125:63:HLYCLDRXX:2:2101:13548:1031 1:N:0:CACTAA\r\n",
      "CCGATTCATGATGTATTTTTTTTATTAAATTAGGAAATCAAATAAATTTATTGCCAAAATCAAAAAAAAAAAAAAAAAAAAAGATCGGAAGAGCACACGT\r\n",
      "+\r\n",
      "FFFFFFFFFFFFFFF:FFFFFFFFFFFFFFFFFFFFFFFFFFFFFFFFFFFFFFFF,FFFF,FFFFFFFFFFFF,:FFFF:,F::,FF:,F,FF:F:FFF\r\n",
      "@A01125:63:HLYCLDRXX:2:2101:14525:1031 1:N:0:CACTAA\r\n",
      "CGGTTTCTATCTTCTTTTATAATATTCTTTTGGCATGTACGAAAGGACCGTTAAAAGAGGAAGTTTCCTTTTAAAAGAAATAGATTTAAATTGGAGTAAG\r\n",
      "+\r\n",
      "F:FFF:FFFFFFFFFFFFFFFFFFFFFFFFFFF:FFFFFFFFFFFFFFFFFFFFFFFFFFFFFFFFFFFFF:FFFFFFF:FF:FFFFFFFFFFFFF:FFF\r\n",
      "@A01125:63:HLYCLDRXX:2:2101:19859:1031 1:N:0:CACTAA\r\n",
      "GCCCACCACATGACATCATCGACAAAATCAACGCTGGAGAGGTCGAAGTTCCGGATGAGTAGACTGACAGCTCCACAACGGAAATAATGATACTGTCAAC\r\n",
      "+\r\n",
      "FFFFFFFFFFFFFFFFFFFFFFFFFFFFFFFFFF:FFFFFFFFFFFFFFFFFFFFFFFFFFFFFFFFF,FFFFFFFFFFFFFFFFFFFFFFFFFFFFFFF\r\n"
     ]
    }
   ],
   "source": [
    "# this sample (#506) index is CACTAA. \n",
    "! head -n 20 506_S47_L002_R1_001.fastq"
   ]
  },
  {
   "cell_type": "code",
   "execution_count": 54,
   "metadata": {},
   "outputs": [
    {
     "name": "stdout",
     "output_type": "stream",
     "text": [
      "@A01125:63:HLYCLDRXX:2:2101:1307:1031 1:N:0:CGCCTG\r\n",
      "TGGGAGTGGATGTAATGGTACAATACTTGGCTTTTGAAAGTGCACTAAATGCATTGGGAATAGGTACATCAATAAAAATTCTGCACAGTCAAAAAAAAAA\r\n",
      "+\r\n",
      ":FFFF:FFFFFFFFFFFFFFFFFFFFFFFFFFFFFFFFFFFFFFF:FFFFFFFFFFFFFFFFFFFFFFFFFFFFFFFFFFFFFFFFFFFFFFFF:FFFFF\r\n",
      "@A01125:63:HLYCLDRXX:2:2101:1380:1031 1:N:0:CGCCTG\r\n",
      "CAAGCCGTCCAAAAAAAAAAAAAAAAAATATCGGAAGAGCACACGTCTGAACACCAGTCACCGCCGGATCGCGTTTGCCGTCTTCTGCTTGAAAAGGGGG\r\n",
      "+\r\n",
      "FFFFFFFFFFFFFFFFFFFFFFFFFFFF,,::F:FF,F,,F,:::,,,:FF,,FF:,:,,FF,:F,F:,,,,F,,FF:,F,,,:,::,:F,,FF,,:,FF\r\n",
      "@A01125:63:HLYCLDRXX:2:2101:4001:1031 1:N:0:CGCCTG\r\n",
      "GTCAGGTCGGTTTCTATCTTCTTTTATAATATTCTTTTGGCATGTACGAAAGGACCGTTAAAAGAGGAAGTTTCCTTTTAAAAGAAATAGATTTAAATTG\r\n",
      "+\r\n",
      "FFFFFFFFFFFFFFFFFFFFFFFFFFFFFFFFFFFF:FFFFFFFFFFFFFFFFFFFFFFFFFFFFFFFFFFFFFFFFFFFFFFFFFFFFFF:F::FFFFF\r\n",
      "@A01125:63:HLYCLDRXX:2:2101:9353:1031 1:N:0:CGCCTG\r\n",
      "CCCAAAGCTGCTGACTATGAGATAAAACAAATTGAAAGAGCACATGAAACTAGAATCAAAAAAAAAAAAAAAAAAAGAAGGGGAGGACACACCGGGGGAA\r\n",
      "+\r\n",
      "FFFFFFFFFFFFFFFFFFFFFFFFFFFFFFFFFFFFFFFFFFFFFFFFFFF:FFFFFFFFFFFFFFFFFFFFFFFF,,,,,F,F,,,,,,,F,,,,F,F,\r\n",
      "@A01125:63:HLYCLDRXX:2:2101:11776:1031 1:N:0:CGCCTG\r\n",
      "CAGGAGGGGACAGCTGGAGTTCCGGGCACTGTTGTTCATCCCAAGGAGAGCTCCATTTGATTTGTTTGAGAACAAAAAAAAAAAAAAAAAAAGAACGGAA\r\n",
      "+\r\n",
      ":FFFF:FF:FF:F::F,FFFFF:FFFFFF,FFFFFFFFFF:FFFFF:,F:FFFFFF:FFFFFF:FFFFFFF:F:FFFFFFFFFFFFFFFFFF,:,F:,F:\r\n"
     ]
    }
   ],
   "source": [
    "# this sample (#414) index is CGCCTG \n",
    "! head -n 20 414_S49_L002_R1_001.fastq "
   ]
  },
  {
   "cell_type": "code",
   "execution_count": 55,
   "metadata": {},
   "outputs": [
    {
     "name": "stdout",
     "output_type": "stream",
     "text": [
      "@A01125:63:HLYCLDRXX:2:2101:2266:1031 1:N:0:ATATCC\r\n",
      "GTTGAAGGTGAACTGTAAGGTTTGCTGGAGGTATCAGAAGTGCGAATGCTGACATGAGTAACGATAATGGGGGTGAAAAACCCCCACGCCGGAAGAGCAC\r\n",
      "+\r\n",
      "FFFFFFFFFFFFFFFFFFFFFFFFFFFFFFFFFFFFFFFFFFFFF:FFFFFFFFFFFFFFFFFFFFFFFFFFFFFFFFFFFFFFF:FFFFFFFFFFFFFF\r\n",
      "@A01125:63:HLYCLDRXX:2:2101:2573:1031 1:N:0:ATATCC\r\n",
      "CCACTGCACGCAGAAGAGGAGTTGCTGAACTGTCGTTGCGTCTTCGACTTGAAAACAGAAAAAAAAAAAAAAAAAAAGATCGGAAGAGCACACGGCTGAA\r\n",
      "+\r\n",
      "FFFFFFFFFFFFFFFFFFFFFFFFFFFFFFFFFFFFFFFFFFFFFFFFFFFFFFFFFFFFFFFFFFFFFFFFFFFF,,F:FFFFFF,FFFF:FF,F:FFF\r\n",
      "@A01125:63:HLYCLDRXX:2:2101:3152:1031 1:N:0:ATATAC\r\n",
      "AATAAAAAAAAAAAAAAAAAAAAAAACCCAAAAGCACACCTAAAAAAAACAAAAACAAGTACCACTGTTAAAAACTCTAGACCATGAGATACAGTGGAAT\r\n",
      "+\r\n",
      ",,F,FF:F,,FF,FFFFF:FFF,FFF,,,,FF,,,F,,F,,F:,F:,,,FFF:F,,,F,:,:,,,:,,:,F,FF,F,,F,,:F:FF,,,,:,,F,FF,,,\r\n",
      "@A01125:63:HLYCLDRXX:2:2101:3314:1031 1:N:0:ATATCC\r\n",
      "GAACAAAACAGCTATGTAAATATATACTAAAATAATAATCAAAATAAATATACTAAACGAAAATTAAAACATGAAGTTTCATAAAAAAATAAAGAAAATT\r\n",
      "+\r\n",
      "F,,F:,:,F:,FFFFF,,FFFF:FF,FFF,FF:,::F:,F:FFFFF,,:,F,FF,:,FFF,FFF,,,,,F,FF,,FFF,FF:F::,,,,:,,,,,:,FFF\r\n",
      "@A01125:63:HLYCLDRXX:2:2101:4363:1031 1:N:0:ATATCC\r\n",
      "CATGGCCTGCCCTGCACGTGCCCATTTGATCCATCCGACATCAACCTTCCCCCATCTGTGTTCGAAGTGGCACAGATCAATCAAGCCTGGCAGTGGCTCG\r\n",
      "+\r\n",
      "FFFFFFFFFFFFFFFFFFFFFFFFFFFFFFFFFFFFFFFFFFFFFFFFFFFFFFFFFFFFFFFFFFFFFFFFFFFFFFFFFFFFFFFFFFFFFFFFFFFF\r\n"
     ]
    }
   ],
   "source": [
    "# this sample (#39) index is ATATCC\n",
    "! head -n 20 39_S52_L002_R1_001.fastq"
   ]
  },
  {
   "cell_type": "markdown",
   "metadata": {},
   "source": [
    "Looks like all index sequences are included in the Sequence Identifier line for each read (line #1), but not in the actual sequences. Good - now I need to figure out which Illumina adapter sequences I need to trim. "
   ]
  },
  {
   "cell_type": "code",
   "execution_count": null,
   "metadata": {},
   "outputs": [],
   "source": []
  },
  {
   "cell_type": "code",
   "execution_count": null,
   "metadata": {},
   "outputs": [],
   "source": []
  },
  {
   "cell_type": "markdown",
   "metadata": {},
   "source": [
    "### Adaptor trimming, deduplicating, and quality filtering:\n",
    "Creating and launching the cleaning process for all files in the same time:"
   ]
  },
  {
   "cell_type": "code",
   "execution_count": 29,
   "metadata": {},
   "outputs": [
    {
     "name": "stdout",
     "output_type": "stream",
     "text": [
      "\u001b[31m2bRAD_bowtie2_launch.pl\u001b[m\u001b[m            picogreen.csv\r\n",
      "README.md                          \u001b[31mrnaseq_clipper0.pl\u001b[m\u001b[m\r\n",
      "TagSeq_GSAF_Price.xlsx             \u001b[31mrnaseq_clipper_fasta.pl\u001b[m\u001b[m\r\n",
      "TagSeq_sample_prep_june2019.docx   \u001b[31mrnaseq_clipper_old.pl\u001b[m\u001b[m\r\n",
      "\u001b[31mcountreads.pl\u001b[m\u001b[m                      \u001b[31msamcount.pl\u001b[m\u001b[m\r\n",
      "dna.mixing.R                       \u001b[31msamcount_launch.pl\u001b[m\u001b[m\r\n",
      "dupCount.R                         \u001b[31msamcount_launch_bt2.pl\u001b[m\u001b[m\r\n",
      "\u001b[31mexpression_compiler.pl\u001b[m\u001b[m             \u001b[31msamcount_v.0.1.pl\u001b[m\u001b[m\r\n",
      "\u001b[31miRNAseq_shrimpmap_SAM.pl\u001b[m\u001b[m           \u001b[31mselectFastaByHeader.pl\u001b[m\u001b[m\r\n",
      "\u001b[31miRNAseq_trim_launch0.pl\u001b[m\u001b[m            \u001b[31msplitFastaByHeader.pl\u001b[m\u001b[m\r\n",
      "illumina_mix_data.csv              tag-seq_scripts_manual.pdf\r\n",
      "\u001b[31misogroup_namer.pl\u001b[m\u001b[m                  tagSeq_processing_README.txt\r\n",
      "\u001b[31mlauncher_creator.py\u001b[m\u001b[m                \u001b[31mtagseq_bowtie2map.pl\u001b[m\u001b[m\r\n",
      "\u001b[31mls5_launcher_creator.py\u001b[m\u001b[m            \u001b[31mtagseq_clipper.pl\u001b[m\u001b[m\r\n",
      "mix_illumina_qpcr.R                tagseq_oligos_order_192samples.xls\r\n",
      "\u001b[31mngs_concat.pl\u001b[m\u001b[m                      \u001b[31mtagseq_trim_launch.pl\u001b[m\u001b[m\r\n",
      "p5barcodes_order.xlsx              \u001b[31mtagseq_trim_launch_bgi.pl\u001b[m\u001b[m\r\n",
      "picogreen.R                        thetaByContig.py\r\n"
     ]
    }
   ],
   "source": [
    "! ls {tagseq}"
   ]
  },
  {
   "cell_type": "code",
   "execution_count": 31,
   "metadata": {},
   "outputs": [],
   "source": [
    "# run perl script that creates list of executables for each fastq file \n",
    "! {tagseq}tagseq_trim_launch.pl '\\.fastq$' > clean"
   ]
  },
  {
   "cell_type": "code",
   "execution_count": 32,
   "metadata": {},
   "outputs": [
    {
     "name": "stdout",
     "output_type": "stream",
     "text": [
      "tagseq_clipper.pl 34_S68_L002_R1_001.fastq | fastx_clipper -a AAAAAAAA -l 20 -Q33 | fastx_clipper -a AGATCGGAAG -l 20 -Q33 | fastq_quality_filter -Q33 -q 20 -p 90 >34_S68_L002_R1_001.fastq.trim\r\n",
      "tagseq_clipper.pl 35_S72_L002_R1_001.fastq | fastx_clipper -a AAAAAAAA -l 20 -Q33 | fastx_clipper -a AGATCGGAAG -l 20 -Q33 | fastq_quality_filter -Q33 -q 20 -p 90 >35_S72_L002_R1_001.fastq.trim\r\n"
     ]
    }
   ],
   "source": [
    "! head -2 clean"
   ]
  },
  {
   "cell_type": "code",
   "execution_count": 64,
   "metadata": {},
   "outputs": [
    {
     "name": "stdout",
     "output_type": "stream",
     "text": [
      "#!/usr/bin/perl\r\n",
      "\r\n",
      "$usage= \"\r\n",
      "\r\n",
      "tagseq_clipper.pl  : \r\n",
      "\r\n",
      "Clips 5'-leader off Illumina fastq reads in RNA-seq\r\n",
      "\r\n",
      "Removes duplicated reads sharing the same degenerate header and \r\n",
      "the first 20 bases of the sequence (reads containing N bases in this\r\n",
      "region are discarded, too)\r\n",
      "\r\n",
      "prints to STDOUT\r\n",
      "\r\n",
      "arguments:\r\n",
      "1 : fastq file name\r\n",
      "2 : string to define the leading sequence, default '[ATGC]?[ATGC][AC][AT]GGG+|[ATGC]?[ATGC]TGC[AC][AT]GGG+|[ATGC]?[ATGC]GC[AT]TC[ACT][AC][AT]GGG+'\r\n",
      "\r\n",
      "Example:\r\n",
      "tagseq_clipper.pl D6.fastq\r\n",
      "\r\n",
      "\t\t\t\t\t \r\n",
      "\";\r\n",
      "\r\n",
      "my $fq=shift or die $usage;\r\n",
      "my $lead=\"\";\r\n",
      "if ($ARGV[0]) { $lead=$ARGV[0];}\r\n",
      "else { $lead=\"[ATGC]?[ATGC][AC][AT][AT][AC][AT][ACT]GGG+|[ATGC]?[ATGC][AC][AT]GGG+|[ATGC]?[ATGC]TGC[AC][AT]GGG+|[ATGC]?[ATGC]GC[AT]TC[ACT][AC][AT]GGG+\";}\r\n",
      "my $trim=0;\r\n",
      "my $name=\"\";\r\n",
      "my $name2=\"\";\r\n",
      "my $seq=\"\";\r\n",
      "my $qua=\"\";\r\n",
      "my %seen={};\r\n",
      "open INP, $fq or die \"cannot open file $fq\\n\";\r\n",
      "my $ll=3;\r\n",
      "my $nohead=0;\r\n",
      "my $dups=0;\r\n",
      "my $ntag=0;\r\n",
      "my $tot=0;\r\n",
      "my $goods=0;\r\n",
      "while (<INP>) {\r\n",
      "\tif ($ll==3 && $_=~/^(\\@.+)$/ ) {\r\n",
      "\t\t$tot++;\r\n",
      "\t\t$name2=$1; \r\n",
      "\t\tif ($seq=~/^($lead)(.+)/) {\t\r\n",
      "\t\t\tmy $start=substr($2,0,20);\r\n",
      "\t\t\tmy $idtag=$1.$start;\r\n",
      "\t\t\tif (!$seen{$idtag} and $idtag!~/N/) {\r\n",
      "\t\t\t\t$seen{$idtag}=1;\r\n",
      "\t\t\t\t$trim=length($1);\r\n",
      "\t\t\t\tprint \"$name\\n$2\\n+\\n\",substr($qua,$trim),\"\\n\";\r\n",
      "\t\t\t\t$goods++;\r\n",
      "\t\t\t}\r\n",
      "\t\t\telsif ($seen{$idtag}) { $dups++; }\r\n",
      "\t\t\telse { $ntag++; }\r\n",
      "\t\t} \r\n",
      "\t\telsif ($tot>1) {\r\n",
      "\t\t\t$nohead++;\r\n",
      "\t\t}\r\n",
      "\t\t$seq=\"\";\r\n",
      "\t\t$ll=0;\r\n",
      "\t\t$qua=\"\";\r\n",
      "\t\t@sites=();\r\n",
      "\t\t$name=$name2;\r\n",
      "\t}\r\n",
      "\telsif ($ll==0){\r\n",
      "\t\tchomp;\r\n",
      "\t\t$seq=$_;\r\n",
      "\t\t$ll=1;\r\n",
      "\t}\r\n",
      "\telsif ($ll==2) { \r\n",
      "\t\tchomp;\r\n",
      "\t\t$qua=$_; \r\n",
      "\t\t$ll=3; \r\n",
      "\t}\r\n",
      "\telse { $ll=2;}\r\n",
      "}\r\n",
      "\r\n",
      "if ($seq=~/^($lead)(.+)/) {\r\n",
      "\t\tmy $start=substr($2,0,20);\r\n",
      "\t\tmy $idtag=$1.$start;\r\n",
      "\t\tif (!$seen{$idtag} and $idtag!~/N/) {\r\n",
      "\t\t\t\t$seen{$idtag}=1;\r\n",
      "\t\t\t\t$trim=length($1);\r\n",
      "\t\t\t\tprint \"$name\\n$2\\n+\\n\",substr($qua,$trim),\"\\n\";\r\n",
      "\t\t\t\t$goods++;\r\n",
      "\t\t}\r\n",
      "\t\telsif ($seen{$idtag}) { $dups++; }\r\n",
      "\t\telse { $ntag++; }\r\n",
      "}\r\n",
      "elsif ($tot>1) {\r\n",
      "\t$nohead++;\r\n",
      "}\r\n",
      "\r\n",
      "warn \"$fq\\ttotal:$tot\\tgoods:$goods\\tdups:$dups\\tnoheader:$nohead\\tN.in.header:$ntag\\n\";\r\n"
     ]
    }
   ],
   "source": [
    "! cat {tagseq}tagseq_clipper.pl"
   ]
  },
  {
   "cell_type": "code",
   "execution_count": 57,
   "metadata": {},
   "outputs": [
    {
     "name": "stdout",
     "output_type": "stream",
     "text": [
      "usage: fastx_clipper [-h] [-a ADAPTER] [-D] [-l N] [-n] [-d N] [-c] [-C] [-o] [-v] [-z] [-i INFILE] [-o OUTFILE]\r\n",
      "Part of FASTX Toolkit 0.0.14 by A. Gordon (assafgordon@gmail.com)\r\n",
      "\r\n",
      "   [-h]         = This helpful help screen.\r\n",
      "   [-a ADAPTER] = ADAPTER string. default is CCTTAAGG (dummy adapter).\r\n",
      "   [-l N]       = discard sequences shorter than N nucleotides. default is 5.\r\n",
      "   [-d N]       = Keep the adapter and N bases after it.\r\n",
      "                  (using '-d 0' is the same as not using '-d' at all. which is the default).\r\n",
      "   [-c]         = Discard non-clipped sequences (i.e. - keep only sequences which contained the adapter).\r\n",
      "   [-C]         = Discard clipped sequences (i.e. - keep only sequences which did not contained the adapter).\r\n",
      "   [-k]         = Report Adapter-Only sequences.\r\n",
      "   [-n]         = keep sequences with unknown (N) nucleotides. default is to discard such sequences.\r\n",
      "   [-v]         = Verbose - report number of sequences.\r\n",
      "                  If [-o] is specified,  report will be printed to STDOUT.\r\n",
      "                  If [-o] is not specified (and output goes to STDOUT),\r\n",
      "                  report will be printed to STDERR.\r\n",
      "   [-z]         = Compress output with GZIP.\r\n",
      "   [-D]\t = DEBUG output.\r\n",
      "   [-M N]       = require minimum adapter alignment length of N.\r\n",
      "                  If less than N nucleotides aligned with the adapter - don't clip it.   [-i INFILE]  = FASTA/Q input file. default is STDIN.\r\n",
      "   [-o OUTFILE] = FASTA/Q output file. default is STDOUT.\r\n",
      "\r\n"
     ]
    }
   ],
   "source": [
    "# check to make sure I can successfully access tagseq scripts \n",
    "! fastx_clipper -h"
   ]
  },
  {
   "cell_type": "code",
   "execution_count": 60,
   "metadata": {},
   "outputs": [
    {
     "name": "stdout",
     "output_type": "stream",
     "text": [
      "usage: fastq_quality_filter [-h] [-v] [-q N] [-p N] [-z] [-i INFILE] [-o OUTFILE]\r\n",
      "Part of FASTX Toolkit 0.0.14 by A. Gordon (assafgordon@gmail.com)\r\n",
      "\r\n",
      "   [-h]         = This helpful help screen.\r\n",
      "   [-q N]       = Minimum quality score to keep.\r\n",
      "   [-p N]       = Minimum percent of bases that must have [-q] quality.\r\n",
      "   [-z]         = Compress output with GZIP.\r\n",
      "   [-i INFILE]  = FASTA/Q input file. default is STDIN.\r\n",
      "   [-o OUTFILE] = FASTA/Q output file. default is STDOUT.\r\n",
      "   [-v]         = Verbose - report number of sequences.\r\n",
      "                  If [-o] is specified,  report will be printed to STDOUT.\r\n",
      "                  If [-o] is not specified (and output goes to STDOUT),\r\n",
      "                  report will be printed to STDERR.\r\n",
      "\r\n"
     ]
    }
   ],
   "source": [
    "! fastq_quality_filter -h"
   ]
  },
  {
   "cell_type": "code",
   "execution_count": 59,
   "metadata": {},
   "outputs": [],
   "source": [
    "! mkdir ../tagseq_trim/"
   ]
  },
  {
   "cell_type": "markdown",
   "metadata": {},
   "source": [
    "### Based on repeated functions in the clean file, I wrote a script to loop through the files and execute all commands \n",
    "\n",
    "- `tagseq_clipper.pl` clips 5'-leader off Illumina fastq reads in RNA-seq  \n",
    "- `fastx_clipper` is part of the [fastx_toolkit](http://hannonlab.cshl.edu/fastx_toolkit/commandline.html#fastx_clipper_usage), and removes sequencing adapters / linkers. Options include: \n",
    "  - `-a AAAAAAAA` _remove the adapter string AAAAAAAA_  \n",
    "  - `-a AGATCGGAAG` _remove the adapter string AGATCGGAAG_  \n",
    "  - `-l 20` _discard sequences shorter than 20bp_  \n",
    "- `fastq_quality_filter` filters out reads based on their quality score. \n",
    "  - `-q 20` _minimum quality score to keep_  \n",
    "  - `p 90` _minimum perxentage of bases that must have the minimum quality_  \n",
    "- `-Q33` _I don't know what this_ "
   ]
  },
  {
   "cell_type": "markdown",
   "metadata": {},
   "source": [
    "### Run clean script on all .fastq files in the Batch2 folder \n",
    "\n",
    "Based on repeated functions in the clean file, I wrote a script to loop through the files and execute all commands. Also, for some reason I cannot access my {tagseq} variable to call the tagseq script, so I just hard-code the path. "
   ]
  },
  {
   "cell_type": "code",
   "execution_count": null,
   "metadata": {
    "scrolled": true
   },
   "outputs": [],
   "source": [
    "%%bash \n",
    "\n",
    "for file in *.fastq\n",
    "do\n",
    "#strip .fastq and directory structure from each file, then\n",
    "# add suffice .fastq.trim to create output name for each file\n",
    "results_file=\"$(basename -a $file).trim\"\n",
    "\n",
    "# run tagseq scripts on each file\n",
    "/Applications/bioinformatics/tag-based_RNAseq/tagseq_clipper.pl $file | \\\n",
    "fastx_clipper -a AAAAAAAA -l 20 -Q33 | \\\n",
    "fastx_clipper -a AGATCGGAAG -l 20 -Q33 | \\\n",
    "fastq_quality_filter -Q33 -q 20 -p 90 >\\\n",
    "../tagseq_trim/$results_file\n",
    "done"
   ]
  },
  {
   "cell_type": "code",
   "execution_count": null,
   "metadata": {},
   "outputs": [],
   "source": []
  },
  {
   "cell_type": "markdown",
   "metadata": {},
   "source": [
    "### Download O. lurida genome"
   ]
  },
  {
   "cell_type": "code",
   "execution_count": 88,
   "metadata": {},
   "outputs": [
    {
     "name": "stdout",
     "output_type": "stream",
     "text": [
      "  % Total    % Received % Xferd  Average Speed   Time    Time     Time  Current\n",
      "                                 Dload  Upload   Total   Spent    Left  Speed\n",
      "100 1090M  100 1090M    0     0  1960k      0  0:09:29  0:09:29 --:--:-- 2198k21k      0  0:08:46  0:00:17  0:08:29 2021k 0     0  2183k      0  0:08:31  0:01:11  0:07:20 2193k    0  2183k      0  0:08:31  0:01:14  0:07:17 2202k9  0:07:11 2212k1939k      0  0:09:35  0:01:45  0:07:50 1024k    0  1765k      0  0:10:32  0:02:00  0:08:32  497k   0     0  1752k      0  0:10:36  0:03:40  0:06:56 2190k    0  1748k      0  0:10:38  0:03:50  0:06:48 1105k  1855k      0  0:10:01  0:05:01  0:05:00 2215k  0     0  1861k      0  0:09:59  0:05:07  0:04:52 2191k   0  1881k      0  0:09:53  0:05:25  0:04:28 2222k931k      0  0:09:38  0:07:31  0:02:07 2169k  1929k      0  0:09:38  0:08:03  0:01:35 2179k 0  1933k      0  0:09:37  0:08:11  0:01:26 2200k  0  0:09:35  0:08:42  0:00:53 2212k\n"
     ]
    }
   ],
   "source": [
    "! curl http://owl.fish.washington.edu/halfshell/genomic-databank/Olurida_v081.fa > ../references/Olurida_v081.fa"
   ]
  },
  {
   "cell_type": "code",
   "execution_count": 89,
   "metadata": {},
   "outputs": [
    {
     "name": "stdout",
     "output_type": "stream",
     "text": [
      "MD5 (../references/Olurida_v081.fa) = 3ac56372bd62038f264d27eef0883bd3\r\n"
     ]
    }
   ],
   "source": [
    "# MD5 should = 3ac56372bd62038f264d27eef0883bd3\n",
    "! md5 ../references/Olurida_v081.fa"
   ]
  },
  {
   "cell_type": "code",
   "execution_count": 30,
   "metadata": {},
   "outputs": [],
   "source": [
    "! mkdir bowtie/"
   ]
  },
  {
   "cell_type": "code",
   "execution_count": 34,
   "metadata": {},
   "outputs": [
    {
     "name": "stdout",
     "output_type": "stream",
     "text": [
      "/Users/laura/Documents/roberts-lab/laura-quantseq/results/bowtie\n"
     ]
    }
   ],
   "source": [
    "cd bowtie/"
   ]
  },
  {
   "cell_type": "code",
   "execution_count": 37,
   "metadata": {},
   "outputs": [
    {
     "name": "stdout",
     "output_type": "stream",
     "text": [
      "Settings:\n",
      "  Output files: \"Olurida_v081.fa.*.bt2\"\n",
      "  Line rate: 6 (line is 64 bytes)\n",
      "  Lines per side: 1 (side is 64 bytes)\n",
      "  Offset rate: 4 (one in 16)\n",
      "  FTable chars: 10\n",
      "  Strings: unpacked\n",
      "  Max bucket size: default\n",
      "  Max bucket size, sqrt multiplier: default\n",
      "  Max bucket size, len divisor: 4\n",
      "  Difference-cover sample period: 1024\n",
      "  Endianness: little\n",
      "  Actual local endianness: little\n",
      "  Sanity checking: disabled\n",
      "  Assertions: disabled\n",
      "  Random seed: 0\n",
      "  Sizeofs: void*:8, int:4, long:8, size_t:8\n",
      "Input files DNA, FASTA:\n",
      "  ../../references/Olurida_v081.fa\n",
      "Reading reference sizes\n",
      "  Time reading reference sizes: 00:00:12\n",
      "Calculating joined length\n",
      "Writing header\n",
      "Reserving space for joined string\n",
      "Joining reference sequences\n",
      "  Time to join reference sequences: 00:00:07\n",
      "bmax according to bmaxDivN setting: 269313774\n",
      "Using parameters --bmax 201985331 --dcv 1024\n",
      "  Doing ahead-of-time memory usage test\n",
      "  Passed!  Constructing with these parameters: --bmax 201985331 --dcv 1024\n",
      "Constructing suffix-array element generator\n",
      "Building DifferenceCoverSample\n",
      "  Building sPrime\n",
      "  Building sPrimeOrder\n",
      "  V-Sorting samples\n",
      "  V-Sorting samples time: 00:00:21\n",
      "  Allocating rank array\n",
      "  Ranking v-sort output\n",
      "  Ranking v-sort output time: 00:00:06\n",
      "  Invoking Larsson-Sadakane on ranks\n",
      "  Invoking Larsson-Sadakane on ranks time: 00:00:11\n",
      "  Sanity-checking and returning\n",
      "Building samples\n",
      "Reserving space for 12 sample suffixes\n",
      "Generating random suffixes\n",
      "QSorting 12 sample offsets, eliminating duplicates\n",
      "QSorting sample offsets, eliminating duplicates time: 00:00:00\n",
      "Multikey QSorting 12 samples\n",
      "  (Using difference cover)\n",
      "  Multikey QSorting samples time: 00:00:00\n",
      "Calculating bucket sizes\n",
      "Splitting and merging\n",
      "  Splitting and merging time: 00:00:00\n",
      "Avg bucket size: 1.07726e+09 (target: 201985330)\n",
      "Converting suffix-array elements to index image\n",
      "Allocating ftab, absorbFtab\n",
      "Entering Ebwt loop\n",
      "Getting block 1 of 1\n",
      "  No samples; assembling all-inclusive block\n",
      "  Sorting block of length 1077255099 for bucket 1\n",
      "  (Using difference cover)\n",
      "  Sorting block time: 00:12:34\n",
      "Returning block of 1077255100 for bucket 1\n",
      "Exited Ebwt loop\n",
      "fchr[A]: 0\n",
      "fchr[C]: 341519526\n",
      "fchr[G]: 538577822\n",
      "fchr[T]: 735626959\n",
      "fchr[$]: 1077255099\n",
      "Exiting Ebwt::buildToDisk()\n",
      "Returning from initFromVector\n",
      "Wrote 371984998 bytes to primary EBWT file: Olurida_v081.fa.1.bt2\n",
      "Wrote 269313780 bytes to secondary EBWT file: Olurida_v081.fa.2.bt2\n",
      "Re-opening _in1 and _in2 as input streams\n",
      "Returning from Ebwt constructor\n",
      "Headers:\n",
      "    len: 1077255099\n",
      "    bwtLen: 1077255100\n",
      "    sz: 269313775\n",
      "    bwtSz: 269313775\n",
      "    lineRate: 6\n",
      "    offRate: 4\n",
      "    offMask: 0xfffffff0\n",
      "    ftabChars: 10\n",
      "    eftabLen: 20\n",
      "    eftabSz: 80\n",
      "    ftabLen: 1048577\n",
      "    ftabSz: 4194308\n",
      "    offsLen: 67328444\n",
      "    offsSz: 269313776\n",
      "    lineSz: 64\n",
      "    sideSz: 64\n",
      "    sideBwtSz: 48\n",
      "    sideBwtLen: 192\n",
      "    numSides: 5610704\n",
      "    numLines: 5610704\n",
      "    ebwtTotLen: 359085056\n",
      "    ebwtTotSz: 359085056\n",
      "    color: 0\n",
      "    reverse: 0\n",
      "Total time for call to driver() for forward index: 00:16:52\n",
      "Reading reference sizes\n",
      "  Time reading reference sizes: 00:00:11\n",
      "Calculating joined length\n",
      "Writing header\n",
      "Reserving space for joined string\n",
      "Joining reference sequences\n",
      "  Time to join reference sequences: 00:00:07\n",
      "  Time to reverse reference sequence: 00:00:00\n",
      "bmax according to bmaxDivN setting: 269313774\n",
      "Using parameters --bmax 201985331 --dcv 1024\n",
      "  Doing ahead-of-time memory usage test\n",
      "  Passed!  Constructing with these parameters: --bmax 201985331 --dcv 1024\n",
      "Constructing suffix-array element generator\n",
      "Building DifferenceCoverSample\n",
      "  Building sPrime\n",
      "  Building sPrimeOrder\n",
      "  V-Sorting samples\n",
      "  V-Sorting samples time: 00:00:20\n",
      "  Allocating rank array\n",
      "  Ranking v-sort output\n",
      "  Ranking v-sort output time: 00:00:06\n",
      "  Invoking Larsson-Sadakane on ranks\n",
      "  Invoking Larsson-Sadakane on ranks time: 00:00:10\n",
      "  Sanity-checking and returning\n",
      "Building samples\n",
      "Reserving space for 12 sample suffixes\n",
      "Generating random suffixes\n",
      "QSorting 12 sample offsets, eliminating duplicates\n",
      "QSorting sample offsets, eliminating duplicates time: 00:00:00\n",
      "Multikey QSorting 12 samples\n",
      "  (Using difference cover)\n",
      "  Multikey QSorting samples time: 00:00:00\n",
      "Calculating bucket sizes\n",
      "Splitting and merging\n",
      "  Splitting and merging time: 00:00:00\n",
      "Avg bucket size: 1.07726e+09 (target: 201985330)\n",
      "Converting suffix-array elements to index image\n",
      "Allocating ftab, absorbFtab\n",
      "Entering Ebwt loop\n",
      "Getting block 1 of 1\n",
      "  No samples; assembling all-inclusive block\n",
      "  Sorting block of length 1077255099 for bucket 1\n",
      "  (Using difference cover)\n",
      "  Sorting block time: 00:12:28\n",
      "Returning block of 1077255100 for bucket 1\n",
      "Exited Ebwt loop\n",
      "fchr[A]: 0\n",
      "fchr[C]: 341519526\n",
      "fchr[G]: 538577822\n",
      "fchr[T]: 735626959\n",
      "fchr[$]: 1077255099\n",
      "Exiting Ebwt::buildToDisk()\n",
      "Returning from initFromVector\n",
      "Wrote 371984998 bytes to primary EBWT file: Olurida_v081.fa.rev.1.bt2\n",
      "Wrote 269313780 bytes to secondary EBWT file: Olurida_v081.fa.rev.2.bt2\n",
      "Re-opening _in1 and _in2 as input streams\n",
      "Returning from Ebwt constructor\n",
      "Headers:\n",
      "    len: 1077255099\n",
      "    bwtLen: 1077255100\n",
      "    sz: 269313775\n",
      "    bwtSz: 269313775\n",
      "    lineRate: 6\n",
      "    offRate: 4\n",
      "    offMask: 0xfffffff0\n",
      "    ftabChars: 10\n",
      "    eftabLen: 20\n",
      "    eftabSz: 80\n",
      "    ftabLen: 1048577\n",
      "    ftabSz: 4194308\n",
      "    offsLen: 67328444\n",
      "    offsSz: 269313776\n",
      "    lineSz: 64\n",
      "    sideSz: 64\n",
      "    sideBwtSz: 48\n",
      "    sideBwtLen: 192\n",
      "    numSides: 5610704\n",
      "    numLines: 5610704\n",
      "    ebwtTotLen: 359085056\n",
      "    ebwtTotSz: 359085056\n",
      "    color: 0\n",
      "    reverse: 1\n",
      "Total time for backward call to driver() for mirror index: 00:16:32\n"
     ]
    },
    {
     "name": "stderr",
     "output_type": "stream",
     "text": [
      "Building a SMALL index\n"
     ]
    }
   ],
   "source": [
    "%%bash\n",
    "### creating bowtie2 index for Oly genome v081:\n",
    "\n",
    "bowtie2-build \\\n",
    "../../references/Olurida_v081.fa \\\n",
    "Olurida_v081.fa"
   ]
  },
  {
   "cell_type": "code",
   "execution_count": 39,
   "metadata": {},
   "outputs": [
    {
     "name": "stdout",
     "output_type": "stream",
     "text": [
      "Olurida_v081.fa.1.bt2     Olurida_v081.fa.3.bt2     Olurida_v081.fa.rev.1.bt2\r\n",
      "Olurida_v081.fa.2.bt2     Olurida_v081.fa.4.bt2     Olurida_v081.fa.rev.2.bt2\r\n"
     ]
    }
   ],
   "source": [
    "! ls"
   ]
  },
  {
   "cell_type": "code",
   "execution_count": 41,
   "metadata": {},
   "outputs": [
    {
     "name": "stdout",
     "output_type": "stream",
     "text": [
      "/Users/laura/Documents/roberts-lab/laura-quantseq/data/tagseq_trim\n"
     ]
    }
   ],
   "source": [
    "cd ../../data/tagseq_trim/"
   ]
  },
  {
   "cell_type": "code",
   "execution_count": 104,
   "metadata": {},
   "outputs": [],
   "source": [
    "! {tagseq}tagseq_bowtie2map.pl \"trim$\" ../../results/bowtie/Olurida_v081.fa > maps"
   ]
  },
  {
   "cell_type": "code",
   "execution_count": 105,
   "metadata": {},
   "outputs": [
    {
     "name": "stdout",
     "output_type": "stream",
     "text": [
      "bowtie2 --local -x ../../results/bowtie/Olurida_v081.fa -U CP-KS-LibL-L37-L_S32_L006_R1_001.fastq.trim -S CP-KS-LibL-L37-L_S32_L006_R1_001.fastq.trim.sam --no-hd --no-sq --no-unal -k 5\r\n",
      "bowtie2 --local -x ../../results/bowtie/Olurida_v081.fa -U CP-KS-LibL-L3-G_S64_L006_R1_001.fastq.trim -S CP-KS-LibL-L3-G_S64_L006_R1_001.fastq.trim.sam --no-hd --no-sq --no-unal -k 5\r\n"
     ]
    }
   ],
   "source": [
    "! head -2 maps"
   ]
  },
  {
   "cell_type": "markdown",
   "metadata": {},
   "source": [
    "###  Use a loop to execute the commands written in 'maps'; redirect screen output/error in bowtieout.txt"
   ]
  },
  {
   "cell_type": "code",
   "execution_count": 106,
   "metadata": {},
   "outputs": [
    {
     "name": "stdout",
     "output_type": "stream",
     "text": [
      "/Users/laura/Documents/roberts-lab/laura-quantseq/data/tagseq_trim\n"
     ]
    }
   ],
   "source": [
    "cd ../../data/tagseq_trim/"
   ]
  },
  {
   "cell_type": "markdown",
   "metadata": {},
   "source": [
    "--no-unal  = suppress SAM records for unaligned reads  \n",
    "--no-sq    = suppress @SQ header lines  \n",
    "--no-hd    = suppress SAM header lines (starting with @)  \n",
    "-k 5       = report up to <5> aligns per read  "
   ]
  },
  {
   "cell_type": "code",
   "execution_count": 110,
   "metadata": {},
   "outputs": [],
   "source": [
    "%%bash \n",
    "\n",
    "for file in *.trim\n",
    "do\n",
    "#strip .fastq and directorys tructure from each file, then\n",
    "# add suffice .fastq.trim to create output name for each file\n",
    "results_file=\"$(basename -a $file).sam\"\n",
    "\n",
    "# run tagseq scripts on each file\n",
    "bowtie2 --local -x \\\n",
    "../../results/bowtie/Olurida_v081.fa \\\n",
    "-U $file \\\n",
    "-S $results_file \\ -k 5; \\\n",
    "done >> ../../results/bowtie/bowtieout.txt 2>&1"
   ]
  },
  {
   "cell_type": "code",
   "execution_count": 111,
   "metadata": {},
   "outputs": [
    {
     "name": "stdout",
     "output_type": "stream",
     "text": [
      "21874 reads; of these:\r\n",
      "  21874 (100.00%) were unpaired; of these:\r\n",
      "    6373 (29.14%) aligned 0 times\r\n",
      "    11759 (53.76%) aligned exactly 1 time\r\n",
      "    3742 (17.11%) aligned >1 times\r\n",
      "70.86% overall alignment rate\r\n",
      "21768 reads; of these:\r\n",
      "  21768 (100.00%) were unpaired; of these:\r\n",
      "    6229 (28.62%) aligned 0 times\r\n",
      "    11759 (54.02%) aligned exactly 1 time\r\n",
      "    3780 (17.36%) aligned >1 times\r\n",
      "71.38% overall alignment rate\r\n",
      "2649 reads; of these:\r\n",
      "  2649 (100.00%) were unpaired; of these:\r\n",
      "    2067 (78.03%) aligned 0 times\r\n",
      "    352 (13.29%) aligned exactly 1 time\r\n",
      "    230 (8.68%) aligned >1 times\r\n",
      "21.97% overall alignment rate\r\n",
      "21489 reads; of these:\r\n",
      "  21489 (100.00%) were unpaired; of these:\r\n",
      "    6142 (28.58%) aligned 0 times\r\n",
      "    11731 (54.59%) aligned exactly 1 time\r\n",
      "    3616 (16.83%) aligned >1 times\r\n",
      "71.42% overall alignment rate\r\n",
      "23903 reads; of these:\r\n",
      "  23903 (100.00%) were unpaired; of these:\r\n",
      "    6156 (25.75%) aligned 0 times\r\n",
      "    13075 (54.70%) aligned exactly 1 time\r\n",
      "    4672 (19.55%) aligned >1 times\r\n",
      "74.25% overall alignment rate\r\n",
      "22552 reads; of these:\r\n",
      "  22552 (100.00%) were unpaired; of these:\r\n",
      "    5852 (25.95%) aligned 0 times\r\n",
      "    12886 (57.14%) aligned exactly 1 time\r\n",
      "    3814 (16.91%) aligned >1 times\r\n",
      "74.05% overall alignment rate\r\n",
      "16370 reads; of these:\r\n",
      "  16370 (100.00%) were unpaired; of these:\r\n",
      "    4938 (30.16%) aligned 0 times\r\n",
      "    8461 (51.69%) aligned exactly 1 time\r\n",
      "    2971 (18.15%) aligned >1 times\r\n",
      "69.84% overall alignment rate\r\n",
      "15257 reads; of these:\r\n",
      "  15257 (100.00%) were unpaired; of these:\r\n",
      "    4417 (28.95%) aligned 0 times\r\n",
      "    8374 (54.89%) aligned exactly 1 time\r\n",
      "    2466 (16.16%) aligned >1 times\r\n",
      "71.05% overall alignment rate\r\n",
      "19906 reads; of these:\r\n",
      "  19906 (100.00%) were unpaired; of these:\r\n",
      "    6014 (30.21%) aligned 0 times\r\n",
      "    10555 (53.02%) aligned exactly 1 time\r\n",
      "    3337 (16.76%) aligned >1 times\r\n",
      "69.79% overall alignment rate\r\n",
      "13103 reads; of these:\r\n",
      "  13103 (100.00%) were unpaired; of these:\r\n",
      "    4528 (34.56%) aligned 0 times\r\n",
      "    6800 (51.90%) aligned exactly 1 time\r\n",
      "    1775 (13.55%) aligned >1 times\r\n",
      "65.44% overall alignment rate\r\n",
      "21913 reads; of these:\r\n",
      "  21913 (100.00%) were unpaired; of these:\r\n",
      "    5842 (26.66%) aligned 0 times\r\n",
      "    11671 (53.26%) aligned exactly 1 time\r\n",
      "    4400 (20.08%) aligned >1 times\r\n",
      "73.34% overall alignment rate\r\n",
      "3923 reads; of these:\r\n",
      "  3923 (100.00%) were unpaired; of these:\r\n",
      "    2285 (58.25%) aligned 0 times\r\n",
      "    848 (21.62%) aligned exactly 1 time\r\n",
      "    790 (20.14%) aligned >1 times\r\n",
      "41.75% overall alignment rate\r\n",
      "23289 reads; of these:\r\n",
      "  23289 (100.00%) were unpaired; of these:\r\n",
      "    6206 (26.65%) aligned 0 times\r\n",
      "    13095 (56.23%) aligned exactly 1 time\r\n",
      "    3988 (17.12%) aligned >1 times\r\n",
      "73.35% overall alignment rate\r\n",
      "23769 reads; of these:\r\n",
      "  23769 (100.00%) were unpaired; of these:\r\n",
      "    6313 (26.56%) aligned 0 times\r\n",
      "    13367 (56.24%) aligned exactly 1 time\r\n",
      "    4089 (17.20%) aligned >1 times\r\n",
      "73.44% overall alignment rate\r\n",
      "3290 reads; of these:\r\n",
      "  3290 (100.00%) were unpaired; of these:\r\n",
      "    1191 (36.20%) aligned 0 times\r\n",
      "    1621 (49.27%) aligned exactly 1 time\r\n",
      "    478 (14.53%) aligned >1 times\r\n",
      "63.80% overall alignment rate\r\n",
      "13007 reads; of these:\r\n",
      "  13007 (100.00%) were unpaired; of these:\r\n",
      "    3435 (26.41%) aligned 0 times\r\n",
      "    7754 (59.61%) aligned exactly 1 time\r\n",
      "    1818 (13.98%) aligned >1 times\r\n",
      "73.59% overall alignment rate\r\n",
      "5448 reads; of these:\r\n",
      "  5448 (100.00%) were unpaired; of these:\r\n",
      "    2324 (42.66%) aligned 0 times\r\n",
      "    2420 (44.42%) aligned exactly 1 time\r\n",
      "    704 (12.92%) aligned >1 times\r\n",
      "57.34% overall alignment rate\r\n",
      "8559 reads; of these:\r\n",
      "  8559 (100.00%) were unpaired; of these:\r\n",
      "    2416 (28.23%) aligned 0 times\r\n",
      "    4934 (57.65%) aligned exactly 1 time\r\n",
      "    1209 (14.13%) aligned >1 times\r\n",
      "71.77% overall alignment rate\r\n",
      "6827 reads; of these:\r\n",
      "  6827 (100.00%) were unpaired; of these:\r\n",
      "    1749 (25.62%) aligned 0 times\r\n",
      "    4104 (60.11%) aligned exactly 1 time\r\n",
      "    974 (14.27%) aligned >1 times\r\n",
      "74.38% overall alignment rate\r\n",
      "8856 reads; of these:\r\n",
      "  8856 (100.00%) were unpaired; of these:\r\n",
      "    2227 (25.15%) aligned 0 times\r\n",
      "    5302 (59.87%) aligned exactly 1 time\r\n",
      "    1327 (14.98%) aligned >1 times\r\n",
      "74.85% overall alignment rate\r\n",
      "10630 reads; of these:\r\n",
      "  10630 (100.00%) were unpaired; of these:\r\n",
      "    3954 (37.20%) aligned 0 times\r\n",
      "    5134 (48.30%) aligned exactly 1 time\r\n",
      "    1542 (14.51%) aligned >1 times\r\n",
      "62.80% overall alignment rate\r\n",
      "5586 reads; of these:\r\n",
      "  5586 (100.00%) were unpaired; of these:\r\n",
      "    1760 (31.51%) aligned 0 times\r\n",
      "    3070 (54.96%) aligned exactly 1 time\r\n",
      "    756 (13.53%) aligned >1 times\r\n",
      "68.49% overall alignment rate\r\n",
      "23593 reads; of these:\r\n",
      "  23593 (100.00%) were unpaired; of these:\r\n",
      "    6239 (26.44%) aligned 0 times\r\n",
      "    13069 (55.39%) aligned exactly 1 time\r\n",
      "    4285 (18.16%) aligned >1 times\r\n",
      "73.56% overall alignment rate\r\n",
      "10786 reads; of these:\r\n",
      "  10786 (100.00%) were unpaired; of these:\r\n",
      "    3071 (28.47%) aligned 0 times\r\n",
      "    5580 (51.73%) aligned exactly 1 time\r\n",
      "    2135 (19.79%) aligned >1 times\r\n",
      "71.53% overall alignment rate\r\n"
     ]
    }
   ],
   "source": [
    "! cat ../../results/bowtie/bowtieout.txt"
   ]
  },
  {
   "cell_type": "code",
   "execution_count": 112,
   "metadata": {},
   "outputs": [
    {
     "name": "stdout",
     "output_type": "stream",
     "text": [
      "70.86% overall alignment rate\r\n",
      "71.38% overall alignment rate\r\n",
      "21.97% overall alignment rate\r\n",
      "71.42% overall alignment rate\r\n",
      "74.25% overall alignment rate\r\n",
      "74.05% overall alignment rate\r\n",
      "69.84% overall alignment rate\r\n",
      "71.05% overall alignment rate\r\n",
      "69.79% overall alignment rate\r\n",
      "65.44% overall alignment rate\r\n",
      "73.34% overall alignment rate\r\n",
      "41.75% overall alignment rate\r\n",
      "73.35% overall alignment rate\r\n",
      "73.44% overall alignment rate\r\n",
      "63.80% overall alignment rate\r\n",
      "73.59% overall alignment rate\r\n",
      "57.34% overall alignment rate\r\n",
      "71.77% overall alignment rate\r\n",
      "74.38% overall alignment rate\r\n",
      "74.85% overall alignment rate\r\n",
      "62.80% overall alignment rate\r\n",
      "68.49% overall alignment rate\r\n",
      "73.56% overall alignment rate\r\n",
      "71.53% overall alignment rate\r\n"
     ]
    }
   ],
   "source": [
    "# alignment rates:\n",
    "! grep \"overall alignment rate\"  ../../results/bowtie/bowtieout.txt"
   ]
  },
  {
   "cell_type": "markdown",
   "metadata": {},
   "source": [
    "## Generating read-counts-per gene "
   ]
  },
  {
   "cell_type": "code",
   "execution_count": 113,
   "metadata": {},
   "outputs": [
    {
     "name": "stdout",
     "output_type": "stream",
     "text": [
      "CP-KS-LibL-L10-G_S59_L006_R1_001.fastq.trim\r\n",
      "CP-KS-LibL-L10-G_S59_L006_R1_001.fastq.trim.sam\r\n",
      "CP-KS-LibL-L11-G_S65_L006_R1_001.fastq.trim\r\n",
      "CP-KS-LibL-L11-G_S65_L006_R1_001.fastq.trim.sam\r\n",
      "CP-KS-LibL-L13-G_S60_L006_R1_001.fastq.trim\r\n",
      "CP-KS-LibL-L13-G_S60_L006_R1_001.fastq.trim.sam\r\n",
      "CP-KS-LibL-L14-G_S63_L006_R1_001.fastq.trim\r\n",
      "CP-KS-LibL-L14-G_S63_L006_R1_001.fastq.trim.sam\r\n",
      "CP-KS-LibL-L15-G_S68_L006_R1_001.fastq.trim\r\n",
      "CP-KS-LibL-L15-G_S68_L006_R1_001.fastq.trim.sam\r\n",
      "CP-KS-LibL-L19-G_S67_L006_R1_001.fastq.trim\r\n",
      "CP-KS-LibL-L19-G_S67_L006_R1_001.fastq.trim.sam\r\n",
      "CP-KS-LibL-L2-G_S34_L006_R1_001.fastq.trim\r\n",
      "CP-KS-LibL-L2-G_S34_L006_R1_001.fastq.trim.sam\r\n",
      "CP-KS-LibL-L21-G_S58_L006_R1_001.fastq.trim\r\n",
      "CP-KS-LibL-L21-G_S58_L006_R1_001.fastq.trim.sam\r\n",
      "CP-KS-LibL-L23-G_S61_L006_R1_001.fastq.trim\r\n",
      "CP-KS-LibL-L23-G_S61_L006_R1_001.fastq.trim.sam\r\n",
      "CP-KS-LibL-L24-G_S62_L006_R1_001.fastq.trim\r\n",
      "CP-KS-LibL-L24-G_S62_L006_R1_001.fastq.trim.sam\r\n",
      "CP-KS-LibL-L29-G_S36_L006_R1_001.fastq.trim\r\n",
      "CP-KS-LibL-L29-G_S36_L006_R1_001.fastq.trim.sam\r\n",
      "CP-KS-LibL-L3-G_S64_L006_R1_001.fastq.trim\r\n",
      "CP-KS-LibL-L3-G_S64_L006_R1_001.fastq.trim.sam\r\n",
      "CP-KS-LibL-L32-G_S35_L006_R1_001.fastq.trim\r\n",
      "CP-KS-LibL-L32-G_S35_L006_R1_001.fastq.trim.sam\r\n",
      "CP-KS-LibL-L33-G_S66_L006_R1_001.fastq.trim\r\n",
      "CP-KS-LibL-L33-G_S66_L006_R1_001.fastq.trim.sam\r\n",
      "CP-KS-LibL-L34-L_S25_L006_R1_001.fastq.trim\r\n",
      "CP-KS-LibL-L34-L_S25_L006_R1_001.fastq.trim.sam\r\n",
      "CP-KS-LibL-L35-L_S31_L006_R1_001.fastq.trim\r\n",
      "CP-KS-LibL-L35-L_S31_L006_R1_001.fastq.trim.sam\r\n",
      "CP-KS-LibL-L37-L_S32_L006_R1_001.fastq.trim\r\n",
      "CP-KS-LibL-L37-L_S32_L006_R1_001.fastq.trim.sam\r\n",
      "CP-KS-LibL-L39-L_S29_L006_R1_001.fastq.trim\r\n",
      "CP-KS-LibL-L39-L_S29_L006_R1_001.fastq.trim.sam\r\n",
      "CP-KS-LibL-L41-L_S27_L006_R1_001.fastq.trim\r\n",
      "CP-KS-LibL-L41-L_S27_L006_R1_001.fastq.trim.sam\r\n",
      "CP-KS-LibL-L44-L_S30_L006_R1_001.fastq.trim\r\n",
      "CP-KS-LibL-L44-L_S30_L006_R1_001.fastq.trim.sam\r\n",
      "CP-KS-LibL-L45-L_S28_L006_R1_001.fastq.trim\r\n",
      "CP-KS-LibL-L45-L_S28_L006_R1_001.fastq.trim.sam\r\n",
      "CP-KS-LibL-L47-L_S33_L006_R1_001.fastq.trim\r\n",
      "CP-KS-LibL-L47-L_S33_L006_R1_001.fastq.trim.sam\r\n",
      "CP-KS-LibL-L7-G_S57_L006_R1_001.fastq.trim\r\n",
      "CP-KS-LibL-L7-G_S57_L006_R1_001.fastq.trim.sam\r\n",
      "CP-KS-LibL-SN1016-G_S26_L006_R1_001.fastq.trim\r\n",
      "CP-KS-LibL-SN1016-G_S26_L006_R1_001.fastq.trim.sam\r\n",
      "maps\r\n"
     ]
    }
   ],
   "source": [
    "ls"
   ]
  },
  {
   "cell_type": "code",
   "execution_count": 82,
   "metadata": {},
   "outputs": [
    {
     "name": "stdout",
     "output_type": "stream",
     "text": [
      ">Contig0\r\n",
      ">Contig1\r\n",
      ">Contig2\r\n",
      ">Contig3\r\n",
      ">Contig4\r\n",
      ">Contig5\r\n",
      ">Contig6\r\n",
      ">Contig7\r\n",
      ">Contig8\r\n",
      ">Contig9\r\n"
     ]
    }
   ],
   "source": [
    "! grep \">\" ../../references/Olurida_v081.fa | head"
   ]
  },
  {
   "cell_type": "code",
   "execution_count": 63,
   "metadata": {},
   "outputs": [
    {
     "name": "stdout",
     "output_type": "stream",
     "text": [
      "samtools view: unrecognised option '--help'\r\n",
      "\r\n",
      "Usage: samtools view [options] <in.bam>|<in.sam>|<in.cram> [region ...]\r\n",
      "\r\n",
      "Options:\r\n",
      "  -b       output BAM\r\n",
      "  -C       output CRAM (requires -T)\r\n",
      "  -1       use fast BAM compression (implies -b)\r\n",
      "  -u       uncompressed BAM output (implies -b)\r\n",
      "  -h       include header in SAM output\r\n",
      "  -H       print SAM header only (no alignments)\r\n",
      "  -c       print only the count of matching records\r\n",
      "  -o FILE  output file name [stdout]\r\n",
      "  -U FILE  output reads not selected by filters to FILE [null]\r\n",
      "  -t FILE  FILE listing reference names and lengths (see long help) [null]\r\n",
      "  -L FILE  only include reads overlapping this BED FILE [null]\r\n",
      "  -r STR   only include reads in read group STR [null]\r\n",
      "  -R FILE  only include reads with read group listed in FILE [null]\r\n",
      "  -q INT   only include reads with mapping quality >= INT [0]\r\n",
      "  -l STR   only include reads in library STR [null]\r\n",
      "  -m INT   only include reads with number of CIGAR operations consuming\r\n",
      "           query sequence >= INT [0]\r\n",
      "  -f INT   only include reads with all  of the FLAGs in INT present [0]\r\n",
      "  -F INT   only include reads with none of the FLAGS in INT present [0]\r\n",
      "  -G INT   only EXCLUDE reads with all  of the FLAGs in INT present [0]\r\n",
      "  -s FLOAT subsample reads (given INT.FRAC option value, 0.FRAC is the\r\n",
      "           fraction of templates/read pairs to keep; INT part sets seed)\r\n",
      "  -M       use the multi-region iterator (increases the speed, removes\r\n",
      "           duplicates and outputs the reads as they are ordered in the file)\r\n",
      "  -x STR   read tag to strip (repeatable) [null]\r\n",
      "  -B       collapse the backward CIGAR operation\r\n",
      "  -?       print long help, including note about region specification\r\n",
      "  -S       ignored (input format is auto-detected)\r\n",
      "      --input-fmt-option OPT[=VAL]\r\n",
      "               Specify a single input file format option in the form\r\n",
      "               of OPTION or OPTION=VALUE\r\n",
      "  -O, --output-fmt FORMAT[,OPT[=VAL]]...\r\n",
      "               Specify output format (SAM, BAM, CRAM)\r\n",
      "      --output-fmt-option OPT[=VAL]\r\n",
      "               Specify a single output file format option in the form\r\n",
      "               of OPTION or OPTION=VALUE\r\n",
      "  -T, --reference FILE\r\n",
      "               Reference sequence FASTA FILE [null]\r\n",
      "  -@, --threads INT\r\n",
      "               Number of additional threads to use [0]\r\n",
      "\r\n"
     ]
    }
   ],
   "source": [
    "! samtools view --help"
   ]
  },
  {
   "cell_type": "code",
   "execution_count": 114,
   "metadata": {},
   "outputs": [],
   "source": [
    "%%bash\n",
    "#convert sam to bam\n",
    "\n",
    "for file in *.sam\n",
    "do\n",
    "results_file=\"$(basename -a $file)_sorted.bam\"\n",
    "samtools view -b $file | samtools sort -o $results_file\n",
    "done"
   ]
  },
  {
   "cell_type": "code",
   "execution_count": 115,
   "metadata": {},
   "outputs": [],
   "source": [
    "%%bash\n",
    "# create .bam indexes\n",
    "for file in *.bam\n",
    "do\n",
    "samtools index $file\n",
    "done"
   ]
  },
  {
   "cell_type": "code",
   "execution_count": 118,
   "metadata": {},
   "outputs": [
    {
     "name": "stdout",
     "output_type": "stream",
     "text": [
      "CP-KS-LibL-L10-G_S59_L006_R1_001.fastq.trim.sam_sorted.bam\r\n",
      "CP-KS-LibL-L11-G_S65_L006_R1_001.fastq.trim.sam_sorted.bam\r\n",
      "CP-KS-LibL-L13-G_S60_L006_R1_001.fastq.trim.sam_sorted.bam\r\n",
      "CP-KS-LibL-L14-G_S63_L006_R1_001.fastq.trim.sam_sorted.bam\r\n",
      "CP-KS-LibL-L15-G_S68_L006_R1_001.fastq.trim.sam_sorted.bam\r\n",
      "CP-KS-LibL-L19-G_S67_L006_R1_001.fastq.trim.sam_sorted.bam\r\n",
      "CP-KS-LibL-L2-G_S34_L006_R1_001.fastq.trim.sam_sorted.bam\r\n",
      "CP-KS-LibL-L21-G_S58_L006_R1_001.fastq.trim.sam_sorted.bam\r\n",
      "CP-KS-LibL-L23-G_S61_L006_R1_001.fastq.trim.sam_sorted.bam\r\n",
      "CP-KS-LibL-L24-G_S62_L006_R1_001.fastq.trim.sam_sorted.bam\r\n",
      "CP-KS-LibL-L29-G_S36_L006_R1_001.fastq.trim.sam_sorted.bam\r\n",
      "CP-KS-LibL-L3-G_S64_L006_R1_001.fastq.trim.sam_sorted.bam\r\n",
      "CP-KS-LibL-L32-G_S35_L006_R1_001.fastq.trim.sam_sorted.bam\r\n",
      "CP-KS-LibL-L33-G_S66_L006_R1_001.fastq.trim.sam_sorted.bam\r\n",
      "CP-KS-LibL-L34-L_S25_L006_R1_001.fastq.trim.sam_sorted.bam\r\n",
      "CP-KS-LibL-L35-L_S31_L006_R1_001.fastq.trim.sam_sorted.bam\r\n",
      "CP-KS-LibL-L37-L_S32_L006_R1_001.fastq.trim.sam_sorted.bam\r\n",
      "CP-KS-LibL-L39-L_S29_L006_R1_001.fastq.trim.sam_sorted.bam\r\n",
      "CP-KS-LibL-L41-L_S27_L006_R1_001.fastq.trim.sam_sorted.bam\r\n",
      "CP-KS-LibL-L44-L_S30_L006_R1_001.fastq.trim.sam_sorted.bam\r\n",
      "CP-KS-LibL-L45-L_S28_L006_R1_001.fastq.trim.sam_sorted.bam\r\n",
      "CP-KS-LibL-L47-L_S33_L006_R1_001.fastq.trim.sam_sorted.bam\r\n",
      "CP-KS-LibL-L7-G_S57_L006_R1_001.fastq.trim.sam_sorted.bam\r\n",
      "CP-KS-LibL-SN1016-G_S26_L006_R1_001.fastq.trim.sam_sorted.bam\r\n"
     ]
    }
   ],
   "source": [
    "ls *.bam"
   ]
  },
  {
   "cell_type": "code",
   "execution_count": 121,
   "metadata": {},
   "outputs": [
    {
     "name": "stdout",
     "output_type": "stream",
     "text": [
      "   27324\r\n"
     ]
    }
   ],
   "source": [
    "# total mapped and paired reads \n",
    "! samtools view -F 6 \\\n",
    "CP-KS-LibL-L7-G_S57_L006_R1_001.fastq.trim.sam_sorted.bam | \\\n",
    "wc -l"
   ]
  },
  {
   "cell_type": "code",
   "execution_count": 122,
   "metadata": {},
   "outputs": [
    {
     "name": "stdout",
     "output_type": "stream",
     "text": [
      "   27324\r\n"
     ]
    }
   ],
   "source": [
    "# weird, this is supposed to be the unmapped read count .. same as above\n",
    "! samtools view -F 4 \\\n",
    "CP-KS-LibL-L7-G_S57_L006_R1_001.fastq.trim.sam_sorted.bam | \\\n",
    "wc -l"
   ]
  }
 ],
 "metadata": {
  "kernelspec": {
   "display_name": "Python 3",
   "language": "python",
   "name": "python3"
  },
  "language_info": {
   "codemirror_mode": {
    "name": "ipython",
    "version": 3
   },
   "file_extension": ".py",
   "mimetype": "text/x-python",
   "name": "python",
   "nbconvert_exporter": "python",
   "pygments_lexer": "ipython3",
   "version": "3.7.0"
  }
 },
 "nbformat": 4,
 "nbformat_minor": 2
}
