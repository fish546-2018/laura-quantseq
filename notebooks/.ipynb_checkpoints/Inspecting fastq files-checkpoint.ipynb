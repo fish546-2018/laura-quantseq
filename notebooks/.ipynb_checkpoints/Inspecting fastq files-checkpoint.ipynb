{
 "cells": [
  {
   "cell_type": "markdown",
   "metadata": {},
   "source": [
    "### Notebook to download RNASeq data, unzip and trim a couple different ways (`seqtk`, `sickle`). \n",
    "\n",
    "The raw RNA-Seq data files are described here, with files stored in Owl (link towards bottom of page):\n",
    "https://github.com/RobertsLab/project-olympia.oyster-genomic/wiki/RNA-Seq-February-2018\n",
    "\n",
    "The pooled gonad samples from Fidalgo Bay and Oyster Bay adults from low/ambient pH are as follows, which are the 1st and 2nd reads from 2 lanes of sequencing. The other files are from Katherine's CA, OR, and British Columbia populations.  \n",
    "  - CP-4Spl_S11_L004_R1_0343.fastq.gz  \n",
    "  - CP-4Spl_S11_L004_R2_0343.fastq.gz  \n",
    "  - CP-4Spl_S11_L004_R1_0348.fastq.gz \n",
    "  - CP-4Spl_S11_L004_R2_0348.fastq.gz "
   ]
  },
  {
   "cell_type": "code",
   "execution_count": 1,
   "metadata": {},
   "outputs": [
    {
     "name": "stdout",
     "output_type": "stream",
     "text": [
      "/Users/studentuser/Desktop/Laura/laura-quantseq/notebooks\r\n"
     ]
    }
   ],
   "source": [
    "! pwd"
   ]
  },
  {
   "cell_type": "code",
   "execution_count": 12,
   "metadata": {},
   "outputs": [
    {
     "name": "stdout",
     "output_type": "stream",
     "text": [
      "/Users/studentuser/Desktop/Laura/laura-quantseq/data\n"
     ]
    }
   ],
   "source": [
    "cd ../data"
   ]
  },
  {
   "cell_type": "code",
   "execution_count": 17,
   "metadata": {},
   "outputs": [
    {
     "name": "stdout",
     "output_type": "stream",
     "text": [
      "/Users/studentuser/Desktop/Laura/laura-quantseq/data\r\n"
     ]
    }
   ],
   "source": [
    "! pwd"
   ]
  },
  {
   "cell_type": "code",
   "execution_count": 18,
   "metadata": {},
   "outputs": [
    {
     "name": "stdout",
     "output_type": "stream",
     "text": [
      "  % Total    % Received % Xferd  Average Speed   Time    Time     Time  Current\n",
      "                                 Dload  Upload   Total   Spent    Left  Speed\n",
      "100 1672M  100 1672M    0     0  11.0M      0  0:02:31  0:02:31 --:--:-- 16.4M0     0  3866k      0  0:07:22  0:00:05  0:07:17 4104k7 1456M    0     0  11.1M      0  0:02:29  0:02:10  0:00:19 10.1M\n",
      "100 1859M  100 1859M    0     0  12.3M      0  0:02:30  0:02:30 --:--:-- 13.0MM    0     0  10.7M      0  0:02:52  0:00:21  0:02:31 15.2M42  941k51  957M    0     0  10.6M      0  0:02:53  0:01:29  0:01:24 10.2M   0     0  11.5M      0  0:02:40  0:01:51  0:00:49 12.8M\n",
      "100 1821M  100 1821M    0     0  12.4M      0  0:02:26  0:02:26 --:--:-- 15.1M    0     0  12.5M      0  0:02:24  0:00:53  0:01:31 12.9M  45  836M    0     0  12.5M      0  0:02:25  0:01:06  0:01:19 14.4M  0:02:26  0:01:09  0:01:17 13.5M:38 14.9MM    0     0  12.3M      0  0:02:27  0:01:52  0:00:35 15.0M\n",
      "100 1970M  100 1970M    0     0  14.2M      0  0:02:18  0:02:18 --:--:-- 8354k 1 27.8M    0     0  6782k      0  0:04:57  0:00:04  0:04:53 8899k0     0  11.6M      0  0:02:48  0:00:22  0:02:26 16.4M  30  602M    0     0  11.9M      0  0:02:44  0:00:50  0:01:54 11.5M\n"
     ]
    }
   ],
   "source": [
    "! curl -O -O -O -O \\\n",
    "http://owl.fish.washington.edu/nightingales/O_lurida/CP-4Spl_S11_L004_R1_0343.fastq.gz \\\n",
    "    http://owl.fish.washington.edu/nightingales/O_lurida/CP-4Spl_S11_L004_R1_0348.fastq.gz \\\n",
    "        http://owl.fish.washington.edu/nightingales/O_lurida/CP-4Spl_S11_L004_R2_0343.fastq.gz \\\n",
    "            http://owl.fish.washington.edu/nightingales/O_lurida/CP-4Spl_S11_L004_R2_0348.fastq.gz"
   ]
  },
  {
   "cell_type": "code",
   "execution_count": 19,
   "metadata": {},
   "outputs": [
    {
     "name": "stdout",
     "output_type": "stream",
     "text": [
      "CP-4Spl_S11_L004_R1_0343.fastq.gz  CP-4Spl_S11_L004_R2_0348.fastq.gz\r\n",
      "CP-4Spl_S11_L004_R1_0348.fastq.gz  README.md\r\n",
      "CP-4Spl_S11_L004_R2_0343.fastq.gz  \u001b[34mtest-data\u001b[m\u001b[m/\r\n"
     ]
    }
   ],
   "source": [
    "ls"
   ]
  },
  {
   "cell_type": "markdown",
   "metadata": {},
   "source": [
    "Compare md5 in downloaded files to the md5 stringlisted on Owl here: [checksums.md5](http://owl.fish.washington.edu/nightingales/O_lurida/checksums.md5)\n",
    "\n",
    "a0cda314b2c11bcc0d99b5e8bf67e2f0  CP-4Spl_S11_L004_R1_0343.fastq.gz\n",
    "307cdc0f096669e71a9032f9ca602b35  CP-4Spl_S11_L004_R1_0348.fastq.gz\n",
    "3186f8691eef8f810cc6799fe25cf9e7  CP-4Spl_S11_L004_R2_0343.fastq.gz\n",
    "b65e6146a66e03c47bb1fbc445034ed8  CP-4Spl_S11_L004_R2_0348.fastq.gz\n",
    "\n",
    "If files are the same, the result shows say MD5 (file) = (md5 string provided) "
   ]
  },
  {
   "cell_type": "code",
   "execution_count": 20,
   "metadata": {},
   "outputs": [
    {
     "name": "stdout",
     "output_type": "stream",
     "text": [
      "MD5 (CP-4Spl_S11_L004_R1_0343.fastq.gz) = a0cda314b2c11bcc0d99b5e8bf67e2f0\r\n"
     ]
    }
   ],
   "source": [
    "! md5 CP-4Spl_S11_L004_R1_0343.fastq.gz | grep -i a0cda314b2c11bcc0d99b5e8bf67e2f0"
   ]
  },
  {
   "cell_type": "code",
   "execution_count": 23,
   "metadata": {},
   "outputs": [
    {
     "name": "stdout",
     "output_type": "stream",
     "text": [
      "MD5 (CP-4Spl_S11_L004_R1_0348.fastq.gz) = 307cdc0f096669e71a9032f9ca602b35\r\n"
     ]
    }
   ],
   "source": [
    "! md5 CP-4Spl_S11_L004_R1_0348.fastq.gz | grep -i 307cdc0f096669e71a9032f9ca602b35"
   ]
  },
  {
   "cell_type": "code",
   "execution_count": 25,
   "metadata": {},
   "outputs": [
    {
     "name": "stdout",
     "output_type": "stream",
     "text": [
      "MD5 (CP-4Spl_S11_L004_R2_0343.fastq.gz) = 3186f8691eef8f810cc6799fe25cf9e7\r\n"
     ]
    }
   ],
   "source": [
    "! md5 CP-4Spl_S11_L004_R2_0343.fastq.gz | grep -i 3186f8691eef8f810cc6799fe25cf9e7"
   ]
  },
  {
   "cell_type": "code",
   "execution_count": 26,
   "metadata": {},
   "outputs": [
    {
     "name": "stdout",
     "output_type": "stream",
     "text": [
      "MD5 (CP-4Spl_S11_L004_R2_0348.fastq.gz) = b65e6146a66e03c47bb1fbc445034ed8\r\n"
     ]
    }
   ],
   "source": [
    "! md5 CP-4Spl_S11_L004_R2_0348.fastq.gz | grep -i b65e6146a66e03c47bb1fbc445034ed8"
   ]
  },
  {
   "cell_type": "markdown",
   "metadata": {},
   "source": [
    "Unzip the fastq files all at once, using the wildcard * and file format "
   ]
  },
  {
   "cell_type": "code",
   "execution_count": 28,
   "metadata": {},
   "outputs": [],
   "source": [
    "! gunzip  *.fastq.gz"
   ]
  },
  {
   "cell_type": "code",
   "execution_count": 29,
   "metadata": {},
   "outputs": [
    {
     "name": "stdout",
     "output_type": "stream",
     "text": [
      "CP-4Spl_S11_L004_R1_0343.fastq  CP-4Spl_S11_L004_R2_0348.fastq\r\n",
      "CP-4Spl_S11_L004_R1_0348.fastq  README.md\r\n",
      "CP-4Spl_S11_L004_R2_0343.fastq  \u001b[34mtest-data\u001b[m\u001b[m/\r\n"
     ]
    }
   ],
   "source": [
    "ls"
   ]
  },
  {
   "cell_type": "markdown",
   "metadata": {},
   "source": [
    "Trying to figure out if the \"2 reads\" from the same lane represent paired-end data.  If so, they should have the same number of lines: "
   ]
  },
  {
   "cell_type": "code",
   "execution_count": 30,
   "metadata": {},
   "outputs": [
    {
     "name": "stdout",
     "output_type": "stream",
     "text": [
      " 118488660 CP-4Spl_S11_L004_R1_0343.fastq\r\n"
     ]
    }
   ],
   "source": [
    "! wc -l CP-4Spl_S11_L004_R1_0343.fastq"
   ]
  },
  {
   "cell_type": "code",
   "execution_count": 31,
   "metadata": {},
   "outputs": [
    {
     "name": "stdout",
     "output_type": "stream",
     "text": [
      " 118488660 CP-4Spl_S11_L004_R2_0343.fastq\r\n"
     ]
    }
   ],
   "source": [
    "! wc -l CP-4Spl_S11_L004_R2_0343.fastq"
   ]
  },
  {
   "cell_type": "code",
   "execution_count": 32,
   "metadata": {},
   "outputs": [
    {
     "name": "stdout",
     "output_type": "stream",
     "text": [
      " 131217744 CP-4Spl_S11_L004_R1_0348.fastq\r\n"
     ]
    }
   ],
   "source": [
    "! wc -l CP-4Spl_S11_L004_R1_0348.fastq"
   ]
  },
  {
   "cell_type": "code",
   "execution_count": 33,
   "metadata": {},
   "outputs": [
    {
     "name": "stdout",
     "output_type": "stream",
     "text": [
      " 131217744 CP-4Spl_S11_L004_R2_0348.fastq\r\n"
     ]
    }
   ],
   "source": [
    "! wc -l CP-4Spl_S11_L004_R2_0348.fastq"
   ]
  },
  {
   "cell_type": "markdown",
   "metadata": {},
   "source": [
    "Yes, they do. Files ending with 0343 have 118488660 lines, and files ending in 0348 have 131217744. "
   ]
  },
  {
   "cell_type": "markdown",
   "metadata": {},
   "source": [
    "Use the `sickle` program to trim fastq file using sanger quality type. "
   ]
  },
  {
   "cell_type": "code",
   "execution_count": 34,
   "metadata": {},
   "outputs": [
    {
     "name": "stdout",
     "output_type": "stream",
     "text": [
      "\r\n",
      "FastQ records kept: 29616361\r\n",
      "FastQ records discarded: 5804\r\n",
      "\r\n"
     ]
    }
   ],
   "source": [
    "# Read 1 from lane 0343\n",
    "! sickle se -f CP-4Spl_S11_L004_R1_0343.fastq -t sanger -o CP-4Spl_S11_L004_R1_0343_sickle.fastq"
   ]
  },
  {
   "cell_type": "code",
   "execution_count": 35,
   "metadata": {},
   "outputs": [
    {
     "name": "stdout",
     "output_type": "stream",
     "text": [
      "\r\n",
      "FastQ records kept: 29130489\r\n",
      "FastQ records discarded: 491676\r\n",
      "\r\n"
     ]
    }
   ],
   "source": [
    "# Read 2 from lane 0343\n",
    "! sickle se -f CP-4Spl_S11_L004_R2_0343.fastq -t sanger -o CP-4Spl_S11_L004_R2_0343_sickle.fastq"
   ]
  },
  {
   "cell_type": "code",
   "execution_count": 36,
   "metadata": {},
   "outputs": [
    {
     "name": "stdout",
     "output_type": "stream",
     "text": [
      "\r\n",
      "FastQ records kept: 32798145\r\n",
      "FastQ records discarded: 6291\r\n",
      "\r\n"
     ]
    }
   ],
   "source": [
    "# Read 1 from lane 0348\n",
    "! sickle se -f CP-4Spl_S11_L004_R1_0348.fastq -t sanger -o CP-4Spl_S11_L004_R1_0348_sickle.fastq"
   ]
  },
  {
   "cell_type": "code",
   "execution_count": 37,
   "metadata": {},
   "outputs": [
    {
     "name": "stdout",
     "output_type": "stream",
     "text": [
      "\r\n",
      "FastQ records kept: 32307093\r\n",
      "FastQ records discarded: 497343\r\n",
      "\r\n"
     ]
    }
   ],
   "source": [
    "# Read 2 from lane 0348\n",
    "! sickle se -f CP-4Spl_S11_L004_R2_0348.fastq -t sanger -o CP-4Spl_S11_L004_R2_0348_sickle.fastq"
   ]
  },
  {
   "cell_type": "markdown",
   "metadata": {},
   "source": [
    "For both lanes, many more records were discarded from read 2. "
   ]
  },
  {
   "cell_type": "markdown",
   "metadata": {},
   "source": [
    "Use `seqtk` to trim"
   ]
  },
  {
   "cell_type": "code",
   "execution_count": 38,
   "metadata": {},
   "outputs": [],
   "source": [
    "! seqtk trimfq CP-4Spl_S11_L004_R1_0343.fastq > CP-4Spl_S11_L004_R1_0343_trimfq.fastq"
   ]
  },
  {
   "cell_type": "code",
   "execution_count": 39,
   "metadata": {},
   "outputs": [],
   "source": [
    "! seqtk trimfq CP-4Spl_S11_L004_R2_0343.fastq > CP-4Spl_S11_L004_R2_0343_trimfq.fastq"
   ]
  },
  {
   "cell_type": "code",
   "execution_count": 40,
   "metadata": {},
   "outputs": [],
   "source": [
    "! seqtk trimfq CP-4Spl_S11_L004_R1_0348.fastq > CP-4Spl_S11_L004_R1_0348_trimfq.fastq"
   ]
  },
  {
   "cell_type": "code",
   "execution_count": 46,
   "metadata": {},
   "outputs": [
    {
     "name": "stdout",
     "output_type": "stream",
     "text": [
      "/bin/sh: /Users/studentuser/trimmed/CP-4Spl_S11_L004_R2_0348_trimfq.fastq: No such file or directory\r\n"
     ]
    }
   ],
   "source": [
    "! seqtk trimfq CP-4Spl_S11_L004_R2_0348.fastq > CP-4Spl_S11_L004_R2_0348_trimfq.fastq"
   ]
  },
  {
   "cell_type": "code",
   "execution_count": 43,
   "metadata": {},
   "outputs": [
    {
     "name": "stdout",
     "output_type": "stream",
     "text": [
      "CP-4Spl_S11_L004_R1_0343.fastq         CP-4Spl_S11_L004_R2_0343_sickle.fastq\r\n",
      "CP-4Spl_S11_L004_R1_0343_sickle.fastq  CP-4Spl_S11_L004_R2_0343_trimfq.fastq\r\n",
      "CP-4Spl_S11_L004_R1_0343_trimfq.fastq  CP-4Spl_S11_L004_R2_0348.fastq\r\n",
      "CP-4Spl_S11_L004_R1_0348.fastq         CP-4Spl_S11_L004_R2_0348_sickle.fastq\r\n",
      "CP-4Spl_S11_L004_R1_0348_sickle.fastq  CP-4Spl_S11_L004_R2_0348_trimfq.fastq\r\n",
      "CP-4Spl_S11_L004_R1_0348_trimfq.fastq  README.md\r\n",
      "CP-4Spl_S11_L004_R2_0343.fastq         \u001b[34mtest-data\u001b[m\u001b[m/\r\n"
     ]
    }
   ],
   "source": [
    "ls"
   ]
  },
  {
   "cell_type": "code",
   "execution_count": 42,
   "metadata": {},
   "outputs": [
    {
     "name": "stdout",
     "output_type": "stream",
     "text": [
      "@K00242:343:HNFNJBBXX:4:1101:1093:1138 1:N:0:NGGCTTCA\r\n",
      "CTCCAAAACATTTCCACAAAAACCCCCAAAACATTCCTCATACTTGTTGTAGCTATTATTACAAACTAGAAAGTAAAACAGCAATGGGCTCATGGTAAAT\r\n",
      "+\r\n",
      "AAAFFJJJJJJJJJJJJJJJJJJJJJJFJJJJJJJJJJJFFJJJJJFJJFJJJ<JFFJJFJJJJJJJJJJJJJJJJJJJJJJJFFJJJJ7F<FJJJJJJF\r\n",
      "@K00242:343:HNFNJBBXX:4:1101:1154:1138 1:N:0:TGGCTTCA\r\n",
      "GTGAGATTTTCCCAGCGCTCCGACCAGCCGATGGCAAGTGGTTTCTCACTTCCTGACCGTGCCAATTTAGAAGGACCACATGATCATGCTTGCCAGGTAT\r\n",
      "+\r\n",
      "AA<FAFJJJJJJFAJJFJAAJA<JJJ<FJFAJFJFJJJ-J-<FFJ<JFJJJJJJFJJJFJFFJJJ-FJJJJJJ7FJJJJJJF7FJ-A---7-77A<JFF-\r\n",
      "@K00242:343:HNFNJBBXX:4:1101:1215:1138 1:N:0:TGGCTTCA\r\n",
      "CCTCATAAAACCAGAACTTGAAGTTACCAAGCAGAAAAGAATGACGGTTATCCGAACAACGTTCATAAAGAATATCAACGACTGGTACTCTACGAGTTCC\r\n",
      "+\r\n",
      "AA-A<FA<<FAFA-<AFJJJ-7FJJJ7FJFJFF<<FF-FFJJFJFAJ-AFAA<FJAJF-<77<FAFJ<-FJJFJJJJAJFJJA<JJJ<<AFJ-FJ-AAAF\r\n",
      "@K00242:343:HNFNJBBXX:4:1101:2128:1138 1:N:0:TGGCTTCA\r\n",
      "CCGGGTTCTGTCGCTGACGTCATCGTACCCGTCGTCTGACGCGGCGTTAGCGATGTTAACGATTGTAGTGGTAGGGACATTCAGGTACATCCCGAGCATT\r\n",
      "+\r\n",
      "AAFFFJJJJFFJJJJJFJJFJJJJJJJJJJJJJJJJJJJJJJJJJJ<FJJJJJFAJJJJJJJJFF<JJAFJJFJJJFJJFJJJJJJJJJFJJJJJFFFAJ\r\n",
      "@K00242:343:HNFNJBBXX:4:1101:2331:1138 1:N:0:TGGCTTCA\r\n",
      "GTCATCATCGTGCTCATTGACGTGCGCCTCCGGAAGTGATCCCTTTTCTTCACACAACCCAGTGCATGGTGGCAGAGATCTTCAGTGCAGTTACAATCTG\r\n",
      "+\r\n",
      "AAFFFJFJJJJJJJJJJJJJJJJJJJJJJJJJJJJJJJJ-FJJJJJJJJJJJJJJJJJJJFJJJJJJJJJJJJJJJJFJJJJJFFFAJJJJJJJJJFAAJ\r\n"
     ]
    }
   ],
   "source": [
    "! head -20 CP-4Spl_S11_L004_R1_0343.fastq"
   ]
  },
  {
   "cell_type": "markdown",
   "metadata": {},
   "source": []
  },
  {
   "cell_type": "markdown",
   "metadata": {},
   "source": [
    "Resulting trimmed files will be analyzed in RMarkdown using the `qrqc` library [Markdown notebook](). Also will check out the untrimmed file using fastqc, and possibly use another program like trim galore. "
   ]
  }
 ],
 "metadata": {
  "kernelspec": {
   "display_name": "Python 3",
   "language": "python",
   "name": "python3"
  },
  "language_info": {
   "codemirror_mode": {
    "name": "ipython",
    "version": 3
   },
   "file_extension": ".py",
   "mimetype": "text/x-python",
   "name": "python",
   "nbconvert_exporter": "python",
   "pygments_lexer": "ipython3",
   "version": "3.7.0"
  }
 },
 "nbformat": 4,
 "nbformat_minor": 2
}
