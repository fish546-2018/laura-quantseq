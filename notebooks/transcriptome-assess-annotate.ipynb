{
 "cells": [
  {
   "cell_type": "markdown",
   "metadata": {},
   "source": [
    "## Notebook to assess transcriptome assembly and annotate \n",
    "\n",
    "Prior to this notebook I rsynced all the Trinity output files (lots of them) to Owl in [/generosa/2018-Oly-gonad-assembly/20181029_Trinity/](http://owl.fish.washington.edu/generosa/2018-Oly-gonad-assembly/20181029_Trinity/)."
   ]
  },
  {
   "cell_type": "code",
   "execution_count": 43,
   "metadata": {},
   "outputs": [
    {
     "name": "stdout",
     "output_type": "stream",
     "text": [
      "  % Total    % Received % Xferd  Average Speed   Time    Time     Time  Current\n",
      "                                 Dload  Upload   Total   Spent    Left  Speed\n",
      "100  162M  100  162M    0     0   991k      0  0:02:48  0:02:48 --:--:-- 1366k   0  0:03:04  0:00:53  0:02:11 1437k:03:10  0:01:34  0:01:36  894k:18  784k   887k      0  0:03:07  0:02:05  0:01:02 1053k\n"
     ]
    }
   ],
   "source": [
    "!curl \\\n",
    "http://owl.fish.washington.edu/generosa/2018-Oly-gonad-assembly/20181029_Trinity/Trinity.fasta \\\n",
    "> ../results/trinity/20181029-olurida-gonad-assembly.fasta"
   ]
  },
  {
   "cell_type": "code",
   "execution_count": 44,
   "metadata": {},
   "outputs": [
    {
     "name": "stdout",
     "output_type": "stream",
     "text": [
      "  % Total    % Received % Xferd  Average Speed   Time    Time     Time  Current\n",
      "                                 Dload  Upload   Total   Spent    Left  Speed\n",
      "100    56  100    56    0     0     87      0 --:--:-- --:--:-- --:--:--    87\n"
     ]
    }
   ],
   "source": [
    "!curl \\\n",
    "http://owl.fish.washington.edu/generosa/2018-Oly-gonad-assembly/20181029_Trinity/Trinity.fasta.shasum.txt \\\n",
    "> ../results/trinity/20181029-olurida-gonad-assembly-shasum.txt"
   ]
  },
  {
   "cell_type": "code",
   "execution_count": 38,
   "metadata": {},
   "outputs": [
    {
     "data": {
      "text/plain": [
       "'/Users/lhs3/Desktop/laura-quantseq/notebooks'"
      ]
     },
     "execution_count": 38,
     "metadata": {},
     "output_type": "execute_result"
    }
   ],
   "source": [
    "pwd"
   ]
  },
  {
   "cell_type": "code",
   "execution_count": 45,
   "metadata": {},
   "outputs": [
    {
     "name": "stdout",
     "output_type": "stream",
     "text": [
      "06c996f75944389ce5d7d2bce64f278fbe27b208  Trinity.fasta\r\n"
     ]
    }
   ],
   "source": [
    "# shasum of trinity fasta file, transferred directly from Mox\n",
    "! cat ../results/trinity/20181029-olurida-gonad-assembly-shasum.txt"
   ]
  },
  {
   "cell_type": "code",
   "execution_count": 46,
   "metadata": {},
   "outputs": [
    {
     "name": "stdout",
     "output_type": "stream",
     "text": [
      "06c996f75944389ce5d7d2bce64f278fbe27b208  ../results/trinity/20181029-olurida-gonad-assembly.fasta\r\n"
     ]
    }
   ],
   "source": [
    "# Compare transcritome fasta file on ostrich to the original on mox using shasum \n",
    "! shasum ../results/trinity/20181029-olurida-gonad-assembly.fasta"
   ]
  },
  {
   "cell_type": "code",
   "execution_count": 47,
   "metadata": {},
   "outputs": [
    {
     "name": "stdout",
     "output_type": "stream",
     "text": [
      "181531\r\n"
     ]
    }
   ],
   "source": [
    "! grep -c \">\" ../results/trinity/20181029-olurida-gonad-assembly.fasta"
   ]
  },
  {
   "cell_type": "markdown",
   "metadata": {},
   "source": [
    "## Install `transrate` to inspect assembly\n",
    "I downloaded the OSX package to ostrich, unpacked it and moved it to my user's desktop bioinformatics directory. (bioinf/)"
   ]
  },
  {
   "cell_type": "code",
   "execution_count": 29,
   "metadata": {},
   "outputs": [],
   "source": [
    "transrate = \"/Users/lhs3/Desktop/bioinf/transrate-1.0.3-osx/\""
   ]
  },
  {
   "cell_type": "code",
   "execution_count": 31,
   "metadata": {},
   "outputs": [
    {
     "name": "stdout",
     "output_type": "stream",
     "text": [
      "           _                                        _\r\n",
      "          | |_  _ __  __ _  _ __   ___  _ __  __ _ | |_  ___\r\n",
      "\u001b[0;32;49m░▓▓▓^▓▓▓░\u001b[0m | __|| '__|/ _` || '_ \\ / __|| '__|/ _` || __|/ _ \\ \u001b[0;32;49m░▓▓▓^▓▓▓░\u001b[0m\r\n",
      "\u001b[0;33;49m░▓▓▓^▓▓▓░\u001b[0m | |_ | |  | (_| || | | |\\__ \\| |  | (_| || |_|  __/ \u001b[0;33;49m░▓▓▓^▓▓▓░\u001b[0m\r\n",
      "\u001b[0;31;49m░▓▓▓^▓▓▓░\u001b[0m  \\__||_|   \\__,_||_| |_||___/|_|   \\__,_| \\__|\\___| \u001b[0;31;49m░▓▓▓^▓▓▓░\u001b[0m\r\n",
      "\r\n",
      "Transrate v1.0.3\r\n",
      "by Richard Smith-Unna, Chris Boursnell, Rob Patro,\r\n",
      "   Julian Hibberd, and Steve Kelly\r\n",
      "\r\n",
      "DESCRIPTION:\r\n",
      "Analyse a de-novo transcriptome assembly using three kinds of metrics:\r\n",
      "\r\n",
      "1. sequence based (if --assembly is given)\r\n",
      "2. read mapping based (if --left and --right are given)\r\n",
      "3. reference based (if --reference is given)\r\n",
      "\r\n",
      "Documentation at http://hibberdlab.com/transrate\r\n",
      "\r\n",
      "USAGE:\r\n",
      "transrate <options>\r\n",
      "\r\n",
      "OPTIONS:\r\n",
      "  --assembly=<s>            Assembly file(s) in FASTA format, comma-separated\r\n",
      "  --left=<s>                Left reads file(s) in FASTQ format, comma-separated\r\n",
      "  --right=<s>               Right reads file(s) in FASTQ format,\r\n",
      "                            comma-separated\r\n",
      "  --reference=<s>           Reference proteome or transcriptome file in FASTA\r\n",
      "                            format\r\n",
      "  --threads=<i>             Number of threads to use (default: 8)\r\n",
      "  --merge-assemblies=<s>    Merge best contigs from multiple assemblies into\r\n",
      "                            file\r\n",
      "  --output=<s>              Directory where results are output (will be\r\n",
      "                            created) (default: transrate_results)\r\n",
      "  --loglevel=<s>            Log level. One of [error, info, warn, debug]\r\n",
      "                            (default: info)\r\n",
      "  --install-deps=<s>        Install any missing dependencies. One of [ref]\r\n",
      "  --examples                Show some example commands with explanations\r\n"
     ]
    }
   ],
   "source": [
    "! {transrate}transrate --help"
   ]
  },
  {
   "cell_type": "code",
   "execution_count": 36,
   "metadata": {},
   "outputs": [
    {
     "name": "stdout",
     "output_type": "stream",
     "text": [
      "[ INFO] 2018-11-08 17:29:25 : Loading assembly: /Users/lhs3/Desktop/mox-transfer/2018-11-01/Trinity.fasta\n",
      "[ INFO] 2018-11-08 17:29:45 : Analysing assembly: /Users/lhs3/Desktop/mox-transfer/2018-11-01/Trinity.fasta\n",
      "[ INFO] 2018-11-08 17:29:45 : Results will be saved in /Users/lhs3/Desktop/laura-quantseq/results/transrate_results/Trinity\n",
      "[ INFO] 2018-11-08 17:29:45 : Calculating contig metrics...\n",
      "[ INFO] 2018-11-08 17:30:04 : Contig metrics:\n",
      "[ INFO] 2018-11-08 17:30:04 : -----------------------------------\n",
      "[ INFO] 2018-11-08 17:30:04 : n seqs                       181531\n",
      "[ INFO] 2018-11-08 17:30:04 : smallest                        180\n",
      "[ INFO] 2018-11-08 17:30:04 : largest                       11860\n",
      "[ INFO] 2018-11-08 17:30:04 : n bases                   154611548\n",
      "[ INFO] 2018-11-08 17:30:04 : mean len                     851.65\n",
      "[ INFO] 2018-11-08 17:30:04 : n under 200                      58\n",
      "[ INFO] 2018-11-08 17:30:04 : n over 1k                     47893\n",
      "[ INFO] 2018-11-08 17:30:04 : n over 10k                       12\n",
      "[ INFO] 2018-11-08 17:30:04 : n with orf                    49237\n",
      "[ INFO] 2018-11-08 17:30:04 : mean orf percent              55.67\n",
      "[ INFO] 2018-11-08 17:30:04 : n90                             321\n",
      "[ INFO] 2018-11-08 17:30:04 : n70                             808\n",
      "[ INFO] 2018-11-08 17:30:04 : n50                            1493\n",
      "[ INFO] 2018-11-08 17:30:04 : n30                            2355\n",
      "[ INFO] 2018-11-08 17:30:04 : n10                            3958\n",
      "[ INFO] 2018-11-08 17:30:04 : gc                              0.4\n",
      "[ INFO] 2018-11-08 17:30:04 : bases n                           0\n",
      "[ INFO] 2018-11-08 17:30:04 : proportion n                    0.0\n",
      "[ INFO] 2018-11-08 17:30:04 : Contig metrics done in 18 seconds\n",
      "[ INFO] 2018-11-08 17:30:04 : No reads provided, skipping read diagnostics\n",
      "[ INFO] 2018-11-08 17:30:04 : No reference provided, skipping comparative diagnostics\n",
      "[ INFO] 2018-11-08 17:30:04 : Writing contig metrics for each contig to /Users/lhs3/Desktop/laura-quantseq/results/transrate_results/Trinity/contigs.csv\n",
      "[ INFO] 2018-11-08 17:30:11 : Writing analysis results to assemblies.csv\n"
     ]
    }
   ],
   "source": [
    "! {transrate}transrate \\\n",
    "--output=../results/transrate_results/ \\\n",
    "--assembly ../results/trinity/20181029-olurida-gonad-assembly.fasta"
   ]
  },
  {
   "cell_type": "markdown",
   "metadata": {},
   "source": [
    "### Download the trimmed, normalized read files for read-assisted assembly inspection using `transrate`"
   ]
  },
  {
   "cell_type": "code",
   "execution_count": 48,
   "metadata": {},
   "outputs": [
    {
     "name": "stdout",
     "output_type": "stream",
     "text": [
      "  % Total    % Received % Xferd  Average Speed   Time    Time     Time  Current\n",
      "                                 Dload  Upload   Total   Spent    Left  Speed\n",
      "100 5075M  100 5075M    0     0  26.0M      0  0:03:14  0:03:14 --:--:-- 17.8M   0  0:03:10  0:01:13  0:01:57 21.9M   0  28.4M      0  0:02:58  0:01:33  0:01:25 42.4M.7M      0  0:02:56  0:02:02  0:00:54 38.8M26.3M      0  0:03:12  0:03:09  0:00:03 35.1M\n"
     ]
    }
   ],
   "source": [
    "!curl \\\n",
    "http://owl.fish.washington.edu/generosa/2018-Oly-gonad-assembly/20181029_Trinity/insilico_read_normalization/CP-4Spl_S11_L004_R1_0343.fastq.gz.PwU.qtrim.fq_ext_all_reads.normalized_K25_maxC200_minC1_pctSD10000.fq \\\n",
    "> ../results/trinity/20181029-olurida-gonad-trimnorm-left.fq"
   ]
  },
  {
   "cell_type": "code",
   "execution_count": 49,
   "metadata": {},
   "outputs": [
    {
     "name": "stdout",
     "output_type": "stream",
     "text": [
      "  % Total    % Received % Xferd  Average Speed   Time    Time     Time  Current\n",
      "                                 Dload  Upload   Total   Spent    Left  Speed\n",
      "100 5074M  100 5074M    0     0  14.9M      0  0:05:42  0:05:38  0:00:04 27.0M     0  0:03:04  0:00:05  0:02:59 27.5M    0  0:04:46  0:01:29  0:03:17 25.6M  0:02:57 13.0M 18.1M      0  0:04:40  0:02:01  0:02:39 8269k 0  16.6M      0  0:05:05  0:02:26  0:02:39 8515k 0:03:28  0:01:51 5651k15.5M      0  0:05:27  0:03:36  0:01:51 4527k  0:05:40  0:03:56  0:01:44 6196k:46  0:05:34  0:00:12 12.4M39  0:05:39 --:--:-- 38.6M\n"
     ]
    }
   ],
   "source": [
    "!curl \\\n",
    "http://owl.fish.washington.edu/generosa/2018-Oly-gonad-assembly/20181029_Trinity/insilico_read_normalization/CP-4Spl_S11_L004_R2_0343.fastq.gz.PwU.qtrim.fq_ext_all_reads.normalized_K25_maxC200_minC1_pctSD10000.fq \\\n",
    "> ../results/trinity/20181029-olurida-gonad-trimnorm-right.fq"
   ]
  },
  {
   "cell_type": "code",
   "execution_count": 50,
   "metadata": {},
   "outputs": [
    {
     "name": "stdout",
     "output_type": "stream",
     "text": [
      "@K00242:343:HNFNJBBXX:4:1101:1093:1138 1:N:0:NGGCTTCA\r\n",
      "CTCCAAAACATTTCCACAAAAACCCCCAAAACATTCCTCATACTTGTTGTAGCTATTATTACAAACTAGAAAGTAAAACAGCAATGGGCTCATGGTAAAT\r\n",
      "+\r\n",
      "AAAFFJJJJJJJJJJJJJJJJJJJJJJFJJJJJJJJJJJFFJJJJJFJJFJJJ<JFFJJFJJJJJJJJJJJJJJJJJJJJJJJFFJJJJ7F<FJJJJJJF\r\n",
      "@K00242:343:HNFNJBBXX:4:1101:1215:1138 1:N:0:TGGCTTCA\r\n",
      "CCTCATAAAACCAGAACTTGAAGTTACCAAGCAGAAAAGAATGACGGTTATCCGAACAACGTTCATAAAGAATATCAACGACTGGTACTCTACGAGTTCC\r\n",
      "+\r\n",
      "AA-A<FA<<FAFA-<AFJJJ-7FJJJ7FJFJFF<<FF-FFJJFJFAJ-AFAA<FJAJF-<77<FAFJ<-FJJFJJJJAJFJJA<JJJ<<AFJ-FJ-AAAF\r\n",
      "@K00242:343:HNFNJBBXX:4:1101:2331:1138 1:N:0:TGGCTTCA\r\n",
      "GTCATCATCGTGCTCATTGACGTGCGCCTCCGGAAGTGATCCCTTTTCTTCACACAACCCAGTGCATGGTGGCAGAGATCTTCAGTGCAGTTACAATCTG\r\n"
     ]
    }
   ],
   "source": [
    "! head ../results/trinity/20181029-olurida-gonad-trimnorm-left.fq"
   ]
  },
  {
   "cell_type": "markdown",
   "metadata": {},
   "source": [
    "### Evaluate assembly using RNAseq reads."
   ]
  },
  {
   "cell_type": "code",
   "execution_count": 51,
   "metadata": {},
   "outputs": [
    {
     "name": "stdout",
     "output_type": "stream",
     "text": [
      "README.md          \u001b[34mblast\u001b[m\u001b[m/             \u001b[34mtransrate_results\u001b[m\u001b[m/ \u001b[34mtrinity\u001b[m\u001b[m/\r\n"
     ]
    }
   ],
   "source": [
    "ls ../results/"
   ]
  },
  {
   "cell_type": "code",
   "execution_count": 53,
   "metadata": {},
   "outputs": [
    {
     "name": "stdout",
     "output_type": "stream",
     "text": [
      "[ INFO] 2018-11-08 19:43:34 : Loading assembly: /Users/lhs3/Desktop/laura-quantseq/results/trinity/20181029-olurida-gonad-assembly.fasta\n",
      "[ INFO] 2018-11-08 19:43:54 : Analysing assembly: /Users/lhs3/Desktop/laura-quantseq/results/trinity/20181029-olurida-gonad-assembly.fasta\n",
      "[ INFO] 2018-11-08 19:43:54 : Results will be saved in /Users/lhs3/Desktop/laura-quantseq/results/transrate_results/read-evaluated/20181029-olurida-gonad-assembly\n",
      "[ INFO] 2018-11-08 19:43:54 : Calculating contig metrics...\n",
      "[ INFO] 2018-11-08 19:44:13 : Contig metrics:\n",
      "[ INFO] 2018-11-08 19:44:13 : -----------------------------------\n",
      "[ INFO] 2018-11-08 19:44:13 : n seqs                       181531\n",
      "[ INFO] 2018-11-08 19:44:13 : smallest                        180\n",
      "[ INFO] 2018-11-08 19:44:13 : largest                       11860\n",
      "[ INFO] 2018-11-08 19:44:13 : n bases                   154611548\n",
      "[ INFO] 2018-11-08 19:44:13 : mean len                     851.65\n",
      "[ INFO] 2018-11-08 19:44:13 : n under 200                      58\n",
      "[ INFO] 2018-11-08 19:44:13 : n over 1k                     47893\n",
      "[ INFO] 2018-11-08 19:44:13 : n over 10k                       12\n",
      "[ INFO] 2018-11-08 19:44:13 : n with orf                    49237\n",
      "[ INFO] 2018-11-08 19:44:13 : mean orf percent              55.67\n",
      "[ INFO] 2018-11-08 19:44:13 : n90                             321\n",
      "[ INFO] 2018-11-08 19:44:13 : n70                             808\n",
      "[ INFO] 2018-11-08 19:44:13 : n50                            1493\n",
      "[ INFO] 2018-11-08 19:44:13 : n30                            2355\n",
      "[ INFO] 2018-11-08 19:44:13 : n10                            3958\n",
      "[ INFO] 2018-11-08 19:44:13 : gc                              0.4\n",
      "[ INFO] 2018-11-08 19:44:13 : bases n                           0\n",
      "[ INFO] 2018-11-08 19:44:13 : proportion n                    0.0\n",
      "[ INFO] 2018-11-08 19:44:13 : Contig metrics done in 18 seconds\n",
      "[ INFO] 2018-11-08 19:44:13 : Calculating read diagnostics...\n",
      "[ INFO] 2018-11-08 19:59:13 : Read mapping metrics:\n",
      "[ INFO] 2018-11-08 19:59:13 : -----------------------------------\n",
      "[ INFO] 2018-11-08 19:59:13 : fragments                  20505725\n",
      "[ INFO] 2018-11-08 19:59:13 : fragments mapped            2222291\n",
      "[ INFO] 2018-11-08 19:59:13 : p fragments mapped             0.11\n",
      "[ INFO] 2018-11-08 19:59:13 : good mappings               2056238\n",
      "[ INFO] 2018-11-08 19:59:13 : p good mapping                  0.1\n",
      "[ INFO] 2018-11-08 19:59:13 : bad mappings                 166053\n",
      "[ INFO] 2018-11-08 19:59:13 : potential bridges             12643\n",
      "[ INFO] 2018-11-08 19:59:13 : bases uncovered            74902016\n",
      "[ INFO] 2018-11-08 19:59:13 : p bases uncovered              0.48\n",
      "[ INFO] 2018-11-08 19:59:13 : contigs uncovbase            180011\n",
      "[ INFO] 2018-11-08 19:59:13 : p contigs uncovbase            0.99\n",
      "[ INFO] 2018-11-08 19:59:13 : contigs uncovered            130695\n",
      "[ INFO] 2018-11-08 19:59:13 : p contigs uncovered            0.72\n",
      "[ INFO] 2018-11-08 19:59:13 : contigs lowcovered           178653\n",
      "[ INFO] 2018-11-08 19:59:13 : p contigs lowcovered           0.98\n",
      "[ INFO] 2018-11-08 19:59:13 : contigs segmented              2747\n",
      "[ INFO] 2018-11-08 19:59:13 : p contigs segmented            0.02\n",
      "[ INFO] 2018-11-08 19:59:13 : Read metrics done in 900 seconds\n",
      "[ INFO] 2018-11-08 19:59:13 : No reference provided, skipping comparative diagnostics\n",
      "[ INFO] 2018-11-08 19:59:31 : TRANSRATE ASSEMBLY SCORE     0.0065\n",
      "[ INFO] 2018-11-08 19:59:31 : -----------------------------------\n",
      "[ INFO] 2018-11-08 19:59:31 : TRANSRATE OPTIMAL SCORE      0.0568\n",
      "[ INFO] 2018-11-08 19:59:31 : TRANSRATE OPTIMAL CUTOFF     0.4823\n",
      "[ INFO] 2018-11-08 19:59:31 : good contigs                  54015\n",
      "[ INFO] 2018-11-08 19:59:31 : p good contigs                  0.3\n",
      "[ INFO] 2018-11-08 19:59:31 : Writing contig metrics for each contig to /Users/lhs3/Desktop/laura-quantseq/results/transrate_results/read-evaluated/20181029-olurida-gonad-assembly/contigs.csv\n",
      "[ INFO] 2018-11-08 19:59:46 : Writing analysis results to assemblies.csv\n"
     ]
    }
   ],
   "source": [
    "! {transrate}transrate --assembly ../results/trinity/20181029-olurida-gonad-assembly.fasta \\\n",
    "--left ../results/trinity/20181029-olurida-gonad-trimnorm-left.fq \\\n",
    "--right ../results/trinity/20181029-olurida-gonad-trimnorm-right.fq \\\n",
    "--output=../results/transrate_results/read-evaluated/"
   ]
  },
  {
   "cell_type": "markdown",
   "metadata": {},
   "source": [
    "## Blast transcriptome fasta file against Uniprot database to annotate "
   ]
  },
  {
   "cell_type": "code",
   "execution_count": 5,
   "metadata": {},
   "outputs": [],
   "source": [
    "# create path variable to blast directory \n",
    "bldir = \"/Users/lhs3/Desktop/bioinf/ncbi-blast-2.7.1+/bin/\""
   ]
  },
  {
   "cell_type": "code",
   "execution_count": 7,
   "metadata": {},
   "outputs": [
    {
     "name": "stdout",
     "output_type": "stream",
     "text": [
      "USAGE\r\n",
      "  blastx [-h] [-help] [-import_search_strategy filename]\r\n",
      "    [-export_search_strategy filename] [-task task_name] [-db database_name]\r\n",
      "    [-dbsize num_letters] [-gilist filename] [-seqidlist filename]\r\n",
      "    [-negative_gilist filename] [-negative_seqidlist filename]\r\n",
      "    [-entrez_query entrez_query] [-db_soft_mask filtering_algorithm]\r\n",
      "    [-db_hard_mask filtering_algorithm] [-subject subject_input_file]\r\n",
      "    [-subject_loc range] [-query input_file] [-out output_file]\r\n",
      "    [-evalue evalue] [-word_size int_value] [-gapopen open_penalty]\r\n",
      "    [-gapextend extend_penalty] [-qcov_hsp_perc float_value]\r\n",
      "    [-max_hsps int_value] [-xdrop_ungap float_value] [-xdrop_gap float_value]\r\n",
      "    [-xdrop_gap_final float_value] [-searchsp int_value]\r\n",
      "    [-sum_stats bool_value] [-max_intron_length length] [-seg SEG_options]\r\n",
      "    [-soft_masking soft_masking] [-matrix matrix_name]\r\n",
      "    [-threshold float_value] [-culling_limit int_value]\r\n",
      "    [-best_hit_overhang float_value] [-best_hit_score_edge float_value]\r\n",
      "    [-window_size int_value] [-ungapped] [-lcase_masking] [-query_loc range]\r\n",
      "    [-strand strand] [-parse_deflines] [-query_gencode int_value]\r\n",
      "    [-outfmt format] [-show_gis] [-num_descriptions int_value]\r\n",
      "    [-num_alignments int_value] [-line_length line_length] [-html]\r\n",
      "    [-max_target_seqs num_sequences] [-num_threads int_value] [-remote]\r\n",
      "    [-comp_based_stats compo] [-use_sw_tback] [-version]\r\n",
      "\r\n",
      "DESCRIPTION\r\n",
      "   Translated Query-Protein Subject BLAST 2.7.1+\r\n",
      "\r\n",
      "OPTIONAL ARGUMENTS\r\n",
      " -h\r\n",
      "   Print USAGE and DESCRIPTION;  ignore all other parameters\r\n",
      " -help\r\n",
      "   Print USAGE, DESCRIPTION and ARGUMENTS; ignore all other parameters\r\n",
      " -version\r\n",
      "   Print version number;  ignore other arguments\r\n",
      "\r\n",
      " *** Input query options\r\n",
      " -query <File_In>\r\n",
      "   Input file name\r\n",
      "   Default = `-'\r\n",
      " -query_loc <String>\r\n",
      "   Location on the query sequence in 1-based offsets (Format: start-stop)\r\n",
      " -strand <String, `both', `minus', `plus'>\r\n",
      "   Query strand(s) to search against database/subject\r\n",
      "   Default = `both'\r\n",
      " -query_gencode <Integer, values between: 1-6, 9-16, 21-25>\r\n",
      "   Genetic code to use to translate query (see user manual for details)\r\n",
      "   Default = `1'\r\n",
      "\r\n",
      " *** General search options\r\n",
      " -task <String, Permissible values: 'blastx' 'blastx-fast' >\r\n",
      "   Task to execute\r\n",
      "   Default = `blastx'\r\n",
      " -db <String>\r\n",
      "   BLAST database name\r\n",
      "    * Incompatible with:  subject, subject_loc\r\n",
      " -out <File_Out>\r\n",
      "   Output file name\r\n",
      "   Default = `-'\r\n",
      " -evalue <Real>\r\n",
      "   Expectation value (E) threshold for saving hits \r\n",
      "   Default = `10'\r\n",
      " -word_size <Integer, >=2>\r\n",
      "   Word size for wordfinder algorithm\r\n",
      " -gapopen <Integer>\r\n",
      "   Cost to open a gap\r\n",
      " -gapextend <Integer>\r\n",
      "   Cost to extend a gap\r\n",
      " -max_intron_length <Integer, >=0>\r\n",
      "   Length of the largest intron allowed in a translated nucleotide sequence\r\n",
      "   when linking multiple distinct alignments\r\n",
      "   Default = `0'\r\n",
      " -matrix <String>\r\n",
      "   Scoring matrix name (normally BLOSUM62)\r\n",
      " -threshold <Real, >=0>\r\n",
      "   Minimum word score such that the word is added to the BLAST lookup table\r\n",
      " -comp_based_stats <String>\r\n",
      "   Use composition-based statistics:\r\n",
      "       D or d: default (equivalent to 2 )\r\n",
      "       0 or F or f: No composition-based statistics\r\n",
      "       1: Composition-based statistics as in NAR 29:2994-3005, 2001\r\n",
      "       2 or T or t : Composition-based score adjustment as in Bioinformatics\r\n",
      "   21:902-911,\r\n",
      "       2005, conditioned on sequence properties\r\n",
      "       3: Composition-based score adjustment as in Bioinformatics 21:902-911,\r\n",
      "       2005, unconditionally\r\n",
      "   Default = `2'\r\n",
      "\r\n",
      " *** BLAST-2-Sequences options\r\n",
      " -subject <File_In>\r\n",
      "   Subject sequence(s) to search\r\n",
      "    * Incompatible with:  db, gilist, seqidlist, negative_gilist,\r\n",
      "   negative_seqidlist, db_soft_mask, db_hard_mask\r\n",
      " -subject_loc <String>\r\n",
      "   Location on the subject sequence in 1-based offsets (Format: start-stop)\r\n",
      "    * Incompatible with:  db, gilist, seqidlist, negative_gilist,\r\n",
      "   negative_seqidlist, db_soft_mask, db_hard_mask, remote\r\n",
      "\r\n",
      " *** Formatting options\r\n",
      " -outfmt <String>\r\n",
      "   alignment view options:\r\n",
      "     0 = Pairwise,\r\n",
      "     1 = Query-anchored showing identities,\r\n",
      "     2 = Query-anchored no identities,\r\n",
      "     3 = Flat query-anchored showing identities,\r\n",
      "     4 = Flat query-anchored no identities,\r\n",
      "     5 = BLAST XML,\r\n",
      "     6 = Tabular,\r\n",
      "     7 = Tabular with comment lines,\r\n",
      "     8 = Seqalign (Text ASN.1),\r\n",
      "     9 = Seqalign (Binary ASN.1),\r\n",
      "    10 = Comma-separated values,\r\n",
      "    11 = BLAST archive (ASN.1),\r\n",
      "    12 = Seqalign (JSON),\r\n",
      "    13 = Multiple-file BLAST JSON,\r\n",
      "    14 = Multiple-file BLAST XML2,\r\n",
      "    15 = Single-file BLAST JSON,\r\n",
      "    16 = Single-file BLAST XML2,\r\n",
      "    18 = Organism Report\r\n",
      "   \r\n",
      "   Options 6, 7 and 10 can be additionally configured to produce\r\n",
      "   a custom format specified by space delimited format specifiers.\r\n",
      "   The supported format specifiers are:\r\n",
      "   \t    qseqid means Query Seq-id\r\n",
      "   \t       qgi means Query GI\r\n",
      "   \t      qacc means Query accesion\r\n",
      "   \t   qaccver means Query accesion.version\r\n",
      "   \t      qlen means Query sequence length\r\n",
      "   \t    sseqid means Subject Seq-id\r\n",
      "   \t sallseqid means All subject Seq-id(s), separated by a ';'\r\n",
      "   \t       sgi means Subject GI\r\n",
      "   \t    sallgi means All subject GIs\r\n",
      "   \t      sacc means Subject accession\r\n",
      "   \t   saccver means Subject accession.version\r\n",
      "   \t   sallacc means All subject accessions\r\n",
      "   \t      slen means Subject sequence length\r\n",
      "   \t    qstart means Start of alignment in query\r\n",
      "   \t      qend means End of alignment in query\r\n",
      "   \t    sstart means Start of alignment in subject\r\n",
      "   \t      send means End of alignment in subject\r\n",
      "   \t      qseq means Aligned part of query sequence\r\n",
      "   \t      sseq means Aligned part of subject sequence\r\n",
      "   \t    evalue means Expect value\r\n",
      "   \t  bitscore means Bit score\r\n",
      "   \t     score means Raw score\r\n",
      "   \t    length means Alignment length\r\n",
      "   \t    pident means Percentage of identical matches\r\n",
      "   \t    nident means Number of identical matches\r\n",
      "   \t  mismatch means Number of mismatches\r\n",
      "   \t  positive means Number of positive-scoring matches\r\n",
      "   \t   gapopen means Number of gap openings\r\n",
      "   \t      gaps means Total number of gaps\r\n",
      "   \t      ppos means Percentage of positive-scoring matches\r\n",
      "   \t    frames means Query and subject frames separated by a '/'\r\n",
      "   \t    qframe means Query frame\r\n",
      "   \t    sframe means Subject frame\r\n",
      "   \t      btop means Blast traceback operations (BTOP)\r\n",
      "   \t    staxid means Subject Taxonomy ID\r\n",
      "   \t  ssciname means Subject Scientific Name\r\n",
      "   \t  scomname means Subject Common Name\r\n",
      "   \tsblastname means Subject Blast Name\r\n",
      "   \t sskingdom means Subject Super Kingdom\r\n",
      "   \t   staxids means unique Subject Taxonomy ID(s), separated by a ';'\r\n",
      "   \t\t\t (in numerical order)\r\n",
      "   \t sscinames means unique Subject Scientific Name(s), separated by a ';'\r\n",
      "   \t scomnames means unique Subject Common Name(s), separated by a ';'\r\n",
      "   \tsblastnames means unique Subject Blast Name(s), separated by a ';'\r\n",
      "   \t\t\t (in alphabetical order)\r\n",
      "   \tsskingdoms means unique Subject Super Kingdom(s), separated by a ';'\r\n",
      "   \t\t\t (in alphabetical order) \r\n",
      "   \t    stitle means Subject Title\r\n",
      "   \tsalltitles means All Subject Title(s), separated by a '<>'\r\n",
      "   \t   sstrand means Subject Strand\r\n",
      "   \t     qcovs means Query Coverage Per Subject\r\n",
      "   \t   qcovhsp means Query Coverage Per HSP\r\n",
      "   \t    qcovus means Query Coverage Per Unique Subject (blastn only)\r\n",
      "   When not provided, the default value is:\r\n",
      "   'qaccver saccver pident length mismatch gapopen qstart qend sstart send\r\n",
      "   evalue bitscore', which is equivalent to the keyword 'std'\r\n",
      "   Default = `0'\r\n",
      " -show_gis\r\n",
      "   Show NCBI GIs in deflines?\r\n",
      " -num_descriptions <Integer, >=0>\r\n",
      "   Number of database sequences to show one-line descriptions for\r\n",
      "   Not applicable for outfmt > 4\r\n",
      "   Default = `500'\r\n",
      "    * Incompatible with:  max_target_seqs\r\n",
      " -num_alignments <Integer, >=0>\r\n",
      "   Number of database sequences to show alignments for\r\n",
      "   Default = `250'\r\n",
      "    * Incompatible with:  max_target_seqs\r\n",
      " -line_length <Integer, >=1>\r\n",
      "   Line length for formatting alignments\r\n",
      "   Not applicable for outfmt > 4\r\n",
      "   Default = `60'\r\n",
      " -html\r\n",
      "   Produce HTML output?\r\n",
      "\r\n",
      " *** Query filtering options\r\n",
      " -seg <String>\r\n",
      "   Filter query sequence with SEG (Format: 'yes', 'window locut hicut', or\r\n",
      "   'no' to disable)\r\n",
      "   Default = `12 2.2 2.5'\r\n",
      " -soft_masking <Boolean>\r\n",
      "   Apply filtering locations as soft masks\r\n",
      "   Default = `false'\r\n",
      " -lcase_masking\r\n",
      "   Use lower case filtering in query and subject sequence(s)?\r\n",
      "\r\n",
      " *** Restrict search or results\r\n",
      " -gilist <String>\r\n",
      "   Restrict search of database to list of GI's\r\n",
      "    * Incompatible with:  negative_gilist, seqidlist, negative_seqidlist,\r\n",
      "   remote, subject, subject_loc\r\n",
      " -seqidlist <String>\r\n",
      "   Restrict search of database to list of SeqId's\r\n",
      "    * Incompatible with:  gilist, negative_gilist, negative_seqidlist, remote,\r\n",
      "   subject, subject_loc\r\n",
      " -negative_gilist <String>\r\n",
      "   Restrict search of database to everything except the listed GIs\r\n",
      "    * Incompatible with:  gilist, seqidlist, remote, subject, subject_loc\r\n",
      " -negative_seqidlist <String>\r\n",
      "   Restrict search of database to everything except the listed SeqIDs\r\n",
      "    * Incompatible with:  gilist, seqidlist, remote, subject, subject_loc\r\n",
      " -entrez_query <String>\r\n",
      "   Restrict search with the given Entrez query\r\n",
      "    * Requires:  remote\r\n",
      " -db_soft_mask <String>\r\n",
      "   Filtering algorithm ID to apply to the BLAST database as soft masking\r\n",
      "    * Incompatible with:  db_hard_mask, subject, subject_loc\r\n",
      " -db_hard_mask <String>\r\n",
      "   Filtering algorithm ID to apply to the BLAST database as hard masking\r\n",
      "    * Incompatible with:  db_soft_mask, subject, subject_loc\r\n",
      " -qcov_hsp_perc <Real, 0..100>\r\n",
      "   Percent query coverage per hsp\r\n",
      " -max_hsps <Integer, >=1>\r\n",
      "   Set maximum number of HSPs per subject sequence to save for each query\r\n",
      " -culling_limit <Integer, >=0>\r\n",
      "   If the query range of a hit is enveloped by that of at least this many\r\n",
      "   higher-scoring hits, delete the hit\r\n",
      "    * Incompatible with:  best_hit_overhang, best_hit_score_edge\r\n",
      " -best_hit_overhang <Real, (>0 and <0.5)>\r\n",
      "   Best Hit algorithm overhang value (recommended value: 0.1)\r\n",
      "    * Incompatible with:  culling_limit\r\n",
      " -best_hit_score_edge <Real, (>0 and <0.5)>\r\n",
      "   Best Hit algorithm score edge value (recommended value: 0.1)\r\n",
      "    * Incompatible with:  culling_limit\r\n",
      " -max_target_seqs <Integer, >=1>\r\n",
      "   Maximum number of aligned sequences to keep \r\n",
      "   Not applicable for outfmt <= 4\r\n",
      "   Default = `500'\r\n",
      "    * Incompatible with:  num_descriptions, num_alignments\r\n",
      "\r\n",
      " *** Statistical options\r\n",
      " -dbsize <Int8>\r\n",
      "   Effective length of the database \r\n",
      " -searchsp <Int8, >=0>\r\n",
      "   Effective length of the search space\r\n",
      " -sum_stats <Boolean>\r\n",
      "   Use sum statistics\r\n",
      "\r\n",
      " *** Search strategy options\r\n",
      " -import_search_strategy <File_In>\r\n",
      "   Search strategy to use\r\n",
      "    * Incompatible with:  export_search_strategy\r\n",
      " -export_search_strategy <File_Out>\r\n",
      "   File name to record the search strategy used\r\n",
      "    * Incompatible with:  import_search_strategy\r\n",
      "\r\n",
      " *** Extension options\r\n",
      " -xdrop_ungap <Real>\r\n",
      "   X-dropoff value (in bits) for ungapped extensions\r\n",
      " -xdrop_gap <Real>\r\n",
      "   X-dropoff value (in bits) for preliminary gapped extensions\r\n",
      " -xdrop_gap_final <Real>\r\n",
      "   X-dropoff value (in bits) for final gapped alignment\r\n",
      " -window_size <Integer, >=0>\r\n",
      "   Multiple hits window size, use 0 to specify 1-hit algorithm\r\n",
      " -ungapped\r\n",
      "   Perform ungapped alignment only?\r\n",
      "\r\n",
      " *** Miscellaneous options\r\n",
      " -parse_deflines\r\n",
      "   Should the query and subject defline(s) be parsed?\r\n",
      " -num_threads <Integer, (>=1 and =<16)>\r\n",
      "   Number of threads (CPUs) to use in the BLAST search\r\n",
      "   Default = `1'\r\n",
      "    * Incompatible with:  remote\r\n",
      " -remote\r\n",
      "   Execute search remotely?\r\n",
      "    * Incompatible with:  gilist, seqidlist, negative_gilist,\r\n",
      "   negative_seqidlist, subject_loc, num_threads\r\n",
      " -use_sw_tback\r\n",
      "   Compute locally optimal Smith-Waterman alignments?\r\n",
      "\r\n"
     ]
    }
   ],
   "source": [
    "# test blast path variable \n",
    "! {bldir}blastx -help"
   ]
  },
  {
   "cell_type": "markdown",
   "metadata": {},
   "source": [
    "### Create blast database using UniProt/Swiss-prot "
   ]
  },
  {
   "cell_type": "code",
   "execution_count": 8,
   "metadata": {},
   "outputs": [
    {
     "data": {
      "text/plain": [
       "'/Users/lhs3/Desktop/laura-quantseq/notebooks'"
      ]
     },
     "execution_count": 8,
     "metadata": {},
     "output_type": "execute_result"
    }
   ],
   "source": [
    "pwd"
   ]
  },
  {
   "cell_type": "code",
   "execution_count": 10,
   "metadata": {},
   "outputs": [],
   "source": [
    "mkdir ../references/blastdb/"
   ]
  },
  {
   "cell_type": "code",
   "execution_count": 11,
   "metadata": {},
   "outputs": [
    {
     "name": "stdout",
     "output_type": "stream",
     "text": [
      "  % Total    % Received % Xferd  Average Speed   Time    Time     Time  Current\n",
      "                                 Dload  Upload   Total   Spent    Left  Speed\n",
      "100 84.1M  100 84.1M    0     0  9596k      0  0:00:08  0:00:08 --:--:-- 13.6M\n"
     ]
    }
   ],
   "source": [
    "!curl \\\n",
    "ftp://ftp.uniprot.org/pub/databases/uniprot/current_release/knowledgebase/complete/uniprot_sprot.fasta.gz \\\n",
    "> ../references/blastdb/uniprot_sprot.fasta.gz"
   ]
  },
  {
   "cell_type": "code",
   "execution_count": 12,
   "metadata": {},
   "outputs": [],
   "source": [
    "!gunzip -k ../references/blastdb/uniprot_sprot.fasta.gz"
   ]
  },
  {
   "cell_type": "code",
   "execution_count": 13,
   "metadata": {},
   "outputs": [
    {
     "name": "stdout",
     "output_type": "stream",
     "text": [
      "\n",
      "\n",
      "Building a new DB, current time: 11/02/2018 15:32:45\n",
      "New DB name:   /Users/lhs3/Desktop/laura-quantseq/references/blastdb/uniprot_sprot_20181102\n",
      "New DB title:  ../references/blastdb/uniprot_sprot.fasta\n",
      "Sequence type: Protein\n",
      "Keep MBits: T\n",
      "Maximum file size: 1000000000B\n",
      "Adding sequences from FASTA; added 558590 sequences in 33.9168 seconds.\n"
     ]
    }
   ],
   "source": [
    "!{bldir}makeblastdb \\\n",
    "-in ../references/blastdb/uniprot_sprot.fasta \\\n",
    "-dbtype prot \\\n",
    "-out ../references/blastdb/uniprot_sprot_20181102"
   ]
  },
  {
   "cell_type": "markdown",
   "metadata": {},
   "source": [
    "### Run blast "
   ]
  },
  {
   "cell_type": "code",
   "execution_count": 16,
   "metadata": {},
   "outputs": [],
   "source": [
    "# create a blast results subdirectory \n",
    "! mkdir ../results/blast"
   ]
  },
  {
   "cell_type": "code",
   "execution_count": 17,
   "metadata": {},
   "outputs": [],
   "source": [
    "!{bldir}blastx \\\n",
    "-query ../results/trinity/20181029-olurida-gonad-assembly.fasta \\\n",
    "-db ../references/blastdb/uniprot_sprot_20181102 \\\n",
    "-out ../results/blast/ps-oly-gonad-unitprot_blastx.tab \\\n",
    "-evalue 1E-20 \\\n",
    "-num_threads 4 \\\n",
    "-max_target_seqs 1 \\\n",
    "-outfmt 6"
   ]
  },
  {
   "cell_type": "markdown",
   "metadata": {},
   "source": [
    "### Look at bash results "
   ]
  },
  {
   "cell_type": "code",
   "execution_count": 18,
   "metadata": {},
   "outputs": [
    {
     "name": "stdout",
     "output_type": "stream",
     "text": [
      "TRINITY_DN88473_c0_g1_i1\tsp|Q8IWI9|MGAP_HUMAN\t100.000\t77\t0\t0\t231\t1\t2171\t2247\t2.84e-47\t163\r\n",
      "TRINITY_DN88442_c0_g1_i1\tsp|A8E657|AASS_BOVIN\t71.429\t133\t38\t0\t46\t444\t70\t202\t2.82e-47\t166\r\n",
      "TRINITY_DN88493_c0_g1_i1\tsp|Q8NB14|UBP38_HUMAN\t27.703\t296\t204\t7\t864\t1\t40\t333\t2.03e-35\t138\r\n",
      "TRINITY_DN88451_c0_g1_i1\tsp|Q8WUM4|PDC6I_HUMAN\t99.605\t253\t1\t0\t760\t2\t278\t530\t3.90e-165\t481\r\n",
      "TRINITY_DN88497_c0_g1_i1\tsp|P00395|COX1_HUMAN\t92.008\t513\t41\t0\t317\t1855\t1\t513\t0.0\t797\r\n",
      "TRINITY_DN88437_c0_g1_i1\tsp|Q9Y4F1|FARP1_HUMAN\t100.000\t70\t0\t0\t1\t210\t972\t1041\t2.10e-41\t145\r\n",
      "TRINITY_DN88424_c0_g1_i1\tsp|Q8NEY1|NAV1_HUMAN\t98.624\t218\t0\t1\t1\t645\t1152\t1369\t2.04e-94\t305\r\n",
      "TRINITY_DN88459_c0_g1_i1\tsp|Q4U2R1|HERC2_MOUSE\t58.757\t177\t53\t2\t533\t3\t3688\t3844\t3.67e-63\t213\r\n",
      "TRINITY_DN88446_c0_g1_i1\tsp|Q13772|NCOA4_HUMAN\t100.000\t249\t0\t0\t749\t3\t11\t259\t5.66e-163\t467\r\n",
      "TRINITY_DN88430_c0_g1_i1\tsp|P20810|ICAL_HUMAN\t99.387\t163\t1\t0\t6\t494\t61\t223\t7.83e-82\t258\r\n"
     ]
    }
   ],
   "source": [
    "! head ../results/blast/ps-oly-gonad-unitprot_blastx.tab"
   ]
  },
  {
   "cell_type": "code",
   "execution_count": 19,
   "metadata": {},
   "outputs": [
    {
     "name": "stdout",
     "output_type": "stream",
     "text": [
      "   50542 ../results/blast/ps-oly-gonad-unitprot_blastx.tab\r\n"
     ]
    }
   ],
   "source": [
    "# 50,542 hits \n",
    "! wc -l ../results/blast/ps-oly-gonad-unitprot_blastx.tab"
   ]
  },
  {
   "cell_type": "code",
   "execution_count": null,
   "metadata": {},
   "outputs": [],
   "source": []
  }
 ],
 "metadata": {
  "kernelspec": {
   "display_name": "Python 3",
   "language": "python",
   "name": "python3"
  },
  "language_info": {
   "codemirror_mode": {
    "name": "ipython",
    "version": 3
   },
   "file_extension": ".py",
   "mimetype": "text/x-python",
   "name": "python",
   "nbconvert_exporter": "python",
   "pygments_lexer": "ipython3",
   "version": "3.7.0"
  }
 },
 "nbformat": 4,
 "nbformat_minor": 2
}
