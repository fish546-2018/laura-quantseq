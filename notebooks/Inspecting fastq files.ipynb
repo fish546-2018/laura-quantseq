{
 "cells": [
  {
   "cell_type": "markdown",
   "metadata": {},
   "source": [
    "### Notebook to download RNASeq data, unzip and trim a couple different ways (`seqtk`, `sickle`). \n",
    "\n",
    "The raw RNA-Seq data files are described here, with files stored in Owl (link towards bottom of page):\n",
    "https://github.com/RobertsLab/project-olympia.oyster-genomic/wiki/RNA-Seq-February-2018\n",
    "\n",
    "The pooled gonad samples from Fidalgo Bay and Oyster Bay adults from low/ambient pH are as follows, which are the 1st and 2nd reads from 2 lanes of sequencing. The other files are from Katherine's CA, OR, and British Columbia populations.  \n",
    "  - CP-4Spl_S11_L004_R1_0343.fastq.gz  \n",
    "  - CP-4Spl_S11_L004_R2_0343.fastq.gz  \n",
    "  - CP-4Spl_S11_L004_R1_0348.fastq.gz \n",
    "  - CP-4Spl_S11_L004_R2_0348.fastq.gz "
   ]
  },
  {
   "cell_type": "code",
   "execution_count": 1,
   "metadata": {},
   "outputs": [
    {
     "name": "stdout",
     "output_type": "stream",
     "text": [
      "/Users/studentuser/Desktop/Laura/laura-quantseq/notebooks\r\n"
     ]
    }
   ],
   "source": [
    "! pwd"
   ]
  },
  {
   "cell_type": "code",
   "execution_count": 12,
   "metadata": {},
   "outputs": [
    {
     "name": "stdout",
     "output_type": "stream",
     "text": [
      "/Users/studentuser/Desktop/Laura/laura-quantseq/data\n"
     ]
    }
   ],
   "source": [
    "cd ../data"
   ]
  },
  {
   "cell_type": "code",
   "execution_count": 17,
   "metadata": {},
   "outputs": [
    {
     "name": "stdout",
     "output_type": "stream",
     "text": [
      "/Users/studentuser/Desktop/Laura/laura-quantseq/data\r\n"
     ]
    }
   ],
   "source": [
    "! pwd"
   ]
  },
  {
   "cell_type": "code",
   "execution_count": 18,
   "metadata": {},
   "outputs": [
    {
     "name": "stdout",
     "output_type": "stream",
     "text": [
      "  % Total    % Received % Xferd  Average Speed   Time    Time     Time  Current\n",
      "                                 Dload  Upload   Total   Spent    Left  Speed\n",
      "100 1672M  100 1672M    0     0  11.0M      0  0:02:31  0:02:31 --:--:-- 16.4M0     0  3866k      0  0:07:22  0:00:05  0:07:17 4104k7 1456M    0     0  11.1M      0  0:02:29  0:02:10  0:00:19 10.1M\n",
      "100 1859M  100 1859M    0     0  12.3M      0  0:02:30  0:02:30 --:--:-- 13.0MM    0     0  10.7M      0  0:02:52  0:00:21  0:02:31 15.2M42  941k51  957M    0     0  10.6M      0  0:02:53  0:01:29  0:01:24 10.2M   0     0  11.5M      0  0:02:40  0:01:51  0:00:49 12.8M\n",
      "100 1821M  100 1821M    0     0  12.4M      0  0:02:26  0:02:26 --:--:-- 15.1M    0     0  12.5M      0  0:02:24  0:00:53  0:01:31 12.9M  45  836M    0     0  12.5M      0  0:02:25  0:01:06  0:01:19 14.4M  0:02:26  0:01:09  0:01:17 13.5M:38 14.9MM    0     0  12.3M      0  0:02:27  0:01:52  0:00:35 15.0M\n",
      "100 1970M  100 1970M    0     0  14.2M      0  0:02:18  0:02:18 --:--:-- 8354k 1 27.8M    0     0  6782k      0  0:04:57  0:00:04  0:04:53 8899k0     0  11.6M      0  0:02:48  0:00:22  0:02:26 16.4M  30  602M    0     0  11.9M      0  0:02:44  0:00:50  0:01:54 11.5M\n"
     ]
    }
   ],
   "source": [
    "! curl -O -O -O -O \\\n",
    "http://owl.fish.washington.edu/nightingales/O_lurida/CP-4Spl_S11_L004_R1_0343.fastq.gz \\\n",
    "    http://owl.fish.washington.edu/nightingales/O_lurida/CP-4Spl_S11_L004_R1_0348.fastq.gz \\\n",
    "        http://owl.fish.washington.edu/nightingales/O_lurida/CP-4Spl_S11_L004_R2_0343.fastq.gz \\\n",
    "            http://owl.fish.washington.edu/nightingales/O_lurida/CP-4Spl_S11_L004_R2_0348.fastq.gz"
   ]
  },
  {
   "cell_type": "code",
   "execution_count": 19,
   "metadata": {},
   "outputs": [
    {
     "name": "stdout",
     "output_type": "stream",
     "text": [
      "CP-4Spl_S11_L004_R1_0343.fastq.gz  CP-4Spl_S11_L004_R2_0348.fastq.gz\r\n",
      "CP-4Spl_S11_L004_R1_0348.fastq.gz  README.md\r\n",
      "CP-4Spl_S11_L004_R2_0343.fastq.gz  \u001b[34mtest-data\u001b[m\u001b[m/\r\n"
     ]
    }
   ],
   "source": [
    "ls"
   ]
  },
  {
   "cell_type": "markdown",
   "metadata": {},
   "source": [
    "Compare md5 in downloaded files to the md5 stringlisted on Owl here: [checksums.md5](http://owl.fish.washington.edu/nightingales/O_lurida/checksums.md5)\n",
    "\n",
    "a0cda314b2c11bcc0d99b5e8bf67e2f0  CP-4Spl_S11_L004_R1_0343.fastq.gz\n",
    "307cdc0f096669e71a9032f9ca602b35  CP-4Spl_S11_L004_R1_0348.fastq.gz\n",
    "3186f8691eef8f810cc6799fe25cf9e7  CP-4Spl_S11_L004_R2_0343.fastq.gz\n",
    "b65e6146a66e03c47bb1fbc445034ed8  CP-4Spl_S11_L004_R2_0348.fastq.gz\n",
    "\n",
    "If files are the same, the result shows say MD5 (file) = (md5 string provided) "
   ]
  },
  {
   "cell_type": "code",
   "execution_count": 20,
   "metadata": {},
   "outputs": [
    {
     "name": "stdout",
     "output_type": "stream",
     "text": [
      "MD5 (CP-4Spl_S11_L004_R1_0343.fastq.gz) = a0cda314b2c11bcc0d99b5e8bf67e2f0\r\n"
     ]
    }
   ],
   "source": [
    "! md5 CP-4Spl_S11_L004_R1_0343.fastq.gz | grep -i a0cda314b2c11bcc0d99b5e8bf67e2f0"
   ]
  },
  {
   "cell_type": "code",
   "execution_count": 23,
   "metadata": {},
   "outputs": [
    {
     "name": "stdout",
     "output_type": "stream",
     "text": [
      "MD5 (CP-4Spl_S11_L004_R1_0348.fastq.gz) = 307cdc0f096669e71a9032f9ca602b35\r\n"
     ]
    }
   ],
   "source": [
    "! md5 CP-4Spl_S11_L004_R1_0348.fastq.gz | grep -i 307cdc0f096669e71a9032f9ca602b35"
   ]
  },
  {
   "cell_type": "code",
   "execution_count": 25,
   "metadata": {},
   "outputs": [
    {
     "name": "stdout",
     "output_type": "stream",
     "text": [
      "MD5 (CP-4Spl_S11_L004_R2_0343.fastq.gz) = 3186f8691eef8f810cc6799fe25cf9e7\r\n"
     ]
    }
   ],
   "source": [
    "! md5 CP-4Spl_S11_L004_R2_0343.fastq.gz | grep -i 3186f8691eef8f810cc6799fe25cf9e7"
   ]
  },
  {
   "cell_type": "code",
   "execution_count": 26,
   "metadata": {},
   "outputs": [
    {
     "name": "stdout",
     "output_type": "stream",
     "text": [
      "MD5 (CP-4Spl_S11_L004_R2_0348.fastq.gz) = b65e6146a66e03c47bb1fbc445034ed8\r\n"
     ]
    }
   ],
   "source": [
    "! md5 CP-4Spl_S11_L004_R2_0348.fastq.gz | grep -i b65e6146a66e03c47bb1fbc445034ed8"
   ]
  },
  {
   "cell_type": "markdown",
   "metadata": {},
   "source": [
    "Unzip the fastq files all at once, using the wildcard * and file format "
   ]
  },
  {
   "cell_type": "code",
   "execution_count": 28,
   "metadata": {},
   "outputs": [],
   "source": [
    "! gunzip  *.fastq.gz"
   ]
  },
  {
   "cell_type": "code",
   "execution_count": 29,
   "metadata": {},
   "outputs": [
    {
     "name": "stdout",
     "output_type": "stream",
     "text": [
      "CP-4Spl_S11_L004_R1_0343.fastq  CP-4Spl_S11_L004_R2_0348.fastq\r\n",
      "CP-4Spl_S11_L004_R1_0348.fastq  README.md\r\n",
      "CP-4Spl_S11_L004_R2_0343.fastq  \u001b[34mtest-data\u001b[m\u001b[m/\r\n"
     ]
    }
   ],
   "source": [
    "ls"
   ]
  },
  {
   "cell_type": "markdown",
   "metadata": {},
   "source": [
    "Trying to figure out if the \"2 reads\" from the same lane represent paired-end data.  If so, they should have the same number of lines: "
   ]
  },
  {
   "cell_type": "code",
   "execution_count": 30,
   "metadata": {},
   "outputs": [
    {
     "name": "stdout",
     "output_type": "stream",
     "text": [
      " 118488660 CP-4Spl_S11_L004_R1_0343.fastq\r\n"
     ]
    }
   ],
   "source": [
    "! wc -l CP-4Spl_S11_L004_R1_0343.fastq"
   ]
  },
  {
   "cell_type": "code",
   "execution_count": 31,
   "metadata": {},
   "outputs": [
    {
     "name": "stdout",
     "output_type": "stream",
     "text": [
      " 118488660 CP-4Spl_S11_L004_R2_0343.fastq\r\n"
     ]
    }
   ],
   "source": [
    "! wc -l CP-4Spl_S11_L004_R2_0343.fastq"
   ]
  },
  {
   "cell_type": "code",
   "execution_count": 32,
   "metadata": {},
   "outputs": [
    {
     "name": "stdout",
     "output_type": "stream",
     "text": [
      " 131217744 CP-4Spl_S11_L004_R1_0348.fastq\r\n"
     ]
    }
   ],
   "source": [
    "! wc -l CP-4Spl_S11_L004_R1_0348.fastq"
   ]
  },
  {
   "cell_type": "code",
   "execution_count": 33,
   "metadata": {},
   "outputs": [
    {
     "name": "stdout",
     "output_type": "stream",
     "text": [
      " 131217744 CP-4Spl_S11_L004_R2_0348.fastq\r\n"
     ]
    }
   ],
   "source": [
    "! wc -l CP-4Spl_S11_L004_R2_0348.fastq"
   ]
  },
  {
   "cell_type": "markdown",
   "metadata": {},
   "source": [
    "Yes, they do. Files ending with 0343 have 118488660 lines, and files ending in 0348 have 131217744. "
   ]
  },
  {
   "cell_type": "markdown",
   "metadata": {},
   "source": [
    "Use the `sickle` program to trim fastq file using sanger quality type. "
   ]
  },
  {
   "cell_type": "code",
   "execution_count": 34,
   "metadata": {},
   "outputs": [
    {
     "name": "stdout",
     "output_type": "stream",
     "text": [
      "\r\n",
      "FastQ records kept: 29616361\r\n",
      "FastQ records discarded: 5804\r\n",
      "\r\n"
     ]
    }
   ],
   "source": [
    "# Read 1 from lane 0343\n",
    "! sickle se -f CP-4Spl_S11_L004_R1_0343.fastq -t sanger -o CP-4Spl_S11_L004_R1_0343_sickle.fastq"
   ]
  },
  {
   "cell_type": "code",
   "execution_count": 35,
   "metadata": {},
   "outputs": [
    {
     "name": "stdout",
     "output_type": "stream",
     "text": [
      "\r\n",
      "FastQ records kept: 29130489\r\n",
      "FastQ records discarded: 491676\r\n",
      "\r\n"
     ]
    }
   ],
   "source": [
    "# Read 2 from lane 0343\n",
    "! sickle se -f CP-4Spl_S11_L004_R2_0343.fastq -t sanger -o CP-4Spl_S11_L004_R2_0343_sickle.fastq"
   ]
  },
  {
   "cell_type": "code",
   "execution_count": 36,
   "metadata": {},
   "outputs": [
    {
     "name": "stdout",
     "output_type": "stream",
     "text": [
      "\r\n",
      "FastQ records kept: 32798145\r\n",
      "FastQ records discarded: 6291\r\n",
      "\r\n"
     ]
    }
   ],
   "source": [
    "# Read 1 from lane 0348\n",
    "! sickle se -f CP-4Spl_S11_L004_R1_0348.fastq -t sanger -o CP-4Spl_S11_L004_R1_0348_sickle.fastq"
   ]
  },
  {
   "cell_type": "code",
   "execution_count": 37,
   "metadata": {},
   "outputs": [
    {
     "name": "stdout",
     "output_type": "stream",
     "text": [
      "\r\n",
      "FastQ records kept: 32307093\r\n",
      "FastQ records discarded: 497343\r\n",
      "\r\n"
     ]
    }
   ],
   "source": [
    "# Read 2 from lane 0348\n",
    "! sickle se -f CP-4Spl_S11_L004_R2_0348.fastq -t sanger -o CP-4Spl_S11_L004_R2_0348_sickle.fastq"
   ]
  },
  {
   "cell_type": "markdown",
   "metadata": {},
   "source": [
    "For both lanes, many more records were discarded from read 2. "
   ]
  },
  {
   "cell_type": "markdown",
   "metadata": {},
   "source": [
    "Use `seqtk` to trim"
   ]
  },
  {
   "cell_type": "code",
   "execution_count": 38,
   "metadata": {},
   "outputs": [],
   "source": [
    "! seqtk trimfq CP-4Spl_S11_L004_R1_0343.fastq > CP-4Spl_S11_L004_R1_0343_trimfq.fastq"
   ]
  },
  {
   "cell_type": "code",
   "execution_count": 39,
   "metadata": {},
   "outputs": [],
   "source": [
    "! seqtk trimfq CP-4Spl_S11_L004_R2_0343.fastq > CP-4Spl_S11_L004_R2_0343_trimfq.fastq"
   ]
  },
  {
   "cell_type": "code",
   "execution_count": 40,
   "metadata": {},
   "outputs": [],
   "source": [
    "! seqtk trimfq CP-4Spl_S11_L004_R1_0348.fastq > CP-4Spl_S11_L004_R1_0348_trimfq.fastq"
   ]
  },
  {
   "cell_type": "code",
   "execution_count": 46,
   "metadata": {},
   "outputs": [
    {
     "name": "stdout",
     "output_type": "stream",
     "text": [
      "/bin/sh: /Users/studentuser/trimmed/CP-4Spl_S11_L004_R2_0348_trimfq.fastq: No such file or directory\r\n"
     ]
    }
   ],
   "source": [
    "! seqtk trimfq CP-4Spl_S11_L004_R2_0348.fastq > CP-4Spl_S11_L004_R2_0348_trimfq.fastq"
   ]
  },
  {
   "cell_type": "code",
   "execution_count": 43,
   "metadata": {},
   "outputs": [
    {
     "name": "stdout",
     "output_type": "stream",
     "text": [
      "CP-4Spl_S11_L004_R1_0343.fastq         CP-4Spl_S11_L004_R2_0343_sickle.fastq\r\n",
      "CP-4Spl_S11_L004_R1_0343_sickle.fastq  CP-4Spl_S11_L004_R2_0343_trimfq.fastq\r\n",
      "CP-4Spl_S11_L004_R1_0343_trimfq.fastq  CP-4Spl_S11_L004_R2_0348.fastq\r\n",
      "CP-4Spl_S11_L004_R1_0348.fastq         CP-4Spl_S11_L004_R2_0348_sickle.fastq\r\n",
      "CP-4Spl_S11_L004_R1_0348_sickle.fastq  CP-4Spl_S11_L004_R2_0348_trimfq.fastq\r\n",
      "CP-4Spl_S11_L004_R1_0348_trimfq.fastq  README.md\r\n",
      "CP-4Spl_S11_L004_R2_0343.fastq         \u001b[34mtest-data\u001b[m\u001b[m/\r\n"
     ]
    }
   ],
   "source": [
    "ls"
   ]
  },
  {
   "cell_type": "code",
   "execution_count": 42,
   "metadata": {},
   "outputs": [
    {
     "name": "stdout",
     "output_type": "stream",
     "text": [
      "@K00242:343:HNFNJBBXX:4:1101:1093:1138 1:N:0:NGGCTTCA\r\n",
      "CTCCAAAACATTTCCACAAAAACCCCCAAAACATTCCTCATACTTGTTGTAGCTATTATTACAAACTAGAAAGTAAAACAGCAATGGGCTCATGGTAAAT\r\n",
      "+\r\n",
      "AAAFFJJJJJJJJJJJJJJJJJJJJJJFJJJJJJJJJJJFFJJJJJFJJFJJJ<JFFJJFJJJJJJJJJJJJJJJJJJJJJJJFFJJJJ7F<FJJJJJJF\r\n",
      "@K00242:343:HNFNJBBXX:4:1101:1154:1138 1:N:0:TGGCTTCA\r\n",
      "GTGAGATTTTCCCAGCGCTCCGACCAGCCGATGGCAAGTGGTTTCTCACTTCCTGACCGTGCCAATTTAGAAGGACCACATGATCATGCTTGCCAGGTAT\r\n",
      "+\r\n",
      "AA<FAFJJJJJJFAJJFJAAJA<JJJ<FJFAJFJFJJJ-J-<FFJ<JFJJJJJJFJJJFJFFJJJ-FJJJJJJ7FJJJJJJF7FJ-A---7-77A<JFF-\r\n",
      "@K00242:343:HNFNJBBXX:4:1101:1215:1138 1:N:0:TGGCTTCA\r\n",
      "CCTCATAAAACCAGAACTTGAAGTTACCAAGCAGAAAAGAATGACGGTTATCCGAACAACGTTCATAAAGAATATCAACGACTGGTACTCTACGAGTTCC\r\n",
      "+\r\n",
      "AA-A<FA<<FAFA-<AFJJJ-7FJJJ7FJFJFF<<FF-FFJJFJFAJ-AFAA<FJAJF-<77<FAFJ<-FJJFJJJJAJFJJA<JJJ<<AFJ-FJ-AAAF\r\n",
      "@K00242:343:HNFNJBBXX:4:1101:2128:1138 1:N:0:TGGCTTCA\r\n",
      "CCGGGTTCTGTCGCTGACGTCATCGTACCCGTCGTCTGACGCGGCGTTAGCGATGTTAACGATTGTAGTGGTAGGGACATTCAGGTACATCCCGAGCATT\r\n",
      "+\r\n",
      "AAFFFJJJJFFJJJJJFJJFJJJJJJJJJJJJJJJJJJJJJJJJJJ<FJJJJJFAJJJJJJJJFF<JJAFJJFJJJFJJFJJJJJJJJJFJJJJJFFFAJ\r\n",
      "@K00242:343:HNFNJBBXX:4:1101:2331:1138 1:N:0:TGGCTTCA\r\n",
      "GTCATCATCGTGCTCATTGACGTGCGCCTCCGGAAGTGATCCCTTTTCTTCACACAACCCAGTGCATGGTGGCAGAGATCTTCAGTGCAGTTACAATCTG\r\n",
      "+\r\n",
      "AAFFFJFJJJJJJJJJJJJJJJJJJJJJJJJJJJJJJJJ-FJJJJJJJJJJJJJJJJJJJFJJJJJJJJJJJJJJJJFJJJJJFFFAJJJJJJJJJFAAJ\r\n"
     ]
    }
   ],
   "source": [
    "! head -20 CP-4Spl_S11_L004_R1_0343.fastq"
   ]
  },
  {
   "cell_type": "markdown",
   "metadata": {},
   "source": []
  },
  {
   "cell_type": "markdown",
   "metadata": {},
   "source": [
    "Resulting trimmed files will be analyzed in RMarkdown using the `qrqc` library [Markdown notebook](). Also will check out the untrimmed file using fastqc, and possibly use another program like trim galore. \n",
    "\n",
    "Now try using trimgalore! - first assign the location of trimgalore to an object for easy use, then check that it worked via --help "
   ]
  },
  {
   "cell_type": "code",
   "execution_count": 4,
   "metadata": {},
   "outputs": [],
   "source": [
    "trimgalore = \"/Users/studentuser/Desktop/Laura/Bioinformatics-Programs/TrimGalore-0.5.0/\""
   ]
  },
  {
   "cell_type": "code",
   "execution_count": 6,
   "metadata": {},
   "outputs": [
    {
     "name": "stdout",
     "output_type": "stream",
     "text": [
      "\r\n",
      " USAGE:\r\n",
      "\r\n",
      "trim_galore [options] <filename(s)>\r\n",
      "\r\n",
      "\r\n",
      "-h/--help               Print this help message and exits.\r\n",
      "\r\n",
      "-v/--version            Print the version information and exits.\r\n",
      "\r\n",
      "-q/--quality <INT>      Trim low-quality ends from reads in addition to adapter removal. For\r\n",
      "                        RRBS samples, quality trimming will be performed first, and adapter\r\n",
      "                        trimming is carried in a second round. Other files are quality and adapter\r\n",
      "                        trimmed in a single pass. The algorithm is the same as the one used by BWA\r\n",
      "                        (Subtract INT from all qualities; compute partial sums from all indices\r\n",
      "                        to the end of the sequence; cut sequence at the index at which the sum is\r\n",
      "                        minimal). Default Phred score: 20.\r\n",
      "\r\n",
      "--phred33               Instructs Cutadapt to use ASCII+33 quality scores as Phred scores\r\n",
      "                        (Sanger/Illumina 1.9+ encoding) for quality trimming. Default: ON.\r\n",
      "\r\n",
      "--phred64               Instructs Cutadapt to use ASCII+64 quality scores as Phred scores\r\n",
      "                        (Illumina 1.5 encoding) for quality trimming.\r\n",
      "\r\n",
      "--fastqc                Run FastQC in the default mode on the FastQ file once trimming is complete.\r\n",
      "\r\n",
      "--fastqc_args \"<ARGS>\"  Passes extra arguments to FastQC. If more than one argument is to be passed\r\n",
      "                        to FastQC they must be in the form \"arg1 arg2 etc.\". An example would be:\r\n",
      "                        --fastqc_args \"--nogroup --outdir /home/\". Passing extra arguments will\r\n",
      "                        automatically invoke FastQC, so --fastqc does not have to be specified\r\n",
      "                        separately.\r\n",
      "\r\n",
      "-a/--adapter <STRING>   Adapter sequence to be trimmed. If not specified explicitly, Trim Galore will\r\n",
      "                        try to auto-detect whether the Illumina universal, Nextera transposase or Illumina\r\n",
      "                        small RNA adapter sequence was used. Also see '--illumina', '--nextera' and\r\n",
      "                        '--small_rna'. If no adapter can be detected within the first 1 million sequences\r\n",
      "                        of the first file specified Trim Galore defaults to '--illumina'. A single base\r\n",
      "                        may also be given as e.g. -a A{10}, to be expanded to -a AAAAAAAAAA.\r\n",
      "\r\n",
      "-a2/--adapter2 <STRING> Optional adapter sequence to be trimmed off read 2 of paired-end files. This\r\n",
      "                        option requires '--paired' to be specified as well. If the libraries to be trimmed\r\n",
      "                        are smallRNA then a2 will be set to the Illumina small RNA 5' adapter automatically\r\n",
      "                        (GATCGTCGGACT). A single base may also be given as e.g. -a2 A{10}, to be expanded\r\n",
      "                        to -a2 AAAAAAAAAA.\r\n",
      "\r\n",
      "--illumina              Adapter sequence to be trimmed is the first 13bp of the Illumina universal adapter\r\n",
      "                        'AGATCGGAAGAGC' instead of the default auto-detection of adapter sequence.\r\n",
      "\r\n",
      "--nextera               Adapter sequence to be trimmed is the first 12bp of the Nextera adapter\r\n",
      "                        'CTGTCTCTTATA' instead of the default auto-detection of adapter sequence.\r\n",
      "\r\n",
      "--small_rna             Adapter sequence to be trimmed is the first 12bp of the Illumina Small RNA 3' Adapter\r\n",
      "                        'TGGAATTCTCGG' instead of the default auto-detection of adapter sequence. Selecting\r\n",
      "                        to trim smallRNA adapters will also lower the --length value to 18bp. If the smallRNA\r\n",
      "                        libraries are paired-end then a2 will be set to the Illumina small RNA 5' adapter\r\n",
      "                        automatically (GATCGTCGGACT) unless -a 2 had been defined explicitly.\r\n",
      "\r\n",
      "--max_length <INT>      Discard reads that are longer than <INT> bp after trimming. This is only advised for\r\n",
      "                        smallRNA sequencing to remove non-small RNA sequences.\r\n",
      "\r\n",
      "\r\n",
      "--stringency <INT>      Overlap with adapter sequence required to trim a sequence. Defaults to a\r\n",
      "                        very stringent setting of 1, i.e. even a single bp of overlapping sequence\r\n",
      "                        will be trimmed off from the 3' end of any read.\r\n",
      "\r\n",
      "-e <ERROR RATE>         Maximum allowed error rate (no. of errors divided by the length of the matching\r\n",
      "                        region) (default: 0.1)\r\n",
      "\r\n",
      "--gzip                  Compress the output file with GZIP. If the input files are GZIP-compressed\r\n",
      "                        the output files will automatically be GZIP compressed as well. As of v0.2.8 the\r\n",
      "                        compression will take place on the fly.\r\n",
      "\r\n",
      "--dont_gzip             Output files won't be compressed with GZIP. This option overrides --gzip.\r\n",
      "\r\n",
      "--length <INT>          Discard reads that became shorter than length INT because of either\r\n",
      "                        quality or adapter trimming. A value of '0' effectively disables\r\n",
      "                        this behaviour. Default: 20 bp.\r\n",
      "\r\n",
      "                        For paired-end files, both reads of a read-pair need to be longer than\r\n",
      "                        <INT> bp to be printed out to validated paired-end files (see option --paired).\r\n",
      "                        If only one read became too short there is the possibility of keeping such\r\n",
      "                        unpaired single-end reads (see --retain_unpaired). Default pair-cutoff: 20 bp.\r\n",
      "\r\n",
      "--max_n COUNT           The total number of Ns (as integer) a read may contain before it will be removed altogether.\r\n",
      "                        In a paired-end setting, either read exceeding this limit will result in the entire\r\n",
      "                        pair being removed from the trimmed output files.\r\n",
      "\r\n",
      "--trim-n                Removes Ns from either side of the read. This option does currently not work in RRBS mode.\r\n",
      "\r\n",
      "-o/--output_dir <DIR>   If specified all output will be written to this directory instead of the current\r\n",
      "                        directory.\r\n",
      "\r\n",
      "--no_report_file        If specified no report file will be generated.\r\n",
      "\r\n",
      "--suppress_warn         If specified any output to STDOUT or STDERR will be suppressed.\r\n",
      "\r\n",
      "--clip_R1 <int>         Instructs Trim Galore to remove <int> bp from the 5' end of read 1 (or single-end\r\n",
      "                        reads). This may be useful if the qualities were very poor, or if there is some\r\n",
      "                        sort of unwanted bias at the 5' end. Default: OFF.\r\n",
      "\r\n",
      "--clip_R2 <int>         Instructs Trim Galore to remove <int> bp from the 5' end of read 2 (paired-end reads\r\n",
      "                        only). This may be useful if the qualities were very poor, or if there is some sort\r\n",
      "                        of unwanted bias at the 5' end. For paired-end BS-Seq, it is recommended to remove\r\n",
      "                        the first few bp because the end-repair reaction may introduce a bias towards low\r\n",
      "                        methylation. Please refer to the M-bias plot section in the Bismark User Guide for\r\n",
      "                        some examples. Default: OFF.\r\n",
      "\r\n",
      "--three_prime_clip_R1 <int>     Instructs Trim Galore to remove <int> bp from the 3' end of read 1 (or single-end\r\n",
      "                        reads) AFTER adapter/quality trimming has been performed. This may remove some unwanted\r\n",
      "                        bias from the 3' end that is not directly related to adapter sequence or basecall quality.\r\n",
      "                        Default: OFF.\r\n",
      "\r\n",
      "--three_prime_clip_R2 <int>     Instructs Trim Galore to remove <int> bp from the 3' end of read 2 AFTER\r\n",
      "                        adapter/quality trimming has been performed. This may remove some unwanted bias from\r\n",
      "                        the 3' end that is not directly related to adapter sequence or basecall quality.\r\n",
      "                        Default: OFF.\r\n",
      "\r\n",
      "                     \r\n",
      "\r\n",
      "--path_to_cutadapt </path/to/cutadapt>     You may use this option to specify a path to the Cutadapt executable,\r\n",
      "                        e.g. /my/home/cutadapt-1.7.1/bin/cutadapt. Else it is assumed that Cutadapt is in\r\n",
      "                        the PATH.\r\n",
      "\r\n",
      "SPECIFIC TRIMMING - without adapter/quality trimming\r\n",
      "\r\n",
      "--hardtrim5 <int>       Instead of performing adapter-/quality trimming, this option will simply hard-trim sequences\r\n",
      "                        to <int> bp from the 5'-end. Once hard-trimming of files is complete, Trim Galore will exit.\r\n",
      "                        Hard-trimmed output files will end in .<int>.fq(.gz).\r\n",
      "  \r\n",
      "--clock                 In this mode, reads are trimmed in a specific way that is currently used for the Mouse\r\n",
      "                        Epigenetic Clock (see here: Multi-tissue DNA methylation age predictor in mouse, Stubbs et al.,\r\n",
      "                        Genome Biology, 2017 18:68 https://doi.org/10.1186/s13059-017-1203-5). Following this, Trim Galore\r\n",
      "                        will exit.\r\n",
      "\r\n",
      "                        In it's current implementation, the dual-UMI RRBS reads come in the following format:\r\n",
      "\r\n",
      "                        Read 1  5' UUUUUUUU CAGTA FFFFFFFFFFFFFFFFFFFFFFFFFFFFFFFFFFFF TACTG UUUUUUUU 3'\r\n",
      "\t\t\tRead 2  3' UUUUUUUU GTCAT FFFFFFFFFFFFFFFFFFFFFFFFFFFFFFFFFFFF ATGAC UUUUUUUU 5'\r\n",
      "\r\n",
      "                        Where UUUUUUUU is a random 8-mer unique molecular identifier (UMI), CAGTA is a constant region,\r\n",
      "                        and FFFFFFF... is the actual RRBS-Fragment to be sequenced. The UMIs for Read 1 (R1) and\r\n",
      "                        Read 2 (R2), as well as the fixed sequences (F1 or F2), are written into the read ID and \r\n",
      "                        removed from the actual sequence. Here is an example:\r\n",
      "                   \r\n",
      "                        R1: @HWI-D00436:407:CCAETANXX:1:1101:4105:1905 1:N:0: CGATGTTT\r\n",
      "                            ATCTAGTTCAGTACGGTGTTTTCGAATTAGAAAAATATGTATAGAGGAAATAGATATAAAGGCGTATTCGTTATTG\r\n",
      "                        R2: @HWI-D00436:407:CCAETANXX:1:1101:4105:1905 3:N:0: CGATGTTT\r\n",
      "                            CAATTTTGCAGTACAAAAATAATACCTCCTCTATTTATCCAAAATCACAAAAAACCACCCACTTAACTTTCCCTAA\r\n",
      "\r\n",
      "                        R1: @HWI-D00436:407:CCAETANXX:1:1101:4105:1905 1:N:0: CGATGTTT:R1:ATCTAGTT:R2:CAATTTTG:F1:CAGT:F2:CAGT\r\n",
      "                                         CGGTGTTTTCGAATTAGAAAAATATGTATAGAGGAAATAGATATAAAGGCGTATTCGTTATTG\r\n",
      "                        R2: @HWI-D00436:407:CCAETANXX:1:1101:4105:1905 3:N:0: CGATGTTT:R1:ATCTAGTT:R2:CAATTTTG:F1:CAGT:F2:CAGT\r\n",
      "                                         CAAAAATAATACCTCCTCTATTTATCCAAAATCACAAAAAACCACCCACTTAACTTTCCCTAA\r\n",
      "\r\n",
      "                        Following clock trimming, the resulting files (.clock_UMI.R1.fq(.gz) and .clock_UMI.R2.fq(.gz))\r\n",
      "                        should be adapter- and quality trimmed with Trim Galore as usual. In addition, reads need to be trimmed\r\n",
      "                        by 15bp from their 3' end to get rid of potential UMI and fixed sequences. The command is:\r\n",
      "\r\n",
      "                        trim_galore --paired --three_prime_clip_R1 15 --three_prime_clip_R2 15 *.clock_UMI.R1.fq.gz *.clock_UMI.R2.fq.gz\r\n",
      "\r\n",
      "                        Following this, reads should be aligned with Bismark and deduplicated with UmiBam \r\n",
      "                        in '--dual_index' mode (see here: https://github.com/FelixKrueger/Umi-Grinder). UmiBam recognises\r\n",
      "                        the UMIs within this pattern: R1:(ATCTAGTT):R2:(CAATTTTG): as (UMI R1) and (UMI R2).\r\n",
      "\r\n",
      "RRBS-specific options (MspI digested material):\r\n",
      "\r\n",
      "--rrbs                  Specifies that the input file was an MspI digested RRBS sample (recognition\r\n",
      "                        site: CCGG). Single-end or Read 1 sequences (paired-end) which were adapter-trimmed\r\n",
      "                        will have a further 2 bp removed from their 3' end. Sequences which were merely\r\n",
      "                        trimmed because of poor quality will not be shortened further. Read 2 of paired-end\r\n",
      "                        libraries will in addition have the first 2 bp removed from the 5' end (by setting \r\n",
      "                        '--clip_r2 2'). This is to avoid using artificial methylation calls from the filled-in\r\n",
      "                        cytosine positions close to the 3' MspI site in sequenced fragments. \r\n",
      "                        This option is not recommended for users of the NuGEN ovation RRBS System 1-16\r\n",
      "                        kit (see below).\r\n",
      "\r\n",
      "--non_directional       Selecting this option for non-directional RRBS libraries will screen\r\n",
      "                        quality-trimmed sequences for 'CAA' or 'CGA' at the start of the read\r\n",
      "                        and, if found, removes the first two basepairs. Like with the option\r\n",
      "                        '--rrbs' this avoids using cytosine positions that were filled-in\r\n",
      "                        during the end-repair step. '--non_directional' requires '--rrbs' to\r\n",
      "                        be specified as well. Note that this option does not set '--clip_r2 2' in\r\n",
      "                        paired-end mode.\r\n",
      "\r\n",
      "--keep                  Keep the quality trimmed intermediate file. Default: off, which means\r\n",
      "                        the temporary file is being deleted after adapter trimming. Only has\r\n",
      "                        an effect for RRBS samples since other FastQ files are not trimmed\r\n",
      "                        for poor qualities separately.\r\n",
      "\r\n",
      "\r\n",
      "Note for RRBS using the NuGEN Ovation RRBS System 1-16 kit:\r\n",
      "\r\n",
      "Owing to the fact that the NuGEN Ovation kit attaches a varying number of nucleotides (0-3) after each MspI\r\n",
      "site Trim Galore should be run WITHOUT the option --rrbs. This trimming is accomplished in a subsequent \r\n",
      "diversity trimming step afterwards (see their manual).\r\n",
      "\r\n",
      "\r\n",
      "\r\n",
      "Note for RRBS using MseI:\r\n",
      "\r\n",
      "If your DNA material was digested with MseI (recognition motif: TTAA) instead of MspI it is NOT necessary\r\n",
      "to specify --rrbs or --non_directional since virtually all reads should start with the sequence\r\n",
      "'TAA', and this holds true for both directional and non-directional libraries. As the end-repair of 'TAA'\r\n",
      "restricted sites does not involve any cytosines it does not need to be treated especially. Instead, simply\r\n",
      "run Trim Galore! in the standard (i.e. non-RRBS) mode.\r\n",
      "\r\n",
      "\r\n",
      "\r\n",
      "\r\n",
      "Paired-end specific options:\r\n",
      "\r\n",
      "--paired                This option performs length trimming of quality/adapter/RRBS trimmed reads for\r\n",
      "                        paired-end files. To pass the validation test, both sequences of a sequence pair\r\n",
      "                        are required to have a certain minimum length which is governed by the option\r\n",
      "                        --length (see above). If only one read passes this length threshold the\r\n",
      "                        other read can be rescued (see option --retain_unpaired). Using this option lets\r\n",
      "                        you discard too short read pairs without disturbing the sequence-by-sequence order\r\n",
      "                        of FastQ files which is required by many aligners.\r\n",
      "\r\n",
      "                        Trim Galore! expects paired-end files to be supplied in a pairwise fashion, e.g.\r\n",
      "                        file1_1.fq file1_2.fq SRR2_1.fq.gz SRR2_2.fq.gz ... .\r\n",
      "\r\n",
      "-t/--trim1              Trims 1 bp off every read from its 3' end. This may be needed for FastQ files that\r\n",
      "                        are to be aligned as paired-end data with Bowtie. This is because Bowtie (1) regards\r\n",
      "                        alignments like this:\r\n",
      "\r\n",
      "                          R1 --------------------------->     or this:    ----------------------->  R1\r\n",
      "                          R2 <---------------------------                       <-----------------  R2\r\n",
      "\r\n",
      "                        as invalid (whenever a start/end coordinate is contained within the other read).\r\n",
      "                        NOTE: If you are planning to use Bowtie2, BWA etc. you don't need to specify this option.\r\n",
      "\r\n",
      "--retain_unpaired       If only one of the two paired-end reads became too short, the longer\r\n",
      "                        read will be written to either '.unpaired_1.fq' or '.unpaired_2.fq'\r\n",
      "                        output files. The length cutoff for unpaired single-end reads is\r\n",
      "                        governed by the parameters -r1/--length_1 and -r2/--length_2. Default: OFF.\r\n",
      "\r\n",
      "-r1/--length_1 <INT>    Unpaired single-end read length cutoff needed for read 1 to be written to\r\n",
      "                        '.unpaired_1.fq' output file. These reads may be mapped in single-end mode.\r\n",
      "                        Default: 35 bp.\r\n",
      "\r\n",
      "-r2/--length_2 <INT>    Unpaired single-end read length cutoff needed for read 2 to be written to\r\n",
      "                        '.unpaired_2.fq' output file. These reads may be mapped in single-end mode.\r\n",
      "                        Default: 35 bp.\r\n",
      "\r\n",
      "\r\n",
      "Last modified on 28 June 2018.\r\n",
      "\r\n"
     ]
    }
   ],
   "source": [
    "! {trimgalore}trim_galore --help"
   ]
  },
  {
   "cell_type": "markdown",
   "metadata": {},
   "source": [
    "Use trim galore! on my fastq files using default settings, except includ --paired since I have two sets of paired-end reads"
   ]
  },
  {
   "cell_type": "code",
   "execution_count": 12,
   "metadata": {},
   "outputs": [],
   "source": [
    "mkdir ../data/trimgalore/"
   ]
  },
  {
   "cell_type": "code",
   "execution_count": 13,
   "metadata": {},
   "outputs": [
    {
     "name": "stdout",
     "output_type": "stream",
     "text": [
      "CP-4Spl_S11_L004_R1_0343.fastq         CP-4Spl_S11_L004_R2_0343_trimfq.fastq\r\n",
      "CP-4Spl_S11_L004_R1_0343_sickle.fastq  CP-4Spl_S11_L004_R2_0348.fastq\r\n",
      "CP-4Spl_S11_L004_R1_0343_trimfq.fastq  CP-4Spl_S11_L004_R2_0348_sickle.fastq\r\n",
      "CP-4Spl_S11_L004_R1_0348.fastq         CP-4Spl_S11_L004_R2_0348_trimfq.fastq\r\n",
      "CP-4Spl_S11_L004_R1_0348_sickle.fastq  README.md\r\n",
      "CP-4Spl_S11_L004_R1_0348_trimfq.fastq  \u001b[34mfastqc\u001b[m\u001b[m/\r\n",
      "CP-4Spl_S11_L004_R2_0343.fastq         \u001b[34mtest-data\u001b[m\u001b[m/\r\n",
      "CP-4Spl_S11_L004_R2_0343_sickle.fastq  \u001b[34mtrimgalore\u001b[m\u001b[m/\r\n"
     ]
    }
   ],
   "source": [
    "ls ../data/"
   ]
  },
  {
   "cell_type": "code",
   "execution_count": null,
   "metadata": {},
   "outputs": [
    {
     "name": "stdout",
     "output_type": "stream",
     "text": [
      "No quality encoding type selected. Assuming that the data provided uses Sanger encoded Phred scores (default)\n",
      "\n",
      "Path to Cutadapt set as: 'cutadapt' (default)\n",
      "1.18\n",
      "Cutadapt seems to be working fine (tested command 'cutadapt --version')\n",
      "\n",
      "\n",
      "AUTO-DETECTING ADAPTER TYPE\n",
      "===========================\n",
      "Attempting to auto-detect adapter type from the first 1 million sequences of the first file (>> ../data/CP-4Spl_S11_L004_R1_0343.fastq <<)\n",
      "\n",
      "Found perfect matches for the following adapter sequences:\n",
      "Adapter type\tCount\tSequence\tSequences analysed\tPercentage\n",
      "Illumina\t4381\tAGATCGGAAGAGC\t1000000\t0.44\n",
      "Nextera\t2\tCTGTCTCTTATA\t1000000\t0.00\n",
      "smallRNA\t0\tTGGAATTCTCGG\t1000000\t0.00\n",
      "Using Illumina adapter for trimming (count: 4381). Second best hit was Nextera (count: 2)\n",
      "\n",
      "Writing report to '../data/trimgalore/CP-4Spl_S11_L004_R1_0343.fastq_trimming_report.txt'\n",
      "\n",
      "SUMMARISING RUN PARAMETERS\n",
      "==========================\n",
      "Input filename: ../data/CP-4Spl_S11_L004_R1_0343.fastq\n",
      "Trimming mode: paired-end\n",
      "Trim Galore version: 0.5.0\n",
      "Cutadapt version: 1.18\n",
      "Quality Phred score cutoff: 20\n",
      "Quality encoding type selected: ASCII+33\n",
      "Adapter sequence: 'AGATCGGAAGAGC' (Illumina TruSeq, Sanger iPCR; auto-detected)\n",
      "Maximum trimming error rate: 0.1 (default)\n",
      "Minimum required adapter overlap (stringency): 1 bp\n",
      "Minimum required sequence length for both reads before a sequence pair gets removed: 20 bp\n",
      "\n",
      "Writing final adapter and quality trimmed output to CP-4Spl_S11_L004_R1_0343_trimmed.fq\n",
      "\n",
      "\n",
      "  >>> Now performing quality (cutoff 20) and adapter trimming in a single pass for the adapter sequence: 'AGATCGGAAGAGC' from file ../data/CP-4Spl_S11_L004_R1_0343.fastq <<< \n",
      "10000000 sequences processed\n",
      "20000000 sequences processed\n",
      "This is cutadapt 1.18 with Python 3.6.6\n",
      "Command line parameters: -f fastq -e 0.1 -q 20 -O 1 -a AGATCGGAAGAGC ../data/CP-4Spl_S11_L004_R1_0343.fastq\n",
      "Processing reads on 1 core in single-end mode ...\n",
      "Finished in 353.12 s (12 us/read; 5.03 M reads/minute).\n",
      "\n",
      "=== Summary ===\n",
      "\n",
      "Total reads processed:              29,622,165\n",
      "Reads with adapters:                10,112,618 (34.1%)\n",
      "Reads written (passing filters):    29,622,165 (100.0%)\n",
      "\n",
      "Total basepairs processed: 2,962,216,500 bp\n",
      "Quality-trimmed:               1,827,868 bp (0.1%)\n",
      "Total written (filtered):  2,943,015,072 bp (99.4%)\n",
      "\n",
      "=== Adapter 1 ===\n",
      "\n",
      "Sequence: AGATCGGAAGAGC; Type: regular 3'; Length: 13; Trimmed: 10112618 times.\n",
      "\n",
      "No. of allowed errors:\n",
      "0-9 bp: 0; 10-13 bp: 1\n",
      "\n",
      "Bases preceding removed adapters:\n",
      "  A: 31.5%\n",
      "  C: 29.0%\n",
      "  G: 16.4%\n",
      "  T: 23.1%\n",
      "  none/other: 0.0%\n",
      "\n",
      "Overview of removed sequences\n",
      "length\tcount\texpect\tmax.err\terror counts\n",
      "1\t7524177\t7405541.2\t0\t7524177\n",
      "2\t1563529\t1851385.3\t0\t1563529\n",
      "3\t476297\t462846.3\t0\t476297\n",
      "4\t153963\t115711.6\t0\t153963\n",
      "5\t65578\t28927.9\t0\t65578\n",
      "6\t39697\t7232.0\t0\t39697\n",
      "7\t34029\t1808.0\t0\t34029\n",
      "8\t29178\t452.0\t0\t29178\n",
      "9\t26124\t113.0\t0\t25744 380\n",
      "10\t23742\t28.2\t1\t22872 870\n",
      "11\t21203\t7.1\t1\t20388 815\n",
      "12\t18928\t1.8\t1\t18228 700\n",
      "13\t18147\t0.4\t1\t17454 693\n",
      "14\t15425\t0.4\t1\t14835 590\n",
      "15\t13517\t0.4\t1\t12996 521\n",
      "16\t11051\t0.4\t1\t10629 422\n",
      "17\t10156\t0.4\t1\t9787 369\n",
      "18\t9010\t0.4\t1\t8683 327\n",
      "19\t7615\t0.4\t1\t7314 301\n",
      "20\t6339\t0.4\t1\t6104 235\n",
      "21\t5562\t0.4\t1\t5354 208\n",
      "22\t5013\t0.4\t1\t4812 201\n",
      "23\t4439\t0.4\t1\t4258 181\n",
      "24\t3879\t0.4\t1\t3735 144\n",
      "25\t3465\t0.4\t1\t3339 126\n",
      "26\t2958\t0.4\t1\t2829 129\n",
      "27\t2734\t0.4\t1\t2617 117\n",
      "28\t2248\t0.4\t1\t2141 107\n",
      "29\t1935\t0.4\t1\t1866 69\n",
      "30\t1598\t0.4\t1\t1538 60\n",
      "31\t1326\t0.4\t1\t1279 47\n",
      "32\t1223\t0.4\t1\t1167 56\n",
      "33\t966\t0.4\t1\t922 44\n",
      "34\t910\t0.4\t1\t865 45\n",
      "35\t758\t0.4\t1\t712 46\n",
      "36\t698\t0.4\t1\t659 39\n",
      "37\t693\t0.4\t1\t651 42\n",
      "38\t588\t0.4\t1\t555 33\n",
      "39\t487\t0.4\t1\t457 30\n",
      "40\t405\t0.4\t1\t391 14\n",
      "41\t362\t0.4\t1\t342 20\n",
      "42\t282\t0.4\t1\t268 14\n",
      "43\t303\t0.4\t1\t282 21\n",
      "44\t161\t0.4\t1\t147 14\n",
      "45\t129\t0.4\t1\t126 3\n",
      "46\t110\t0.4\t1\t106 4\n",
      "47\t142\t0.4\t1\t134 8\n",
      "48\t129\t0.4\t1\t110 19\n",
      "49\t120\t0.4\t1\t109 11\n",
      "50\t93\t0.4\t1\t82 11\n",
      "51\t67\t0.4\t1\t56 11\n",
      "52\t71\t0.4\t1\t63 8\n",
      "53\t68\t0.4\t1\t56 12\n",
      "54\t58\t0.4\t1\t47 11\n",
      "55\t53\t0.4\t1\t40 13\n",
      "56\t35\t0.4\t1\t33 2\n",
      "57\t45\t0.4\t1\t33 12\n",
      "58\t26\t0.4\t1\t21 5\n",
      "59\t23\t0.4\t1\t18 5\n",
      "60\t30\t0.4\t1\t22 8\n",
      "61\t19\t0.4\t1\t14 5\n",
      "62\t28\t0.4\t1\t25 3\n",
      "63\t18\t0.4\t1\t18\n",
      "64\t24\t0.4\t1\t19 5\n",
      "65\t28\t0.4\t1\t19 9\n",
      "66\t24\t0.4\t1\t17 7\n",
      "67\t13\t0.4\t1\t8 5\n",
      "68\t9\t0.4\t1\t7 2\n",
      "69\t12\t0.4\t1\t9 3\n",
      "70\t25\t0.4\t1\t18 7\n",
      "71\t12\t0.4\t1\t8 4\n",
      "72\t12\t0.4\t1\t10 2\n",
      "73\t18\t0.4\t1\t11 7\n",
      "74\t12\t0.4\t1\t7 5\n",
      "75\t33\t0.4\t1\t8 25\n",
      "76\t44\t0.4\t1\t14 30\n",
      "77\t42\t0.4\t1\t15 27\n",
      "78\t48\t0.4\t1\t16 32\n",
      "79\t26\t0.4\t1\t8 18\n",
      "80\t26\t0.4\t1\t10 16\n",
      "81\t13\t0.4\t1\t6 7\n",
      "82\t10\t0.4\t1\t0 10\n",
      "83\t3\t0.4\t1\t1 2\n",
      "84\t2\t0.4\t1\t1 1\n",
      "85\t3\t0.4\t1\t1 2\n",
      "86\t5\t0.4\t1\t2 3\n",
      "87\t7\t0.4\t1\t1 6\n",
      "88\t8\t0.4\t1\t3 5\n",
      "90\t1\t0.4\t1\t0 1\n",
      "91\t3\t0.4\t1\t1 2\n",
      "92\t3\t0.4\t1\t0 3\n",
      "93\t2\t0.4\t1\t0 2\n",
      "94\t4\t0.4\t1\t1 3\n",
      "95\t2\t0.4\t1\t0 2\n",
      "96\t1\t0.4\t1\t1\n",
      "97\t9\t0.4\t1\t2 7\n",
      "98\t3\t0.4\t1\t1 2\n",
      "99\t9\t0.4\t1\t0 9\n",
      "100\t160\t0.4\t1\t1 159\n",
      "\n",
      "\n",
      "RUN STATISTICS FOR INPUT FILE: ../data/CP-4Spl_S11_L004_R1_0343.fastq\n",
      "=============================================\n",
      "29622165 sequences processed in total\n",
      "The length threshold of paired-end sequences gets evaluated later on (in the validation step)\n",
      "\n",
      "Writing report to '../data/trimgalore/CP-4Spl_S11_L004_R2_0343.fastq_trimming_report.txt'\n",
      "\n",
      "SUMMARISING RUN PARAMETERS\n",
      "==========================\n",
      "Input filename: ../data/CP-4Spl_S11_L004_R2_0343.fastq\n",
      "Trimming mode: paired-end\n",
      "Trim Galore version: 0.5.0\n",
      "Cutadapt version: 1.18\n",
      "Quality Phred score cutoff: 20\n",
      "Quality encoding type selected: ASCII+33\n",
      "Adapter sequence: 'AGATCGGAAGAGC' (Illumina TruSeq, Sanger iPCR; auto-detected)\n",
      "Maximum trimming error rate: 0.1 (default)\n",
      "Minimum required adapter overlap (stringency): 1 bp\n",
      "Minimum required sequence length for both reads before a sequence pair gets removed: 20 bp\n",
      "\n",
      "Writing final adapter and quality trimmed output to CP-4Spl_S11_L004_R2_0343_trimmed.fq\n",
      "\n",
      "\n",
      "  >>> Now performing quality (cutoff 20) and adapter trimming in a single pass for the adapter sequence: 'AGATCGGAAGAGC' from file ../data/CP-4Spl_S11_L004_R2_0343.fastq <<< \n"
     ]
    }
   ],
   "source": [
    "!  {trimgalore}trim_galore --paired --output_dir ../data/trimgalore/ \\\n",
    "../data/CP-4Spl_S11_L004_R1_0343.fastq \\\n",
    "../data/CP-4Spl_S11_L004_R2_0343.fastq \\\n",
    "../data/CP-4Spl_S11_L004_R1_0348.fastq \\\n",
    "../data/CP-4Spl_S11_L004_R2_0348.fastq"
   ]
  }
 ],
 "metadata": {
  "kernelspec": {
   "display_name": "Python 3",
   "language": "python",
   "name": "python3"
  },
  "language_info": {
   "codemirror_mode": {
    "name": "ipython",
    "version": 3
   },
   "file_extension": ".py",
   "mimetype": "text/x-python",
   "name": "python",
   "nbconvert_exporter": "python",
   "pygments_lexer": "ipython3",
   "version": "3.7.0"
  }
 },
 "nbformat": 4,
 "nbformat_minor": 2
}
