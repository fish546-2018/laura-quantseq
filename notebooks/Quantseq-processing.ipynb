{
 "cells": [
  {
   "cell_type": "markdown",
   "metadata": {},
   "source": [
    "### Download Illumina sequence fastq files from Owl "
   ]
  },
  {
   "cell_type": "code",
   "execution_count": null,
   "metadata": {},
   "outputs": [],
   "source": [
    "# download using bash script\n",
    "! bash ../scripts/download-quantseq.sh"
   ]
  },
  {
   "cell_type": "markdown",
   "metadata": {},
   "source": [
    "### Install tag-seq scripts\n",
    "I opted to install these scripts into my bioinformatics directory, where I house these types of programs. Create a {tagseq} variable"
   ]
  },
  {
   "cell_type": "code",
   "execution_count": null,
   "metadata": {},
   "outputs": [],
   "source": [
    "! git clone https://github.com/z0on/tag-based_RNAseq.git /Applications/bioinformatics/tag-based_RNAseq/"
   ]
  },
  {
   "cell_type": "code",
   "execution_count": 5,
   "metadata": {},
   "outputs": [],
   "source": [
    "# create path variable to blast directory \n",
    "tagseq = \"/Applications/bioinformatics/tag-based_RNAseq/\""
   ]
  },
  {
   "cell_type": "code",
   "execution_count": 1,
   "metadata": {},
   "outputs": [
    {
     "name": "stdout",
     "output_type": "stream",
     "text": [
      "CP-KS-LibL-L10-G_S59_L006_R1_001.fastq\r\n",
      "CP-KS-LibL-L11-G_S65_L006_R1_001.fastq\r\n",
      "CP-KS-LibL-L13-G_S60_L006_R1_001.fastq\r\n",
      "CP-KS-LibL-L14-G_S63_L006_R1_001.fastq\r\n",
      "CP-KS-LibL-L15-G_S68_L006_R1_001.fastq\r\n",
      "CP-KS-LibL-L19-G_S67_L006_R1_001.fastq\r\n",
      "CP-KS-LibL-L2-G_S34_L006_R1_001.fastq\r\n",
      "CP-KS-LibL-L21-G_S58_L006_R1_001.fastq\r\n",
      "CP-KS-LibL-L23-G_S61_L006_R1_001.fastq\r\n",
      "CP-KS-LibL-L24-G_S62_L006_R1_001.fastq\r\n",
      "CP-KS-LibL-L29-G_S36_L006_R1_001.fastq\r\n",
      "CP-KS-LibL-L3-G_S64_L006_R1_001.fastq\r\n",
      "CP-KS-LibL-L32-G_S35_L006_R1_001.fastq\r\n",
      "CP-KS-LibL-L33-G_S66_L006_R1_001.fastq\r\n",
      "CP-KS-LibL-L34-L_S25_L006_R1_001.fastq\r\n",
      "CP-KS-LibL-L35-L_S31_L006_R1_001.fastq\r\n",
      "CP-KS-LibL-L37-L_S32_L006_R1_001.fastq\r\n",
      "CP-KS-LibL-L39-L_S29_L006_R1_001.fastq\r\n",
      "CP-KS-LibL-L41-L_S27_L006_R1_001.fastq\r\n",
      "CP-KS-LibL-L44-L_S30_L006_R1_001.fastq\r\n",
      "CP-KS-LibL-L45-L_S28_L006_R1_001.fastq\r\n",
      "CP-KS-LibL-L47-L_S33_L006_R1_001.fastq\r\n",
      "CP-KS-LibL-L7-G_S57_L006_R1_001.fastq\r\n",
      "CP-KS-LibL-SN1016-G_S26_L006_R1_001.fastq\r\n",
      "clean\r\n",
      "maps\r\n",
      "quatseq-files.txt\r\n",
      "tagSeq_trim.sh\r\n"
     ]
    }
   ],
   "source": [
    "! ls ../data/illumina-raw/"
   ]
  },
  {
   "cell_type": "markdown",
   "metadata": {},
   "source": [
    "### Adaptor trimming, deduplicating, and quality filtering:\n",
    "Creating and launching the cleaning process for all files in the same time:"
   ]
  },
  {
   "cell_type": "code",
   "execution_count": 86,
   "metadata": {},
   "outputs": [
    {
     "name": "stdout",
     "output_type": "stream",
     "text": [
      "\u001b[31m2bRAD_bowtie2_launch.pl\u001b[m\u001b[m        p5barcodes_order.xlsx\r\n",
      "README.md                      picogreen.R\r\n",
      "RNASeq_sample_prep_dec2017.pdf picogreen.csv\r\n",
      "TagSeq_GSAF_Price.xlsx         \u001b[31mrnaseq_clipper.pl\u001b[m\u001b[m\r\n",
      "TagSeq_sample_prep_dec2017.pdf \u001b[31mrnaseq_clipper0.pl\u001b[m\u001b[m\r\n",
      "TagSeq_sample_prep_may2018.pdf \u001b[31mrnaseq_clipper_fasta.pl\u001b[m\u001b[m\r\n",
      "\u001b[31mcountreads.pl\u001b[m\u001b[m                  \u001b[31mrnaseq_clipper_old.pl\u001b[m\u001b[m\r\n",
      "dna.mixing.R                   \u001b[31msamcount.pl\u001b[m\u001b[m\r\n",
      "dupCount.R                     \u001b[31msamcount_launch.pl\u001b[m\u001b[m\r\n",
      "\u001b[31mexpression_compiler.pl\u001b[m\u001b[m         \u001b[31msamcount_launch_bt2.pl\u001b[m\u001b[m\r\n",
      "\u001b[31miRNAseq_bowtie2map.pl\u001b[m\u001b[m          \u001b[31msamcount_v.0.1.pl\u001b[m\u001b[m\r\n",
      "\u001b[31miRNAseq_shrimpmap_SAM.pl\u001b[m\u001b[m       \u001b[31mselectFastaByHeader.pl\u001b[m\u001b[m\r\n",
      "\u001b[31miRNAseq_trim_launch.pl\u001b[m\u001b[m         \u001b[31msplitFastaByHeader.pl\u001b[m\u001b[m\r\n",
      "\u001b[31miRNAseq_trim_launch0.pl\u001b[m\u001b[m        tag-seq_scripts_manual.pdf\r\n",
      "\u001b[31miRNAseq_trim_launch_bgi.pl\u001b[m\u001b[m     tagSeq_processing_README.txt\r\n",
      "illumina_mix_data.csv          \u001b[31mtagseq_bowtie2map.pl\u001b[m\u001b[m\r\n",
      "\u001b[31misogroup_namer.pl\u001b[m\u001b[m              \u001b[31mtagseq_clipper.pl\u001b[m\u001b[m\r\n",
      "\u001b[31mlauncher_creator.py\u001b[m\u001b[m            tagseq_oligo_order.xls\r\n",
      "mix_illumina_qpcr.R            \u001b[31mtagseq_trim_launch.pl\u001b[m\u001b[m\r\n",
      "\u001b[31mngs_concat.pl\u001b[m\u001b[m                  \u001b[31mtagseq_trim_launch_bgi.pl\u001b[m\u001b[m\r\n"
     ]
    }
   ],
   "source": [
    "! ls {tagseq}"
   ]
  },
  {
   "cell_type": "code",
   "execution_count": 87,
   "metadata": {},
   "outputs": [
    {
     "name": "stdout",
     "output_type": "stream",
     "text": [
      "#!/usr/bin/perl\r\n",
      "\r\n",
      "$usage= \"\r\n",
      "\r\n",
      "tagseq_clipper.pl  : \r\n",
      "\r\n",
      "Clips 5'-leader off Illumina fastq reads in RNA-seq\r\n",
      "\r\n",
      "Removes duplicated reads sharing the same degenerate header and \r\n",
      "the first 20 bases of the sequence (reads containing N bases in this\r\n",
      "region are discarded, too)\r\n",
      "\r\n",
      "prints to STDOUT\r\n",
      "\r\n",
      "arguments:\r\n",
      "1 : fastq file name\r\n",
      "2 : string to define the leading sequence, default '[ATGC]?[ATGC][AC][AT]GGG+|[ATGC]?[ATGC]TGC[AC][AT]GGG+|[ATGC]?[ATGC]GC[AT]TC[ACT][AC][AT]GGG+'\r\n",
      "'keep' : optional flag to say whether the sequences without leader should be kept. \r\n",
      "\t\t By default, they are discarded.\r\n",
      "\r\n",
      "Example:\r\n",
      "tagseq_clipper.pl D6.fastq\r\n",
      "\r\n",
      "\t\t\t\t\t \r\n",
      "\";\r\n",
      "\r\n",
      "my $fq=shift or die $usage;\r\n",
      "my $lead=\"\";\r\n",
      "my $keep=0;\r\n",
      "if ($ARGV[0]) { $lead=$ARGV[0];}\r\n",
      "else { $lead=\"[ATGC]?[ATGC][AC][AT]GGG+|[ATGC]?[ATGC]TGC[AC][AT]GGG+|[ATGC]?[ATGC]GC[AT]TC[ACT][AC][AT]GGG+\";}\r\n",
      "if ($ARGV[1]) {$keep=1;}\r\n",
      "my $trim=0;\r\n",
      "my $name=\"\";\r\n",
      "my $name2=\"\";\r\n",
      "my $seq=\"\";\r\n",
      "my $qua=\"\";\r\n",
      "my %seen={};\r\n",
      "open INP, $fq or die \"cannot open file $fq\\n\";\r\n",
      "my $ll=3;\r",
      "\r\n",
      "my $nohead=0;\r\n",
      "my $dups=0;\r\n",
      "my $ntag;\r\n",
      "my $tot=0;\r\n",
      "my $goods=0;\r\n",
      "while (<INP>) {\r\n",
      "\tif ($ll==3 && $_=~/^(\\@.+)$/ ) {\r\n",
      "\t\t$tot++;\r\n",
      "\t\t$name2=$1; \r\n",
      "\t\tif ($seq=~/^($lead)(.+)/) {\t\r\n",
      "\t\t\tmy $start=substr($2,0,20);\r\n",
      "\t\t\tmy $idtag=$1.$start;\r\n",
      "\t\t\tif (!$seen{$idtag} and $idtag!~/N/) {\r\n",
      "\t\t\t\t$seen{$idtag}=1;\r\n",
      "\t\t\t\t$trim=length($1);\r\n",
      "\t\t\t\tprint \"$name\\n$2\\n+\\n\",substr($qua,$trim),\"\\n\";\r\n",
      "\t\t\t\t$goods++;\r\n",
      "\t\t\t}\r\n",
      "\t\t\telsif ($seen{$idtag}) { $dups++; }\r\n",
      "\t\t\telse { $ntag++; }\r\n",
      "\t\t}\r\n",
      "\t\telsif ($keep and $name) { print \"$name\\n$seq\\n+\\n\",$qua,\"\\n\";}\r\n",
      "\t\telse {$nohead++;}\r\n",
      "\t\t$seq=\"\";\r\n",
      "\t\t$ll=0;\r\n",
      "\t\t$qua=\"\";\r\n",
      "\t\t@sites=();\r\n",
      "\t\t$name=$name2;\r\n",
      "\t}\r\n",
      "\telsif ($ll==0){\r\n",
      "\t\tchomp;\r\n",
      "\t\t$seq=$_;\r\n",
      "\t\t$ll=1;\r\n",
      "\t}\r\n",
      "\telsif ($ll==2) { \r\n",
      "\t\tchomp;\r\n",
      "\t\t$qua=$_; \r\n",
      "\t\t$ll=3; \r\n",
      "\t}\r\n",
      "\telse { $ll=2;}\r\n",
      "}\r\n",
      "\r\n",
      "                if ($seq=~/^($lead)(.+)/) {\r\n",
      "                        my $start=substr($2,0,20);\r\n",
      "                        my $idtag=$1.$start;\r\n",
      "                        if (!$seen{$idtag} and $idtag!~/N/) {\r\n",
      "                                $seen{$idtag}=1;\r\n",
      "                                $trim=length($1);\r\n",
      "                                print \"$name\\n$2\\n+\\n\",substr($qua,$trim),\"\\n\";\r\n",
      "                                $goods++;\r\n",
      "                        }\r\n",
      "                        elsif ($seen{$idtag}) { $dups++; }\r\n",
      "                        else { $ntag++; }\r\n",
      "                }\r\n",
      "elsif ($keep and $name) { print \"$name\\n$seq\\n+\\n\",$qua,\"\\n\";}\r\n",
      "warn \"$fq\\ttotal:$tot\\tgoods:$goods\\tdups:$dups\\tnoheader:$nohead\\tN.in.header:$ntag\\n\";\r\n"
     ]
    }
   ],
   "source": [
    "! cat {tagseq}tagseq_clipper.pl"
   ]
  },
  {
   "cell_type": "code",
   "execution_count": 88,
   "metadata": {},
   "outputs": [
    {
     "name": "stdout",
     "output_type": "stream",
     "text": [
      "#!/usr/bin/perl\r\n",
      "\r\n",
      "my $usage= \"\r\n",
      "\r\n",
      "tagseq_trim_launch.pl :\r\n",
      "\r\n",
      "Prints out a series of commands to trim Illumina tag-seq reads, one for each reads file\r\n",
      "(tagseq_clipper.pl | fasx_clipper | fastx_quality_filter )\r\n",
      "\r\n",
      "prints to STDOUT\r\n",
      "\r\n",
      "Arguments:\r\n",
      "1: glob to fastq files\r\n",
      "2: optional, the position of name-deriving string in the file name\r\n",
      "\tif separated by underscores, \r\n",
      "\tsuch as: input file Sample_RNA_2DVH_L002_R1.cat.fastq\r\n",
      "\tspecifying arg2 as '3' would create output file with a name '2DVH.fastq'\t\r\n",
      "\r\n",
      "Example: \r\n",
      "tagseq_trim_launch.pl '\\.fq$' > clean\r\n",
      "\r\n",
      "NOTE: use this script if your qualities in the fastq files are 33-based;\r\n",
      "if not, use tagseq_trim_launch_bgi.pl instead\r\n",
      "\r\n",
      "\";\r\n",
      "\r\n",
      "if (!$ARGV[0]) { die $usage;}\r\n",
      "my $glob=$ARGV[0];\r\n",
      "\r\n",
      "opendir THIS, \".\";\r\n",
      "my @fqs=grep /$glob/,readdir THIS;\r\n",
      "my $outname=\"\";\r\n",
      "\r\n",
      "foreach $fqf (@fqs) {\r\n",
      "\tif ($ARGV[1]) {\r\n",
      "\t\tmy @parts=split('_',$fqf);\r\n",
      "\t\t$outname=$parts[$ARGV[1]-1].\".trim\";\r\n",
      "\t}\r\n",
      "\telse { $outname=$fqf.\".trim\";}\r\n",
      "\tprint \"tagseq_clipper.pl $fqf | fastx_clipper -a AAAAAAAA -l 20 -Q33 | fastx_clipper -a AGATCGGAAG -l 20 -Q33 | fastq_quality_filter -Q33 -q 20 -p 90 >$outname\\n\";\r\n",
      "}\r\n",
      "\r\n"
     ]
    }
   ],
   "source": [
    "# test tagseq shortcut and perl script \n",
    "! cat {tagseq}tagseq_trim_launch.pl"
   ]
  },
  {
   "cell_type": "code",
   "execution_count": 89,
   "metadata": {},
   "outputs": [
    {
     "name": "stdout",
     "output_type": "stream",
     "text": [
      "usage: fastx_clipper [-h] [-a ADAPTER] [-D] [-l N] [-n] [-d N] [-c] [-C] [-o] [-v] [-z] [-i INFILE] [-o OUTFILE]\r\n",
      "Part of FASTX Toolkit 0.0.14 by A. Gordon (assafgordon@gmail.com)\r\n",
      "\r\n",
      "   [-h]         = This helpful help screen.\r\n",
      "   [-a ADAPTER] = ADAPTER string. default is CCTTAAGG (dummy adapter).\r\n",
      "   [-l N]       = discard sequences shorter than N nucleotides. default is 5.\r\n",
      "   [-d N]       = Keep the adapter and N bases after it.\r\n",
      "                  (using '-d 0' is the same as not using '-d' at all. which is the default).\r\n",
      "   [-c]         = Discard non-clipped sequences (i.e. - keep only sequences which contained the adapter).\r\n",
      "   [-C]         = Discard clipped sequences (i.e. - keep only sequences which did not contained the adapter).\r\n",
      "   [-k]         = Report Adapter-Only sequences.\r\n",
      "   [-n]         = keep sequences with unknown (N) nucleotides. default is to discard such sequences.\r\n",
      "   [-v]         = Verbose - report number of sequences.\r\n",
      "                  If [-o] is specified,  report will be printed to STDOUT.\r\n",
      "                  If [-o] is not specified (and output goes to STDOUT),\r\n",
      "                  report will be printed to STDERR.\r\n",
      "   [-z]         = Compress output with GZIP.\r\n",
      "   [-D]\t = DEBUG output.\r\n",
      "   [-M N]       = require minimum adapter alignment length of N.\r\n",
      "                  If less than N nucleotides aligned with the adapter - don't clip it.   [-i INFILE]  = FASTA/Q input file. default is STDIN.\r\n",
      "   [-o OUTFILE] = FASTA/Q output file. default is STDOUT.\r\n",
      "\r\n"
     ]
    }
   ],
   "source": [
    "# test fast_clipper \n",
    "! fastx_clipper -h "
   ]
  },
  {
   "cell_type": "code",
   "execution_count": 90,
   "metadata": {},
   "outputs": [
    {
     "name": "stdout",
     "output_type": "stream",
     "text": [
      "usage: fastq_quality_filter [-h] [-v] [-q N] [-p N] [-z] [-i INFILE] [-o OUTFILE]\r\n",
      "Part of FASTX Toolkit 0.0.14 by A. Gordon (assafgordon@gmail.com)\r\n",
      "\r\n",
      "   [-h]         = This helpful help screen.\r\n",
      "   [-q N]       = Minimum quality score to keep.\r\n",
      "   [-p N]       = Minimum percent of bases that must have [-q] quality.\r\n",
      "   [-z]         = Compress output with GZIP.\r\n",
      "   [-i INFILE]  = FASTA/Q input file. default is STDIN.\r\n",
      "   [-o OUTFILE] = FASTA/Q output file. default is STDOUT.\r\n",
      "   [-v]         = Verbose - report number of sequences.\r\n",
      "                  If [-o] is specified,  report will be printed to STDOUT.\r\n",
      "                  If [-o] is not specified (and output goes to STDOUT),\r\n",
      "                  report will be printed to STDERR.\r\n",
      "\r\n"
     ]
    }
   ],
   "source": [
    "# test fastq_quality_filter\n",
    "! fastq_quality_filter -h"
   ]
  },
  {
   "cell_type": "code",
   "execution_count": 3,
   "metadata": {},
   "outputs": [
    {
     "name": "stdout",
     "output_type": "stream",
     "text": [
      "/Users/laura/Documents/roberts-lab/laura-quantseq/data/illumina-raw\n"
     ]
    }
   ],
   "source": [
    "cd ../data/illumina-raw/"
   ]
  },
  {
   "cell_type": "code",
   "execution_count": 78,
   "metadata": {},
   "outputs": [],
   "source": [
    "# run perl script that creates list of executables for each fastq file \n",
    "! {tagseq}tagseq_trim_launch.pl '\\.fastq$' > clean"
   ]
  },
  {
   "cell_type": "code",
   "execution_count": 4,
   "metadata": {},
   "outputs": [
    {
     "name": "stdout",
     "output_type": "stream",
     "text": [
      "tagseq_clipper.pl CP-KS-LibL-L21-G_S58_L006_R1_001.fastq | fastx_clipper -a AAAAAAAA -l 20 -Q33 | fastx_clipper -a AGATCGGAAG -l 20 -Q33 | fastq_quality_filter -Q33 -q 20 -p 90 >CP-KS-LibL-L21-G_S58_L006_R1_001.fastq.trim\r\n",
      "tagseq_clipper.pl CP-KS-LibL-L23-G_S61_L006_R1_001.fastq | fastx_clipper -a AAAAAAAA -l 20 -Q33 | fastx_clipper -a AGATCGGAAG -l 20 -Q33 | fastq_quality_filter -Q33 -q 20 -p 90 >CP-KS-LibL-L23-G_S61_L006_R1_001.fastq.trim\r\n"
     ]
    }
   ],
   "source": [
    "! head -2 clean"
   ]
  },
  {
   "cell_type": "markdown",
   "metadata": {},
   "source": [
    "### Based on repeated functions in the clean file, I wrote a script to loop through the files and execute all commands "
   ]
  },
  {
   "cell_type": "code",
   "execution_count": 82,
   "metadata": {},
   "outputs": [
    {
     "name": "stdout",
     "output_type": "stream",
     "text": [
      "CP-KS-LibL-L10-G_S59_L006_R1_001.fastq\r\n",
      "CP-KS-LibL-L11-G_S65_L006_R1_001.fastq\r\n",
      "CP-KS-LibL-L13-G_S60_L006_R1_001.fastq\r\n",
      "CP-KS-LibL-L14-G_S63_L006_R1_001.fastq\r\n",
      "CP-KS-LibL-L15-G_S68_L006_R1_001.fastq\r\n",
      "CP-KS-LibL-L19-G_S67_L006_R1_001.fastq\r\n",
      "CP-KS-LibL-L2-G_S34_L006_R1_001.fastq\r\n",
      "CP-KS-LibL-L21-G_S58_L006_R1_001.fastq\r\n",
      "CP-KS-LibL-L23-G_S61_L006_R1_001.fastq\r\n",
      "CP-KS-LibL-L24-G_S62_L006_R1_001.fastq\r\n",
      "CP-KS-LibL-L29-G_S36_L006_R1_001.fastq\r\n",
      "CP-KS-LibL-L3-G_S64_L006_R1_001.fastq\r\n",
      "CP-KS-LibL-L32-G_S35_L006_R1_001.fastq\r\n",
      "CP-KS-LibL-L33-G_S66_L006_R1_001.fastq\r\n",
      "CP-KS-LibL-L34-L_S25_L006_R1_001.fastq\r\n",
      "CP-KS-LibL-L35-L_S31_L006_R1_001.fastq\r\n",
      "CP-KS-LibL-L37-L_S32_L006_R1_001.fastq\r\n",
      "CP-KS-LibL-L39-L_S29_L006_R1_001.fastq\r\n",
      "CP-KS-LibL-L41-L_S27_L006_R1_001.fastq\r\n",
      "CP-KS-LibL-L44-L_S30_L006_R1_001.fastq\r\n",
      "CP-KS-LibL-L45-L_S28_L006_R1_001.fastq\r\n",
      "CP-KS-LibL-L47-L_S33_L006_R1_001.fastq\r\n",
      "CP-KS-LibL-L7-G_S57_L006_R1_001.fastq\r\n",
      "CP-KS-LibL-SN1016-G_S26_L006_R1_001.fastq\r\n",
      "clean\r\n",
      "quatseq-files.txt\r\n"
     ]
    }
   ],
   "source": [
    "! ls"
   ]
  },
  {
   "cell_type": "markdown",
   "metadata": {},
   "source": [
    "Can't use the global variable {tagseq} inside my for loop ... figure out why. "
   ]
  },
  {
   "cell_type": "code",
   "execution_count": 129,
   "metadata": {
    "scrolled": true
   },
   "outputs": [
    {
     "name": "stderr",
     "output_type": "stream",
     "text": [
      "CP-KS-LibL-L10-G_S59_L006_R1_001.fastq\ttotal:6452865\tgoods:27350\tdups:135439\tnoheader:6290063\tN.in.header:13\n",
      "CP-KS-LibL-L11-G_S65_L006_R1_001.fastq\ttotal:5761774\tgoods:27135\tdups:112294\tnoheader:5622331\tN.in.header:14\n",
      "CP-KS-LibL-L13-G_S60_L006_R1_001.fastq\ttotal:4723646\tgoods:3787\tdups:63418\tnoheader:4656437\tN.in.header:4\n",
      "CP-KS-LibL-L14-G_S63_L006_R1_001.fastq\ttotal:5906432\tgoods:26663\tdups:105949\tnoheader:5773809\tN.in.header:11\n",
      "CP-KS-LibL-L15-G_S68_L006_R1_001.fastq\ttotal:9442881\tgoods:30660\tdups:90323\tnoheader:9321885\tN.in.header:13\n",
      "CP-KS-LibL-L19-G_S67_L006_R1_001.fastq\ttotal:6377544\tgoods:28528\tdups:88628\tnoheader:6260379\tN.in.header:9\n",
      "CP-KS-LibL-L2-G_S34_L006_R1_001.fastq\ttotal:5636566\tgoods:20425\tdups:96398\tnoheader:5519737\tN.in.header:6\n",
      "CP-KS-LibL-L21-G_S58_L006_R1_001.fastq\ttotal:4073358\tgoods:18890\tdups:66504\tnoheader:3987951\tN.in.header:13\n",
      "CP-KS-LibL-L23-G_S61_L006_R1_001.fastq\ttotal:6291394\tgoods:24916\tdups:107619\tnoheader:6158846\tN.in.header:13\n",
      "CP-KS-LibL-L24-G_S62_L006_R1_001.fastq\ttotal:3752347\tgoods:16446\tdups:80388\tnoheader:3655502\tN.in.header:11\n",
      "CP-KS-LibL-L29-G_S36_L006_R1_001.fastq\ttotal:7407113\tgoods:27357\tdups:101833\tnoheader:7277911\tN.in.header:12\n",
      "CP-KS-LibL-L3-G_S64_L006_R1_001.fastq\ttotal:8124259\tgoods:6829\tdups:96494\tnoheader:8020926\tN.in.header:10\n",
      "CP-KS-LibL-L32-G_S35_L006_R1_001.fastq\ttotal:8197017\tgoods:29379\tdups:131573\tnoheader:8036055\tN.in.header:10\n",
      "CP-KS-LibL-L33-G_S66_L006_R1_001.fastq\ttotal:6784166\tgoods:29691\tdups:129932\tnoheader:6624531\tN.in.header:12\n",
      "CP-KS-LibL-L34-L_S25_L006_R1_001.fastq\ttotal:1238699\tgoods:4147\tdups:9025\tnoheader:1225527\tN.in.header:\n",
      "CP-KS-LibL-L35-L_S31_L006_R1_001.fastq\ttotal:4931591\tgoods:16332\tdups:56205\tnoheader:4859049\tN.in.header:5\n",
      "CP-KS-LibL-L37-L_S32_L006_R1_001.fastq\ttotal:4500646\tgoods:6897\tdups:23611\tnoheader:4470137\tN.in.header:1\n",
      "CP-KS-LibL-L39-L_S29_L006_R1_001.fastq\ttotal:2463803\tgoods:10809\tdups:27527\tnoheader:2425459\tN.in.header:8\n",
      "CP-KS-LibL-L41-L_S27_L006_R1_001.fastq\ttotal:1978563\tgoods:8621\tdups:25063\tnoheader:1944873\tN.in.header:6\n",
      "CP-KS-LibL-L44-L_S30_L006_R1_001.fastq\ttotal:1891280\tgoods:10963\tdups:24143\tnoheader:1856170\tN.in.header:4\n",
      "CP-KS-LibL-L45-L_S28_L006_R1_001.fastq\ttotal:5364976\tgoods:13668\tdups:48080\tnoheader:5303222\tN.in.header:6\n",
      "CP-KS-LibL-L47-L_S33_L006_R1_001.fastq\ttotal:1607448\tgoods:7156\tdups:14762\tnoheader:1585528\tN.in.header:2\n",
      "CP-KS-LibL-L7-G_S57_L006_R1_001.fastq\ttotal:6593166\tgoods:30203\tdups:91735\tnoheader:6471216\tN.in.header:13\n",
      "CP-KS-LibL-SN1016-G_S26_L006_R1_001.fastq\ttotal:2635120\tgoods:13464\tdups:36306\tnoheader:2585346\tN.in.header:4\n"
     ]
    }
   ],
   "source": [
    "%%bash \n",
    "\n",
    "for file in *.fastq\n",
    "do\n",
    "#strip .fastq and directorys tructure from each file, then\n",
    "# add suffice .fastq.trim to create output name for each file\n",
    "results_file=\"$(basename -a $file).trim\"\n",
    "\n",
    "# run tagseq scripts on each file\n",
    "/Applications/bioinformatics/tag-based_RNAseq/tagseq_clipper.pl $file | \\\n",
    "fastx_clipper -a AAAAAAAA -l 20 -Q33 | \\\n",
    "fastx_clipper -a AGATCGGAAG -l 20 -Q33 | \\\n",
    "fastq_quality_filter -Q33 -q 20 -p 90 >\\\n",
    "../tagseq_trim/$results_file \n",
    "done"
   ]
  },
  {
   "cell_type": "markdown",
   "metadata": {},
   "source": [
    "### download and format reference transcriptome for read alignment "
   ]
  },
  {
   "cell_type": "code",
   "execution_count": 138,
   "metadata": {},
   "outputs": [
    {
     "name": "stdout",
     "output_type": "stream",
     "text": [
      "06c996f75944389ce5d7d2bce64f278fbe27b208  Trinity.fasta\n",
      "06c996f75944389ce5d7d2bce64f278fbe27b208  ../results/trinity/20181029-olurida-gonad-assembly.fasta\n"
     ]
    },
    {
     "name": "stderr",
     "output_type": "stream",
     "text": [
      "  % Total    % Received % Xferd  Average Speed   Time    Time     Time  Current\n",
      "                                 Dload  Upload   Total   Spent    Left  Speed\n",
      "\r",
      "  0     0    0     0    0     0      0      0 --:--:-- --:--:-- --:--:--     0\r",
      "  0     0    0     0    0     0      0      0 --:--:--  0:00:01 --:--:--     0\r",
      "  0  162M    0  707k    0     0   361k      0  0:07:41  0:00:01  0:07:40  361k\r",
      "  1  162M    1 2886k    0     0   976k      0  0:02:50  0:00:02  0:02:48  976k\r",
      "  2  162M    2 4418k    0     0  1115k      0  0:02:29  0:00:03  0:02:26 1115k\r",
      "  3  162M    3 5345k    0     0  1078k      0  0:02:34  0:00:04  0:02:30 1078k\r",
      "  3  162M    3 6198k    0     0  1038k      0  0:02:40  0:00:05  0:02:35 1302k\r",
      "  4  162M    4 6768k    0     0   971k      0  0:02:51  0:00:06  0:02:45 1210k\r",
      "  4  162M    4 7347k    0     0   922k      0  0:03:00  0:00:07  0:02:53  891k\r",
      "  4  162M    4 7971k    0     0   890k      0  0:03:07  0:00:08  0:02:59  710k\r",
      "  5  162M    5 8871k    0     0   889k      0  0:03:07  0:00:09  0:02:58  702k\r",
      "  6  162M    6 10.2M    0     0   958k      0  0:02:54  0:00:10  0:02:44  863k\r",
      "  7  162M    7 12.1M    0     0  1039k      0  0:02:40  0:00:11  0:02:29 1133k\r",
      "  8  162M    8 13.4M    0     0  1066k      0  0:02:36  0:00:12  0:02:24 1295k\r",
      "  8  162M    8 14.3M    0     0  1054k      0  0:02:38  0:00:13  0:02:25 1349k\r",
      "  9  162M    9 15.1M    0     0  1038k      0  0:02:40  0:00:14  0:02:26 1336k\r",
      "  9  162M    9 16.0M    0     0  1029k      0  0:02:42  0:00:15  0:02:27 1183k\r",
      " 10  162M   10 16.9M    0     0  1022k      0  0:02:43  0:00:16  0:02:27  983k\r",
      " 10  162M   10 17.6M    0     0  1006k      0  0:02:45  0:00:17  0:02:28  852k\r",
      " 11  162M   11 18.4M    0     0   995k      0  0:02:47  0:00:18  0:02:29  829k\r",
      " 12  162M   12 20.0M    0     0  1030k      0  0:02:41  0:00:19  0:02:22 1007k\r",
      " 13  162M   13 21.9M    0     0  1074k      0  0:02:35  0:00:20  0:02:15 1217k\r",
      " 14  162M   14 23.3M    0     0  1089k      0  0:02:33  0:00:21  0:02:12 1317k\r",
      " 14  162M   14 24.2M    0     0  1079k      0  0:02:34  0:00:22  0:02:12 1341k\r",
      " 15  162M   15 25.0M    0     0  1070k      0  0:02:35  0:00:23  0:02:12 1352k\r",
      " 15  162M   15 25.8M    0     0  1059k      0  0:02:37  0:00:24  0:02:13 1173k\r",
      " 16  162M   16 27.5M    0     0  1085k      0  0:02:33  0:00:25  0:02:08 1135k\r",
      " 18  162M   18 29.3M    0     0  1115k      0  0:02:29  0:00:26  0:02:03 1228k\r",
      " 19  162M   19 31.1M    0     0  1140k      0  0:02:26  0:00:27  0:01:59 1418k\r",
      " 20  162M   20 33.1M    0     0  1172k      0  0:02:22  0:00:28  0:01:54 1667k\r",
      " 21  162M   21 35.3M    0     0  1207k      0  0:02:18  0:00:29  0:01:49 1944k\r",
      " 22  162M   22 36.8M    0     0  1220k      0  0:02:16  0:00:30  0:01:46 1917k\r",
      " 23  162M   23 37.8M    0     0  1212k      0  0:02:17  0:00:31  0:01:46 1732k\r",
      " 23  162M   23 38.4M    0     0  1195k      0  0:02:19  0:00:32  0:01:47 1502k\r",
      " 23  162M   23 38.9M    0     0  1174k      0  0:02:22  0:00:33  0:01:49 1186k\r",
      " 24  162M   24 39.4M    0     0  1154k      0  0:02:24  0:00:34  0:01:50  838k\r",
      " 24  162M   24 39.9M    0     0  1136k      0  0:02:26  0:00:35  0:01:51  619k\r",
      " 25  162M   25 41.2M    0     0  1142k      0  0:02:26  0:00:36  0:01:50  695k\r",
      " 26  162M   26 42.8M    0     0  1157k      0  0:02:24  0:00:37  0:01:47  905k\r",
      " 27  162M   27 44.9M    0     0  1180k      0  0:02:21  0:00:38  0:01:43 1220k\r",
      " 28  162M   28 46.4M    0     0  1191k      0  0:02:20  0:00:39  0:01:41 1451k\r",
      " 29  162M   29 47.5M    0     0  1188k      0  0:02:20  0:00:40  0:01:40 1559k\r",
      " 29  162M   29 48.5M    0     0  1183k      0  0:02:20  0:00:41  0:01:39 1490k\r",
      " 30  162M   30 49.3M    0     0  1177k      0  0:02:21  0:00:42  0:01:39 1331k\r",
      " 30  162M   30 50.3M    0     0  1173k      0  0:02:22  0:00:43  0:01:39 1123k\r",
      " 31  162M   31 51.4M    0     0  1171k      0  0:02:22  0:00:44  0:01:38 1009k\r",
      " 32  162M   32 52.4M    0     0  1167k      0  0:02:22  0:00:45  0:01:37 1000k\r",
      " 32  162M   32 53.4M    0     0  1165k      0  0:02:23  0:00:46  0:01:37 1007k\r",
      " 33  162M   33 55.1M    0     0  1178k      0  0:02:21  0:00:47  0:01:34 1182k\r",
      " 34  162M   34 56.6M    0     0  1184k      0  0:02:20  0:00:48  0:01:32 1277k\r",
      " 35  162M   35 57.2M    0     0  1173k      0  0:02:22  0:00:49  0:01:33 1195k\r",
      " 35  162M   35 57.7M    0     0  1161k      0  0:02:23  0:00:50  0:01:33 1101k\r",
      " 35  162M   35 58.2M    0     0  1148k      0  0:02:25  0:00:51  0:01:34  991k\r",
      " 36  162M   36 58.7M    0     0  1136k      0  0:02:26  0:00:52  0:01:34  738k\r",
      " 36  162M   36 59.7M    0     0  1134k      0  0:02:27  0:00:53  0:01:34  639k\r",
      " 37  162M   37 61.1M    0     0  1139k      0  0:02:26  0:00:54  0:01:32  801k\r",
      " 38  162M   38 62.8M    0     0  1149k      0  0:02:25  0:00:55  0:01:30 1025k\r",
      " 39  162M   39 64.6M    0     0  1162k      0  0:02:23  0:00:56  0:01:27 1308k\r",
      " 40  162M   40 65.9M    0     0  1165k      0  0:02:23  0:00:57  0:01:26 1474k\r",
      " 41  162M   41 66.8M    0     0  1161k      0  0:02:23  0:00:58  0:01:25 1459k\r",
      " 41  162M   41 67.8M    0     0  1159k      0  0:02:23  0:00:59  0:01:24 1369k\r",
      " 42  162M   42 68.7M    0     0  1154k      0  0:02:24  0:01:00  0:01:24 1218k\r",
      " 42  162M   42 69.7M    0     0  1151k      0  0:02:24  0:01:01  0:01:23 1032k\r",
      " 43  162M   43 70.6M    0     0  1149k      0  0:02:25  0:01:02  0:01:23  964k\r",
      " 44  162M   44 71.6M    0     0  1147k      0  0:02:25  0:01:03  0:01:22  980k\r",
      " 44  162M   44 72.8M    0     0  1148k      0  0:02:25  0:01:04  0:01:21 1019k\r",
      " 45  162M   45 74.3M    0     0  1154k      0  0:02:24  0:01:05  0:01:19 1142k\r",
      " 46  162M   46 75.5M    0     0  1155k      0  0:02:24  0:01:06  0:01:18 1198k\r",
      " 46  162M   46 76.2M    0     0  1149k      0  0:02:25  0:01:07  0:01:18 1140k\r",
      " 47  162M   47 77.0M    0     0  1144k      0  0:02:25  0:01:08  0:01:17 1104k\r",
      " 47  162M   47 77.9M    0     0  1140k      0  0:02:26  0:01:09  0:01:17 1041k\r",
      " 48  162M   48 78.8M    0     0  1137k      0  0:02:26  0:01:10  0:01:16  917k\r",
      " 49  162M   49 79.8M    0     0  1136k      0  0:02:26  0:01:11  0:01:15  878k\r",
      " 49  162M   49 80.8M    0     0  1134k      0  0:02:27  0:01:13  0:01:14  933k\r",
      " 50  162M   50 81.8M    0     0  1132k      0  0:02:27  0:01:13  0:01:14  976k\r",
      " 51  162M   51 83.5M    0     0  1141k      0  0:02:26  0:01:14  0:01:12 1157k\r",
      " 52  162M   52 84.8M    0     0  1144k      0  0:02:25  0:01:15  0:01:10 1244k\r",
      " 52  162M   52 85.6M    0     0  1139k      0  0:02:26  0:01:16  0:01:10 1188k\r",
      " 53  162M   53 86.3M    0     0  1134k      0  0:02:27  0:01:17  0:01:10 1142k\r",
      " 53  162M   53 87.0M    0     0  1129k      0  0:02:27  0:01:18  0:01:09 1074k\r",
      " 53  162M   53 87.8M    0     0  1124k      0  0:02:28  0:01:19  0:01:09  868k\r",
      " 54  162M   54 88.8M    0     0  1123k      0  0:02:28  0:01:20  0:01:08  810k\r",
      " 55  162M   55 90.8M    0     0  1134k      0  0:02:27  0:01:21  0:01:06 1062k\r",
      " 55  162M   55 90.8M    0     0  1121k      0  0:02:28  0:01:22  0:01:06  909k\r",
      " 56  162M   56 91.5M    0     0  1116k      0  0:02:29  0:01:23  0:01:06  913k\r",
      " 56  162M   56 92.2M    0     0  1112k      0  0:02:29  0:01:24  0:01:05  918k\r",
      " 57  162M   57 93.3M    0     0  1111k      0  0:02:30  0:01:25  0:01:05  919k\r",
      " 57  162M   57 94.2M    0     0  1110k      0  0:02:30  0:01:26  0:01:04  709k\r",
      " 58  162M   58 95.2M    0     0  1109k      0  0:02:30  0:01:27  0:01:03  908k\r",
      " 59  162M   59 96.1M    0     0  1107k      0  0:02:30  0:01:28  0:01:02  950k\r",
      " 59  162M   59 97.0M    0     0  1104k      0  0:02:31  0:01:29  0:01:02  967k\r",
      " 60  162M   60 98.5M    0     0  1109k      0  0:02:30  0:01:30  0:01:00 1075k\r",
      " 61  162M   61  100M    0     0  1118k      0  0:02:29  0:01:31  0:00:58 1258k\r",
      " 62  162M   62  102M    0     0  1128k      0  0:02:27  0:01:32  0:00:55 1478k\r",
      " 63  162M   63  103M    0     0  1131k      0  0:02:27  0:01:33  0:00:54 1569k\r",
      " 64  162M   64  104M    0     0  1125k      0  0:02:28  0:01:34  0:00:54 1498k\r",
      " 64  162M   64  104M    0     0  1118k      0  0:02:29  0:01:35  0:00:54 1280k\r",
      " 64  162M   64  105M    0     0  1113k      0  0:02:29  0:01:36  0:00:53 1013k\r",
      " 64  162M   64  105M    0     0  1106k      0  0:02:30  0:01:37  0:00:53  688k\r",
      " 65  162M   65  107M    0     0  1109k      0  0:02:30  0:01:38  0:00:52  685k\r",
      " 66  162M   66  108M    0     0  1113k      0  0:02:29  0:01:39  0:00:50  902k\r",
      " 68  162M   68  110M    0     0  1123k      0  0:02:28  0:01:40  0:00:48 1219k\r",
      " 69  162M   69  112M    0     0  1133k      0  0:02:27  0:01:41  0:00:46 1523k\r",
      " 70  162M   70  114M    0     0  1135k      0  0:02:26  0:01:42  0:00:44 1718k\r",
      " 70  162M   70  114M    0     0  1131k      0  0:02:27  0:01:43  0:00:44 1575k\r",
      " 70  162M   70  115M    0     0  1126k      0  0:02:28  0:01:44  0:00:44 1379k\r",
      " 71  162M   71  116M    0     0  1121k      0  0:02:28  0:01:45  0:00:43 1077k\r",
      " 72  162M   72  117M    0     0  1123k      0  0:02:28  0:01:46  0:00:42  918k\r",
      " 73  162M   73  119M    0     0  1131k      0  0:02:27  0:01:47  0:00:40 1036k\r",
      " 74  162M   74  121M    0     0  1139k      0  0:02:26  0:01:48  0:00:38 1306k\r",
      " 75  162M   75  123M    0     0  1147k      0  0:02:25  0:01:49  0:00:36 1595k\r",
      " 77  162M   77  125M    0     0  1158k      0  0:02:24  0:01:50  0:00:34 1931k\r",
      " 78  162M   78  127M    0     0  1162k      0  0:02:23  0:01:51  0:00:32 2002k\r",
      " 78  162M   78  128M    0     0  1160k      0  0:02:23  0:01:52  0:00:31 1795k\r",
      " 79  162M   79  129M    0     0  1159k      0  0:02:23  0:01:53  0:00:30 1585k\r",
      " 79  162M   79  129M    0     0  1157k      0  0:02:24  0:01:54  0:00:30 1376k\r",
      " 80  162M   80  131M    0     0  1157k      0  0:02:24  0:01:55  0:00:29 1156k\r",
      " 81  162M   81  133M    0     0  1166k      0  0:02:23  0:01:56  0:00:27 1249k\r",
      " 82  162M   82  135M    0     0  1173k      0  0:02:22  0:01:57  0:00:25 1451k\r",
      " 84  162M   84  137M    0     0  1180k      0  0:02:21  0:01:58  0:00:23 1655k\r",
      " 85  162M   85  139M    0     0  1188k      0  0:02:20  0:01:59  0:00:21 1885k\r",
      " 86  162M   86  140M    0     0  1190k      0  0:02:20  0:02:00  0:00:20 1939k\r",
      " 86  162M   86  141M    0     0  1188k      0  0:02:20  0:02:01  0:00:19 1715k\r",
      " 87  162M   87  142M    0     0  1186k      0  0:02:20  0:02:02  0:00:18 1507k\r",
      " 87  162M   87  143M    0     0  1182k      0  0:02:21  0:02:03  0:00:18 1241k\r",
      " 88  162M   88  144M    0     0  1184k      0  0:02:20  0:02:04  0:00:16 1098k\r",
      " 89  162M   89  145M    0     0  1186k      0  0:02:20  0:02:05  0:00:15 1093k\r",
      " 90  162M   90  147M    0     0  1190k      0  0:02:20  0:02:06  0:00:14 1241k\r",
      " 91  162M   91  149M    0     0  1196k      0  0:02:19  0:02:07  0:00:12 1445k\r",
      " 93  162M   93  151M    0     0  1203k      0  0:02:18  0:02:08  0:00:10 1724k\r",
      " 94  162M   94  153M    0     0  1207k      0  0:02:18  0:02:09  0:00:09 1773k\r",
      " 94  162M   94  154M    0     0  1205k      0  0:02:18  0:02:10  0:00:08 1689k\r",
      " 95  162M   95  154M    0     0  1202k      0  0:02:18  0:02:11  0:00:07 1488k\r",
      " 95  162M   95  155M    0     0  1198k      0  0:02:19  0:02:12  0:00:07 1243k\r",
      " 95  162M   95  156M    0     0  1194k      0  0:02:19  0:02:13  0:00:06  948k\r",
      " 96  162M   96  157M    0     0  1196k      0  0:02:19  0:02:14  0:00:05  908k\r",
      " 97  162M   97  159M    0     0  1198k      0  0:02:19  0:02:15  0:00:04 1001k\r",
      " 98  162M   98  160M    0     0  1202k      0  0:02:18  0:02:16  0:00:02 1209k\r",
      " 99  162M   99  162M    0     0  1208k      0  0:02:18  0:02:17  0:00:01 1459k\r",
      "100  162M  100  162M    0     0  1208k      0  0:02:18  0:02:18 --:--:-- 1681k\n",
      "  % Total    % Received % Xferd  Average Speed   Time    Time     Time  Current\n",
      "                                 Dload  Upload   Total   Spent    Left  Speed\n",
      "\r",
      "  0     0    0     0    0     0      0      0 --:--:-- --:--:-- --:--:--     0\r",
      "100    56  100    56    0     0    366      0 --:--:-- --:--:-- --:--:--   368\n"
     ]
    }
   ],
   "source": [
    "%%bash\n",
    "# if needed, download the assembled transcriptome\n",
    "\n",
    "cd ../\n",
    "\n",
    "curl \\\n",
    "http://owl.fish.washington.edu/generosa/2018-Oly-gonad-assembly/20181029_Trinity/Trinity.fasta \\\n",
    "> ../results/trinity/20181029-olurida-gonad-assembly.fasta\n",
    "\n",
    "curl \\\n",
    "http://owl.fish.washington.edu/generosa/2018-Oly-gonad-assembly/20181029_Trinity/Trinity.fasta.shasum.txt \\\n",
    "> ../results/trinity/20181029-olurida-gonad-assembly-shasum.txt\n",
    "\n",
    "# shasum of trinity fasta file, transferred directly from Mox\n",
    "cat ../results/trinity/20181029-olurida-gonad-assembly-shasum.txt\n",
    "\n",
    "# Compare transcritome fasta file on ostrich to the original on mox using shasum \n",
    "shasum ../results/trinity/20181029-olurida-gonad-assembly.fasta"
   ]
  },
  {
   "cell_type": "code",
   "execution_count": 139,
   "metadata": {},
   "outputs": [
    {
     "name": "stdout",
     "output_type": "stream",
     "text": [
      "Bowtie 2 version 2.3.4.3 by Ben Langmead (langmea@cs.jhu.edu, www.cs.jhu.edu/~langmea)\r\n",
      "Usage: bowtie2-build [options]* <reference_in> <bt2_index_base>\r\n",
      "    reference_in            comma-separated list of files with ref sequences\r\n",
      "    bt2_index_base          write bt2 data to files with this dir/basename\r\n",
      "*** Bowtie 2 indexes work only with v2 (not v1).  Likewise for v1 indexes. ***\r\n",
      "Options:\r\n",
      "    -f                      reference files are Fasta (default)\r\n",
      "    -c                      reference sequences given on cmd line (as\r\n",
      "                            <reference_in>)\r\n",
      "    --large-index           force generated index to be 'large', even if ref\r\n",
      "                            has fewer than 4 billion nucleotides\r\n",
      "    --debug                 use the debug binary; slower, assertions enabled\r\n",
      "    --sanitized             use sanitized binary; slower, uses ASan and/or UBSan\r\n",
      "    --verbose               log the issued command\r\n",
      "    -a/--noauto             disable automatic -p/--bmax/--dcv memory-fitting\r\n",
      "    -p/--packed             use packed strings internally; slower, less memory\r\n",
      "    --bmax <int>            max bucket sz for blockwise suffix-array builder\r\n",
      "    --bmaxdivn <int>        max bucket sz as divisor of ref len (default: 4)\r\n",
      "    --dcv <int>             diff-cover period for blockwise (default: 1024)\r\n",
      "    --nodc                  disable diff-cover (algorithm becomes quadratic)\r\n",
      "    -r/--noref              don't build .3/.4 index files\r\n",
      "    -3/--justref            just build .3/.4 index files\r\n",
      "    -o/--offrate <int>      SA is sampled every 2^<int> BWT chars (default: 5)\r\n",
      "    -t/--ftabchars <int>    # of chars consumed in initial lookup (default: 10)\r\n",
      "    --threads <int>         # of threads\r\n",
      "    --seed <int>            seed for random number generator\r\n",
      "    -q/--quiet              verbose output (for debugging)\r\n",
      "    -h/--help               print detailed description of tool and its options\r\n",
      "    --usage                 print this usage message\r\n",
      "    --version               print version information and quit\r\n"
     ]
    }
   ],
   "source": [
    "! bowtie2-build -h"
   ]
  },
  {
   "cell_type": "code",
   "execution_count": 109,
   "metadata": {},
   "outputs": [
    {
     "name": "stdout",
     "output_type": "stream",
     "text": [
      "/Users/laura/Documents/roberts-lab/laura-quantseq/results/trinity\n"
     ]
    }
   ],
   "source": [
    "cd ../../results/trinity/"
   ]
  },
  {
   "cell_type": "code",
   "execution_count": 110,
   "metadata": {},
   "outputs": [
    {
     "name": "stdout",
     "output_type": "stream",
     "text": [
      "Settings:\n",
      "  Output files: \"20181029-olurida-gonad-assembly_clust.fasta.*.bt2\"\n",
      "  Line rate: 6 (line is 64 bytes)\n",
      "  Lines per side: 1 (side is 64 bytes)\n",
      "  Offset rate: 4 (one in 16)\n",
      "  FTable chars: 10\n",
      "  Strings: unpacked\n",
      "  Max bucket size: default\n",
      "  Max bucket size, sqrt multiplier: default\n",
      "  Max bucket size, len divisor: 4\n",
      "  Difference-cover sample period: 1024\n",
      "  Endianness: little\n",
      "  Actual local endianness: little\n",
      "  Sanity checking: disabled\n",
      "  Assertions: disabled\n",
      "  Random seed: 0\n",
      "  Sizeofs: void*:8, int:4, long:8, size_t:8\n",
      "Input files DNA, FASTA:\n",
      "  20181029-olurida-gonad-assembly_clust.fasta\n",
      "Reading reference sizes\n",
      "  Time reading reference sizes: 00:00:01\n",
      "Calculating joined length\n",
      "Writing header\n",
      "Reserving space for joined string\n",
      "Joining reference sequences\n",
      "  Time to join reference sequences: 00:00:01\n",
      "bmax according to bmaxDivN setting: 24095929\n",
      "Using parameters --bmax 18071947 --dcv 1024\n",
      "  Doing ahead-of-time memory usage test\n",
      "  Passed!  Constructing with these parameters: --bmax 18071947 --dcv 1024\n",
      "Constructing suffix-array element generator\n",
      "Building DifferenceCoverSample\n",
      "  Building sPrime\n",
      "  Building sPrimeOrder\n",
      "  V-Sorting samples\n",
      "  V-Sorting samples time: 00:00:02\n",
      "  Allocating rank array\n",
      "  Ranking v-sort output\n",
      "  Ranking v-sort output time: 00:00:00\n",
      "  Invoking Larsson-Sadakane on ranks\n",
      "  Invoking Larsson-Sadakane on ranks time: 00:00:01\n",
      "  Sanity-checking and returning\n",
      "Building samples\n",
      "Reserving space for 12 sample suffixes\n",
      "Generating random suffixes\n",
      "QSorting 12 sample offsets, eliminating duplicates\n",
      "QSorting sample offsets, eliminating duplicates time: 00:00:00\n",
      "Multikey QSorting 12 samples\n",
      "  (Using difference cover)\n",
      "  Multikey QSorting samples time: 00:00:00\n",
      "Calculating bucket sizes\n",
      "Splitting and merging\n",
      "  Splitting and merging time: 00:00:00\n",
      "Avg bucket size: 9.63837e+07 (target: 18071946)\n",
      "Converting suffix-array elements to index image\n",
      "Allocating ftab, absorbFtab\n",
      "Entering Ebwt loop\n",
      "Getting block 1 of 1\n",
      "  No samples; assembling all-inclusive block\n",
      "  Sorting block of length 96383719 for bucket 1\n",
      "  (Using difference cover)\n",
      "  Sorting block time: 00:00:44\n",
      "Returning block of 96383720 for bucket 1\n",
      "Exited Ebwt loop\n",
      "fchr[A]: 0\n",
      "fchr[C]: 29038649\n",
      "fchr[G]: 48287168\n",
      "fchr[T]: 67170253\n",
      "fchr[$]: 96383719\n",
      "Exiting Ebwt::buildToDisk()\n",
      "Returning from initFromVector\n",
      "Wrote 49948045 bytes to primary EBWT file: 20181029-olurida-gonad-assembly_clust.fasta.1.bt2\n",
      "Wrote 24095936 bytes to secondary EBWT file: 20181029-olurida-gonad-assembly_clust.fasta.2.bt2\n",
      "Re-opening _in1 and _in2 as input streams\n",
      "Returning from Ebwt constructor\n",
      "Headers:\n",
      "    len: 96383719\n",
      "    bwtLen: 96383720\n",
      "    sz: 24095930\n",
      "    bwtSz: 24095930\n",
      "    lineRate: 6\n",
      "    offRate: 4\n",
      "    offMask: 0xfffffff0\n",
      "    ftabChars: 10\n",
      "    eftabLen: 20\n",
      "    eftabSz: 80\n",
      "    ftabLen: 1048577\n",
      "    ftabSz: 4194308\n",
      "    offsLen: 6023983\n",
      "    offsSz: 24095932\n",
      "    lineSz: 64\n",
      "    sideSz: 64\n",
      "    sideBwtSz: 48\n",
      "    sideBwtLen: 192\n",
      "    numSides: 501999\n",
      "    numLines: 501999\n",
      "    ebwtTotLen: 32127936\n",
      "    ebwtTotSz: 32127936\n",
      "    color: 0\n",
      "    reverse: 0\n",
      "Total time for call to driver() for forward index: 00:00:59\n",
      "Reading reference sizes\n",
      "  Time reading reference sizes: 00:00:01\n",
      "Calculating joined length\n",
      "Writing header\n",
      "Reserving space for joined string\n",
      "Joining reference sequences\n",
      "  Time to join reference sequences: 00:00:00\n",
      "  Time to reverse reference sequence: 00:00:00\n",
      "bmax according to bmaxDivN setting: 24095929\n",
      "Using parameters --bmax 18071947 --dcv 1024\n",
      "  Doing ahead-of-time memory usage test\n",
      "  Passed!  Constructing with these parameters: --bmax 18071947 --dcv 1024\n",
      "Constructing suffix-array element generator\n",
      "Building DifferenceCoverSample\n",
      "  Building sPrime\n",
      "  Building sPrimeOrder\n",
      "  V-Sorting samples\n",
      "  V-Sorting samples time: 00:00:02\n",
      "  Allocating rank array\n",
      "  Ranking v-sort output\n",
      "  Ranking v-sort output time: 00:00:00\n",
      "  Invoking Larsson-Sadakane on ranks\n",
      "  Invoking Larsson-Sadakane on ranks time: 00:00:01\n",
      "  Sanity-checking and returning\n",
      "Building samples\n",
      "Reserving space for 12 sample suffixes\n",
      "Generating random suffixes\n",
      "QSorting 12 sample offsets, eliminating duplicates\n",
      "QSorting sample offsets, eliminating duplicates time: 00:00:00\n",
      "Multikey QSorting 12 samples\n",
      "  (Using difference cover)\n",
      "  Multikey QSorting samples time: 00:00:00\n",
      "Calculating bucket sizes\n",
      "Splitting and merging\n",
      "  Splitting and merging time: 00:00:00\n",
      "Avg bucket size: 9.63837e+07 (target: 18071946)\n",
      "Converting suffix-array elements to index image\n",
      "Allocating ftab, absorbFtab\n",
      "Entering Ebwt loop\n",
      "Getting block 1 of 1\n",
      "  No samples; assembling all-inclusive block\n",
      "  Sorting block of length 96383719 for bucket 1\n",
      "  (Using difference cover)\n",
      "  Sorting block time: 00:00:45\n",
      "Returning block of 96383720 for bucket 1\n",
      "Exited Ebwt loop\n",
      "fchr[A]: 0\n",
      "fchr[C]: 29038649\n",
      "fchr[G]: 48287168\n",
      "fchr[T]: 67170253\n",
      "fchr[$]: 96383719\n",
      "Exiting Ebwt::buildToDisk()\n",
      "Returning from initFromVector\n",
      "Wrote 49948045 bytes to primary EBWT file: 20181029-olurida-gonad-assembly_clust.fasta.rev.1.bt2\n",
      "Wrote 24095936 bytes to secondary EBWT file: 20181029-olurida-gonad-assembly_clust.fasta.rev.2.bt2\n",
      "Re-opening _in1 and _in2 as input streams\n",
      "Returning from Ebwt constructor\n",
      "Headers:\n",
      "    len: 96383719\n",
      "    bwtLen: 96383720\n",
      "    sz: 24095930\n",
      "    bwtSz: 24095930\n",
      "    lineRate: 6\n",
      "    offRate: 4\n",
      "    offMask: 0xfffffff0\n",
      "    ftabChars: 10\n",
      "    eftabLen: 20\n",
      "    eftabSz: 80\n",
      "    ftabLen: 1048577\n",
      "    ftabSz: 4194308\n",
      "    offsLen: 6023983\n",
      "    offsSz: 24095932\n",
      "    lineSz: 64\n",
      "    sideSz: 64\n",
      "    sideBwtSz: 48\n",
      "    sideBwtLen: 192\n",
      "    numSides: 501999\n",
      "    numLines: 501999\n",
      "    ebwtTotLen: 32127936\n",
      "    ebwtTotSz: 32127936\n",
      "    color: 0\n",
      "    reverse: 1\n",
      "Total time for backward call to driver() for mirror index: 00:00:59\n"
     ]
    },
    {
     "name": "stderr",
     "output_type": "stream",
     "text": [
      "Building a SMALL index\n"
     ]
    }
   ],
   "source": [
    "%%bash\n",
    "### creating bowtie2 index for your transcriptome:\n",
    "\n",
    "bowtie2-build \\\n",
    "20181029-olurida-gonad-assembly_clust.fasta \\\n",
    "20181029-olurida-gonad-assembly_clust.fasta"
   ]
  },
  {
   "cell_type": "code",
   "execution_count": 91,
   "metadata": {},
   "outputs": [
    {
     "name": "stdout",
     "output_type": "stream",
     "text": [
      "20181029-olurida-gonad-assembly-shasum.txt\r\n",
      "20181029-olurida-gonad-assembly.fasta\r\n",
      "20181029-olurida-gonad-assembly.fasta.1.bt2\r\n",
      "20181029-olurida-gonad-assembly.fasta.2.bt2\r\n",
      "20181029-olurida-gonad-assembly.fasta.3.bt2\r\n",
      "20181029-olurida-gonad-assembly.fasta.4.bt2\r\n",
      "20181029-olurida-gonad-assembly.fasta.rev.1.bt2\r\n",
      "20181029-olurida-gonad-assembly.fasta.rev.2.bt2\r\n",
      "20181029-olurida-gonad-assembly_clust.fasta\r\n",
      "20181029-olurida-gonad-assembly_clust.fasta.clstr\r\n",
      "20181029-olurida-gonad-assembly_clust_iso.fasta\r\n",
      "20181029-olurida-gonad-assembly_clust_iso_seq2iso.tab\r\n",
      "20181029-olurida-gonad-assembly_iso.fasta\r\n",
      "20181029-olurida-gonad-assembly_iso_seq2iso.tab\r\n",
      "20181029-olurida-gonad-assembly_seq2iso.tab\r\n"
     ]
    }
   ],
   "source": [
    "! ls *.bt2"
   ]
  },
  {
   "cell_type": "markdown",
   "metadata": {},
   "source": [
    "## Mapping reads to transcriptome\n",
    "\n",
    "Change directory to where trimmed quantseq files are located"
   ]
  },
  {
   "cell_type": "code",
   "execution_count": 92,
   "metadata": {},
   "outputs": [
    {
     "name": "stdout",
     "output_type": "stream",
     "text": [
      "/Users/laura/Documents/roberts-lab/laura-quantseq/data/tagseq_trim\n"
     ]
    }
   ],
   "source": [
    "cd ../tagseq_trim/"
   ]
  },
  {
   "cell_type": "code",
   "execution_count": 98,
   "metadata": {},
   "outputs": [],
   "source": [
    "! {tagseq}tagseq_bowtie2map.pl \"trim$\" \\\n",
    "../../results/trinity/20181029-olurida-gonad-assembly_clust.fasta \\\n",
    "> maps-transc"
   ]
  },
  {
   "cell_type": "code",
   "execution_count": 99,
   "metadata": {},
   "outputs": [
    {
     "name": "stdout",
     "output_type": "stream",
     "text": [
      "bowtie2 --local -x ../../results/trinity/20181029-olurida-gonad-assembly_clust.fasta -U CP-KS-LibL-L37-L_S32_L006_R1_001.fastq.trim -S CP-KS-LibL-L37-L_S32_L006_R1_001.fastq.trim.sam --no-hd --no-sq --no-unal -k 5\r\n",
      "bowtie2 --local -x ../../results/trinity/20181029-olurida-gonad-assembly_clust.fasta -U CP-KS-LibL-L3-G_S64_L006_R1_001.fastq.trim -S CP-KS-LibL-L3-G_S64_L006_R1_001.fastq.trim.sam --no-hd --no-sq --no-unal -k 5\r\n"
     ]
    }
   ],
   "source": [
    "! head -2 maps-transc"
   ]
  },
  {
   "cell_type": "markdown",
   "metadata": {},
   "source": [
    "###  Use a loop to execute the commands written in 'maps'; redirect screen output/error in bowtieout.txt"
   ]
  },
  {
   "cell_type": "code",
   "execution_count": 104,
   "metadata": {},
   "outputs": [
    {
     "data": {
      "text/plain": [
       "'/Users/laura/Documents/roberts-lab/laura-quantseq/data/tagseq_trim'"
      ]
     },
     "execution_count": 104,
     "metadata": {},
     "output_type": "execute_result"
    }
   ],
   "source": [
    "pwd"
   ]
  },
  {
   "cell_type": "markdown",
   "metadata": {},
   "source": [
    "--no-unal  = suppress SAM records for unaligned reads  \n",
    "--no-sq    = suppress @SQ header lines  \n",
    "--no-hd    = suppress SAM header lines (starting with @)  \n",
    "-k 5       = report up to <5> aligns per read  "
   ]
  },
  {
   "cell_type": "code",
   "execution_count": 105,
   "metadata": {},
   "outputs": [],
   "source": [
    "%%bash \n",
    "\n",
    "for file in *.trim\n",
    "do\n",
    "#strip .fastq and directorys tructure from each file, then\n",
    "# add suffice .fastq.trim to create output name for each file\n",
    "results_file=\"$(basename -a $file).sam\"\n",
    "\n",
    "# run tagseq scripts on each file\n",
    "bowtie2 --local -x \\\n",
    "../../results/trinity/20181029-olurida-gonad-assembly_clust.fasta \\\n",
    "-U $file \\\n",
    "-S $results_file \\\n",
    "--no-unal -k 5; \\\n",
    "done >> bowtieout-transc.txt 2>&1"
   ]
  },
  {
   "cell_type": "code",
   "execution_count": 12,
   "metadata": {},
   "outputs": [
    {
     "name": "stdout",
     "output_type": "stream",
     "text": [
      "21874 reads; of these:\r\n",
      "  21874 (100.00%) were unpaired; of these:\r\n",
      "    2825 (12.91%) aligned 0 times\r\n",
      "    6949 (31.77%) aligned exactly 1 time\r\n",
      "    12100 (55.32%) aligned >1 times\r\n",
      "87.09% overall alignment rate\r\n",
      "21768 reads; of these:\r\n",
      "  21768 (100.00%) were unpaired; of these:\r\n",
      "    3501 (16.08%) aligned 0 times\r\n",
      "    6939 (31.88%) aligned exactly 1 time\r\n",
      "    11328 (52.04%) aligned >1 times\r\n",
      "83.92% overall alignment rate\r\n",
      "2649 reads; of these:\r\n",
      "  2649 (100.00%) were unpaired; of these:\r\n",
      "    1883 (71.08%) aligned 0 times\r\n",
      "    252 (9.51%) aligned exactly 1 time\r\n",
      "    514 (19.40%) aligned >1 times\r\n",
      "28.92% overall alignment rate\r\n",
      "21489 reads; of these:\r\n",
      "  21489 (100.00%) were unpaired; of these:\r\n",
      "    3032 (14.11%) aligned 0 times\r\n",
      "    6776 (31.53%) aligned exactly 1 time\r\n",
      "    11681 (54.36%) aligned >1 times\r\n",
      "85.89% overall alignment rate\r\n",
      "23903 reads; of these:\r\n",
      "  23903 (100.00%) were unpaired; of these:\r\n",
      "    4815 (20.14%) aligned 0 times\r\n",
      "    6406 (26.80%) aligned exactly 1 time\r\n",
      "    12682 (53.06%) aligned >1 times\r\n",
      "79.86% overall alignment rate\r\n",
      "22552 reads; of these:\r\n",
      "  22552 (100.00%) were unpaired; of these:\r\n",
      "    3152 (13.98%) aligned 0 times\r\n",
      "    7333 (32.52%) aligned exactly 1 time\r\n",
      "    12067 (53.51%) aligned >1 times\r\n",
      "86.02% overall alignment rate\r\n",
      "16370 reads; of these:\r\n",
      "  16370 (100.00%) were unpaired; of these:\r\n",
      "    2229 (13.62%) aligned 0 times\r\n",
      "    5237 (31.99%) aligned exactly 1 time\r\n",
      "    8904 (54.39%) aligned >1 times\r\n",
      "86.38% overall alignment rate\r\n",
      "15257 reads; of these:\r\n",
      "  15257 (100.00%) were unpaired; of these:\r\n",
      "    1824 (11.96%) aligned 0 times\r\n",
      "    4901 (32.12%) aligned exactly 1 time\r\n",
      "    8532 (55.92%) aligned >1 times\r\n",
      "88.04% overall alignment rate\r\n",
      "19906 reads; of these:\r\n",
      "  19906 (100.00%) were unpaired; of these:\r\n",
      "    2787 (14.00%) aligned 0 times\r\n",
      "    6378 (32.04%) aligned exactly 1 time\r\n",
      "    10741 (53.96%) aligned >1 times\r\n",
      "86.00% overall alignment rate\r\n",
      "13103 reads; of these:\r\n",
      "  13103 (100.00%) were unpaired; of these:\r\n",
      "    1367 (10.43%) aligned 0 times\r\n",
      "    4549 (34.72%) aligned exactly 1 time\r\n",
      "    7187 (54.85%) aligned >1 times\r\n",
      "89.57% overall alignment rate\r\n",
      "21913 reads; of these:\r\n",
      "  21913 (100.00%) were unpaired; of these:\r\n",
      "    3839 (17.52%) aligned 0 times\r\n",
      "    6316 (28.82%) aligned exactly 1 time\r\n",
      "    11758 (53.66%) aligned >1 times\r\n",
      "82.48% overall alignment rate\r\n",
      "3923 reads; of these:\r\n",
      "  3923 (100.00%) were unpaired; of these:\r\n",
      "    2460 (62.71%) aligned 0 times\r\n",
      "    437 (11.14%) aligned exactly 1 time\r\n",
      "    1026 (26.15%) aligned >1 times\r\n",
      "37.29% overall alignment rate\r\n",
      "23289 reads; of these:\r\n",
      "  23289 (100.00%) were unpaired; of these:\r\n",
      "    3174 (13.63%) aligned 0 times\r\n",
      "    7340 (31.52%) aligned exactly 1 time\r\n",
      "    12775 (54.85%) aligned >1 times\r\n",
      "86.37% overall alignment rate\r\n",
      "23769 reads; of these:\r\n",
      "  23769 (100.00%) were unpaired; of these:\r\n",
      "    3263 (13.73%) aligned 0 times\r\n",
      "    7633 (32.11%) aligned exactly 1 time\r\n",
      "    12873 (54.16%) aligned >1 times\r\n",
      "86.27% overall alignment rate\r\n",
      "3290 reads; of these:\r\n",
      "  3290 (100.00%) were unpaired; of these:\r\n",
      "    712 (21.64%) aligned 0 times\r\n",
      "    954 (29.00%) aligned exactly 1 time\r\n",
      "    1624 (49.36%) aligned >1 times\r\n",
      "78.36% overall alignment rate\r\n",
      "13007 reads; of these:\r\n",
      "  13007 (100.00%) were unpaired; of these:\r\n",
      "    2606 (20.04%) aligned 0 times\r\n",
      "    3960 (30.45%) aligned exactly 1 time\r\n",
      "    6441 (49.52%) aligned >1 times\r\n",
      "79.96% overall alignment rate\r\n",
      "5448 reads; of these:\r\n",
      "  5448 (100.00%) were unpaired; of these:\r\n",
      "    1324 (24.30%) aligned 0 times\r\n",
      "    1491 (27.37%) aligned exactly 1 time\r\n",
      "    2633 (48.33%) aligned >1 times\r\n",
      "75.70% overall alignment rate\r\n",
      "8559 reads; of these:\r\n",
      "  8559 (100.00%) were unpaired; of these:\r\n",
      "    1538 (17.97%) aligned 0 times\r\n",
      "    2726 (31.85%) aligned exactly 1 time\r\n",
      "    4295 (50.18%) aligned >1 times\r\n",
      "82.03% overall alignment rate\r\n",
      "6827 reads; of these:\r\n",
      "  6827 (100.00%) were unpaired; of these:\r\n",
      "    1152 (16.87%) aligned 0 times\r\n",
      "    2186 (32.02%) aligned exactly 1 time\r\n",
      "    3489 (51.11%) aligned >1 times\r\n",
      "83.13% overall alignment rate\r\n",
      "8856 reads; of these:\r\n",
      "  8856 (100.00%) were unpaired; of these:\r\n",
      "    1474 (16.64%) aligned 0 times\r\n",
      "    3007 (33.95%) aligned exactly 1 time\r\n",
      "    4375 (49.40%) aligned >1 times\r\n",
      "83.36% overall alignment rate\r\n",
      "10630 reads; of these:\r\n",
      "  10630 (100.00%) were unpaired; of these:\r\n",
      "    2554 (24.03%) aligned 0 times\r\n",
      "    3044 (28.64%) aligned exactly 1 time\r\n",
      "    5032 (47.34%) aligned >1 times\r\n",
      "75.97% overall alignment rate\r\n",
      "5586 reads; of these:\r\n",
      "  5586 (100.00%) were unpaired; of these:\r\n",
      "    1184 (21.20%) aligned 0 times\r\n",
      "    1716 (30.72%) aligned exactly 1 time\r\n",
      "    2686 (48.08%) aligned >1 times\r\n",
      "78.80% overall alignment rate\r\n",
      "23593 reads; of these:\r\n",
      "  23593 (100.00%) were unpaired; of these:\r\n",
      "    3426 (14.52%) aligned 0 times\r\n",
      "    7292 (30.91%) aligned exactly 1 time\r\n",
      "    12875 (54.57%) aligned >1 times\r\n",
      "85.48% overall alignment rate\r\n",
      "10786 reads; of these:\r\n",
      "  10786 (100.00%) were unpaired; of these:\r\n",
      "    1691 (15.68%) aligned 0 times\r\n",
      "    3323 (30.81%) aligned exactly 1 time\r\n",
      "    5772 (53.51%) aligned >1 times\r\n",
      "84.32% overall alignment rate\r\n"
     ]
    }
   ],
   "source": [
    "! cat bowtieout.txt"
   ]
  },
  {
   "cell_type": "code",
   "execution_count": 14,
   "metadata": {},
   "outputs": [
    {
     "name": "stdout",
     "output_type": "stream",
     "text": [
      "87.09% overall alignment rate\r\n",
      "83.92% overall alignment rate\r\n",
      "28.92% overall alignment rate\r\n",
      "85.89% overall alignment rate\r\n",
      "79.86% overall alignment rate\r\n",
      "86.02% overall alignment rate\r\n",
      "86.38% overall alignment rate\r\n",
      "88.04% overall alignment rate\r\n",
      "86.00% overall alignment rate\r\n",
      "89.57% overall alignment rate\r\n",
      "82.48% overall alignment rate\r\n",
      "37.29% overall alignment rate\r\n",
      "86.37% overall alignment rate\r\n",
      "86.27% overall alignment rate\r\n",
      "78.36% overall alignment rate\r\n",
      "79.96% overall alignment rate\r\n",
      "75.70% overall alignment rate\r\n",
      "82.03% overall alignment rate\r\n",
      "83.13% overall alignment rate\r\n",
      "83.36% overall alignment rate\r\n",
      "75.97% overall alignment rate\r\n",
      "78.80% overall alignment rate\r\n",
      "85.48% overall alignment rate\r\n",
      "84.32% overall alignment rate\r\n"
     ]
    }
   ],
   "source": [
    "# alignment rates:\n",
    "! grep \"overall alignment rate\"  bowtieout.txt"
   ]
  },
  {
   "cell_type": "markdown",
   "metadata": {},
   "source": [
    "## Generating read-counts-per gene \n",
    "\n",
    "First, must have a tab-delimited file giving correspondence between contigs in the transcriptome fasta file and genes. Typically, each gene is represented by several contigs in the transcriptome. To create such table for a Trinity-derived de novo transcriptome:"
   ]
  },
  {
   "cell_type": "code",
   "execution_count": 16,
   "metadata": {},
   "outputs": [
    {
     "name": "stdout",
     "output_type": "stream",
     "text": [
      ">TRINITY_DN88414_c0_g1_i1 len=228 path=[0:0-227]\r\n",
      "GGCACTATTTGAGTCTGATTCTCCTCTTGATAGACGACCATGAGATCGAAATCTCTCAAACAGATCATCAGACCGTTTGCTTTGCATGCGTAAAAATGAATTCGCCCCACAAACAAAGTCCCCGAGGTTTTGTATGATCTGAGTGGAATTCATTTTCTTTTTATTCATGTCTCTGAAGAATTTTTCCATCTTATTGACATCTAACTCCTTCAAAGATGTCAAATCACT\r\n",
      ">TRINITY_DN88428_c0_g1_i1 len=286 path=[0:0-285]\r\n",
      "CGAAAACAGTCAGATGTAGGTATGGAAATATCCCAATCATCAGAAATCCGACTACAGGTGTAAATGATATTAGTATGTTTACACTGCATGCACCGTTAACATTGACCGATCGACGTGGAGATGGAATGGGAATACGTTCTACTGTCAATGCACACCTTGGAGCTTGATCTGGCAGTGACGAATATTTACTCAAGTAGCAGATAGATAGTTTAATGTTCAGTTTCCGTCACGGGTTTTGTTTCACTCTTACAGAGACCTTGCCCGTGGGGTCCGGGTTGGAATAGGT\r\n"
     ]
    }
   ],
   "source": [
    "! head -4 ../../results/trinity/20181029-olurida-gonad-assembly.fasta"
   ]
  },
  {
   "cell_type": "code",
   "execution_count": 63,
   "metadata": {},
   "outputs": [],
   "source": [
    "! grep \">\" ../../results/trinity/20181029-olurida-gonad-assembly.fasta | \\\n",
    "perl -pe 's/^>(\\S+)\\|(\\S+)(_i\\d+)\\s.+/$1/' \\\n",
    "> ../../results/20181029-olurida-gonad-assembly_seq2iso.tab"
   ]
  },
  {
   "cell_type": "code",
   "execution_count": 62,
   "metadata": {},
   "outputs": [
    {
     "name": "stdout",
     "output_type": "stream",
     "text": [
      ">TRINITY_DN88414_c0_g1_i1 len=228 path=[0:0-227]\r\n",
      ">TRINITY_DN88428_c0_g1_i1 len=286 path=[0:0-285]\r\n",
      ">TRINITY_DN88485_c0_g1_i1 len=493 path=[0:0-492]\r\n",
      ">TRINITY_DN88461_c0_g1_i1 len=305 path=[0:0-304]\r\n",
      ">TRINITY_DN88458_c0_g1_i1 len=843 path=[0:0-842]\r\n",
      ">TRINITY_DN88473_c0_g1_i1 len=232 path=[0:0-231]\r\n",
      ">TRINITY_DN88442_c0_g1_i1 len=444 path=[0:0-443]\r\n",
      ">TRINITY_DN88493_c0_g1_i1 len=865 path=[0:0-864]\r\n",
      ">TRINITY_DN88449_c0_g1_i1 len=270 path=[0:0-269]\r\n",
      ">TRINITY_DN88451_c0_g1_i1 len=760 path=[0:0-759]\r\n"
     ]
    }
   ],
   "source": [
    "! head ../../results/20181029-olurida-gonad-assembly_seq2iso.tab"
   ]
  },
  {
   "cell_type": "markdown",
   "metadata": {},
   "source": [
    "### counting hits per isogroup:"
   ]
  },
  {
   "cell_type": "code",
   "execution_count": 10,
   "metadata": {},
   "outputs": [
    {
     "data": {
      "text/plain": [
       "'/Users/laura/Documents/roberts-lab/laura-quantseq/data/tagseq_trim'"
      ]
     },
     "execution_count": 10,
     "metadata": {},
     "output_type": "execute_result"
    }
   ],
   "source": [
    "pwd"
   ]
  },
  {
   "cell_type": "code",
   "execution_count": 8,
   "metadata": {},
   "outputs": [],
   "source": [
    "! {tagseq}samcount_launch_bt2.pl '\\.sam' \\\n",
    "../../results/20181029-olurida-gonad-assembly_seq2iso.tab > sc"
   ]
  },
  {
   "cell_type": "code",
   "execution_count": 9,
   "metadata": {},
   "outputs": [
    {
     "name": "stdout",
     "output_type": "stream",
     "text": [
      "samcount.pl CP-KS-LibL-SN1016-G_S26_L006_R1_001.fastq.trim.sam.counts ../../results/20181029-olurida-gonad-assembly_seq2iso.tab aligner=bowtie2 >CP-KS-LibL-SN1016-G_S26_L006_R1_001.fastq.trim.sam.counts.counts\r\n",
      "samcount.pl CP-KS-LibL-L33-G_S66_L006_R1_001.fastq.trim.sam ../../results/20181029-olurida-gonad-assembly_seq2iso.tab aligner=bowtie2 >CP-KS-LibL-L33-G_S66_L006_R1_001.fastq.trim.sam.counts\r\n"
     ]
    }
   ],
   "source": [
    "! head -2 sc"
   ]
  },
  {
   "cell_type": "code",
   "execution_count": 11,
   "metadata": {},
   "outputs": [],
   "source": [
    "%%bash \n",
    "\n",
    "for file in *.sam\n",
    "do\n",
    "#strip .fastq and directory s tructure from each file, then\n",
    "# add suffice .fastq.trim to create output name for each file\n",
    "results_file=\"$(basename -a $file).counts\"\n",
    "\n",
    "/Applications/bioinformatics/tag-based_RNAseq/samcount.pl $file \\\n",
    "../../results/20181029-olurida-gonad-assembly_seq2iso.tab \\\n",
    "aligner=bowtie2 mult.iso=random >\\\n",
    "$results_file\n",
    "done >> bowtiealigner.txt 2>&1"
   ]
  },
  {
   "cell_type": "code",
   "execution_count": 12,
   "metadata": {},
   "outputs": [
    {
     "name": "stdout",
     "output_type": "stream",
     "text": [
      "adding a count to a randomly picked isogroup when a read maps to multiple isogroups\r\n",
      "TRINITY_DN15009_c2_g1_i1 has no isogroup designation\r\n",
      "TRINITY_DN1226_c0_g1_i6 has no isogroup designation\r\n",
      "TRINITY_DN1226_c0_g1_i4 has no isogroup designation\r\n",
      "TRINITY_DN1226_c0_g1_i1 has no isogroup designation\r\n",
      "TRINITY_DN1226_c0_g1_i5 has no isogroup designation\r\n",
      "TRINITY_DN1226_c0_g1_i2 has no isogroup designation\r\n",
      "TRINITY_DN15009_c2_g1_i1 has no isogroup designation\r\n",
      "TRINITY_DN934_c0_g1_i1 has no isogroup designation\r\n",
      "TRINITY_DN934_c0_g1_i2 has no isogroup designation\r\n"
     ]
    }
   ],
   "source": [
    "! head bowtiealigner.txt"
   ]
  },
  {
   "cell_type": "code",
   "execution_count": 13,
   "metadata": {},
   "outputs": [],
   "source": [
    "! {tagseq}expression_compiler.pl *.sam.counts > quantseq_allcounts.txt"
   ]
  },
  {
   "cell_type": "code",
   "execution_count": 14,
   "metadata": {},
   "outputs": [
    {
     "name": "stdout",
     "output_type": "stream",
     "text": [
      "\tCP-KS-LibL-L10-G_S59_L006_R1_001.fastq.trim.sam.counts\tCP-KS-LibL-L11-G_S65_L006_R1_001.fastq.trim.sam.counts\tCP-KS-LibL-L13-G_S60_L006_R1_001.fastq.trim.sam.counts\tCP-KS-LibL-L14-G_S63_L006_R1_001.fastq.trim.sam.counts\tCP-KS-LibL-L15-G_S68_L006_R1_001.fastq.trim.sam.counts\tCP-KS-LibL-L19-G_S67_L006_R1_001.fastq.trim.sam.counts\tCP-KS-LibL-L2-G_S34_L006_R1_001.fastq.trim.sam.counts\tCP-KS-LibL-L21-G_S58_L006_R1_001.fastq.trim.sam.counts\tCP-KS-LibL-L23-G_S61_L006_R1_001.fastq.trim.sam.counts\tCP-KS-LibL-L24-G_S62_L006_R1_001.fastq.trim.sam.counts\tCP-KS-LibL-L29-G_S36_L006_R1_001.fastq.trim.sam.counts\tCP-KS-LibL-L3-G_S64_L006_R1_001.fastq.trim.sam.counts\tCP-KS-LibL-L32-G_S35_L006_R1_001.fastq.trim.sam.counts\tCP-KS-LibL-L33-G_S66_L006_R1_001.fastq.trim.sam.counts\tCP-KS-LibL-L34-L_S25_L006_R1_001.fastq.trim.sam.counts\tCP-KS-LibL-L35-L_S31_L006_R1_001.fastq.trim.sam.counts\tCP-KS-LibL-L37-L_S32_L006_R1_001.fastq.trim.sam.counts\tCP-KS-LibL-L39-L_S29_L006_R1_001.fastq.trim.sam.counts\tCP-KS-LibL-L41-L_S27_L006_R1_001.fastq.trim.sam.counts\tCP-KS-LibL-L44-L_S30_L006_R1_001.fastq.trim.sam.counts\tCP-KS-LibL-L45-L_S28_L006_R1_001.fastq.trim.sam.counts\tCP-KS-LibL-L47-L_S33_L006_R1_001.fastq.trim.sam.counts\tCP-KS-LibL-L7-G_S57_L006_R1_001.fastq.trim.sam.counts\tCP-KS-LibL-SN1016-G_S26_L006_R1_001.fastq.trim.sam.counts\t\r\n"
     ]
    }
   ],
   "source": [
    "! head quantseq_allcounts.txt"
   ]
  },
  {
   "cell_type": "markdown",
   "metadata": {},
   "source": [
    "### Try dave's revised 1-liner perl script:"
   ]
  },
  {
   "cell_type": "code",
   "execution_count": 87,
   "metadata": {},
   "outputs": [],
   "source": [
    "! grep \">\" ../../results/trinity/20181029-olurida-gonad-assembly.fasta | \\\n",
    "perl -pe 's/^>(\\S+)(_i\\d+)\\s.+/$1$2\\t$1/' \\\n",
    "> ../../results/20181029-olurida-gonad-assembly_seq2iso.tab"
   ]
  },
  {
   "cell_type": "code",
   "execution_count": 89,
   "metadata": {},
   "outputs": [],
   "source": [
    "! grep \">\" ../../results/trinity/20181029-olurida-gonad-assembly.fasta | \\\n",
    "perl -pe 's/^T(_g\\d+)\\s.+/$1/' \\\n",
    "> ../../results/20181029-olurida-gonad-assembly_seq2iso.tab"
   ]
  },
  {
   "cell_type": "code",
   "execution_count": 90,
   "metadata": {},
   "outputs": [
    {
     "name": "stdout",
     "output_type": "stream",
     "text": [
      ">TRINITY_DN88414_c0_g1_i1 len=228 path=[0:0-227]\r\n",
      ">TRINITY_DN88428_c0_g1_i1 len=286 path=[0:0-285]\r\n",
      ">TRINITY_DN88485_c0_g1_i1 len=493 path=[0:0-492]\r\n",
      ">TRINITY_DN88461_c0_g1_i1 len=305 path=[0:0-304]\r\n",
      ">TRINITY_DN88458_c0_g1_i1 len=843 path=[0:0-842]\r\n",
      ">TRINITY_DN88473_c0_g1_i1 len=232 path=[0:0-231]\r\n",
      ">TRINITY_DN88442_c0_g1_i1 len=444 path=[0:0-443]\r\n",
      ">TRINITY_DN88493_c0_g1_i1 len=865 path=[0:0-864]\r\n",
      ">TRINITY_DN88449_c0_g1_i1 len=270 path=[0:0-269]\r\n",
      ">TRINITY_DN88451_c0_g1_i1 len=760 path=[0:0-759]\r\n"
     ]
    }
   ],
   "source": [
    "! head ../../results/20181029-olurida-gonad-assembly_seq2iso.tab"
   ]
  },
  {
   "cell_type": "code",
   "execution_count": 24,
   "metadata": {},
   "outputs": [
    {
     "name": "stdout",
     "output_type": "stream",
     "text": [
      "#!/usr/bin/perl\r\n",
      "\r\n",
      "$usage=\"\r\n",
      "\r\n",
      "samcount v.0.2 (November 2014):\r\n",
      "\r\n",
      "counts reads mapping to isogrops in SAM files\r\n",
      "\r\n",
      "Arguments:\r\n",
      "\r\n",
      "arg1: SAM file (by cluster, contig, or isotig)\r\n",
      "arg2: a table in the form 'reference_seq<tab>gene_ID', giving the correspondence of \r\n",
      "reference sequences to genes. With 454-deived transcriptome, the gene_ID would be isogroup; \r\n",
      "with Trinity-derived transcriptiome,it would be component.\r\n",
      "\r\n",
      "dup.reads=keep|toss : whether to remove exact sequence-duplicate reads mapping to the \r\n",
      "same position in the reference. Default keep (duplicates are supposed to be tossed at the \r\n",
      "trimming stage).\r\n",
      "\r\n",
      "aligner=gmapper|bowtie2 : aligner that made the SAM file. Default bowtie2.\r\n",
      "                          bowtie2 is assumed to be used in -k mode.\r\n",
      "\r\n",
      "mult.iso=random|toss : (for aligner=gmapper) if a read maps to multiple isogroups, it is \r\n",
      "disregarded by default. Set this option to 'random' if you want to randomly pick an \r\n",
      "isogroup to assign a count to.\r\n",
      "\r\n",
      "\";\r\n",
      "\r\n",
      "my $t1=shift @ARGV or die $usage;\r\n",
      "my $t2=shift @ARGV or die $usage;\r\n",
      "my $rmdup=\"keep\";\r\n",
      "if (\"@ARGV\"=~/dup.reads=toss/) { \r\n",
      "\t$rmdup=\"toss\";\r\n",
      "}\r\n",
      "my $miso=\"toss\";\r\n",
      "my $aligner=\"bowtie2\";\r\n",
      "if (\"@ARGV\"=~/aligner=gmapper/) {  \r\n",
      "\t$aligner=\"gmapper\";\r\n",
      "\tif (\"@ARGV\"=~/min.mapq=(\\d+)/) {  $minmapq=$1; }\r\n",
      "}\r\n",
      "else {\r\n",
      "\tif (\"@ARGV\"=~/mult.iso=random/) { \r\n",
      "\t\t$miso=\"random\";\r\n",
      "\t\twarn \"adding a count to a randomly picked isogroup when a read maps to multiple isogroups\\n\";\r\n",
      "\t}\r\n",
      "\telse { warn \"disregarding reads mapping to multiple isogroups\\n\"; }\t\r\n",
      "}\r\n",
      "\r\n",
      "open SAM, $t1 or die \"cannot open $t1\\n\";\r\n",
      "open C2I, $t2 or die \"cannot open $t2\\n\";\r\n",
      "\r\n",
      "my %c2i={};\r\n",
      "my %count={};\r\n",
      "my %hit={};\r\n",
      "my %refhit={};\r\n",
      "my $c=\"\";\r\n",
      "my $i=\"\";\r\n",
      "my $f=\"\";\r\n",
      "my $r=\"\";\r\n",
      "my $pos=\"\";\r\n",
      "my $seq=\"\";\r\n",
      "\r\n",
      "while (<C2I>) {\r\n",
      "\tchop;\r\n",
      "\t($c,$i)=split(/\\s+/,$_);\r\n",
      "\t$c2i{$c}=$i;\r\n",
      "}\r\n",
      "\r\n",
      "my $mapq;\r\n",
      "my $cigar;\r\n",
      "my $flag;\r\n",
      "my @rest;\r\n",
      "my %bestmatch={};\r\n",
      "my %trust={};\r\n",
      "my %ciglen;\r\n",
      "\r\n",
      "while (<SAM>) {\r\n",
      "\tif ($_=~/^@/) { next;}\r\n",
      "\tchop;\r\n",
      "\t($r,$flag,$c,$pos,$mapq,$cigar,@rest)=split(/\\s/,$_);\r\n",
      "\tmy $as;\r\n",
      "\tif (\"@rest\"=~/AS:i:(\\d+)/) { \r\n",
      "\t\t$as=$1;\r\n",
      "\t} \r\n",
      "\telse { warn \"cannot find alignment score in @rest\\n\" and next; }\r\n",
      "\t$i=$c2i{$c};\r\n",
      "\tif ($i!~/\\d+/) { warn \"$c has no isogroup designation\\n\" and next;} \r\n",
      "\tmy @sseq=grep(/[ATGCatgc-]{30,}/,@rest);\r\n",
      "\tnext if (!$sseq[0]);\r\n",
      "\tif ($aligner eq \"bowtie2\") {\r\n",
      "\t\tif ($bestmatch{$r} and $as<$bestmatch{$r}) { \r\n",
      "#warn \"$r:mapq=$mapq:cig=$cigar:AS=$as:best=$bestmatch{$r}: \tSKIP\\n\";\r\n",
      "\t\t\tnext;\r\n",
      "\t\t}\r\n",
      "\t\telse { \r\n",
      "#warn \"$r:mapq=$mapq:cig=$cigar:AS=$as:best=$bestmatch{$r}: RETAIN\\n\";\r\n",
      "\t\t\t$bestmatch{$r}=$as;\r\n",
      "\t\t}\r\n",
      "\t}\r\n",
      "\t$seq=$sseq[0];\r\n",
      "\tmy $toss=0;\r\n",
      "\tif ($rmdup eq \"toss\") {\r\n",
      "\t\tforeach $sr (@{$refhit{$c}{$pos}}) {\r\n",
      "\t\t\tif ($sr=~/^$seq/ | $seq=~/^$sr/) {\r\n",
      "\t\t\t\t$toss=1;\r\n",
      "\t\t\t\tlast;\r\n",
      "\t\t\t}\r\n",
      "\t\t}\r\n",
      "\t}\r\n",
      "\tif ($toss==0) {\r\n",
      "\t\tpush @{$refhit{$c}{$pos}},$seq;\r\n",
      "\t\tpush @{$hit{$r}},$i unless (\" @{$hit{$r}} \"=~/ $i /); \r\n",
      "\t}\r\n",
      "}\r\n",
      "\r\n",
      "foreach $r (keys %hit){\r\n",
      "\tnext if ($r=~/HASH/);\r\n",
      "\tif($#{$hit{$r}}>0) {\r\n",
      "#warn \"$r:isogroups: @{$hit{$r}}\\n\";\r\n",
      "\t\tif($miso eq \"random\") {\r\n",
      "\t\t\tmy $pick=${$hit{$r}}[rand @{$hit{$r}}];\r\n",
      "\t\t\t$count{$pick}++;\r\n",
      "\t\t}\r\n",
      "\t\telse { next; }\r\n",
      "\t}\r\n",
      "\telse { \r\n",
      "\t\t$count{${$hit{$r}}[0]}++;\r\n",
      "\t}\r\n",
      "}\r\n",
      "\r\n",
      "foreach $i (sort keys %count) {\r\n",
      "\tnext if ($i=~/HASH/);\r\n",
      "\tprint \"$i\\t$count{$i}\\n\";\r\n",
      "}\r\n"
     ]
    }
   ],
   "source": [
    "! cat {tagseq}samcount.pl"
   ]
  },
  {
   "cell_type": "code",
   "execution_count": 22,
   "metadata": {},
   "outputs": [],
   "source": [
    "%%bash \n",
    "\n",
    "for file in *.sam\n",
    "do\n",
    "#strip .fastq and directory s tructure from each file, then\n",
    "# add suffice .fastq.trim to create output name for each file\n",
    "results_file=\"$(basename -a $file).counts\"\n",
    "\n",
    "/Applications/bioinformatics/tag-based_RNAseq/samcount.pl $file \\\n",
    "../../results/20181029-olurida-gonad-assembly_seq2iso.tab \\\n",
    "aligner=bowtie2 mult.iso=random >\\\n",
    "$results_file\n",
    "done >> bowtiealigner.txt 2>&1"
   ]
  },
  {
   "cell_type": "code",
   "execution_count": 23,
   "metadata": {},
   "outputs": [
    {
     "name": "stdout",
     "output_type": "stream",
     "text": [
      "adding a count to a randomly picked isogroup when a read maps to multiple isogroups\r\n",
      "TRINITY_DN15009_c2_g1_i1 has no isogroup designation\r\n",
      "TRINITY_DN1226_c0_g1_i6 has no isogroup designation\r\n",
      "TRINITY_DN1226_c0_g1_i4 has no isogroup designation\r\n",
      "TRINITY_DN1226_c0_g1_i1 has no isogroup designation\r\n",
      "TRINITY_DN1226_c0_g1_i5 has no isogroup designation\r\n",
      "TRINITY_DN1226_c0_g1_i2 has no isogroup designation\r\n",
      "TRINITY_DN15009_c2_g1_i1 has no isogroup designation\r\n",
      "TRINITY_DN934_c0_g1_i1 has no isogroup designation\r\n",
      "TRINITY_DN934_c0_g1_i2 has no isogroup designation\r\n"
     ]
    }
   ],
   "source": [
    "! head bowtiealigner.txt"
   ]
  },
  {
   "cell_type": "code",
   "execution_count": null,
   "metadata": {},
   "outputs": [],
   "source": [
    "! {tagseq}expression_compiler.pl *.sam.counts > quantseq_allcounts.txt"
   ]
  },
  {
   "cell_type": "markdown",
   "metadata": {},
   "source": [
    "### Dead end ... there is an error in the 20181029-olurida-gonad-assembly_seq2iso.tab file - no second column with isogroup designations so downstream steps don't work.  \n",
    "\n",
    "## Try alternate isogroup assignment solution ... "
   ]
  },
  {
   "cell_type": "markdown",
   "metadata": {},
   "source": [
    "### If you have no assembler-derived isogroups, use cd-hit-est to cluster contigs.\n",
    "To look for 99% or better matches between contigs taking 30% of length of either longer or shorter sequence.\n",
    "Downloaded [cd-hit-v4.6.8-2017-1208-source.tar.gz](https://github.com/weizhongli/cdhit/releases) to my bioinf directory, then unpack and compile using this directions (from PDF): \n",
    "\n",
    "1. change dir by `cd cd-hit-v4.6.6-2016-0711`\n",
    "2. compile the programs - I used `make openmp=no` (without multi-threading)\n",
    "3. `cd cd-hit-auxtools`\n",
    "4. compile cd-hit-auxtools by `make`\n",
    "    \n",
    "Then create variable as shortcut to cdhit directory. "
   ]
  },
  {
   "cell_type": "code",
   "execution_count": 2,
   "metadata": {},
   "outputs": [],
   "source": [
    "cdhit = \"/Applications/bioinformatics/cd-hit-v4.6.8-2017-1208/\""
   ]
  },
  {
   "cell_type": "code",
   "execution_count": 29,
   "metadata": {},
   "outputs": [
    {
     "name": "stdout",
     "output_type": "stream",
     "text": [
      "\t\t====== CD-HIT version 4.7 (built on Nov 17 2018) ======\r\n",
      "\r\n",
      "Usage: /Applications/bioinformatics/cd-hit-v4.6.8-2017-1208/cd-hit-est [Options] \r\n",
      "\r\n",
      "Options\r\n",
      "\r\n",
      "   -i\tinput filename in fasta format, required\r\n",
      "   -j\tinput filename in fasta/fastq format for R2 reads if input are paired end (PE) files\r\n",
      " \t -i R1.fq -j R2.fq -o output_R1 -op output_R2 or\r\n",
      " \t -i R1.fa -j R2.fa -o output_R1 -op output_R2 \r\n",
      "   -o\toutput filename, required\r\n",
      "   -op\toutput filename for R2 reads if input are paired end (PE) files\r\n",
      "   -c\tsequence identity threshold, default 0.9\r\n",
      " \tthis is the default cd-hit's \"global sequence identity\" calculated as:\r\n",
      " \tnumber of identical amino acids in alignment\r\n",
      " \tdivided by the full length of the shorter sequence\r\n",
      "   -G\tuse global sequence identity, default 1\r\n",
      " \tif set to 0, then use local sequence identity, calculated as :\r\n",
      " \tnumber of identical amino acids in alignment\r\n",
      " \tdivided by the length of the alignment\r\n",
      " \tNOTE!!! don't use -G 0 unless you use alignment coverage controls\r\n",
      " \tsee options -aL, -AL, -aS, -AS\r\n",
      "   -b\tband_width of alignment, default 20\r\n",
      "   -M\tmemory limit (in MB) for the program, default 800; 0 for unlimitted;\r\n",
      "   -T\tnumber of threads, default 1; with 0, all CPUs will be used\r\n",
      "   -n\tword_length, default 10, see user's guide for choosing it\r\n",
      "   -l\tlength of throw_away_sequences, default 10\r\n",
      "   -d\tlength of description in .clstr file, default 20\r\n",
      " \tif set to 0, it takes the fasta defline and stops at first space\r\n",
      "   -s\tlength difference cutoff, default 0.0\r\n",
      " \tif set to 0.9, the shorter sequences need to be\r\n",
      " \tat least 90% length of the representative of the cluster\r\n",
      "   -S\tlength difference cutoff in amino acid, default 999999\r\n",
      " \tif set to 60, the length difference between the shorter sequences\r\n",
      " \tand the representative of the cluster can not be bigger than 60\r\n",
      "   -aL\talignment coverage for the longer sequence, default 0.0\r\n",
      " \tif set to 0.9, the alignment must covers 90% of the sequence\r\n",
      "   -AL\talignment coverage control for the longer sequence, default 99999999\r\n",
      " \tif set to 60, and the length of the sequence is 400,\r\n",
      " \tthen the alignment must be >= 340 (400-60) residues\r\n",
      "   -aS\talignment coverage for the shorter sequence, default 0.0\r\n",
      " \tif set to 0.9, the alignment must covers 90% of the sequence\r\n",
      "   -AS\talignment coverage control for the shorter sequence, default 99999999\r\n",
      " \tif set to 60, and the length of the sequence is 400,\r\n",
      " \tthen the alignment must be >= 340 (400-60) residues\r\n",
      "   -A\tminimal alignment coverage control for the both sequences, default 0\r\n",
      " \talignment must cover >= this value for both sequences \r\n",
      "   -uL\tmaximum unmatched percentage for the longer sequence, default 1.0\r\n",
      " \tif set to 0.1, the unmatched region (excluding leading and tailing gaps)\r\n",
      " \tmust not be more than 10% of the sequence\r\n",
      "   -uS\tmaximum unmatched percentage for the shorter sequence, default 1.0\r\n",
      " \tif set to 0.1, the unmatched region (excluding leading and tailing gaps)\r\n",
      " \tmust not be more than 10% of the sequence\r\n",
      "   -U\tmaximum unmatched length, default 99999999\r\n",
      " \tif set to 10, the unmatched region (excluding leading and tailing gaps)\r\n",
      " \tmust not be more than 10 bases\r\n",
      "   -B\t1 or 0, default 0, by default, sequences are stored in RAM\r\n",
      " \tif set to 1, sequence are stored on hard drive\r\n",
      " \t!! No longer supported !!\r\n",
      "   -P\tinput paired end (PE) reads, default 0, single file\r\n",
      " \tif set to 1, please use -i R1 -j R2 to input both PE files\r\n",
      "   -cx\tlength to keep after trimming the tail of sequence, default 0, not trimming\r\n",
      " \tif set to 50, the program only uses the first 50 letters of input sequence\r\n",
      "   -cy\tlength to keep after trimming the tail of R2 sequence, default 0, not trimming\r\n",
      " \tif set to 50, the program only uses the first 50 letters of input R2 sequence\r\n",
      " \te.g. -cx 100 -cy 80 for paired end reads\r\n",
      "   -ap\talignment position constrains,  default 0, no constrain\r\n",
      " \tif set to 1, the program will force sequences to align at beginings\r\n",
      " \twhen set to 1, the program only does +/+ alignment\r\n",
      "   -p\t1 or 0, default 0\r\n",
      " \tif set to 1, print alignment overlap in .clstr file\r\n",
      "   -g\t1 or 0, default 0\r\n",
      " \tby cd-hit's default algorithm, a sequence is clustered to the first \r\n",
      " \tcluster that meet the threshold (fast cluster). If set to 1, the program\r\n",
      " \twill cluster it into the most similar cluster that meet the threshold\r\n",
      " \t(accurate but slow mode)\r\n",
      " \tbut either 1 or 0 won't change the representatives of final clusters\r\n",
      "   -r\t1 or 0, default 1, by default do both +/+ & +/- alignments\r\n",
      " \tif set to 0, only +/+ strand alignment\r\n",
      "   -mask\tmasking letters (e.g. -mask NX, to mask out both 'N' and 'X')\r\n",
      "   -match\tmatching score, default 2 (1 for T-U and N-N)\r\n",
      "   -mismatch\tmismatching score, default -2\r\n",
      "   -gap\tgap opening score, default -6\r\n",
      "   -gap-ext\tgap extension score, default -1\r\n",
      "   -bak\twrite backup cluster file (1 or 0, default 0)\r\n",
      "   -sc\tsort clusters by size (number of sequences), default 0, output clusters by decreasing length\r\n",
      " \tif set to 1, output clusters by decreasing size\r\n",
      "   -sf\tsort fasta/fastq by cluster size (number of sequences), default 0, no sorting\r\n",
      " \tif set to 1, output sequences by decreasing cluster size\r\n",
      "   -h\tprint this help\r\n",
      "\r\n",
      "   Questions, bugs, contact Limin Fu at l2fu@ucsd.edu, or Weizhong Li at liwz@sdsc.edu\r\n",
      "   For updated versions and information, please visit: http://cd-hit.org\r\n",
      "\r\n",
      "   cd-hit web server is also available from http://cd-hit.org\r\n",
      "\r\n",
      "   If you find cd-hit useful, please kindly cite:\r\n",
      "\r\n",
      "   \"CD-HIT: a fast program for clustering and comparing large sets of protein or nucleotide sequences\", Weizhong Li & Adam Godzik. Bioinformatics, (2006) 22:1658-1659\r\n",
      "   \"CD-HIT: accelerated for clustering the next generation sequencing data\", Limin Fu, Beifang Niu, Zhengwei Zhu, Sitao Wu & Weizhong Li. Bioinformatics, (2012) 28:3150-3152\r\n",
      "\r\n",
      "\r\n"
     ]
    }
   ],
   "source": [
    "! {cdhit}cd-hit-est"
   ]
  },
  {
   "cell_type": "markdown",
   "metadata": {},
   "source": [
    "### To look for 99% or better matches between contigs taking 30% of length of either longer or shorter sequence:"
   ]
  },
  {
   "cell_type": "code",
   "execution_count": 46,
   "metadata": {},
   "outputs": [
    {
     "name": "stdout",
     "output_type": "stream",
     "text": [
      "================================================================\n",
      "Program: CD-HIT, V4.7, Nov 17 2018, 15:36:56\n",
      "Command:\n",
      "         /Applications/bioinformatics/cd-hit-v4.6.8-2017-1208/cd-hit-est\n",
      "         -i trinity/20181029-olurida-gonad-assembly.fasta -o\n",
      "         trinity/20181029-olurida-gonad-assembly_clust.fasta -c\n",
      "         0.99 -G 0 -aL 0.3 -aS 0.3\n",
      "\n",
      "Started: Sat Nov 17 16:04:18 2018\n",
      "================================================================\n",
      "                            Output                              \n",
      "----------------------------------------------------------------\n",
      "total seq: 181531\n",
      "longest and shortest : 11860 and 180\n",
      "Total letters: 154611548\n",
      "Sequences have been sorted\n",
      "\n",
      "Approximated minimal memory consumption:\n",
      "Sequence        : 178M\n",
      "Buffer          : 1 X 16M = 16M\n",
      "Table           : 1 X 19M = 19M\n",
      "Miscellaneous   : 6M\n",
      "Total           : 221M\n",
      "\n",
      "Table limit with the given memory limit:\n",
      "Max number of representatives: 360313\n",
      "Max number of word counting entries: 72281583\n",
      "\n",
      "comparing sequences from          0  to      26884\n",
      "..........    10000  finished       4207  clusters\n",
      "..........    20000  finished       9137  clusters\n",
      "comparing sequences from      26884  to     181531\n",
      "..........    30000  finished      14651  clusters\n",
      "..........    40000  finished      20678  clusters\n",
      "..........    50000  finished      27093  clusters\n",
      "..........    60000  finished      34097  clusters\n",
      "..........    70000  finished      41696  clusters\n",
      "..........    80000  finished      49758  clusters\n",
      "..........    90000  finished      58194  clusters\n",
      "..........   100000  finished      66984  clusters\n",
      "..........   110000  finished      76003  clusters\n",
      "..........   120000  finished      85204  clusters\n",
      "..........   130000  finished      94537  clusters\n",
      "..........   140000  finished     103932  clusters\n",
      "..........   150000  finished     113452  clusters\n",
      "..........   160000  finished     123067  clusters\n",
      "..........   170000  finished     132720  clusters\n",
      "..........   180000  finished     142384  clusters\n",
      ".\n",
      "   181531  finished     143867  clusters\n",
      "\n",
      "Apprixmated maximum memory consumption: 701M\n",
      "writing new database\n",
      "writing clustering information\n",
      "program completed !\n",
      "\n",
      "Total CPU time 234.31\n"
     ]
    }
   ],
   "source": [
    "! {cdhit}cd-hit-est -i trinity/20181029-olurida-gonad-assembly.fasta \\\n",
    "-o trinity/20181029-olurida-gonad-assembly_clust.fasta \\\n",
    "-c 0.99 -G 0 -aL 0.3 -aS 0.3"
   ]
  },
  {
   "cell_type": "code",
   "execution_count": 47,
   "metadata": {},
   "outputs": [
    {
     "name": "stdout",
     "output_type": "stream",
     "text": [
      ">Cluster 0\r\n",
      "0\t11860nt, >TRINITY_DN364_c0_g1... *\r\n",
      "1\t9929nt, >TRINITY_DN364_c0_g1... at 1:9929:1:9933/+/99.78%\r\n",
      "2\t11466nt, >TRINITY_DN364_c0_g1... at 1:11291:1:11279/+/99.69%\r\n",
      "3\t9931nt, >TRINITY_DN364_c0_g1... at 1:9931:1:9933/+/99.59%\r\n",
      ">Cluster 1\r\n",
      "0\t11201nt, >TRINITY_DN364_c0_g1... *\r\n",
      ">Cluster 2\r\n",
      "0\t11110nt, >TRINITY_DN10640_c0_... *\r\n",
      "1\t10995nt, >TRINITY_DN10640_c0_... at 1:10742:1:10742/+/100.00%\r\n"
     ]
    }
   ],
   "source": [
    "! head -10 trinity/20181029-olurida-gonad-assembly_clust.fasta.clstr"
   ]
  },
  {
   "cell_type": "markdown",
   "metadata": {},
   "source": [
    "### Adding cluster designations to fasta headers:"
   ]
  },
  {
   "cell_type": "code",
   "execution_count": 3,
   "metadata": {},
   "outputs": [
    {
     "name": "stdout",
     "output_type": "stream",
     "text": [
      "#!/usr/bin/perl\r\n",
      "\r\n",
      "my $usage = \"\r\n",
      "\r\n",
      "isogroup_namer.pl:\r\n",
      "\r\n",
      "assigns sequences to \\\"isogroups\\\" based on cd-hit-est results, \r\n",
      "outputs:\r\n",
      "- a transcriptome with gene=isogroupNNNN identifiers added to headers\r\n",
      "- a tab-delimited table of sequences - cluster designations\r\n",
      "\r\n",
      "usage: \r\n",
      "isogroup_namer.pl [fasta file] [cd-hit-est result, .clstr file]\r\n",
      "\r\n",
      "example:\r\n",
      "isogroup_namer.pl transcritptome.fasta transcriptome.fasta.clstr \r\n",
      "\r\n",
      "NOTE: \r\n",
      "run cd-hit-est before this; for example, to look for 99% or better \r\n",
      "matches between contigs taking 30% of their lengths \r\n",
      "cd-hit-est -i transcriptome.fasta -o transcriptome.fasta -c 0.99 -G 0 -aL 0.3 -aS 0.3\r\n",
      "\r\n",
      "\r\n",
      "\";\r\n",
      "\r\n",
      "if ($#ARGV<1) { die $usage;}\r\n",
      "open fas, $ARGV[0] or die \"cannot open fasta file $ARGV[0]\\n\\n$usage\";\r\n",
      "open clus, $ARGV[1] or die \"cannot open cd-hit result $ARGV[1]\\n\\n$usage\";\r\n",
      "\r\n",
      "my %iso={};\r\n",
      "my $seq;\r\n",
      "my $cl;\r\n",
      "my @seqs=();\r\n",
      "\r\n",
      "while (<clus>) {\r\n",
      "\tif ($_=~/^>Cluster (\\S+)/) {\r\n",
      "\t\tforeach $seq (@seqs) {\r\n",
      "\t\t\t$iso{$seq}=$cl;\r\n",
      "\t\t}\r\n",
      "#print \"isogroup $cl : @seqs\\m\";\r\n",
      "\t\t$cl=$1; \r",
      "\r\n",
      "\t\t@seqs=();\r\n",
      "\t}\r\n",
      "\telsif ($_=~/>(\\S+)\\.\\.\\./) {\r\n",
      "\t\tpush @seqs, $1;\r\n",
      "\t}\r\n",
      "}\r\n",
      "foreach $seq (@seqs) {\r\n",
      "\t$iso{$seq}=$cl;\r\n",
      "}\r\n",
      "\r\n",
      "my $isotran=$ARGV[0];\r\n",
      "$isotran=~s/\\./_iso\\./;\r\n",
      "open TI, \">$isotran\" or die \"cannot create output transcriptome $isotran\\n\";\r\n",
      "my $isotab=$isotran;\r\n",
      "$isotab=~s/\\..+/_seq2iso\\.tab/;\r\n",
      "open TB, \">$isotab\" or die \"cannot create seq2iso table $isotab\\n\";\r\n",
      "\t\t\r\n",
      "while (<fas>){\r\n",
      "\tchomp;\r\n",
      "\tif ($_=~/^>(\\S+)/ ) {\r\n",
      "\t\tprint {TB} \"$1\\tisogroup$iso{$1}\\n\";\r\n",
      "\t\tprint {TI} \">$1 gene=isogroup$iso{$1}\\n\";\r\n",
      "\t}\r\n",
      "\telse { print {TI} \"$_\\n\"; }\r\n",
      "}\r\n",
      "\r\n"
     ]
    }
   ],
   "source": [
    "cat {tagseq}isogroup_namer.pl"
   ]
  },
  {
   "cell_type": "code",
   "execution_count": 3,
   "metadata": {},
   "outputs": [
    {
     "name": "stdout",
     "output_type": "stream",
     "text": [
      "/Users/laura/Documents/roberts-lab/laura-quantseq/results\n"
     ]
    }
   ],
   "source": [
    "cd ../results/"
   ]
  },
  {
   "cell_type": "code",
   "execution_count": 7,
   "metadata": {},
   "outputs": [],
   "source": [
    "! {tagseq}isogroup_namer.pl trinity/20181029-olurida-gonad-assembly_clust.fasta \\\n",
    "trinity/20181029-olurida-gonad-assembly_clust.fasta.clstr > \\\n",
    "trinity/20181029-olurida-gonad-assembly_seq2iso.tab"
   ]
  },
  {
   "cell_type": "code",
   "execution_count": 8,
   "metadata": {
    "scrolled": true
   },
   "outputs": [
    {
     "name": "stdout",
     "output_type": "stream",
     "text": [
      "TRINITY_DN88414_c0_g1_i1\tisogroup\r\n",
      "TRINITY_DN88428_c0_g1_i1\tisogroup\r\n",
      "TRINITY_DN88485_c0_g1_i1\tisogroup\r\n",
      "TRINITY_DN88461_c0_g1_i1\tisogroup\r\n",
      "TRINITY_DN88458_c0_g1_i1\tisogroup\r\n",
      "TRINITY_DN88473_c0_g1_i1\tisogroup\r\n",
      "TRINITY_DN88442_c0_g1_i1\tisogroup\r\n",
      "TRINITY_DN88493_c0_g1_i1\tisogroup\r\n",
      "TRINITY_DN88449_c0_g1_i1\tisogroup\r\n",
      "TRINITY_DN88451_c0_g1_i1\tisogroup\r\n"
     ]
    }
   ],
   "source": [
    "! head trinity/20181029-olurida-gonad-assembly_clust_iso_seq2iso.tab"
   ]
  },
  {
   "cell_type": "code",
   "execution_count": 9,
   "metadata": {},
   "outputs": [],
   "source": [
    "! head ../results/trinity/20181029-olurida-gonad-assembly_seq2iso.tab"
   ]
  },
  {
   "cell_type": "code",
   "execution_count": 10,
   "metadata": {},
   "outputs": [
    {
     "name": "stdout",
     "output_type": "stream",
     "text": [
      ">TRINITY_DN88414_c0_g1_i1 gene=isogroup\r\n",
      "GGCACTATTTGAGTCTGATTCTCCTCTTGATAGACGACCATGAGATCGAAATCTCTCAAACAGATCATCAGACCGTTTGCTTTGCATGCGTAAAAATGAATTCGCCCCACAAACAAAGTCCCCGAGGTTTTGTATGATCTGAGTGGAATTCATTTTCTTTTTATTCATGTCTCTGAAGAATTTTTCCATCTTATTGACATCTAACTCCTTCAAAGATGTCAAATCACT\r\n",
      ">TRINITY_DN88428_c0_g1_i1 gene=isogroup\r\n",
      "CGAAAACAGTCAGATGTAGGTATGGAAATATCCCAATCATCAGAAATCCGACTACAGGTGTAAATGATATTAGTATGTTTACACTGCATGCACCGTTAACATTGACCGATCGACGTGGAGATGGAATGGGAATACGTTCTACTGTCAATGCACACCTTGGAGCTTGATCTGGCAGTGACGAATATTTACTCAAGTAGCAGATAGATAGTTTAATGTTCAGTTTCCGTCACGGGTTTTGTTTCACTCTTACAGAGACCTTGCCCGTGGGGTCCGGGTTGGAATAGGT\r\n",
      ">TRINITY_DN88485_c0_g1_i1 gene=isogroup\r\n",
      "ATCAAAGGTACGTTGGAGGCAAAGCCTTCCTAAAGCTACCGAGGTCTGACAAAATAAGATGTGTATATTTTAGTGGCTTTGGATCGTTTAATAATTTTTTAAAATGGCCCCTAATTGTGAGCCCCTGGAATGCTGGGGCTGGATTCGCTACTGCTTTTGTATTAACTGATAGTCACTCCCTGTGTATCCACCCCTTTATTGAAGTGTTTCACCACATGGAGTGAGTTCTATAAAGCACTTTGTCACCAGCTTTTGTATATATGTCTACCCCTACTGTGTTGTTGTATGAAATTTTCATATGAATTTAAGGAAGTCTGACTGTGTTGAATTTCAGAAACATGCATGTATCCCTCGAACTGCAGTTCTTTAGTTCCATGTTGTGAAAATTGGGACATCAGAAGGAAGGGGAGACATCTCAATTTTACAACCCTACAGTAAGATTGAGCAACAGCAATACAACAGCAGCCACCAAATCCAAAGCACGTCCCCTTTC\r\n",
      ">TRINITY_DN88461_c0_g1_i1 gene=isogroup\r\n",
      "TGAAGAACTTTTAAATCTAGAATTGCAGCAACTTTCTGTAACTCCAGTTCCTTGTCCAAGGGGAATTCCCAAACCTCCCGCAAACAGTTTACGAACAAGCATGGAAAATCTGAGTGAGACACAAGTTGAAGACACTTCTACAAACACTGAGGGAGATTTACTAGGTTTGTCAGATGATGTAGACACTGGAAAAGTGGGTTCACAGCCTACAAACGCTTACATTAACCCAGACCTTCCAGAATTAGATGGCTTGATGTCGACCACCGACTCTCCCTATGGAAGTAGCATGCAAAGTAGTTTTGATG\r\n",
      ">TRINITY_DN88458_c0_g1_i1 gene=isogroup\r\n",
      "GCAGGCATAAAATATCATATTTGATTTCATATGATTCATAAAACGGTATCTGTGTATGCACGCTGTGAAAAACAGTTACTTCGAGAAAAAGAGTCTTTGGAAGTAAGCGATTCTTGAGACCGCTGTCCATTTGGTAGAAGTCGATATTGTTTGATGAGTTCTTCTGGTGAGTGAGAATTGGAATCAGCAAACTTGCGTAGACGCTTACTCTCAACATCACGGCACGCTGAGATCCGACGGACTGACGAAAGTCCGGTAGAATAGGAATATTCGGAAAAAGTTCGTCCCAATTTATATTTTGTCTGGTCGCAAAACATTTGTAAAAATACCTTCCTAAATTTTGTACTCATGACGGAATATAGAATGAAATTCACGGCAGCATTCACCGATACCAAAATATTGGCCACATTTCCTGCTATGATGCGATAATGATGACCAGATACAGTTAATTCAATCCCACCGAGGTCGAGATAAGTATTAAATATGATCATGGATGCTGTCGGAAGTTGACAGATAATAAACACAAAAGCGACGCTGATCAACATGCACGTGACCTTGGTCTGATCACCTGAATGCCTCTCACCCGGACGGTTTACAGCAACATACGTCATTCTTCGTCTTAGACGGTTTGCTTTGCACACAGATCGAATTAAAATGATGTTGAAACTCAGCAACACAGCCAATGGGGCGAAACTGAACATGAGCAAGATAAACCAATTGTAGAACACGCTGTACCCTCTGCTCTCTCCTATTTCTGTGACTTTTATCTGATACGTTGTTACGTTAGTATTGTTTTGTAATTCAACTTCACGTTCAAAAAACTCAGGTGACGTAGCTAATACT\r\n"
     ]
    }
   ],
   "source": [
    "! head trinity/20181029-olurida-gonad-assembly_clust_iso.fasta"
   ]
  },
  {
   "cell_type": "markdown",
   "metadata": {},
   "source": [
    "### ARGH. `isogroup_namer.pl` isn't working, does not pull any of the assigned isogroup numbers."
   ]
  },
  {
   "cell_type": "markdown",
   "metadata": {},
   "source": [
    "### Try again with the other .fasta (not produced by cd-hit-est): "
   ]
  },
  {
   "cell_type": "code",
   "execution_count": 4,
   "metadata": {},
   "outputs": [],
   "source": [
    "! {tagseq}isogroup_namer.pl trinity/20181029-olurida-gonad-assembly.fasta \\\n",
    "trinity/20181029-olurida-gonad-assembly_clust.fasta.clstr > \\\n",
    "trinity/20181029-olurida-gonad-assembly_seq2iso.tab"
   ]
  },
  {
   "cell_type": "code",
   "execution_count": 5,
   "metadata": {
    "scrolled": true
   },
   "outputs": [
    {
     "name": "stdout",
     "output_type": "stream",
     "text": [
      "TRINITY_DN88414_c0_g1_i1\tisogroup\r\n",
      "TRINITY_DN88428_c0_g1_i1\tisogroup\r\n",
      "TRINITY_DN88485_c0_g1_i1\tisogroup\r\n",
      "TRINITY_DN88461_c0_g1_i1\tisogroup\r\n",
      "TRINITY_DN88458_c0_g1_i1\tisogroup\r\n",
      "TRINITY_DN88473_c0_g1_i1\tisogroup\r\n",
      "TRINITY_DN88442_c0_g1_i1\tisogroup\r\n",
      "TRINITY_DN88493_c0_g1_i1\tisogroup\r\n",
      "TRINITY_DN88449_c0_g1_i1\tisogroup\r\n",
      "TRINITY_DN88451_c0_g1_i1\tisogroup\r\n"
     ]
    }
   ],
   "source": [
    "! head trinity/20181029-olurida-gonad-assembly_iso_seq2iso.tab"
   ]
  },
  {
   "cell_type": "code",
   "execution_count": 6,
   "metadata": {},
   "outputs": [],
   "source": [
    "! head ../results/trinity/20181029-olurida-gonad-assembly_seq2iso.tab"
   ]
  },
  {
   "cell_type": "code",
   "execution_count": 7,
   "metadata": {},
   "outputs": [
    {
     "name": "stdout",
     "output_type": "stream",
     "text": [
      ">TRINITY_DN88414_c0_g1_i1 gene=isogroup\r\n",
      "GGCACTATTTGAGTCTGATTCTCCTCTTGATAGACGACCATGAGATCGAAATCTCTCAAACAGATCATCAGACCGTTTGCTTTGCATGCGTAAAAATGAATTCGCCCCACAAACAAAGTCCCCGAGGTTTTGTATGATCTGAGTGGAATTCATTTTCTTTTTATTCATGTCTCTGAAGAATTTTTCCATCTTATTGACATCTAACTCCTTCAAAGATGTCAAATCACT\r\n",
      ">TRINITY_DN88428_c0_g1_i1 gene=isogroup\r\n",
      "CGAAAACAGTCAGATGTAGGTATGGAAATATCCCAATCATCAGAAATCCGACTACAGGTGTAAATGATATTAGTATGTTTACACTGCATGCACCGTTAACATTGACCGATCGACGTGGAGATGGAATGGGAATACGTTCTACTGTCAATGCACACCTTGGAGCTTGATCTGGCAGTGACGAATATTTACTCAAGTAGCAGATAGATAGTTTAATGTTCAGTTTCCGTCACGGGTTTTGTTTCACTCTTACAGAGACCTTGCCCGTGGGGTCCGGGTTGGAATAGGT\r\n",
      ">TRINITY_DN88485_c0_g1_i1 gene=isogroup\r\n",
      "ATCAAAGGTACGTTGGAGGCAAAGCCTTCCTAAAGCTACCGAGGTCTGACAAAATAAGATGTGTATATTTTAGTGGCTTTGGATCGTTTAATAATTTTTTAAAATGGCCCCTAATTGTGAGCCCCTGGAATGCTGGGGCTGGATTCGCTACTGCTTTTGTATTAACTGATAGTCACTCCCTGTGTATCCACCCCTTTATTGAAGTGTTTCACCACATGGAGTGAGTTCTATAAAGCACTTTGTCACCAGCTTTTGTATATATGTCTACCCCTACTGTGTTGTTGTATGAAATTTTCATATGAATTTAAGGAAGTCTGACTGTGTTGAATTTCAGAAACATGCATGTATCCCTCGAACTGCAGTTCTTTAGTTCCATGTTGTGAAAATTGGGACATCAGAAGGAAGGGGAGACATCTCAATTTTACAACCCTACAGTAAGATTGAGCAACAGCAATACAACAGCAGCCACCAAATCCAAAGCACGTCCCCTTTC\r\n",
      ">TRINITY_DN88461_c0_g1_i1 gene=isogroup\r\n",
      "TGAAGAACTTTTAAATCTAGAATTGCAGCAACTTTCTGTAACTCCAGTTCCTTGTCCAAGGGGAATTCCCAAACCTCCCGCAAACAGTTTACGAACAAGCATGGAAAATCTGAGTGAGACACAAGTTGAAGACACTTCTACAAACACTGAGGGAGATTTACTAGGTTTGTCAGATGATGTAGACACTGGAAAAGTGGGTTCACAGCCTACAAACGCTTACATTAACCCAGACCTTCCAGAATTAGATGGCTTGATGTCGACCACCGACTCTCCCTATGGAAGTAGCATGCAAAGTAGTTTTGATG\r\n",
      ">TRINITY_DN88458_c0_g1_i1 gene=isogroup\r\n",
      "GCAGGCATAAAATATCATATTTGATTTCATATGATTCATAAAACGGTATCTGTGTATGCACGCTGTGAAAAACAGTTACTTCGAGAAAAAGAGTCTTTGGAAGTAAGCGATTCTTGAGACCGCTGTCCATTTGGTAGAAGTCGATATTGTTTGATGAGTTCTTCTGGTGAGTGAGAATTGGAATCAGCAAACTTGCGTAGACGCTTACTCTCAACATCACGGCACGCTGAGATCCGACGGACTGACGAAAGTCCGGTAGAATAGGAATATTCGGAAAAAGTTCGTCCCAATTTATATTTTGTCTGGTCGCAAAACATTTGTAAAAATACCTTCCTAAATTTTGTACTCATGACGGAATATAGAATGAAATTCACGGCAGCATTCACCGATACCAAAATATTGGCCACATTTCCTGCTATGATGCGATAATGATGACCAGATACAGTTAATTCAATCCCACCGAGGTCGAGATAAGTATTAAATATGATCATGGATGCTGTCGGAAGTTGACAGATAATAAACACAAAAGCGACGCTGATCAACATGCACGTGACCTTGGTCTGATCACCTGAATGCCTCTCACCCGGACGGTTTACAGCAACATACGTCATTCTTCGTCTTAGACGGTTTGCTTTGCACACAGATCGAATTAAAATGATGTTGAAACTCAGCAACACAGCCAATGGGGCGAAACTGAACATGAGCAAGATAAACCAATTGTAGAACACGCTGTACCCTCTGCTCTCTCCTATTTCTGTGACTTTTATCTGATACGTTGTTACGTTAGTATTGTTTTGTAATTCAACTTCACGTTCAAAAAACTCAGGTGACGTAGCTAATACT\r\n"
     ]
    }
   ],
   "source": [
    "! head trinity/20181029-olurida-gonad-assembly_iso.fasta"
   ]
  },
  {
   "cell_type": "markdown",
   "metadata": {},
   "source": [
    "### The isogroup issue persists. Try another method.  "
   ]
  },
  {
   "cell_type": "markdown",
   "metadata": {},
   "source": [
    "### How many \">\" genes are listed in the original fasta, then in the .clust.fasta produced from cd-hit-est?"
   ]
  },
  {
   "cell_type": "code",
   "execution_count": 1,
   "metadata": {},
   "outputs": [
    {
     "name": "stdout",
     "output_type": "stream",
     "text": [
      "181531\r\n"
     ]
    }
   ],
   "source": [
    "! grep -c \">\" ../results/trinity/20181029-olurida-gonad-assembly.fasta"
   ]
  },
  {
   "cell_type": "code",
   "execution_count": 2,
   "metadata": {},
   "outputs": [
    {
     "name": "stdout",
     "output_type": "stream",
     "text": [
      "143867\r\n"
     ]
    }
   ],
   "source": [
    "! grep -c \">\" ../results/trinity/20181029-olurida-gonad-assembly_clust.fasta"
   ]
  },
  {
   "cell_type": "markdown",
   "metadata": {},
   "source": [
    "### Looks like the .clust.fasta does, indeed, collapse the transcriptome to remove the ton of isoforms. I can just use this .clust.fasta file with my quantseq data to get counts. Question is, do I want to have isoform-specific count data? "
   ]
  },
  {
   "cell_type": "markdown",
   "metadata": {},
   "source": [
    "### Download O. lurida genome"
   ]
  },
  {
   "cell_type": "code",
   "execution_count": 3,
   "metadata": {},
   "outputs": [
    {
     "name": "stdout",
     "output_type": "stream",
     "text": [
      "  % Total    % Received % Xferd  Average Speed   Time    Time     Time  Current\n",
      "                                 Dload  Upload   Total   Spent    Left  Speed\n",
      "100 1090M  100 1090M    0     0  15.3M      0  0:01:11  0:01:11 --:--:-- 19.7MM    0     0  14.9M      0  0:01:12  0:01:05  0:00:07 18.5M01:12  0:01:06  0:00:06 17.5M\n"
     ]
    }
   ],
   "source": [
    "! curl http://owl.fish.washington.edu/halfshell/genomic-databank/Olurida_v081.fa > ../references/Olurida_v081.fa"
   ]
  },
  {
   "cell_type": "code",
   "execution_count": 5,
   "metadata": {},
   "outputs": [
    {
     "name": "stdout",
     "output_type": "stream",
     "text": [
      "MD5 (../references/Olurida_v081.fa) = 3ac56372bd62038f264d27eef0883bd3\r\n"
     ]
    }
   ],
   "source": [
    "# MD5 should = 3ac56372bd62038f264d27eef0883bd3\n",
    "! md5 ../references/Olurida_v081.fa"
   ]
  },
  {
   "cell_type": "markdown",
   "metadata": {},
   "source": [
    "## Next steps, once I figure out the isogroup assignment issue"
   ]
  },
  {
   "cell_type": "markdown",
   "metadata": {},
   "source": [
    "### The below will be used to clean up file locations- will likely need to move other files too. "
   ]
  },
  {
   "cell_type": "code",
   "execution_count": 146,
   "metadata": {},
   "outputs": [],
   "source": [
    "! mkdir ../../results/bowtie2-build/"
   ]
  },
  {
   "cell_type": "code",
   "execution_count": 153,
   "metadata": {},
   "outputs": [],
   "source": [
    "! find ../../results/trinity/ -name '*.bt2' -exec mv {} ../../results/bowtie2-build/ \\;"
   ]
  },
  {
   "cell_type": "code",
   "execution_count": 154,
   "metadata": {},
   "outputs": [
    {
     "name": "stdout",
     "output_type": "stream",
     "text": [
      "20181029-olurida-gonad-assembly.fasta.1.bt2\r\n",
      "20181029-olurida-gonad-assembly.fasta.2.bt2\r\n",
      "20181029-olurida-gonad-assembly.fasta.3.bt2\r\n",
      "20181029-olurida-gonad-assembly.fasta.4.bt2\r\n",
      "20181029-olurida-gonad-assembly.fasta.rev.1.bt2\r\n",
      "20181029-olurida-gonad-assembly.fasta.rev.2.bt2\r\n"
     ]
    }
   ],
   "source": [
    "! ls ../../results/bowtie2-build/"
   ]
  }
 ],
 "metadata": {
  "kernelspec": {
   "display_name": "Python 3",
   "language": "python",
   "name": "python3"
  },
  "language_info": {
   "codemirror_mode": {
    "name": "ipython",
    "version": 3
   },
   "file_extension": ".py",
   "mimetype": "text/x-python",
   "name": "python",
   "nbconvert_exporter": "python",
   "pygments_lexer": "ipython3",
   "version": "3.7.0"
  }
 },
 "nbformat": 4,
 "nbformat_minor": 2
}
